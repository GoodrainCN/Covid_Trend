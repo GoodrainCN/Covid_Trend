{
  "cells": [
    {
      "cell_type": "code",
      "execution_count": 1,
      "metadata": {
        "id": "3MZhqNBCEWRe"
      },
      "outputs": [],
      "source": [
        "import torch\n",
        "from torch import nn\n",
        "import numpy as np\n",
        "import matplotlib.pyplot as plt"
      ]
    },
    {
      "cell_type": "code",
      "execution_count": 2,
      "metadata": {
        "id": "Fw-vEv4PGs7C"
      },
      "outputs": [],
      "source": [
        "device = torch.device(\"cuda\" if torch.cuda.is_available() else \"cpu\")"
      ]
    },
    {
      "cell_type": "code",
      "execution_count": 3,
      "metadata": {
        "colab": {
          "base_uri": "https://localhost:8080/"
        },
        "id": "GPNYqZKFwovI",
        "outputId": "b973eb15-5d82-4c07-88c8-754081211a23"
      },
      "outputs": [],
      "source": [
        "# from google.colab import drive\n",
        "# drive.mount('/content/drive', force_remount=True)"
      ]
    },
    {
      "cell_type": "code",
      "execution_count": 5,
      "metadata": {
        "id": "r4DTpdU_G1DW"
      },
      "outputs": [],
      "source": [
        "with open(\"cleaned/data_table_for_daily_case_trends__the_united_states.csv\", \"r\", encoding=\"utf-8\") as f:\n",
        "    data = f.read()\n",
        "\n",
        "data = [row.split(',') for row in  data.split(\"\\n\")]\n",
        "\n",
        "# value = [int(each[1]) for each in data]\n",
        "value = [float(each[2]) for each in data[1:]]\n",
        "\n",
        "train  = value[:-100]\n",
        "test = value[-100:]\n",
        "\n",
        "\n",
        "# 设置序列数据的时间跨度，seq=7, 指使用过去七天的数据来预测明天的数据\n",
        "# 注意，这并不是说LSTM每次都只利用到7天的历史数据进行预测，而是7天的显式数据+所有已输入的数据产生的隐式信息（只是隐式信息具有离当前预测距离越远，信息量越弱的特点，详情看下行链接）\n",
        "# https://www.jianshu.com/p/6815da2d413d 关于RNN的长距离依赖问题，看下这个链接，LSTM比RNN在这方面强很多，但问题仍然存在。\n",
        "\n",
        "\n",
        "seq = 7\n",
        "\n",
        "# 训练集构造\n",
        "\n",
        "li_x = []\n",
        "li_y = []\n",
        "\n",
        "for i in range(len(train) - seq):\n",
        "    # 输入就是[x, x+1, x+2, ... , x + (seq-1)]天的数据，输出是 x + seq 天的数据\n",
        "    li_x.append(train[i: i+seq])\n",
        "    li_y.append(train[i+seq])\n",
        "\n",
        "# 对数据进行缩放有利于训练的收敛，但更好的方式是进行归一化处理；在当前应用上，这几种操作对结果不会造成太大影响，可以作为以后的练习。\n",
        "# 关于归一化的作用，可以参考这个帖子：https://www.cnblogs.com/LBSer/p/4440590.html\n",
        "\n",
        "train_x = (torch.tensor(li_x).float() / 1000.).reshape(-1, seq, 1).to(device)\n",
        "train_y = (torch.tensor(li_y).float() / 1000.).reshape(-1, 1).to(device)\n",
        "\n",
        "\n",
        "# 测试集构造\n",
        "\n",
        "t_x = []\n",
        "t_y = []\n",
        "\n",
        "for i in range(len(test) - seq):\n",
        "    t_x.append(test[i: i+seq])\n",
        "    t_y.append(test[i+seq])\n",
        "\n",
        "test_x = (torch.tensor(t_x).float() / 1000.).reshape(-1, seq, 1).to(device)\n",
        "test_y = (torch.tensor(t_y).float() / 1000.).reshape(-1, 1).to(device)"
      ]
    },
    {
      "cell_type": "code",
      "execution_count": 6,
      "metadata": {
        "id": "yNVQdLNjIClx"
      },
      "outputs": [],
      "source": [
        "class Net(nn.Module):\n",
        "    def __init__(self):\n",
        "        super(Net, self).__init__()\n",
        "        self.lstm = nn.LSTM(input_size=1, hidden_size=32, num_layers=1, batch_first=True)\n",
        "        # 输入格式是1，输出隐藏层大小是32\n",
        "        # 对于小数据集num_layers不要设置大，否则会因为模型变复杂而导致效果会变差\n",
        "        # num_layers顾名思义就是有几个lstm层，假如设置成2，就相当于连续经过两个lstm层\n",
        "        # 原来的输入格式是：(seq, batch, shape)\n",
        "        # 设置batch_first=True以后，输入格式就可以改为：(batch, seq, shape)，更符合平常使用的习惯\n",
        "        self.linear = nn.Linear(32*seq, 1)\n",
        "\n",
        "    def forward(self, x):\n",
        "        x, (h, c) = self.lstm(x)\n",
        "        x = x.reshape(-1, 32*seq)\n",
        "        x = self.linear(x)\n",
        "        return x"
      ]
    },
    {
      "cell_type": "code",
      "execution_count": 7,
      "metadata": {
        "id": "1yS-uutzIE0b"
      },
      "outputs": [],
      "source": [
        "model = Net().to(device)\n",
        "optimizer = torch.optim.Adam(model.parameters(), lr=0.001)\n",
        "loss_fun = nn.MSELoss()"
      ]
    },
    {
      "cell_type": "code",
      "execution_count": 8,
      "metadata": {
        "colab": {
          "base_uri": "https://localhost:8080/"
        },
        "id": "HowPsBYmPNie",
        "outputId": "762df048-3858-496f-a765-fd9a3aac83db"
      },
      "outputs": [
        {
          "name": "stdout",
          "output_type": "stream",
          "text": [
            "epoch:20, loss:8830.1337890625, test_loss: 54550.92578125\n",
            "epoch:40, loss:8511.4921875, test_loss: 53819.453125\n",
            "epoch:60, loss:7835.0205078125, test_loss: 52245.16796875\n",
            "epoch:80, loss:6912.384765625, test_loss: 49988.0234375\n",
            "epoch:100, loss:5727.82568359375, test_loss: 46693.83984375\n",
            "epoch:120, loss:5110.97998046875, test_loss: 44935.46484375\n",
            "epoch:140, loss:4659.96240234375, test_loss: 43634.2734375\n",
            "epoch:160, loss:4301.39013671875, test_loss: 42524.453125\n",
            "epoch:180, loss:3998.321044921875, test_loss: 41560.90234375\n",
            "epoch:200, loss:3733.73193359375, test_loss: 40696.66015625\n",
            "epoch:220, loss:3498.790771484375, test_loss: 39911.58203125\n",
            "epoch:240, loss:3286.959228515625, test_loss: 39193.26953125\n",
            "epoch:260, loss:3093.480224609375, test_loss: 38527.28125\n",
            "epoch:280, loss:2914.923828125, test_loss: 37906.46875\n",
            "epoch:300, loss:2748.59423828125, test_loss: 37319.53125\n",
            "epoch:320, loss:2593.04150390625, test_loss: 36765.640625\n",
            "epoch:340, loss:2447.284423828125, test_loss: 36240.2265625\n",
            "epoch:360, loss:2310.6513671875, test_loss: 35741.953125\n",
            "epoch:380, loss:2182.6904296875, test_loss: 35272.44140625\n",
            "epoch:400, loss:2062.603271484375, test_loss: 34817.44921875\n",
            "epoch:420, loss:1949.7421875, test_loss: 34388.07421875\n",
            "epoch:440, loss:1844.02587890625, test_loss: 33981.96875\n",
            "epoch:460, loss:1744.9613037109375, test_loss: 33592.6875\n",
            "epoch:480, loss:1652.3062744140625, test_loss: 33221.00390625\n",
            "epoch:500, loss:1565.6083984375, test_loss: 32865.75\n",
            "epoch:520, loss:1484.152099609375, test_loss: 32522.11328125\n",
            "epoch:540, loss:1407.4434814453125, test_loss: 32190.19140625\n",
            "epoch:560, loss:1335.4114990234375, test_loss: 31882.826171875\n",
            "epoch:580, loss:1268.0491943359375, test_loss: 31578.900390625\n",
            "epoch:600, loss:1205.1644287109375, test_loss: 31287.6953125\n",
            "epoch:620, loss:1146.4984130859375, test_loss: 31004.4296875\n",
            "epoch:640, loss:1091.781982421875, test_loss: 30728.771484375\n",
            "epoch:660, loss:1040.6591796875, test_loss: 30462.548828125\n",
            "epoch:680, loss:992.7266845703125, test_loss: 30207.501953125\n",
            "epoch:700, loss:947.97265625, test_loss: 29962.619140625\n",
            "epoch:720, loss:905.9759521484375, test_loss: 29733.68359375\n",
            "epoch:740, loss:865.6281127929688, test_loss: 29480.673828125\n",
            "epoch:760, loss:827.4384765625, test_loss: 29257.90234375\n",
            "epoch:780, loss:791.7364501953125, test_loss: 29039.966796875\n",
            "epoch:800, loss:758.32177734375, test_loss: 28831.927734375\n",
            "epoch:820, loss:726.7972412109375, test_loss: 28645.365234375\n",
            "epoch:840, loss:697.0313110351562, test_loss: 28441.44140625\n",
            "epoch:860, loss:669.332763671875, test_loss: 28261.255859375\n",
            "epoch:880, loss:643.932373046875, test_loss: 28078.349609375\n",
            "epoch:900, loss:620.4212036132812, test_loss: 27925.84765625\n",
            "epoch:920, loss:598.510986328125, test_loss: 27754.71484375\n",
            "epoch:940, loss:578.243408203125, test_loss: 27607.935546875\n",
            "epoch:960, loss:559.4652709960938, test_loss: 27463.73046875\n",
            "epoch:980, loss:542.2860107421875, test_loss: 27329.943359375\n",
            "epoch:1000, loss:525.773193359375, test_loss: 27173.87109375\n",
            "epoch:1020, loss:510.6937561035156, test_loss: 27047.892578125\n",
            "epoch:1040, loss:496.697265625, test_loss: 26925.88671875\n",
            "epoch:1060, loss:483.6600036621094, test_loss: 26797.927734375\n",
            "epoch:1080, loss:470.73333740234375, test_loss: 26714.185546875\n",
            "epoch:1100, loss:457.60748291015625, test_loss: 26643.248046875\n",
            "epoch:1120, loss:445.1089782714844, test_loss: 26501.13671875\n",
            "epoch:1140, loss:433.66143798828125, test_loss: 26372.8515625\n",
            "epoch:1160, loss:422.6884765625, test_loss: 26280.912109375\n",
            "epoch:1180, loss:412.166259765625, test_loss: 26172.0\n",
            "epoch:1200, loss:402.6387634277344, test_loss: 26056.984375\n",
            "epoch:1220, loss:392.880615234375, test_loss: 25992.958984375\n",
            "epoch:1240, loss:383.7396240234375, test_loss: 25896.326171875\n",
            "epoch:1260, loss:375.07574462890625, test_loss: 25811.5546875\n",
            "epoch:1280, loss:366.7567443847656, test_loss: 25726.072265625\n",
            "epoch:1300, loss:358.795166015625, test_loss: 25631.5078125\n",
            "epoch:1320, loss:351.008544921875, test_loss: 25550.166015625\n",
            "epoch:1340, loss:341.41754150390625, test_loss: 25452.23046875\n",
            "epoch:1360, loss:333.3243103027344, test_loss: 25346.630859375\n",
            "epoch:1380, loss:325.7242431640625, test_loss: 25262.056640625\n",
            "epoch:1400, loss:318.4051818847656, test_loss: 25169.470703125\n",
            "epoch:1420, loss:312.67095947265625, test_loss: 25098.859375\n",
            "epoch:1440, loss:304.9205627441406, test_loss: 24999.7734375\n",
            "epoch:1460, loss:298.2990417480469, test_loss: 24909.2421875\n",
            "epoch:1480, loss:292.00775146484375, test_loss: 24828.064453125\n",
            "epoch:1500, loss:285.85894775390625, test_loss: 24753.533203125\n",
            "epoch:1520, loss:279.7530212402344, test_loss: 24671.93359375\n",
            "epoch:1540, loss:273.7640686035156, test_loss: 24611.4921875\n",
            "epoch:1560, loss:267.81982421875, test_loss: 24544.763671875\n",
            "epoch:1580, loss:262.30731201171875, test_loss: 24474.626953125\n",
            "epoch:1600, loss:260.0576171875, test_loss: 24365.609375\n",
            "epoch:1620, loss:253.3029327392578, test_loss: 24338.7578125\n",
            "epoch:1640, loss:247.66848754882812, test_loss: 24275.15234375\n",
            "epoch:1660, loss:243.0391387939453, test_loss: 24206.107421875\n",
            "epoch:1680, loss:239.00889587402344, test_loss: 24140.79296875\n",
            "epoch:1700, loss:234.8347625732422, test_loss: 24053.9140625\n",
            "epoch:1720, loss:230.8144989013672, test_loss: 23994.328125\n",
            "epoch:1740, loss:227.06036376953125, test_loss: 23926.400390625\n",
            "epoch:1760, loss:224.44253540039062, test_loss: 23879.970703125\n",
            "epoch:1780, loss:220.44155883789062, test_loss: 23809.193359375\n",
            "epoch:1800, loss:216.8983917236328, test_loss: 23746.40625\n",
            "epoch:1820, loss:213.34107971191406, test_loss: 23676.599609375\n",
            "epoch:1840, loss:210.36354064941406, test_loss: 23605.8203125\n",
            "epoch:1860, loss:207.40768432617188, test_loss: 23543.314453125\n",
            "epoch:1880, loss:204.5791778564453, test_loss: 23488.015625\n",
            "epoch:1900, loss:201.79229736328125, test_loss: 23439.72265625\n",
            "epoch:1920, loss:199.05873107910156, test_loss: 23390.27734375\n",
            "epoch:1940, loss:196.6807098388672, test_loss: 23318.89453125\n",
            "epoch:1960, loss:194.2393035888672, test_loss: 23266.87109375\n",
            "epoch:1980, loss:191.44522094726562, test_loss: 23217.70703125\n",
            "epoch:2000, loss:189.36839294433594, test_loss: 23184.236328125\n",
            "epoch:2020, loss:187.11422729492188, test_loss: 23119.04296875\n",
            "epoch:2040, loss:185.0622100830078, test_loss: 23090.59375\n",
            "epoch:2060, loss:182.52967834472656, test_loss: 23028.3359375\n",
            "epoch:2080, loss:180.7454833984375, test_loss: 22998.02734375\n",
            "epoch:2100, loss:178.27650451660156, test_loss: 22941.529296875\n",
            "epoch:2120, loss:176.8054656982422, test_loss: 22908.8203125\n",
            "epoch:2140, loss:174.37008666992188, test_loss: 22860.978515625\n",
            "epoch:2160, loss:172.5620574951172, test_loss: 22814.73828125\n",
            "epoch:2180, loss:170.84060668945312, test_loss: 22779.64453125\n",
            "epoch:2200, loss:169.1898956298828, test_loss: 22732.376953125\n",
            "epoch:2220, loss:167.57948303222656, test_loss: 22703.02734375\n",
            "epoch:2240, loss:166.17205810546875, test_loss: 22651.4765625\n",
            "epoch:2260, loss:164.62745666503906, test_loss: 22630.0234375\n",
            "epoch:2280, loss:163.4077606201172, test_loss: 22575.513671875\n",
            "epoch:2300, loss:162.1384735107422, test_loss: 22557.341796875\n",
            "epoch:2320, loss:160.3220672607422, test_loss: 22507.80078125\n",
            "epoch:2340, loss:159.02110290527344, test_loss: 22481.404296875\n",
            "epoch:2360, loss:157.45045471191406, test_loss: 22440.875\n",
            "epoch:2380, loss:156.1980438232422, test_loss: 22407.826171875\n",
            "epoch:2400, loss:155.10182189941406, test_loss: 22381.09765625\n",
            "epoch:2420, loss:154.0771942138672, test_loss: 22333.162109375\n",
            "epoch:2440, loss:152.7998504638672, test_loss: 22316.248046875\n",
            "epoch:2460, loss:151.55917358398438, test_loss: 22272.080078125\n",
            "epoch:2480, loss:150.5166473388672, test_loss: 22249.5\n",
            "epoch:2500, loss:149.03744506835938, test_loss: 22213.640625\n",
            "epoch:2520, loss:148.2422637939453, test_loss: 22186.5546875\n",
            "epoch:2540, loss:147.33258056640625, test_loss: 22158.884765625\n",
            "epoch:2560, loss:146.4341583251953, test_loss: 22111.94140625\n",
            "epoch:2580, loss:145.25131225585938, test_loss: 22094.359375\n",
            "epoch:2600, loss:144.54978942871094, test_loss: 22047.126953125\n",
            "epoch:2620, loss:142.7602996826172, test_loss: 22027.2421875\n",
            "epoch:2640, loss:142.9425048828125, test_loss: 21979.8203125\n",
            "epoch:2660, loss:140.7345733642578, test_loss: 21953.8125\n",
            "epoch:2680, loss:139.6857452392578, test_loss: 21930.650390625\n",
            "epoch:2700, loss:139.29989624023438, test_loss: 21888.33203125\n",
            "epoch:2720, loss:138.45547485351562, test_loss: 21872.423828125\n",
            "epoch:2740, loss:136.9293212890625, test_loss: 21834.3359375\n",
            "epoch:2760, loss:136.10592651367188, test_loss: 21810.482421875\n",
            "epoch:2780, loss:135.0716094970703, test_loss: 21778.642578125\n",
            "epoch:2800, loss:134.3237762451172, test_loss: 21750.208984375\n",
            "epoch:2820, loss:133.5479736328125, test_loss: 21725.564453125\n",
            "epoch:2840, loss:132.77500915527344, test_loss: 21697.51171875\n",
            "epoch:2860, loss:132.5830078125, test_loss: 21677.169921875\n",
            "epoch:2880, loss:131.3699188232422, test_loss: 21651.615234375\n",
            "epoch:2900, loss:130.5008544921875, test_loss: 21628.177734375\n",
            "epoch:2920, loss:130.20387268066406, test_loss: 21601.203125\n",
            "epoch:2940, loss:129.89414978027344, test_loss: 21588.2109375\n",
            "epoch:2960, loss:128.98020935058594, test_loss: 21561.666015625\n",
            "epoch:2980, loss:127.9580078125, test_loss: 21548.880859375\n"
          ]
        }
      ],
      "source": [
        "model.train()\n",
        "for epoch in range(3000):\n",
        "    output = model(train_x)\n",
        "    loss = loss_fun(output, train_y)\n",
        "    optimizer.zero_grad()\n",
        "    loss.backward()\n",
        "    optimizer.step()\n",
        "    if epoch % 20 == 0 and epoch > 0:\n",
        "        test_loss = loss_fun(model(test_x), test_y)\n",
        "        print(\"epoch:{}, loss:{}, test_loss: {}\".format(epoch, loss, test_loss))\n",
        "        if test_loss < 20000:\n",
        "          # 保存整个网络\n",
        "          torch.save(model, 'demo') \n",
        "          # 保存网络中的参数, 速度快，占空间少\n",
        "          torch.save(model.state_dict(),'demo')\n",
        "          break\n"
      ]
    },
    {
      "cell_type": "markdown",
      "metadata": {
        "id": "XiXeKSjE6htL"
      },
      "source": [
        "使用正确数据作为输入进行预测"
      ]
    },
    {
      "cell_type": "code",
      "execution_count": 15,
      "metadata": {
        "colab": {
          "base_uri": "https://localhost:8080/",
          "height": 366
        },
        "id": "jBJOC03yz8OF",
        "outputId": "e639af32-28f0-4b45-c1f4-b9f8ac961e74"
      },
      "outputs": [
        {
          "name": "stdout",
          "output_type": "stream",
          "text": [
            "MSE: 21530060000.0\n"
          ]
        },
        {
          "data": {
            "text/plain": [
              "<matplotlib.legend.Legend at 0x7fb359cbba90>"
            ]
          },
          "execution_count": 15,
          "metadata": {},
          "output_type": "execute_result"
        },
        {
          "data": {
            "image/png": "[encoded data removed]",
            "text/plain": [
              "<Figure size 720x360 with 1 Axes>"
            ]
          },
          "metadata": {
            "needs_background": "light"
          },
          "output_type": "display_data"
        }
      ],
      "source": [
        "model.eval()\n",
        "\n",
        "test_pre = list((model(test_x).data.reshape(-1))*1000)\n",
        "\n",
        "from sklearn.metrics import mean_squared_error\n",
        "print(\"MSE:\", mean_squared_error(test_y*1000, test_pre))\n",
        "\n",
        "plt.figure(figsize=(10,5))\n",
        "\n",
        "# 真实数据\n",
        "plt.plot(test_y*1000, label=\"real\")\n",
        "\n",
        "\n",
        "# 预测结果\n",
        "plt.plot(test_pre, label=\"pred\")\n",
        "\n",
        "# 模型预测的走势\n",
        "plt.legend(loc='best')\n"
      ]
    },
    {
      "cell_type": "markdown",
      "metadata": {
        "id": "QB7BRhIJ2Uw_"
      },
      "source": [
        "lstm 使用过去seq_len的数据预测明天的数据\n",
        "lstm(x) = y\n",
        "\n",
        "min (y_pre, y_real)\n",
        "\n",
        "\n",
        "\n",
        "假设我们有10个月的数据\n",
        "\n",
        "train_set 训练模型 （7个月）\n",
        "data_sample: x1 = [1,2,3,4,5,6,7]  y1 = [8]\n",
        "             x2 = [2,3,4,5,6,7,8]  y2 = [9]\n",
        "            ...\n",
        "             xn = [..., 209] yn = [210]\n",
        "\n",
        "\n",
        "\n",
        "test_set 测试模型 （3个月）\n",
        "\n",
        "data_sample: x1 = [210, ...]  y1 = [217]\n",
        "             x2 = [211,...]  y2 = [218]\n",
        "             ...\n",
        "             xn = [..., 299] yn = [300]\n",
        "\n",
        "performance: MSE(lstm(test_set(x)), y_real)           \n",
        "\n"
      ]
    },
    {
      "cell_type": "markdown",
      "metadata": {
        "id": "got7v7vP7IQJ"
      },
      "source": [
        "使用预测数据作为输入递归预测未来趋势"
      ]
    },
    {
      "cell_type": "code",
      "execution_count": 10,
      "metadata": {
        "colab": {
          "base_uri": "https://localhost:8080/"
        },
        "id": "0WSMF7kdR3UQ",
        "outputId": "9dff73ba-61c0-46e4-fb72-c9c5007e6acf"
      },
      "outputs": [
        {
          "name": "stdout",
          "output_type": "stream",
          "text": [
            "[tensor(116.4070), tensor(122.5730), tensor(120.1320), tensor(81.4250), tensor(68.3630), tensor(87.5720), tensor(104.9200)]\n"
          ]
        }
      ],
      "source": [
        "result = []\n",
        "\n",
        "result.append(test_x[0][0][0])\n",
        "result.append(test_x[0][1][0])\n",
        "result.append(test_x[0][2][0])\n",
        "result.append(test_x[0][3][0])\n",
        "result.append(test_x[0][4][0])\n",
        "result.append(test_x[0][5][0])\n",
        "result.append(test_x[0][6][0])\n",
        "\n",
        "\n",
        "print(result)"
      ]
    },
    {
      "cell_type": "code",
      "execution_count": 13,
      "metadata": {
        "colab": {
          "base_uri": "https://localhost:8080/",
          "height": 473
        },
        "id": "E_6HO4Ig4xxi",
        "outputId": "8e4406d3-e845-4116-8170-bec3379f3092"
      },
      "outputs": [
        {
          "name": "stdout",
          "output_type": "stream",
          "text": [
            "97\n",
            "93\n",
            "[tensor(1.1641e+11), tensor(1.2257e+11), tensor(1.2013e+11), tensor(8.1425e+10), tensor(6.8363e+10), tensor(8.7572e+10), tensor(1.0492e+11), tensor([[1.1346e+11]], grad_fn=<MulBackward0>), tensor([[1.0816e+11]], grad_fn=<MulBackward0>), tensor([[1.1491e+11]], grad_fn=<MulBackward0>), tensor([[1.2382e+11]], grad_fn=<MulBackward0>), tensor([[1.1868e+11]], grad_fn=<MulBackward0>), tensor([[9.7953e+10]], grad_fn=<MulBackward0>), tensor([[9.5511e+10]], grad_fn=<MulBackward0>), tensor([[1.0250e+11]], grad_fn=<MulBackward0>), tensor([[1.0248e+11]], grad_fn=<MulBackward0>), tensor([[9.6519e+10]], grad_fn=<MulBackward0>), tensor([[8.4803e+10]], grad_fn=<MulBackward0>), tensor([[7.2920e+10]], grad_fn=<MulBackward0>), tensor([[7.1737e+10]], grad_fn=<MulBackward0>), tensor([[7.4138e+10]], grad_fn=<MulBackward0>), tensor([[7.7210e+10]], grad_fn=<MulBackward0>), tensor([[8.2053e+10]], grad_fn=<MulBackward0>), tensor([[8.6646e+10]], grad_fn=<MulBackward0>), tensor([[8.1632e+10]], grad_fn=<MulBackward0>), tensor([[6.8713e+10]], grad_fn=<MulBackward0>), tensor([[6.5256e+10]], grad_fn=<MulBackward0>), tensor([[6.9550e+10]], grad_fn=<MulBackward0>), tensor([[7.6502e+10]], grad_fn=<MulBackward0>), tensor([[8.3890e+10]], grad_fn=<MulBackward0>), tensor([[8.6522e+10]], grad_fn=<MulBackward0>), tensor([[8.1286e+10]], grad_fn=<MulBackward0>), tensor([[6.8629e+10]], grad_fn=<MulBackward0>), tensor([[6.2524e+10]], grad_fn=<MulBackward0>), tensor([[6.8351e+10]], grad_fn=<MulBackward0>), tensor([[7.4802e+10]], grad_fn=<MulBackward0>), tensor([[7.9995e+10]], grad_fn=<MulBackward0>), tensor([[2.0810e+08]], grad_fn=<MulBackward0>), tensor([[2.0810e+08]], grad_fn=<MulBackward0>), tensor([[2.0810e+08]], grad_fn=<MulBackward0>), tensor([[2.0810e+08]], grad_fn=<MulBackward0>), tensor([[2.0810e+08]], grad_fn=<MulBackward0>), tensor([[2.0810e+08]], grad_fn=<MulBackward0>), tensor([[2.0810e+08]], grad_fn=<MulBackward0>), tensor([[2.0810e+08]], grad_fn=<MulBackward0>), tensor([[2.0810e+08]], grad_fn=<MulBackward0>), tensor([[2.0810e+08]], grad_fn=<MulBackward0>), tensor([[2.0810e+08]], grad_fn=<MulBackward0>), tensor([[2.0810e+08]], grad_fn=<MulBackward0>), tensor([[2.0810e+08]], grad_fn=<MulBackward0>), tensor([[2.0810e+08]], grad_fn=<MulBackward0>), tensor([[2.0810e+08]], grad_fn=<MulBackward0>), tensor([[2.0810e+08]], grad_fn=<MulBackward0>), tensor([[2.0810e+08]], grad_fn=<MulBackward0>), tensor([[2.0810e+08]], grad_fn=<MulBackward0>), tensor([[2.0810e+08]], grad_fn=<MulBackward0>), tensor([[2.0810e+08]], grad_fn=<MulBackward0>), tensor([[2.0810e+08]], grad_fn=<MulBackward0>), tensor([[2.0810e+08]], grad_fn=<MulBackward0>), tensor([[2.0810e+08]], grad_fn=<MulBackward0>), tensor([[2.0810e+08]], grad_fn=<MulBackward0>), tensor([[2.0810e+08]], grad_fn=<MulBackward0>), tensor([[2.0810e+08]], grad_fn=<MulBackward0>), tensor([[2.0810e+08]], grad_fn=<MulBackward0>), tensor([[2.0810e+08]], grad_fn=<MulBackward0>), tensor([[2.0810e+08]], grad_fn=<MulBackward0>), tensor([[2.0810e+08]], grad_fn=<MulBackward0>), tensor([[208097.5938]], grad_fn=<MulBackward0>), tensor([[208097.5938]], grad_fn=<MulBackward0>), tensor([[208097.5938]], grad_fn=<MulBackward0>), tensor([[208097.5938]], grad_fn=<MulBackward0>), tensor([[208097.5938]], grad_fn=<MulBackward0>), tensor([[208097.5938]], grad_fn=<MulBackward0>), tensor([[208097.5938]], grad_fn=<MulBackward0>), tensor([[208097.5938]], grad_fn=<MulBackward0>), tensor([[208097.5938]], grad_fn=<MulBackward0>), tensor([[208097.5938]], grad_fn=<MulBackward0>), tensor([[208097.5938]], grad_fn=<MulBackward0>), tensor([[208097.5938]], grad_fn=<MulBackward0>), tensor([[208097.5938]], grad_fn=<MulBackward0>), tensor([[208097.5938]], grad_fn=<MulBackward0>), tensor([[208097.5938]], grad_fn=<MulBackward0>), tensor([[208097.5938]], grad_fn=<MulBackward0>), tensor([[208097.5938]], grad_fn=<MulBackward0>), tensor([[208097.5938]], grad_fn=<MulBackward0>), tensor([[208097.5938]], grad_fn=<MulBackward0>), tensor([[208097.5938]], grad_fn=<MulBackward0>), tensor([[208097.5938]], grad_fn=<MulBackward0>), tensor([[208097.5938]], grad_fn=<MulBackward0>), tensor([[208097.5938]], grad_fn=<MulBackward0>), tensor([[208097.5938]], grad_fn=<MulBackward0>), tensor([[208097.5938]], grad_fn=<MulBackward0>), tensor([[208097.5938]], grad_fn=<MulBackward0>), tensor([[208097.5938]], grad_fn=<MulBackward0>), tensor([[208097.5938]], grad_fn=<MulBackward0>), tensor([[208097.5938]], grad_fn=<MulBackward0>), tensor([[208097.5938]], grad_fn=<MulBackward0>)]\n"
          ]
        },
        {
          "ename": "ValueError",
          "evalue": "Found input variables with inconsistent numbers of samples: [30, 90]",
          "output_type": "error",
          "traceback": [
            "\u001b[0;31m---------------------------------------------------------------------------\u001b[0m",
            "\u001b[0;31mValueError\u001b[0m                                Traceback (most recent call last)",
            "Input \u001b[0;32mIn [13]\u001b[0m, in \u001b[0;36m<module>\u001b[0;34m\u001b[0m\n\u001b[1;32m     10\u001b[0m result \u001b[38;5;241m=\u001b[39m [i \u001b[38;5;241m*\u001b[39m \u001b[38;5;241m1000\u001b[39m \u001b[38;5;28;01mfor\u001b[39;00m i \u001b[38;5;129;01min\u001b[39;00m result]\n\u001b[1;32m     11\u001b[0m \u001b[38;5;28mprint\u001b[39m(result)\n\u001b[0;32m---> 13\u001b[0m \u001b[38;5;28mprint\u001b[39m(\u001b[38;5;124m\"\u001b[39m\u001b[38;5;124mMSE:\u001b[39m\u001b[38;5;124m\"\u001b[39m, \u001b[43mmean_squared_error\u001b[49m\u001b[43m(\u001b[49m\u001b[43mtest_y\u001b[49m\u001b[43m[\u001b[49m\u001b[38;5;241;43m0\u001b[39;49m\u001b[43m:\u001b[49m\u001b[38;5;241;43m30\u001b[39;49m\u001b[43m]\u001b[49m\u001b[38;5;241;43m*\u001b[39;49m\u001b[38;5;241;43m1000\u001b[39;49m\u001b[43m,\u001b[49m\u001b[43m \u001b[49m\u001b[43mresult\u001b[49m\u001b[43m[\u001b[49m\u001b[38;5;241;43m7\u001b[39;49m\u001b[43m:\u001b[49m\u001b[43m]\u001b[49m\u001b[43m)\u001b[49m)\n\u001b[1;32m     16\u001b[0m plt\u001b[38;5;241m.\u001b[39mfigure(figsize\u001b[38;5;241m=\u001b[39m(\u001b[38;5;241m10\u001b[39m,\u001b[38;5;241m5\u001b[39m))\n\u001b[1;32m     18\u001b[0m \u001b[38;5;66;03m# 真实数据\u001b[39;00m\n",
            "File \u001b[0;32m/opt/anaconda3/envs/pyc/lib/python3.9/site-packages/sklearn/metrics/_regression.py:438\u001b[0m, in \u001b[0;36mmean_squared_error\u001b[0;34m(y_true, y_pred, sample_weight, multioutput, squared)\u001b[0m\n\u001b[1;32m    378\u001b[0m \u001b[38;5;28;01mdef\u001b[39;00m \u001b[38;5;21mmean_squared_error\u001b[39m(\n\u001b[1;32m    379\u001b[0m     y_true, y_pred, \u001b[38;5;241m*\u001b[39m, sample_weight\u001b[38;5;241m=\u001b[39m\u001b[38;5;28;01mNone\u001b[39;00m, multioutput\u001b[38;5;241m=\u001b[39m\u001b[38;5;124m\"\u001b[39m\u001b[38;5;124muniform_average\u001b[39m\u001b[38;5;124m\"\u001b[39m, squared\u001b[38;5;241m=\u001b[39m\u001b[38;5;28;01mTrue\u001b[39;00m\n\u001b[1;32m    380\u001b[0m ):\n\u001b[1;32m    381\u001b[0m     \u001b[38;5;124;03m\"\"\"Mean squared error regression loss.\u001b[39;00m\n\u001b[1;32m    382\u001b[0m \n\u001b[1;32m    383\u001b[0m \u001b[38;5;124;03m    Read more in the :ref:`User Guide <mean_squared_error>`.\u001b[39;00m\n\u001b[0;32m   (...)\u001b[0m\n\u001b[1;32m    436\u001b[0m \u001b[38;5;124;03m    0.825...\u001b[39;00m\n\u001b[1;32m    437\u001b[0m \u001b[38;5;124;03m    \"\"\"\u001b[39;00m\n\u001b[0;32m--> 438\u001b[0m     y_type, y_true, y_pred, multioutput \u001b[38;5;241m=\u001b[39m \u001b[43m_check_reg_targets\u001b[49m\u001b[43m(\u001b[49m\n\u001b[1;32m    439\u001b[0m \u001b[43m        \u001b[49m\u001b[43my_true\u001b[49m\u001b[43m,\u001b[49m\u001b[43m \u001b[49m\u001b[43my_pred\u001b[49m\u001b[43m,\u001b[49m\u001b[43m \u001b[49m\u001b[43mmultioutput\u001b[49m\n\u001b[1;32m    440\u001b[0m \u001b[43m    \u001b[49m\u001b[43m)\u001b[49m\n\u001b[1;32m    441\u001b[0m     check_consistent_length(y_true, y_pred, sample_weight)\n\u001b[1;32m    442\u001b[0m     output_errors \u001b[38;5;241m=\u001b[39m np\u001b[38;5;241m.\u001b[39maverage((y_true \u001b[38;5;241m-\u001b[39m y_pred) \u001b[38;5;241m*\u001b[39m\u001b[38;5;241m*\u001b[39m \u001b[38;5;241m2\u001b[39m, axis\u001b[38;5;241m=\u001b[39m\u001b[38;5;241m0\u001b[39m, weights\u001b[38;5;241m=\u001b[39msample_weight)\n",
            "File \u001b[0;32m/opt/anaconda3/envs/pyc/lib/python3.9/site-packages/sklearn/metrics/_regression.py:94\u001b[0m, in \u001b[0;36m_check_reg_targets\u001b[0;34m(y_true, y_pred, multioutput, dtype)\u001b[0m\n\u001b[1;32m     60\u001b[0m \u001b[38;5;28;01mdef\u001b[39;00m \u001b[38;5;21m_check_reg_targets\u001b[39m(y_true, y_pred, multioutput, dtype\u001b[38;5;241m=\u001b[39m\u001b[38;5;124m\"\u001b[39m\u001b[38;5;124mnumeric\u001b[39m\u001b[38;5;124m\"\u001b[39m):\n\u001b[1;32m     61\u001b[0m     \u001b[38;5;124;03m\"\"\"Check that y_true and y_pred belong to the same regression task.\u001b[39;00m\n\u001b[1;32m     62\u001b[0m \n\u001b[1;32m     63\u001b[0m \u001b[38;5;124;03m    Parameters\u001b[39;00m\n\u001b[0;32m   (...)\u001b[0m\n\u001b[1;32m     92\u001b[0m \u001b[38;5;124;03m        the dtype argument passed to check_array.\u001b[39;00m\n\u001b[1;32m     93\u001b[0m \u001b[38;5;124;03m    \"\"\"\u001b[39;00m\n\u001b[0;32m---> 94\u001b[0m     \u001b[43mcheck_consistent_length\u001b[49m\u001b[43m(\u001b[49m\u001b[43my_true\u001b[49m\u001b[43m,\u001b[49m\u001b[43m \u001b[49m\u001b[43my_pred\u001b[49m\u001b[43m)\u001b[49m\n\u001b[1;32m     95\u001b[0m     y_true \u001b[38;5;241m=\u001b[39m check_array(y_true, ensure_2d\u001b[38;5;241m=\u001b[39m\u001b[38;5;28;01mFalse\u001b[39;00m, dtype\u001b[38;5;241m=\u001b[39mdtype)\n\u001b[1;32m     96\u001b[0m     y_pred \u001b[38;5;241m=\u001b[39m check_array(y_pred, ensure_2d\u001b[38;5;241m=\u001b[39m\u001b[38;5;28;01mFalse\u001b[39;00m, dtype\u001b[38;5;241m=\u001b[39mdtype)\n",
            "File \u001b[0;32m/opt/anaconda3/envs/pyc/lib/python3.9/site-packages/sklearn/utils/validation.py:332\u001b[0m, in \u001b[0;36mcheck_consistent_length\u001b[0;34m(*arrays)\u001b[0m\n\u001b[1;32m    330\u001b[0m uniques \u001b[38;5;241m=\u001b[39m np\u001b[38;5;241m.\u001b[39munique(lengths)\n\u001b[1;32m    331\u001b[0m \u001b[38;5;28;01mif\u001b[39;00m \u001b[38;5;28mlen\u001b[39m(uniques) \u001b[38;5;241m>\u001b[39m \u001b[38;5;241m1\u001b[39m:\n\u001b[0;32m--> 332\u001b[0m     \u001b[38;5;28;01mraise\u001b[39;00m \u001b[38;5;167;01mValueError\u001b[39;00m(\n\u001b[1;32m    333\u001b[0m         \u001b[38;5;124m\"\u001b[39m\u001b[38;5;124mFound input variables with inconsistent numbers of samples: \u001b[39m\u001b[38;5;132;01m%r\u001b[39;00m\u001b[38;5;124m\"\u001b[39m\n\u001b[1;32m    334\u001b[0m         \u001b[38;5;241m%\u001b[39m [\u001b[38;5;28mint\u001b[39m(l) \u001b[38;5;28;01mfor\u001b[39;00m l \u001b[38;5;129;01min\u001b[39;00m lengths]\n\u001b[1;32m    335\u001b[0m     )\n",
            "\u001b[0;31mValueError\u001b[0m: Found input variables with inconsistent numbers of samples: [30, 90]"
          ]
        }
      ],
      "source": [
        "# 预测未来10天的数据，\n",
        "for i in range(30):\n",
        "  result.append(model(torch.tensor(result[i:i+7]).reshape(1,7,1)))\n",
        "\n",
        "\n",
        "\n",
        "print(len(result)) \n",
        "print(len(test_y)) \n",
        "\n",
        "result = [i * 1000 for i in result]\n",
        "print(result)\n",
        "\n",
        "print(\"MSE:\", mean_squared_error(test_y[0:30]*1000, result[7:]))\n",
        "\n",
        "\n",
        "plt.figure(figsize=(10,5))\n",
        "\n",
        "# 真实数据\n",
        "plt.plot(test_y*1000, label=\"real\")\n",
        "\n",
        "\n",
        "# 预测结果\n",
        "plt.plot(result[7:], label=\"pred\")\n",
        "\n",
        "# 模型预测的走势\n",
        "plt.legend(loc='best')\n"
      ]
    },
    {
      "cell_type": "markdown",
      "metadata": {
        "id": "u98CWOqq4PYi"
      },
      "source": [
        "lstm 使用过去seq_len的数据预测明天的数据\n",
        "lstm(x) = y\n",
        "\n",
        "min (y_pre, y_real)\n",
        "\n",
        "\n",
        "\n",
        "假设我们有10个月的数据\n",
        "\n",
        "train_set 训练模型 （7个月）\n",
        "data_sample: x1 = [1,2,3,4,5,6,7]  y1 = [8]\n",
        "             x2 = [2,3,4,5,6,7,8]  y2 = [9]\n",
        "            ...\n",
        "             xn = [..., 209] yn = [210]\n",
        "\n",
        "\n",
        "\n",
        "test_set 测试模型 （3个月）\n",
        "\n",
        "data_sample: x1 = [210, ...]  y1 = [217]\n",
        "             x2 = [211,...]  y2 = [218]\n",
        "             ...\n",
        "             xn = [..., 299] yn = [300]\n",
        "\n",
        "performance: MSE(lstm(test_set(x)), y_real)    \n",
        "\n",
        "\n",
        "真实环境下，预测第11个月的数据：\n",
        "model = lstm\n",
        "model([...*6,300]) = y_301\n",
        "model([...*5, 300, y_301]) = y_302\n",
        "       ....\n",
        "\n",
        "\n",
        "预测的越远，效果越差\n",
        "\n",
        "\n",
        "如果数据有固定的模式，则效果不会变的特别差\n",
        "\n",
        "黑天鹅\n",
        "\n",
        "\n",
        "\n",
        "\n"
      ]
    }
  ],
  "metadata": {
    "colab": {
      "collapsed_sections": [],
      "name": "LSTM.ipynb",
      "provenance": []
    },
    "kernelspec": {
      "display_name": "Python 3",
      "name": "python3"
    },
    "language_info": {
      "codemirror_mode": {
        "name": "ipython",
        "version": 3
      },
      "file_extension": ".py",
      "mimetype": "text/x-python",
      "name": "python",
      "nbconvert_exporter": "python",
      "pygments_lexer": "ipython3",
      "version": "3.9.7"
    }
  },
  "nbformat": 4,
  "nbformat_minor": 0
}
