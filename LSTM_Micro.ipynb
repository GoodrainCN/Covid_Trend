{
  "cells": [
    {
      "cell_type": "code",
      "execution_count": 1,
      "metadata": {
        "id": "3MZhqNBCEWRe"
      },
      "outputs": [],
      "source": [
        "import torch\n",
        "from torch import nn\n",
        "import numpy as np\n",
        "import matplotlib.pyplot as plt"
      ]
    },
    {
      "cell_type": "code",
      "execution_count": 2,
      "metadata": {
        "id": "Fw-vEv4PGs7C"
      },
      "outputs": [],
      "source": [
        "device = torch.device(\"cuda\" if torch.cuda.is_available() else \"cpu\")"
      ]
    },
    {
      "cell_type": "code",
      "execution_count": 3,
      "metadata": {
        "colab": {
          "base_uri": "https://localhost:8080/"
        },
        "id": "GPNYqZKFwovI",
        "outputId": "b973eb15-5d82-4c07-88c8-754081211a23"
      },
      "outputs": [],
      "source": [
        "# from google.colab import drive\n",
        "# drive.mount('/content/drive', force_remount=True)"
      ]
    },
    {
      "cell_type": "code",
      "execution_count": 5,
      "metadata": {
        "id": "r4DTpdU_G1DW"
      },
      "outputs": [],
      "source": [
        "with open(\"cleaned/data_table_for_daily_case_trends__the_united_states.csv\", \"r\", encoding=\"utf-8\") as f:\n",
        "    data = f.read()\n",
        "\n",
        "data = [row.split(',') for row in  data.split(\"\\n\")]\n",
        "\n",
        "# value = [int(each[1]) for each in data]\n",
        "value = [float(each[2]) for each in data[1:]]\n",
        "\n",
        "train  = value[:-100]\n",
        "test = value[-100:]\n",
        "\n",
        "\n",
        "# 设置序列数据的时间跨度，seq=7, 指使用过去七天的数据来预测明天的数据\n",
        "# 注意，这并不是说LSTM每次都只利用到7天的历史数据进行预测，而是7天的显式数据+所有已输入的数据产生的隐式信息（只是隐式信息具有离当前预测距离越远，信息量越弱的特点，详情看下行链接）\n",
        "# https://www.jianshu.com/p/6815da2d413d 关于RNN的长距离依赖问题，看下这个链接，LSTM比RNN在这方面强很多，但问题仍然存在。\n",
        "\n",
        "\n",
        "seq = 7\n",
        "\n",
        "# 训练集构造\n",
        "\n",
        "li_x = []\n",
        "li_y = []\n",
        "\n",
        "for i in range(len(train) - seq):\n",
        "    # 输入就是[x, x+1, x+2, ... , x + (seq-1)]天的数据，输出是 x + seq 天的数据\n",
        "    li_x.append(train[i: i+seq])\n",
        "    li_y.append(train[i+seq])\n",
        "\n",
        "# 对数据进行缩放有利于训练的收敛，但更好的方式是进行归一化处理；在当前应用上，这几种操作对结果不会造成太大影响，可以作为以后的练习。\n",
        "# 关于归一化的作用，可以参考这个帖子：https://www.cnblogs.com/LBSer/p/4440590.html\n",
        "\n",
        "train_x = (torch.tensor(li_x).float() / 1000.).reshape(-1, seq, 1).to(device)\n",
        "train_y = (torch.tensor(li_y).float() / 1000.).reshape(-1, 1).to(device)\n",
        "\n",
        "\n",
        "# 测试集构造\n",
        "\n",
        "t_x = []\n",
        "t_y = []\n",
        "\n",
        "for i in range(len(test) - seq):\n",
        "    t_x.append(test[i: i+seq])\n",
        "    t_y.append(test[i+seq])\n",
        "\n",
        "test_x = (torch.tensor(t_x).float() / 1000.).reshape(-1, seq, 1).to(device)\n",
        "test_y = (torch.tensor(t_y).float() / 1000.).reshape(-1, 1).to(device)"
      ]
    },
    {
      "cell_type": "code",
      "execution_count": 6,
      "metadata": {
        "id": "yNVQdLNjIClx"
      },
      "outputs": [],
      "source": [
        "class Net(nn.Module):\n",
        "    def __init__(self):\n",
        "        super(Net, self).__init__()\n",
        "        self.lstm = nn.LSTM(input_size=1, hidden_size=32, num_layers=1, batch_first=True)\n",
        "        # 输入格式是1，输出隐藏层大小是32\n",
        "        # 对于小数据集num_layers不要设置大，否则会因为模型变复杂而导致效果会变差\n",
        "        # num_layers顾名思义就是有几个lstm层，假如设置成2，就相当于连续经过两个lstm层\n",
        "        # 原来的输入格式是：(seq, batch, shape)\n",
        "        # 设置batch_first=True以后，输入格式就可以改为：(batch, seq, shape)，更符合平常使用的习惯\n",
        "        self.linear = nn.Linear(32*seq, 1)\n",
        "\n",
        "    def forward(self, x):\n",
        "        x, (h, c) = self.lstm(x)\n",
        "        x = x.reshape(-1, 32*seq)\n",
        "        x = self.linear(x)\n",
        "        return x"
      ]
    },
    {
      "cell_type": "code",
      "execution_count": 7,
      "metadata": {
        "id": "1yS-uutzIE0b"
      },
      "outputs": [],
      "source": [
        "model = Net().to(device)\n",
        "optimizer = torch.optim.Adam(model.parameters(), lr=0.001)\n",
        "loss_fun = nn.MSELoss()"
      ]
    },
    {
      "cell_type": "code",
      "execution_count": 8,
      "metadata": {
        "colab": {
          "base_uri": "https://localhost:8080/"
        },
        "id": "HowPsBYmPNie",
        "outputId": "762df048-3858-496f-a765-fd9a3aac83db"
      },
      "outputs": [
        {
          "name": "stdout",
          "output_type": "stream",
          "text": [
            "epoch:20, loss:8753.35546875, test_loss: 54361.8828125\n",
            "epoch:40, loss:8481.2431640625, test_loss: 53784.5703125\n",
            "epoch:60, loss:7900.73681640625, test_loss: 52448.41796875\n",
            "epoch:80, loss:6861.42138671875, test_loss: 49901.33203125\n",
            "epoch:100, loss:5924.95654296875, test_loss: 47362.59765625\n",
            "epoch:120, loss:5319.62646484375, test_loss: 45545.45703125\n",
            "epoch:140, loss:4876.63427734375, test_loss: 44291.43359375\n",
            "epoch:160, loss:4486.94091796875, test_loss: 43104.9921875\n",
            "epoch:180, loss:4175.01220703125, test_loss: 42125.66015625\n",
            "epoch:200, loss:3904.842529296875, test_loss: 41255.234375\n",
            "epoch:220, loss:3664.917724609375, test_loss: 40466.00390625\n",
            "epoch:240, loss:3449.28369140625, test_loss: 39741.8359375\n",
            "epoch:260, loss:3250.947021484375, test_loss: 39053.484375\n",
            "epoch:280, loss:3047.747802734375, test_loss: 38350.51953125\n",
            "epoch:300, loss:2878.12890625, test_loss: 37759.41015625\n",
            "epoch:320, loss:2719.422607421875, test_loss: 37200.6875\n",
            "epoch:340, loss:2570.322265625, test_loss: 36669.13671875\n",
            "epoch:360, loss:2430.232666015625, test_loss: 36162.96875\n",
            "epoch:380, loss:2298.913330078125, test_loss: 35680.13671875\n",
            "epoch:400, loss:2175.580078125, test_loss: 35222.55859375\n",
            "epoch:420, loss:2059.668701171875, test_loss: 34786.96484375\n",
            "epoch:440, loss:1950.7249755859375, test_loss: 34374.046875\n",
            "epoch:460, loss:1848.3837890625, test_loss: 33981.15234375\n",
            "epoch:480, loss:1752.36181640625, test_loss: 33607.08984375\n",
            "epoch:500, loss:1662.1246337890625, test_loss: 33247.90234375\n",
            "epoch:520, loss:1577.376220703125, test_loss: 32904.55078125\n",
            "epoch:540, loss:1497.2896728515625, test_loss: 32572.033203125\n",
            "epoch:560, loss:1421.936767578125, test_loss: 32242.623046875\n",
            "epoch:580, loss:1351.252197265625, test_loss: 31931.90234375\n",
            "epoch:600, loss:1284.7293701171875, test_loss: 31634.31640625\n",
            "epoch:620, loss:1222.5711669921875, test_loss: 31336.427734375\n",
            "epoch:640, loss:1164.6988525390625, test_loss: 31065.033203125\n",
            "epoch:660, loss:1109.931640625, test_loss: 30785.28515625\n",
            "epoch:680, loss:1059.0430908203125, test_loss: 30530.34375\n",
            "epoch:700, loss:1011.785888671875, test_loss: 30281.498046875\n",
            "epoch:720, loss:967.0360717773438, test_loss: 30032.51953125\n",
            "epoch:740, loss:925.108642578125, test_loss: 29790.0859375\n",
            "epoch:760, loss:885.63232421875, test_loss: 29563.486328125\n",
            "epoch:780, loss:847.9749145507812, test_loss: 29323.9921875\n",
            "epoch:800, loss:811.72509765625, test_loss: 29087.322265625\n",
            "epoch:820, loss:777.82666015625, test_loss: 28885.609375\n",
            "epoch:840, loss:746.4180297851562, test_loss: 28702.52734375\n",
            "epoch:860, loss:716.9690551757812, test_loss: 28511.0859375\n",
            "epoch:880, loss:690.1283569335938, test_loss: 28321.599609375\n",
            "epoch:900, loss:664.072265625, test_loss: 28152.95703125\n",
            "epoch:920, loss:640.1923217773438, test_loss: 27990.505859375\n",
            "epoch:940, loss:618.7911987304688, test_loss: 27841.76171875\n",
            "epoch:960, loss:597.448974609375, test_loss: 27661.142578125\n",
            "epoch:980, loss:578.1935424804688, test_loss: 27513.80078125\n",
            "epoch:1000, loss:560.5023193359375, test_loss: 27383.927734375\n",
            "epoch:1020, loss:543.7277221679688, test_loss: 27228.923828125\n",
            "epoch:1040, loss:528.0944213867188, test_loss: 27090.955078125\n",
            "epoch:1060, loss:513.80029296875, test_loss: 26977.458984375\n",
            "epoch:1080, loss:500.2189025878906, test_loss: 26857.34375\n",
            "epoch:1100, loss:486.7781066894531, test_loss: 26764.771484375\n",
            "epoch:1120, loss:474.0201416015625, test_loss: 26648.72265625\n",
            "epoch:1140, loss:462.1177978515625, test_loss: 26520.279296875\n",
            "epoch:1160, loss:450.6626281738281, test_loss: 26407.78515625\n",
            "epoch:1180, loss:439.8578796386719, test_loss: 26315.923828125\n",
            "epoch:1200, loss:429.409423828125, test_loss: 26193.12890625\n",
            "epoch:1220, loss:419.0522766113281, test_loss: 26081.966796875\n",
            "epoch:1240, loss:409.00421142578125, test_loss: 25995.455078125\n",
            "epoch:1260, loss:399.0888366699219, test_loss: 25897.349609375\n",
            "epoch:1280, loss:389.82391357421875, test_loss: 25777.73046875\n",
            "epoch:1300, loss:380.8670349121094, test_loss: 25662.150390625\n",
            "epoch:1320, loss:371.9432067871094, test_loss: 25573.263671875\n",
            "epoch:1340, loss:362.7596740722656, test_loss: 25492.755859375\n",
            "epoch:1360, loss:355.2690124511719, test_loss: 25361.5859375\n",
            "epoch:1380, loss:346.8297119140625, test_loss: 25275.0625\n",
            "epoch:1400, loss:338.6603698730469, test_loss: 25189.43359375\n",
            "epoch:1420, loss:331.6513671875, test_loss: 25117.20703125\n",
            "epoch:1440, loss:324.7021789550781, test_loss: 24996.322265625\n",
            "epoch:1460, loss:317.34442138671875, test_loss: 24928.8515625\n",
            "epoch:1480, loss:310.8133544921875, test_loss: 24844.173828125\n",
            "epoch:1500, loss:304.6689147949219, test_loss: 24751.662109375\n",
            "epoch:1520, loss:298.92529296875, test_loss: 24690.87109375\n",
            "epoch:1540, loss:293.2481689453125, test_loss: 24589.5\n",
            "epoch:1560, loss:287.87493896484375, test_loss: 24568.3203125\n",
            "epoch:1580, loss:281.407958984375, test_loss: 24481.6015625\n",
            "epoch:1600, loss:275.21527099609375, test_loss: 24394.658203125\n",
            "epoch:1620, loss:269.49658203125, test_loss: 24302.787109375\n",
            "epoch:1640, loss:264.9358215332031, test_loss: 24232.31640625\n",
            "epoch:1660, loss:260.4610290527344, test_loss: 24117.14453125\n",
            "epoch:1680, loss:254.8402862548828, test_loss: 24060.93359375\n",
            "epoch:1700, loss:250.3802490234375, test_loss: 23980.412109375\n",
            "epoch:1720, loss:246.0655059814453, test_loss: 23903.279296875\n",
            "epoch:1740, loss:242.49061584472656, test_loss: 23849.56640625\n",
            "epoch:1760, loss:238.0771026611328, test_loss: 23761.734375\n",
            "epoch:1780, loss:234.7860565185547, test_loss: 23676.458984375\n",
            "epoch:1800, loss:231.3202667236328, test_loss: 23615.109375\n",
            "epoch:1820, loss:227.91477966308594, test_loss: 23552.908203125\n",
            "epoch:1840, loss:224.48141479492188, test_loss: 23508.865234375\n",
            "epoch:1860, loss:221.3534393310547, test_loss: 23450.037109375\n",
            "epoch:1880, loss:218.84922790527344, test_loss: 23365.650390625\n",
            "epoch:1900, loss:215.8920135498047, test_loss: 23330.279296875\n",
            "epoch:1920, loss:213.0066680908203, test_loss: 23274.234375\n",
            "epoch:1940, loss:210.62245178222656, test_loss: 23195.673828125\n",
            "epoch:1960, loss:208.5696563720703, test_loss: 23164.73046875\n",
            "epoch:1980, loss:205.5516357421875, test_loss: 23098.89453125\n",
            "epoch:2000, loss:203.50411987304688, test_loss: 23025.4140625\n",
            "epoch:2020, loss:201.50674438476562, test_loss: 22995.9921875\n",
            "epoch:2040, loss:198.7696533203125, test_loss: 22937.3359375\n",
            "epoch:2060, loss:196.9862823486328, test_loss: 22860.1796875\n",
            "epoch:2080, loss:194.9060516357422, test_loss: 22835.63671875\n",
            "epoch:2100, loss:192.48204040527344, test_loss: 22777.201171875\n",
            "epoch:2120, loss:190.4922332763672, test_loss: 22723.28515625\n",
            "epoch:2140, loss:188.74838256835938, test_loss: 22696.134765625\n",
            "epoch:2160, loss:187.10638427734375, test_loss: 22617.591796875\n",
            "epoch:2180, loss:185.1826629638672, test_loss: 22604.828125\n",
            "epoch:2200, loss:182.8144989013672, test_loss: 22552.9453125\n",
            "epoch:2220, loss:181.22918701171875, test_loss: 22497.109375\n",
            "epoch:2240, loss:180.0983123779297, test_loss: 22491.318359375\n",
            "epoch:2260, loss:177.73280334472656, test_loss: 22423.560546875\n",
            "epoch:2280, loss:175.72727966308594, test_loss: 22384.255859375\n",
            "epoch:2300, loss:174.5695037841797, test_loss: 22380.76171875\n",
            "epoch:2320, loss:172.5289306640625, test_loss: 22306.6015625\n",
            "epoch:2340, loss:170.5557861328125, test_loss: 22269.0703125\n",
            "epoch:2360, loss:169.8910675048828, test_loss: 22267.3359375\n",
            "epoch:2380, loss:167.5077362060547, test_loss: 22208.63671875\n",
            "epoch:2400, loss:166.6973419189453, test_loss: 22149.291015625\n",
            "epoch:2420, loss:165.41885375976562, test_loss: 22146.529296875\n",
            "epoch:2440, loss:163.86187744140625, test_loss: 22116.505859375\n",
            "epoch:2460, loss:163.37733459472656, test_loss: 22038.703125\n",
            "epoch:2480, loss:161.31541442871094, test_loss: 22023.580078125\n",
            "epoch:2500, loss:161.1364288330078, test_loss: 22021.3828125\n",
            "epoch:2520, loss:159.25601196289062, test_loss: 21957.048828125\n",
            "epoch:2540, loss:158.34373474121094, test_loss: 21911.091796875\n",
            "epoch:2560, loss:158.01980590820312, test_loss: 21917.904296875\n",
            "epoch:2580, loss:155.8555450439453, test_loss: 21871.12109375\n",
            "epoch:2600, loss:155.3916015625, test_loss: 21804.91015625\n",
            "epoch:2620, loss:154.2806854248047, test_loss: 21812.296875\n",
            "epoch:2640, loss:152.46829223632812, test_loss: 21778.9765625\n",
            "epoch:2660, loss:152.03411865234375, test_loss: 21696.19140625\n",
            "epoch:2680, loss:149.990234375, test_loss: 21699.17578125\n",
            "epoch:2700, loss:148.5100860595703, test_loss: 21671.099609375\n",
            "epoch:2720, loss:147.42117309570312, test_loss: 21592.908203125\n",
            "epoch:2740, loss:145.37310791015625, test_loss: 21582.166015625\n",
            "epoch:2760, loss:143.6837921142578, test_loss: 21543.423828125\n",
            "epoch:2780, loss:142.27621459960938, test_loss: 21487.5234375\n",
            "epoch:2800, loss:141.31332397460938, test_loss: 21480.20703125\n",
            "epoch:2820, loss:139.62451171875, test_loss: 21402.404296875\n",
            "epoch:2840, loss:137.8329620361328, test_loss: 21395.017578125\n",
            "epoch:2860, loss:136.16525268554688, test_loss: 21354.130859375\n",
            "epoch:2880, loss:134.4390411376953, test_loss: 21302.904296875\n",
            "epoch:2900, loss:132.8446807861328, test_loss: 21245.2421875\n",
            "epoch:2920, loss:131.6494598388672, test_loss: 21225.966796875\n",
            "epoch:2940, loss:129.7833251953125, test_loss: 21169.017578125\n",
            "epoch:2960, loss:131.56295776367188, test_loss: 21076.544921875\n",
            "epoch:2980, loss:128.3966522216797, test_loss: 21116.861328125\n"
          ]
        }
      ],
      "source": [
        "model.train()\n",
        "for epoch in range(3000):\n",
        "    output = model(train_x)\n",
        "    loss = loss_fun(output, train_y)\n",
        "    optimizer.zero_grad()\n",
        "    loss.backward()\n",
        "    optimizer.step()\n",
        "    if epoch % 20 == 0 and epoch > 0:\n",
        "        test_loss = loss_fun(model(test_x), test_y)\n",
        "        print(\"epoch:{}, loss:{}, test_loss: {}\".format(epoch, loss, test_loss))\n",
        "        if test_loss < 20000:\n",
        "          # 保存整个网络\n",
        "          torch.save(model, 'demo') \n",
        "          # 保存网络中的参数, 速度快，占空间少\n",
        "          torch.save(model.state_dict(),'demo')\n",
        "          break\n"
      ]
    },
    {
      "cell_type": "markdown",
      "metadata": {
        "id": "XiXeKSjE6htL"
      },
      "source": [
        "使用正确数据作为输入进行预测"
      ]
    },
    {
      "cell_type": "code",
      "execution_count": 9,
      "metadata": {
        "colab": {
          "base_uri": "https://localhost:8080/",
          "height": 366
        },
        "id": "jBJOC03yz8OF",
        "outputId": "e639af32-28f0-4b45-c1f4-b9f8ac961e74"
      },
      "outputs": [
        {
          "name": "stdout",
          "output_type": "stream",
          "text": [
            "MSE: 21070825000.0\n"
          ]
        },
        {
          "data": {
            "text/plain": [
              "<matplotlib.legend.Legend at 0x7f8883513a00>"
            ]
          },
          "execution_count": 9,
          "metadata": {},
          "output_type": "execute_result"
        },
        {
          "data": {
            "image/png": "[encoded data removed]",
            "text/plain": [
              "<Figure size 720x360 with 1 Axes>"
            ]
          },
          "metadata": {
            "needs_background": "light"
          },
          "output_type": "display_data"
        }
      ],
      "source": [
        "model.eval()\n",
        "\n",
        "test_pre = list((model(test_x).data.reshape(-1))*1000)\n",
        "\n",
        "from sklearn.metrics import mean_squared_error\n",
        "print(\"MSE:\", mean_squared_error(test_y*1000, test_pre))\n",
        "\n",
        "plt.figure(figsize=(10,5))\n",
        "\n",
        "# 真实数据\n",
        "plt.plot(test_y*1000, label=\"real\")\n",
        "\n",
        "\n",
        "# 预测结果\n",
        "plt.plot(test_pre, label=\"pred\")\n",
        "\n",
        "# 模型预测的走势\n",
        "plt.legend(loc='best')\n",
        "\n",
        "\n",
        "\n"
      ]
    },
    {
      "cell_type": "markdown",
      "metadata": {
        "id": "QB7BRhIJ2Uw_"
      },
      "source": [
        "lstm 使用过去seq_len的数据预测明天的数据\n",
        "lstm(x) = y\n",
        "\n",
        "min (y_pre, y_real)\n",
        "\n",
        "\n",
        "\n",
        "假设我们有10个月的数据\n",
        "\n",
        "train_set 训练模型 （7个月）\n",
        "data_sample: x1 = [1,2,3,4,5,6,7]  y1 = [8]\n",
        "             x2 = [2,3,4,5,6,7,8]  y2 = [9]\n",
        "            ...\n",
        "             xn = [..., 209] yn = [210]\n",
        "\n",
        "\n",
        "\n",
        "test_set 测试模型 （3个月）\n",
        "\n",
        "data_sample: x1 = [210, ...]  y1 = [217]\n",
        "             x2 = [211,...]  y2 = [218]\n",
        "             ...\n",
        "             xn = [..., 299] yn = [300]\n",
        "\n",
        "performance: MSE(lstm(test_set(x)), y_real)           \n",
        "\n"
      ]
    },
    {
      "cell_type": "markdown",
      "metadata": {
        "id": "got7v7vP7IQJ"
      },
      "source": [
        "使用预测数据作为输入递归预测未来趋势"
      ]
    },
    {
      "cell_type": "code",
      "execution_count": 10,
      "metadata": {
        "colab": {
          "base_uri": "https://localhost:8080/"
        },
        "id": "0WSMF7kdR3UQ",
        "outputId": "9dff73ba-61c0-46e4-fb72-c9c5007e6acf"
      },
      "outputs": [
        {
          "name": "stdout",
          "output_type": "stream",
          "text": [
            "[tensor(116.4070), tensor(122.5730), tensor(120.1320), tensor(81.4250), tensor(68.3630), tensor(87.5720), tensor(104.9200)]\n"
          ]
        }
      ],
      "source": [
        "result = []\n",
        "\n",
        "result.append(test_x[0][0][0])\n",
        "result.append(test_x[0][1][0])\n",
        "result.append(test_x[0][2][0])\n",
        "result.append(test_x[0][3][0])\n",
        "result.append(test_x[0][4][0])\n",
        "result.append(test_x[0][5][0])\n",
        "result.append(test_x[0][6][0])\n",
        "\n",
        "\n",
        "print(result)"
      ]
    },
    {
      "cell_type": "code",
      "execution_count": 11,
      "metadata": {
        "colab": {
          "base_uri": "https://localhost:8080/",
          "height": 473
        },
        "id": "E_6HO4Ig4xxi",
        "outputId": "8e4406d3-e845-4116-8170-bec3379f3092"
      },
      "outputs": [
        {
          "name": "stdout",
          "output_type": "stream",
          "text": [
            "37\n",
            "93\n",
            "[tensor(116407.), tensor(122573.), tensor(120132.), tensor(81425.), tensor(68363.), tensor(87572.), tensor(104920.), tensor([[106341.1016]], grad_fn=<MulBackward0>), tensor([[119377.6250]], grad_fn=<MulBackward0>), tensor([[132069.8594]], grad_fn=<MulBackward0>), tensor([[120828.7656]], grad_fn=<MulBackward0>), tensor([[117316.9922]], grad_fn=<MulBackward0>), tensor([[104397.3359]], grad_fn=<MulBackward0>), tensor([[92677.0078]], grad_fn=<MulBackward0>), tensor([[124763.6328]], grad_fn=<MulBackward0>), tensor([[114583.2734]], grad_fn=<MulBackward0>), tensor([[123715.9609]], grad_fn=<MulBackward0>), tensor([[119880.4766]], grad_fn=<MulBackward0>), tensor([[98202.1953]], grad_fn=<MulBackward0>), tensor([[112464.5859]], grad_fn=<MulBackward0>), tensor([[100178.3516]], grad_fn=<MulBackward0>), tensor([[102702.5156]], grad_fn=<MulBackward0>), tensor([[104081.4062]], grad_fn=<MulBackward0>), tensor([[114010.8906]], grad_fn=<MulBackward0>), tensor([[116127.7656]], grad_fn=<MulBackward0>), tensor([[106701.5000]], grad_fn=<MulBackward0>), tensor([[104819.6250]], grad_fn=<MulBackward0>), tensor([[89465.6328]], grad_fn=<MulBackward0>), tensor([[86571.8281]], grad_fn=<MulBackward0>), tensor([[91170.7578]], grad_fn=<MulBackward0>), tensor([[94343.8125]], grad_fn=<MulBackward0>), tensor([[108337.5938]], grad_fn=<MulBackward0>), tensor([[90392.1641]], grad_fn=<MulBackward0>), tensor([[88839.3438]], grad_fn=<MulBackward0>), tensor([[87999.5156]], grad_fn=<MulBackward0>), tensor([[84858.0625]], grad_fn=<MulBackward0>), tensor([[107845.2734]], grad_fn=<MulBackward0>)]\n"
          ]
        },
        {
          "ename": "RuntimeError",
          "evalue": "Can't call numpy() on Tensor that requires grad. Use tensor.detach().numpy() instead.",
          "output_type": "error",
          "traceback": [
            "\u001b[0;31m---------------------------------------------------------------------------\u001b[0m",
            "\u001b[0;31mRuntimeError\u001b[0m                              Traceback (most recent call last)",
            "Input \u001b[0;32mIn [11]\u001b[0m, in \u001b[0;36m<module>\u001b[0;34m\u001b[0m\n\u001b[1;32m     10\u001b[0m result \u001b[38;5;241m=\u001b[39m [i \u001b[38;5;241m*\u001b[39m \u001b[38;5;241m1000\u001b[39m \u001b[38;5;28;01mfor\u001b[39;00m i \u001b[38;5;129;01min\u001b[39;00m result]\n\u001b[1;32m     11\u001b[0m \u001b[38;5;28mprint\u001b[39m(result)\n\u001b[0;32m---> 13\u001b[0m \u001b[38;5;28mprint\u001b[39m(\u001b[38;5;124m\"\u001b[39m\u001b[38;5;124mMSE:\u001b[39m\u001b[38;5;124m\"\u001b[39m, \u001b[43mmean_squared_error\u001b[49m\u001b[43m(\u001b[49m\u001b[43mtest_y\u001b[49m\u001b[43m[\u001b[49m\u001b[38;5;241;43m0\u001b[39;49m\u001b[43m:\u001b[49m\u001b[38;5;241;43m30\u001b[39;49m\u001b[43m]\u001b[49m\u001b[38;5;241;43m*\u001b[39;49m\u001b[38;5;241;43m1000\u001b[39;49m\u001b[43m,\u001b[49m\u001b[43m \u001b[49m\u001b[43mresult\u001b[49m\u001b[43m[\u001b[49m\u001b[38;5;241;43m7\u001b[39;49m\u001b[43m:\u001b[49m\u001b[43m]\u001b[49m\u001b[43m)\u001b[49m)\n\u001b[1;32m     16\u001b[0m plt\u001b[38;5;241m.\u001b[39mfigure(figsize\u001b[38;5;241m=\u001b[39m(\u001b[38;5;241m10\u001b[39m,\u001b[38;5;241m5\u001b[39m))\n\u001b[1;32m     18\u001b[0m \u001b[38;5;66;03m# 真实数据\u001b[39;00m\n",
            "File \u001b[0;32m/opt/anaconda3/envs/pyc/lib/python3.9/site-packages/sklearn/metrics/_regression.py:438\u001b[0m, in \u001b[0;36mmean_squared_error\u001b[0;34m(y_true, y_pred, sample_weight, multioutput, squared)\u001b[0m\n\u001b[1;32m    378\u001b[0m \u001b[38;5;28;01mdef\u001b[39;00m \u001b[38;5;21mmean_squared_error\u001b[39m(\n\u001b[1;32m    379\u001b[0m     y_true, y_pred, \u001b[38;5;241m*\u001b[39m, sample_weight\u001b[38;5;241m=\u001b[39m\u001b[38;5;28;01mNone\u001b[39;00m, multioutput\u001b[38;5;241m=\u001b[39m\u001b[38;5;124m\"\u001b[39m\u001b[38;5;124muniform_average\u001b[39m\u001b[38;5;124m\"\u001b[39m, squared\u001b[38;5;241m=\u001b[39m\u001b[38;5;28;01mTrue\u001b[39;00m\n\u001b[1;32m    380\u001b[0m ):\n\u001b[1;32m    381\u001b[0m     \u001b[38;5;124;03m\"\"\"Mean squared error regression loss.\u001b[39;00m\n\u001b[1;32m    382\u001b[0m \n\u001b[1;32m    383\u001b[0m \u001b[38;5;124;03m    Read more in the :ref:`User Guide <mean_squared_error>`.\u001b[39;00m\n\u001b[0;32m   (...)\u001b[0m\n\u001b[1;32m    436\u001b[0m \u001b[38;5;124;03m    0.825...\u001b[39;00m\n\u001b[1;32m    437\u001b[0m \u001b[38;5;124;03m    \"\"\"\u001b[39;00m\n\u001b[0;32m--> 438\u001b[0m     y_type, y_true, y_pred, multioutput \u001b[38;5;241m=\u001b[39m \u001b[43m_check_reg_targets\u001b[49m\u001b[43m(\u001b[49m\n\u001b[1;32m    439\u001b[0m \u001b[43m        \u001b[49m\u001b[43my_true\u001b[49m\u001b[43m,\u001b[49m\u001b[43m \u001b[49m\u001b[43my_pred\u001b[49m\u001b[43m,\u001b[49m\u001b[43m \u001b[49m\u001b[43mmultioutput\u001b[49m\n\u001b[1;32m    440\u001b[0m \u001b[43m    \u001b[49m\u001b[43m)\u001b[49m\n\u001b[1;32m    441\u001b[0m     check_consistent_length(y_true, y_pred, sample_weight)\n\u001b[1;32m    442\u001b[0m     output_errors \u001b[38;5;241m=\u001b[39m np\u001b[38;5;241m.\u001b[39maverage((y_true \u001b[38;5;241m-\u001b[39m y_pred) \u001b[38;5;241m*\u001b[39m\u001b[38;5;241m*\u001b[39m \u001b[38;5;241m2\u001b[39m, axis\u001b[38;5;241m=\u001b[39m\u001b[38;5;241m0\u001b[39m, weights\u001b[38;5;241m=\u001b[39msample_weight)\n",
            "File \u001b[0;32m/opt/anaconda3/envs/pyc/lib/python3.9/site-packages/sklearn/metrics/_regression.py:96\u001b[0m, in \u001b[0;36m_check_reg_targets\u001b[0;34m(y_true, y_pred, multioutput, dtype)\u001b[0m\n\u001b[1;32m     94\u001b[0m check_consistent_length(y_true, y_pred)\n\u001b[1;32m     95\u001b[0m y_true \u001b[38;5;241m=\u001b[39m check_array(y_true, ensure_2d\u001b[38;5;241m=\u001b[39m\u001b[38;5;28;01mFalse\u001b[39;00m, dtype\u001b[38;5;241m=\u001b[39mdtype)\n\u001b[0;32m---> 96\u001b[0m y_pred \u001b[38;5;241m=\u001b[39m \u001b[43mcheck_array\u001b[49m\u001b[43m(\u001b[49m\u001b[43my_pred\u001b[49m\u001b[43m,\u001b[49m\u001b[43m \u001b[49m\u001b[43mensure_2d\u001b[49m\u001b[38;5;241;43m=\u001b[39;49m\u001b[38;5;28;43;01mFalse\u001b[39;49;00m\u001b[43m,\u001b[49m\u001b[43m \u001b[49m\u001b[43mdtype\u001b[49m\u001b[38;5;241;43m=\u001b[39;49m\u001b[43mdtype\u001b[49m\u001b[43m)\u001b[49m\n\u001b[1;32m     98\u001b[0m \u001b[38;5;28;01mif\u001b[39;00m y_true\u001b[38;5;241m.\u001b[39mndim \u001b[38;5;241m==\u001b[39m \u001b[38;5;241m1\u001b[39m:\n\u001b[1;32m     99\u001b[0m     y_true \u001b[38;5;241m=\u001b[39m y_true\u001b[38;5;241m.\u001b[39mreshape((\u001b[38;5;241m-\u001b[39m\u001b[38;5;241m1\u001b[39m, \u001b[38;5;241m1\u001b[39m))\n",
            "File \u001b[0;32m/opt/anaconda3/envs/pyc/lib/python3.9/site-packages/sklearn/utils/validation.py:746\u001b[0m, in \u001b[0;36mcheck_array\u001b[0;34m(array, accept_sparse, accept_large_sparse, dtype, order, copy, force_all_finite, ensure_2d, allow_nd, ensure_min_samples, ensure_min_features, estimator)\u001b[0m\n\u001b[1;32m    744\u001b[0m         array \u001b[38;5;241m=\u001b[39m array\u001b[38;5;241m.\u001b[39mastype(dtype, casting\u001b[38;5;241m=\u001b[39m\u001b[38;5;124m\"\u001b[39m\u001b[38;5;124munsafe\u001b[39m\u001b[38;5;124m\"\u001b[39m, copy\u001b[38;5;241m=\u001b[39m\u001b[38;5;28;01mFalse\u001b[39;00m)\n\u001b[1;32m    745\u001b[0m     \u001b[38;5;28;01melse\u001b[39;00m:\n\u001b[0;32m--> 746\u001b[0m         array \u001b[38;5;241m=\u001b[39m \u001b[43mnp\u001b[49m\u001b[38;5;241;43m.\u001b[39;49m\u001b[43masarray\u001b[49m\u001b[43m(\u001b[49m\u001b[43marray\u001b[49m\u001b[43m,\u001b[49m\u001b[43m \u001b[49m\u001b[43morder\u001b[49m\u001b[38;5;241;43m=\u001b[39;49m\u001b[43morder\u001b[49m\u001b[43m,\u001b[49m\u001b[43m \u001b[49m\u001b[43mdtype\u001b[49m\u001b[38;5;241;43m=\u001b[39;49m\u001b[43mdtype\u001b[49m\u001b[43m)\u001b[49m\n\u001b[1;32m    747\u001b[0m \u001b[38;5;28;01mexcept\u001b[39;00m ComplexWarning \u001b[38;5;28;01mas\u001b[39;00m complex_warning:\n\u001b[1;32m    748\u001b[0m     \u001b[38;5;28;01mraise\u001b[39;00m \u001b[38;5;167;01mValueError\u001b[39;00m(\n\u001b[1;32m    749\u001b[0m         \u001b[38;5;124m\"\u001b[39m\u001b[38;5;124mComplex data not supported\u001b[39m\u001b[38;5;130;01m\\n\u001b[39;00m\u001b[38;5;132;01m{}\u001b[39;00m\u001b[38;5;130;01m\\n\u001b[39;00m\u001b[38;5;124m\"\u001b[39m\u001b[38;5;241m.\u001b[39mformat(array)\n\u001b[1;32m    750\u001b[0m     ) \u001b[38;5;28;01mfrom\u001b[39;00m \u001b[38;5;21;01mcomplex_warning\u001b[39;00m\n",
            "File \u001b[0;32m/opt/anaconda3/envs/pyc/lib/python3.9/site-packages/torch/_tensor.py:678\u001b[0m, in \u001b[0;36mTensor.__array__\u001b[0;34m(self, dtype)\u001b[0m\n\u001b[1;32m    676\u001b[0m     \u001b[38;5;28;01mreturn\u001b[39;00m handle_torch_function(Tensor\u001b[38;5;241m.\u001b[39m__array__, (\u001b[38;5;28mself\u001b[39m,), \u001b[38;5;28mself\u001b[39m, dtype\u001b[38;5;241m=\u001b[39mdtype)\n\u001b[1;32m    677\u001b[0m \u001b[38;5;28;01mif\u001b[39;00m dtype \u001b[38;5;129;01mis\u001b[39;00m \u001b[38;5;28;01mNone\u001b[39;00m:\n\u001b[0;32m--> 678\u001b[0m     \u001b[38;5;28;01mreturn\u001b[39;00m \u001b[38;5;28;43mself\u001b[39;49m\u001b[38;5;241;43m.\u001b[39;49m\u001b[43mnumpy\u001b[49m\u001b[43m(\u001b[49m\u001b[43m)\u001b[49m\n\u001b[1;32m    679\u001b[0m \u001b[38;5;28;01melse\u001b[39;00m:\n\u001b[1;32m    680\u001b[0m     \u001b[38;5;28;01mreturn\u001b[39;00m \u001b[38;5;28mself\u001b[39m\u001b[38;5;241m.\u001b[39mnumpy()\u001b[38;5;241m.\u001b[39mastype(dtype, copy\u001b[38;5;241m=\u001b[39m\u001b[38;5;28;01mFalse\u001b[39;00m)\n",
            "\u001b[0;31mRuntimeError\u001b[0m: Can't call numpy() on Tensor that requires grad. Use tensor.detach().numpy() instead."
          ]
        }
      ],
      "source": [
        "# 预测未来10天的数据，\n",
        "for i in range(30):\n",
        "  result.append(model(torch.tensor(result[i:i+7]).reshape(1,7,1)))\n",
        "\n",
        "\n",
        "\n",
        "print(len(result)) \n",
        "print(len(test_y)) \n",
        "\n",
        "result = [i * 1000 for i in result]\n",
        "print(result)\n",
        "\n",
        "print(\"MSE:\", mean_squared_error(test_y[0:30]*1000, result[7:]))\n",
        "\n",
        "\n",
        "plt.figure(figsize=(10,5))\n",
        "\n",
        "# 真实数据\n",
        "plt.plot(test_y*1000, label=\"real\")\n",
        "\n",
        "\n",
        "# 预测结果\n",
        "plt.plot(result[7:], label=\"pred\")\n",
        "\n",
        "# 模型预测的走势\n",
        "plt.legend(loc='best')\n"
      ]
    },
    {
      "cell_type": "markdown",
      "metadata": {
        "id": "u98CWOqq4PYi"
      },
      "source": [
        "lstm 使用过去seq_len的数据预测明天的数据\n",
        "lstm(x) = y\n",
        "\n",
        "min (y_pre, y_real)\n",
        "\n",
        "\n",
        "\n",
        "假设我们有10个月的数据\n",
        "\n",
        "train_set 训练模型 （7个月）\n",
        "data_sample: x1 = [1,2,3,4,5,6,7]  y1 = [8]\n",
        "             x2 = [2,3,4,5,6,7,8]  y2 = [9]\n",
        "            ...\n",
        "             xn = [..., 209] yn = [210]\n",
        "\n",
        "\n",
        "\n",
        "test_set 测试模型 （3个月）\n",
        "\n",
        "data_sample: x1 = [210, ...]  y1 = [217]\n",
        "             x2 = [211,...]  y2 = [218]\n",
        "             ...\n",
        "             xn = [..., 299] yn = [300]\n",
        "\n",
        "performance: MSE(lstm(test_set(x)), y_real)    \n",
        "\n",
        "\n",
        "真实环境下，预测第11个月的数据：\n",
        "model = lstm\n",
        "model([...*6,300]) = y_301\n",
        "model([...*5, 300, y_301]) = y_302\n",
        "       ....\n",
        "\n",
        "\n",
        "预测的越远，效果越差\n",
        "\n",
        "\n",
        "如果数据有固定的模式，则效果不会变的特别差\n",
        "\n",
        "黑天鹅\n",
        "\n",
        "\n",
        "\n",
        "\n"
      ]
    }
  ],
  "metadata": {
    "colab": {
      "collapsed_sections": [],
      "name": "LSTM.ipynb",
      "provenance": []
    },
    "kernelspec": {
      "display_name": "Python 3",
      "name": "python3"
    },
    "language_info": {
      "codemirror_mode": {
        "name": "ipython",
        "version": 3
      },
      "file_extension": ".py",
      "mimetype": "text/x-python",
      "name": "python",
      "nbconvert_exporter": "python",
      "pygments_lexer": "ipython3",
      "version": "3.9.7"
    }
  },
  "nbformat": 4,
  "nbformat_minor": 0
}
