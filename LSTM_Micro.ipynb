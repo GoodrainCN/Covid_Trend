{
  "cells": [
    {
      "cell_type": "code",
      "execution_count": 10,
      "metadata": {
        "id": "3MZhqNBCEWRe"
      },
      "outputs": [],
      "source": [
        "import torch\n",
        "from torch import nn\n",
        "import numpy as np\n",
        "import matplotlib.pyplot as plt"
      ]
    },
    {
      "cell_type": "code",
      "execution_count": 11,
      "metadata": {
        "id": "Fw-vEv4PGs7C"
      },
      "outputs": [],
      "source": [
        "device = torch.device(\"cuda\" if torch.cuda.is_available() else \"cpu\")"
      ]
    },
    {
      "cell_type": "code",
      "execution_count": 12,
      "metadata": {
        "colab": {
          "base_uri": "https://localhost:8080/"
        },
        "id": "GPNYqZKFwovI",
        "outputId": "b973eb15-5d82-4c07-88c8-754081211a23"
      },
      "outputs": [],
      "source": [
        "# from google.colab import drive\n",
        "# drive.mount('/content/drive', force_remount=True)"
      ]
    },
    {
      "cell_type": "code",
      "execution_count": 13,
      "metadata": {
        "id": "r4DTpdU_G1DW"
      },
      "outputs": [],
      "source": [
        "with open(\"cleaned\\data_table_for_daily_case_trends__the_united_states.csv\", \"r\", encoding=\"utf-8\") as f:\n",
        "    data = f.read()\n",
        "\n",
        "data = [row.split(',') for row in  data.split(\"\\n\")]\n",
        "\n",
        "# value = [int(each[1]) for each in data]\n",
        "value = [float(each[2]) for each in data[1:]]\n",
        "\n",
        "train  = value[:-100]\n",
        "test = value[-100:]\n",
        "\n",
        "\n",
        "# 设置序列数据的时间跨度，seq=7, 指使用过去七天的数据来预测明天的数据\n",
        "# 注意，这并不是说LSTM每次都只利用到7天的历史数据进行预测，而是7天的显式数据+所有已输入的数据产生的隐式信息（只是隐式信息具有离当前预测距离越远，信息量越弱的特点，详情看下行链接）\n",
        "# https://www.jianshu.com/p/6815da2d413d 关于RNN的长距离依赖问题，看下这个链接，LSTM比RNN在这方面强很多，但问题仍然存在。\n",
        "\n",
        "\n",
        "seq = 7\n",
        "\n",
        "# 训练集构造\n",
        "\n",
        "li_x = []\n",
        "li_y = []\n",
        "\n",
        "for i in range(len(train) - seq):\n",
        "    # 输入就是[x, x+1, x+2, ... , x + (seq-1)]天的数据，输出是 x + seq 天的数据\n",
        "    li_x.append(train[i: i+seq])\n",
        "    li_y.append(train[i+seq])\n",
        "\n",
        "# 对数据进行缩放有利于训练的收敛，但更好的方式是进行归一化处理；在当前应用上，这几种操作对结果不会造成太大影响，可以作为以后的练习。\n",
        "# 关于归一化的作用，可以参考这个帖子：https://www.cnblogs.com/LBSer/p/4440590.html\n",
        "\n",
        "train_x = (torch.tensor(li_x).float() / 1000.).reshape(-1, seq, 1).to(device)\n",
        "train_y = (torch.tensor(li_y).float() / 1000.).reshape(-1, 1).to(device)\n",
        "\n",
        "\n",
        "# 测试集构造\n",
        "\n",
        "t_x = []\n",
        "t_y = []\n",
        "\n",
        "for i in range(len(test) - seq):\n",
        "    t_x.append(test[i: i+seq])\n",
        "    t_y.append(test[i+seq])\n",
        "\n",
        "test_x = (torch.tensor(t_x).float() / 1000.).reshape(-1, seq, 1).to(device)\n",
        "test_y = (torch.tensor(t_y).float() / 1000.).reshape(-1, 1).to(device)"
      ]
    },
    {
      "cell_type": "code",
      "execution_count": 14,
      "metadata": {
        "id": "yNVQdLNjIClx"
      },
      "outputs": [],
      "source": [
        "class Net(nn.Module):\n",
        "    def __init__(self):\n",
        "        super(Net, self).__init__()\n",
        "        self.lstm = nn.LSTM(input_size=1, hidden_size=32, num_layers=1, batch_first=True)\n",
        "        # 输入格式是1，输出隐藏层大小是32\n",
        "        # 对于小数据集num_layers不要设置大，否则会因为模型变复杂而导致效果会变差\n",
        "        # num_layers顾名思义就是有几个lstm层，假如设置成2，就相当于连续经过两个lstm层\n",
        "        # 原来的输入格式是：(seq, batch, shape)\n",
        "        # 设置batch_first=True以后，输入格式就可以改为：(batch, seq, shape)，更符合平常使用的习惯\n",
        "        self.linear = nn.Linear(32*seq, 1)\n",
        "\n",
        "    def forward(self, x):\n",
        "        x, (h, c) = self.lstm(x)\n",
        "        x = x.reshape(-1, 32*seq)\n",
        "        x = self.linear(x)\n",
        "        return x"
      ]
    },
    {
      "cell_type": "code",
      "execution_count": 15,
      "metadata": {
        "id": "1yS-uutzIE0b"
      },
      "outputs": [],
      "source": [
        "model = Net().to(device)\n",
        "optimizer = torch.optim.Adam(model.parameters(), lr=0.001)\n",
        "loss_fun = nn.MSELoss()"
      ]
    },
    {
      "cell_type": "code",
      "execution_count": 16,
      "metadata": {
        "colab": {
          "base_uri": "https://localhost:8080/"
        },
        "id": "HowPsBYmPNie",
        "outputId": "762df048-3858-496f-a765-fd9a3aac83db"
      },
      "outputs": [
        {
          "name": "stdout",
          "output_type": "stream",
          "text": [
            "epoch:20, loss:8804.8369140625, test_loss: 54493.2890625\n",
            "epoch:40, loss:8531.705078125, test_loss: 53872.23046875\n",
            "epoch:60, loss:8017.24658203125, test_loss: 52683.51171875\n",
            "epoch:80, loss:7136.619140625, test_loss: 50551.02734375\n",
            "epoch:100, loss:5991.3662109375, test_loss: 47549.48828125\n",
            "epoch:120, loss:5273.55517578125, test_loss: 45382.2421875\n",
            "epoch:140, loss:4812.4677734375, test_loss: 44094.07421875\n",
            "epoch:160, loss:4442.97021484375, test_loss: 42969.75390625\n",
            "epoch:180, loss:4109.78125, test_loss: 41928.8671875\n",
            "epoch:200, loss:3819.337158203125, test_loss: 40986.21484375\n",
            "epoch:220, loss:3567.649169921875, test_loss: 40158.4140625\n",
            "epoch:240, loss:3345.156982421875, test_loss: 39410.6484375\n",
            "epoch:260, loss:3144.423583984375, test_loss: 38729.58203125\n",
            "epoch:280, loss:2960.49169921875, test_loss: 38100.1796875\n",
            "epoch:300, loss:2790.22412109375, test_loss: 37511.01953125\n",
            "epoch:320, loss:2630.936767578125, test_loss: 36948.52734375\n",
            "epoch:340, loss:2482.031982421875, test_loss: 36412.4609375\n",
            "epoch:360, loss:2342.722900390625, test_loss: 35902.01953125\n",
            "epoch:380, loss:2212.1845703125, test_loss: 35416.11328125\n",
            "epoch:400, loss:2090.2529296875, test_loss: 34958.26953125\n",
            "epoch:420, loss:1975.8795166015625, test_loss: 34522.7421875\n",
            "epoch:440, loss:1868.8118896484375, test_loss: 34104.453125\n",
            "epoch:460, loss:1768.4210205078125, test_loss: 33711.203125\n",
            "epoch:480, loss:1674.43994140625, test_loss: 33334.3125\n",
            "epoch:500, loss:1586.409912109375, test_loss: 32970.38671875\n",
            "epoch:520, loss:1503.8145751953125, test_loss: 32625.369140625\n",
            "epoch:540, loss:1426.3018798828125, test_loss: 32296.119140625\n",
            "epoch:560, loss:1353.5791015625, test_loss: 31970.365234375\n",
            "epoch:580, loss:1285.49609375, test_loss: 31644.390625\n",
            "epoch:600, loss:1221.46875, test_loss: 31355.03515625\n",
            "epoch:620, loss:1161.8001708984375, test_loss: 31068.083984375\n",
            "epoch:640, loss:1106.45263671875, test_loss: 30793.4921875\n",
            "epoch:660, loss:1054.64453125, test_loss: 30526.515625\n",
            "epoch:680, loss:1006.5887451171875, test_loss: 30264.0703125\n",
            "epoch:700, loss:961.7364501953125, test_loss: 30012.109375\n",
            "epoch:720, loss:919.3090209960938, test_loss: 29759.48046875\n",
            "epoch:740, loss:879.7015991210938, test_loss: 29528.029296875\n",
            "epoch:760, loss:842.4217529296875, test_loss: 29306.69921875\n",
            "epoch:780, loss:806.0167846679688, test_loss: 29080.7578125\n",
            "epoch:800, loss:771.7433471679688, test_loss: 28875.7265625\n",
            "epoch:820, loss:739.67529296875, test_loss: 28675.833984375\n",
            "epoch:840, loss:709.3994140625, test_loss: 28483.076171875\n",
            "epoch:860, loss:681.1818237304688, test_loss: 28288.40625\n",
            "epoch:880, loss:655.1408081054688, test_loss: 28113.630859375\n",
            "epoch:900, loss:631.009033203125, test_loss: 27955.0078125\n",
            "epoch:920, loss:608.6469116210938, test_loss: 27800.791015625\n",
            "epoch:940, loss:587.2778930664062, test_loss: 27634.857421875\n",
            "epoch:960, loss:567.741455078125, test_loss: 27462.4453125\n",
            "epoch:980, loss:549.9112548828125, test_loss: 27325.0859375\n",
            "epoch:1000, loss:532.94091796875, test_loss: 27170.884765625\n",
            "epoch:1020, loss:517.6077880859375, test_loss: 27039.70703125\n",
            "epoch:1040, loss:503.1440124511719, test_loss: 26898.6484375\n",
            "epoch:1060, loss:490.19952392578125, test_loss: 26766.55859375\n",
            "epoch:1080, loss:477.3725280761719, test_loss: 26605.84765625\n",
            "epoch:1100, loss:465.7297668457031, test_loss: 26487.072265625\n",
            "epoch:1120, loss:455.0402526855469, test_loss: 26374.630859375\n",
            "epoch:1140, loss:445.0269775390625, test_loss: 26270.95703125\n",
            "epoch:1160, loss:435.85028076171875, test_loss: 26162.05859375\n",
            "epoch:1180, loss:427.34027099609375, test_loss: 26051.31640625\n",
            "epoch:1200, loss:419.2977600097656, test_loss: 25960.0859375\n",
            "epoch:1220, loss:411.7769470214844, test_loss: 25874.359375\n",
            "epoch:1240, loss:404.1731262207031, test_loss: 25795.763671875\n",
            "epoch:1260, loss:397.2226867675781, test_loss: 25708.443359375\n",
            "epoch:1280, loss:386.27606201171875, test_loss: 25596.076171875\n",
            "epoch:1300, loss:378.44793701171875, test_loss: 25534.6875\n",
            "epoch:1320, loss:370.7824401855469, test_loss: 25449.123046875\n",
            "epoch:1340, loss:357.12884521484375, test_loss: 25370.322265625\n",
            "epoch:1360, loss:350.3206481933594, test_loss: 25243.177734375\n",
            "epoch:1380, loss:341.096435546875, test_loss: 25171.7578125\n",
            "epoch:1400, loss:333.0427551269531, test_loss: 25080.85546875\n",
            "epoch:1420, loss:325.1510925292969, test_loss: 24979.61328125\n",
            "epoch:1440, loss:321.4194030761719, test_loss: 24871.458984375\n",
            "epoch:1460, loss:313.9734802246094, test_loss: 24792.634765625\n",
            "epoch:1480, loss:305.3255615234375, test_loss: 24702.865234375\n",
            "epoch:1500, loss:299.17791748046875, test_loss: 24596.501953125\n",
            "epoch:1520, loss:293.6753234863281, test_loss: 24495.6796875\n",
            "epoch:1540, loss:288.38714599609375, test_loss: 24413.923828125\n",
            "epoch:1560, loss:283.22509765625, test_loss: 24329.59765625\n",
            "epoch:1580, loss:278.23345947265625, test_loss: 24233.951171875\n",
            "epoch:1600, loss:273.4655456542969, test_loss: 24172.6875\n",
            "epoch:1620, loss:268.9247741699219, test_loss: 24065.34375\n",
            "epoch:1640, loss:265.3939208984375, test_loss: 23959.94921875\n",
            "epoch:1660, loss:261.1297607421875, test_loss: 23877.662109375\n",
            "epoch:1680, loss:257.3310852050781, test_loss: 23825.822265625\n",
            "epoch:1700, loss:253.91807556152344, test_loss: 23729.5078125\n",
            "epoch:1720, loss:252.78500366210938, test_loss: 23701.828125\n",
            "epoch:1740, loss:245.97080993652344, test_loss: 23614.572265625\n",
            "epoch:1760, loss:248.93190002441406, test_loss: 23558.23828125\n",
            "epoch:1780, loss:240.8334197998047, test_loss: 23539.8359375\n",
            "epoch:1800, loss:236.56076049804688, test_loss: 23483.056640625\n",
            "epoch:1820, loss:233.4281005859375, test_loss: 23413.998046875\n",
            "epoch:1840, loss:229.7608184814453, test_loss: 23339.701171875\n",
            "epoch:1860, loss:225.95343017578125, test_loss: 23305.662109375\n",
            "epoch:1880, loss:223.62350463867188, test_loss: 23271.380859375\n",
            "epoch:1900, loss:220.09231567382812, test_loss: 23209.1953125\n",
            "epoch:1920, loss:215.62594604492188, test_loss: 23210.6015625\n",
            "epoch:1940, loss:211.86529541015625, test_loss: 23137.658203125\n",
            "epoch:1960, loss:209.13636779785156, test_loss: 23101.65625\n",
            "epoch:1980, loss:207.11160278320312, test_loss: 22997.359375\n",
            "epoch:2000, loss:202.9028778076172, test_loss: 22984.73046875\n",
            "epoch:2020, loss:200.26693725585938, test_loss: 22920.205078125\n",
            "epoch:2040, loss:197.74264526367188, test_loss: 22887.677734375\n",
            "epoch:2060, loss:195.29757690429688, test_loss: 22831.48046875\n",
            "epoch:2080, loss:192.98573303222656, test_loss: 22790.666015625\n",
            "epoch:2100, loss:190.72802734375, test_loss: 22741.400390625\n",
            "epoch:2120, loss:189.2629852294922, test_loss: 22675.349609375\n",
            "epoch:2140, loss:186.24526977539062, test_loss: 22639.84375\n",
            "epoch:2160, loss:184.71603393554688, test_loss: 22618.900390625\n",
            "epoch:2180, loss:183.05836486816406, test_loss: 22558.380859375\n",
            "epoch:2200, loss:180.27828979492188, test_loss: 22513.978515625\n",
            "epoch:2220, loss:179.08241271972656, test_loss: 22459.140625\n",
            "epoch:2240, loss:176.9298095703125, test_loss: 22407.732421875\n",
            "epoch:2260, loss:174.8870391845703, test_loss: 22354.859375\n",
            "epoch:2280, loss:173.20704650878906, test_loss: 22320.28515625\n",
            "epoch:2300, loss:171.69027709960938, test_loss: 22280.01953125\n",
            "epoch:2320, loss:171.85289001464844, test_loss: 22215.73828125\n",
            "epoch:2340, loss:168.99191284179688, test_loss: 22209.734375\n",
            "epoch:2360, loss:167.68701171875, test_loss: 22168.353515625\n",
            "epoch:2380, loss:166.68324279785156, test_loss: 22108.041015625\n",
            "epoch:2400, loss:165.1439208984375, test_loss: 22094.591796875\n",
            "epoch:2420, loss:164.9322052001953, test_loss: 22033.138671875\n",
            "epoch:2440, loss:162.94839477539062, test_loss: 22013.845703125\n",
            "epoch:2460, loss:161.20384216308594, test_loss: 21995.623046875\n",
            "epoch:2480, loss:159.98001098632812, test_loss: 21945.080078125\n",
            "epoch:2500, loss:158.97361755371094, test_loss: 21908.060546875\n",
            "epoch:2520, loss:158.875732421875, test_loss: 21878.806640625\n",
            "epoch:2540, loss:156.3801727294922, test_loss: 21865.859375\n",
            "epoch:2560, loss:156.63661193847656, test_loss: 21846.3046875\n",
            "epoch:2580, loss:154.27378845214844, test_loss: 21804.103515625\n",
            "epoch:2600, loss:154.44921875, test_loss: 21742.45703125\n",
            "epoch:2620, loss:152.9737548828125, test_loss: 21744.58203125\n",
            "epoch:2640, loss:151.28590393066406, test_loss: 21680.29296875\n",
            "epoch:2660, loss:151.4445037841797, test_loss: 21650.3515625\n",
            "epoch:2680, loss:148.7856903076172, test_loss: 21637.591796875\n",
            "epoch:2700, loss:148.29269409179688, test_loss: 21620.5390625\n",
            "epoch:2720, loss:148.38597106933594, test_loss: 21601.134765625\n",
            "epoch:2740, loss:145.8826141357422, test_loss: 21570.166015625\n",
            "epoch:2760, loss:145.95187377929688, test_loss: 21533.583984375\n",
            "epoch:2780, loss:144.61822509765625, test_loss: 21535.677734375\n",
            "epoch:2800, loss:144.12721252441406, test_loss: 21507.380859375\n",
            "epoch:2820, loss:142.2070770263672, test_loss: 21499.8515625\n",
            "epoch:2840, loss:140.83892822265625, test_loss: 21461.521484375\n",
            "epoch:2860, loss:139.4819793701172, test_loss: 21434.841796875\n",
            "epoch:2880, loss:138.48699951171875, test_loss: 21429.765625\n",
            "epoch:2900, loss:138.0780487060547, test_loss: 21382.91015625\n",
            "epoch:2920, loss:136.95120239257812, test_loss: 21382.84765625\n",
            "epoch:2940, loss:135.4210662841797, test_loss: 21359.419921875\n",
            "epoch:2960, loss:135.0214080810547, test_loss: 21331.83984375\n",
            "epoch:2980, loss:133.63304138183594, test_loss: 21322.83203125\n"
          ]
        }
      ],
      "source": [
        "model.train()\n",
        "for epoch in range(3000):\n",
        "    output = model(train_x)\n",
        "    loss = loss_fun(output, train_y)\n",
        "    optimizer.zero_grad()\n",
        "    loss.backward()\n",
        "    optimizer.step()\n",
        "    if epoch % 20 == 0 and epoch > 0:\n",
        "        test_loss = loss_fun(model(test_x), test_y)\n",
        "        print(\"epoch:{}, loss:{}, test_loss: {}\".format(epoch, loss, test_loss))\n",
        "        if test_loss < 20000:\n",
        "          # 保存整个网络\n",
        "          torch.save(model, 'demo') \n",
        "          # 保存网络中的参数, 速度快，占空间少\n",
        "          torch.save(model.state_dict(),'demo')\n",
        "          break\n"
      ]
    },
    {
      "cell_type": "markdown",
      "metadata": {
        "id": "XiXeKSjE6htL"
      },
      "source": [
        "使用正确数据作为输入进行预测"
      ]
    },
    {
      "cell_type": "code",
      "execution_count": 17,
      "metadata": {
        "colab": {
          "base_uri": "https://localhost:8080/",
          "height": 366
        },
        "id": "jBJOC03yz8OF",
        "outputId": "e639af32-28f0-4b45-c1f4-b9f8ac961e74"
      },
      "outputs": [
        {
          "ename": "TypeError",
          "evalue": "can't convert cuda:0 device type tensor to numpy. Use Tensor.cpu() to copy the tensor to host memory first.",
          "output_type": "error",
          "traceback": [
            "\u001b[1;31m---------------------------------------------------------------------------\u001b[0m",
            "\u001b[1;31mTypeError\u001b[0m                                 Traceback (most recent call last)",
            "\u001b[1;32m<ipython-input-17-cbda03307bc7>\u001b[0m in \u001b[0;36m<module>\u001b[1;34m\u001b[0m\n\u001b[0;32m      4\u001b[0m \u001b[1;33m\u001b[0m\u001b[0m\n\u001b[0;32m      5\u001b[0m \u001b[1;32mfrom\u001b[0m \u001b[0msklearn\u001b[0m\u001b[1;33m.\u001b[0m\u001b[0mmetrics\u001b[0m \u001b[1;32mimport\u001b[0m \u001b[0mmean_squared_error\u001b[0m\u001b[1;33m\u001b[0m\u001b[1;33m\u001b[0m\u001b[0m\n\u001b[1;32m----> 6\u001b[1;33m \u001b[0mprint\u001b[0m\u001b[1;33m(\u001b[0m\u001b[1;34m\"MSE:\"\u001b[0m\u001b[1;33m,\u001b[0m \u001b[0mmean_squared_error\u001b[0m\u001b[1;33m(\u001b[0m\u001b[0mtest_y\u001b[0m\u001b[1;33m*\u001b[0m\u001b[1;36m1000\u001b[0m\u001b[1;33m,\u001b[0m \u001b[0mtest_pre\u001b[0m\u001b[1;33m)\u001b[0m\u001b[1;33m)\u001b[0m\u001b[1;33m\u001b[0m\u001b[1;33m\u001b[0m\u001b[0m\n\u001b[0m\u001b[0;32m      7\u001b[0m \u001b[1;33m\u001b[0m\u001b[0m\n\u001b[0;32m      8\u001b[0m \u001b[0mplt\u001b[0m\u001b[1;33m.\u001b[0m\u001b[0mfigure\u001b[0m\u001b[1;33m(\u001b[0m\u001b[0mfigsize\u001b[0m\u001b[1;33m=\u001b[0m\u001b[1;33m(\u001b[0m\u001b[1;36m10\u001b[0m\u001b[1;33m,\u001b[0m\u001b[1;36m5\u001b[0m\u001b[1;33m)\u001b[0m\u001b[1;33m)\u001b[0m\u001b[1;33m\u001b[0m\u001b[1;33m\u001b[0m\u001b[0m\n",
            "\u001b[1;32m~\\anaconda3\\envs\\mll\\lib\\site-packages\\sklearn\\utils\\validation.py\u001b[0m in \u001b[0;36minner_f\u001b[1;34m(*args, **kwargs)\u001b[0m\n\u001b[0;32m     61\u001b[0m             \u001b[0mextra_args\u001b[0m \u001b[1;33m=\u001b[0m \u001b[0mlen\u001b[0m\u001b[1;33m(\u001b[0m\u001b[0margs\u001b[0m\u001b[1;33m)\u001b[0m \u001b[1;33m-\u001b[0m \u001b[0mlen\u001b[0m\u001b[1;33m(\u001b[0m\u001b[0mall_args\u001b[0m\u001b[1;33m)\u001b[0m\u001b[1;33m\u001b[0m\u001b[1;33m\u001b[0m\u001b[0m\n\u001b[0;32m     62\u001b[0m             \u001b[1;32mif\u001b[0m \u001b[0mextra_args\u001b[0m \u001b[1;33m<=\u001b[0m \u001b[1;36m0\u001b[0m\u001b[1;33m:\u001b[0m\u001b[1;33m\u001b[0m\u001b[1;33m\u001b[0m\u001b[0m\n\u001b[1;32m---> 63\u001b[1;33m                 \u001b[1;32mreturn\u001b[0m \u001b[0mf\u001b[0m\u001b[1;33m(\u001b[0m\u001b[1;33m*\u001b[0m\u001b[0margs\u001b[0m\u001b[1;33m,\u001b[0m \u001b[1;33m**\u001b[0m\u001b[0mkwargs\u001b[0m\u001b[1;33m)\u001b[0m\u001b[1;33m\u001b[0m\u001b[1;33m\u001b[0m\u001b[0m\n\u001b[0m\u001b[0;32m     64\u001b[0m \u001b[1;33m\u001b[0m\u001b[0m\n\u001b[0;32m     65\u001b[0m             \u001b[1;31m# extra_args > 0\u001b[0m\u001b[1;33m\u001b[0m\u001b[1;33m\u001b[0m\u001b[1;33m\u001b[0m\u001b[0m\n",
            "\u001b[1;32m~\\anaconda3\\envs\\mll\\lib\\site-packages\\sklearn\\metrics\\_regression.py\u001b[0m in \u001b[0;36mmean_squared_error\u001b[1;34m(y_true, y_pred, sample_weight, multioutput, squared)\u001b[0m\n\u001b[0;32m    334\u001b[0m     \"\"\"\n\u001b[0;32m    335\u001b[0m     y_type, y_true, y_pred, multioutput = _check_reg_targets(\n\u001b[1;32m--> 336\u001b[1;33m         y_true, y_pred, multioutput)\n\u001b[0m\u001b[0;32m    337\u001b[0m     \u001b[0mcheck_consistent_length\u001b[0m\u001b[1;33m(\u001b[0m\u001b[0my_true\u001b[0m\u001b[1;33m,\u001b[0m \u001b[0my_pred\u001b[0m\u001b[1;33m,\u001b[0m \u001b[0msample_weight\u001b[0m\u001b[1;33m)\u001b[0m\u001b[1;33m\u001b[0m\u001b[1;33m\u001b[0m\u001b[0m\n\u001b[0;32m    338\u001b[0m     output_errors = np.average((y_true - y_pred) ** 2, axis=0,\n",
            "\u001b[1;32m~\\anaconda3\\envs\\mll\\lib\\site-packages\\sklearn\\metrics\\_regression.py\u001b[0m in \u001b[0;36m_check_reg_targets\u001b[1;34m(y_true, y_pred, multioutput, dtype)\u001b[0m\n\u001b[0;32m     87\u001b[0m     \"\"\"\n\u001b[0;32m     88\u001b[0m     \u001b[0mcheck_consistent_length\u001b[0m\u001b[1;33m(\u001b[0m\u001b[0my_true\u001b[0m\u001b[1;33m,\u001b[0m \u001b[0my_pred\u001b[0m\u001b[1;33m)\u001b[0m\u001b[1;33m\u001b[0m\u001b[1;33m\u001b[0m\u001b[0m\n\u001b[1;32m---> 89\u001b[1;33m     \u001b[0my_true\u001b[0m \u001b[1;33m=\u001b[0m \u001b[0mcheck_array\u001b[0m\u001b[1;33m(\u001b[0m\u001b[0my_true\u001b[0m\u001b[1;33m,\u001b[0m \u001b[0mensure_2d\u001b[0m\u001b[1;33m=\u001b[0m\u001b[1;32mFalse\u001b[0m\u001b[1;33m,\u001b[0m \u001b[0mdtype\u001b[0m\u001b[1;33m=\u001b[0m\u001b[0mdtype\u001b[0m\u001b[1;33m)\u001b[0m\u001b[1;33m\u001b[0m\u001b[1;33m\u001b[0m\u001b[0m\n\u001b[0m\u001b[0;32m     90\u001b[0m     \u001b[0my_pred\u001b[0m \u001b[1;33m=\u001b[0m \u001b[0mcheck_array\u001b[0m\u001b[1;33m(\u001b[0m\u001b[0my_pred\u001b[0m\u001b[1;33m,\u001b[0m \u001b[0mensure_2d\u001b[0m\u001b[1;33m=\u001b[0m\u001b[1;32mFalse\u001b[0m\u001b[1;33m,\u001b[0m \u001b[0mdtype\u001b[0m\u001b[1;33m=\u001b[0m\u001b[0mdtype\u001b[0m\u001b[1;33m)\u001b[0m\u001b[1;33m\u001b[0m\u001b[1;33m\u001b[0m\u001b[0m\n\u001b[0;32m     91\u001b[0m \u001b[1;33m\u001b[0m\u001b[0m\n",
            "\u001b[1;32m~\\anaconda3\\envs\\mll\\lib\\site-packages\\sklearn\\utils\\validation.py\u001b[0m in \u001b[0;36minner_f\u001b[1;34m(*args, **kwargs)\u001b[0m\n\u001b[0;32m     61\u001b[0m             \u001b[0mextra_args\u001b[0m \u001b[1;33m=\u001b[0m \u001b[0mlen\u001b[0m\u001b[1;33m(\u001b[0m\u001b[0margs\u001b[0m\u001b[1;33m)\u001b[0m \u001b[1;33m-\u001b[0m \u001b[0mlen\u001b[0m\u001b[1;33m(\u001b[0m\u001b[0mall_args\u001b[0m\u001b[1;33m)\u001b[0m\u001b[1;33m\u001b[0m\u001b[1;33m\u001b[0m\u001b[0m\n\u001b[0;32m     62\u001b[0m             \u001b[1;32mif\u001b[0m \u001b[0mextra_args\u001b[0m \u001b[1;33m<=\u001b[0m \u001b[1;36m0\u001b[0m\u001b[1;33m:\u001b[0m\u001b[1;33m\u001b[0m\u001b[1;33m\u001b[0m\u001b[0m\n\u001b[1;32m---> 63\u001b[1;33m                 \u001b[1;32mreturn\u001b[0m \u001b[0mf\u001b[0m\u001b[1;33m(\u001b[0m\u001b[1;33m*\u001b[0m\u001b[0margs\u001b[0m\u001b[1;33m,\u001b[0m \u001b[1;33m**\u001b[0m\u001b[0mkwargs\u001b[0m\u001b[1;33m)\u001b[0m\u001b[1;33m\u001b[0m\u001b[1;33m\u001b[0m\u001b[0m\n\u001b[0m\u001b[0;32m     64\u001b[0m \u001b[1;33m\u001b[0m\u001b[0m\n\u001b[0;32m     65\u001b[0m             \u001b[1;31m# extra_args > 0\u001b[0m\u001b[1;33m\u001b[0m\u001b[1;33m\u001b[0m\u001b[1;33m\u001b[0m\u001b[0m\n",
            "\u001b[1;32m~\\anaconda3\\envs\\mll\\lib\\site-packages\\sklearn\\utils\\validation.py\u001b[0m in \u001b[0;36mcheck_array\u001b[1;34m(array, accept_sparse, accept_large_sparse, dtype, order, copy, force_all_finite, ensure_2d, allow_nd, ensure_min_samples, ensure_min_features, estimator)\u001b[0m\n\u001b[0;32m    671\u001b[0m                     \u001b[0marray\u001b[0m \u001b[1;33m=\u001b[0m \u001b[0marray\u001b[0m\u001b[1;33m.\u001b[0m\u001b[0mastype\u001b[0m\u001b[1;33m(\u001b[0m\u001b[0mdtype\u001b[0m\u001b[1;33m,\u001b[0m \u001b[0mcasting\u001b[0m\u001b[1;33m=\u001b[0m\u001b[1;34m\"unsafe\"\u001b[0m\u001b[1;33m,\u001b[0m \u001b[0mcopy\u001b[0m\u001b[1;33m=\u001b[0m\u001b[1;32mFalse\u001b[0m\u001b[1;33m)\u001b[0m\u001b[1;33m\u001b[0m\u001b[1;33m\u001b[0m\u001b[0m\n\u001b[0;32m    672\u001b[0m                 \u001b[1;32melse\u001b[0m\u001b[1;33m:\u001b[0m\u001b[1;33m\u001b[0m\u001b[1;33m\u001b[0m\u001b[0m\n\u001b[1;32m--> 673\u001b[1;33m                     \u001b[0marray\u001b[0m \u001b[1;33m=\u001b[0m \u001b[0mnp\u001b[0m\u001b[1;33m.\u001b[0m\u001b[0masarray\u001b[0m\u001b[1;33m(\u001b[0m\u001b[0marray\u001b[0m\u001b[1;33m,\u001b[0m \u001b[0morder\u001b[0m\u001b[1;33m=\u001b[0m\u001b[0morder\u001b[0m\u001b[1;33m,\u001b[0m \u001b[0mdtype\u001b[0m\u001b[1;33m=\u001b[0m\u001b[0mdtype\u001b[0m\u001b[1;33m)\u001b[0m\u001b[1;33m\u001b[0m\u001b[1;33m\u001b[0m\u001b[0m\n\u001b[0m\u001b[0;32m    674\u001b[0m             \u001b[1;32mexcept\u001b[0m \u001b[0mComplexWarning\u001b[0m \u001b[1;32mas\u001b[0m \u001b[0mcomplex_warning\u001b[0m\u001b[1;33m:\u001b[0m\u001b[1;33m\u001b[0m\u001b[1;33m\u001b[0m\u001b[0m\n\u001b[0;32m    675\u001b[0m                 raise ValueError(\"Complex data not supported\\n\"\n",
            "\u001b[1;32m~\\anaconda3\\envs\\mll\\lib\\site-packages\\numpy\\core\\_asarray.py\u001b[0m in \u001b[0;36masarray\u001b[1;34m(a, dtype, order)\u001b[0m\n\u001b[0;32m     81\u001b[0m \u001b[1;33m\u001b[0m\u001b[0m\n\u001b[0;32m     82\u001b[0m     \"\"\"\n\u001b[1;32m---> 83\u001b[1;33m     \u001b[1;32mreturn\u001b[0m \u001b[0marray\u001b[0m\u001b[1;33m(\u001b[0m\u001b[0ma\u001b[0m\u001b[1;33m,\u001b[0m \u001b[0mdtype\u001b[0m\u001b[1;33m,\u001b[0m \u001b[0mcopy\u001b[0m\u001b[1;33m=\u001b[0m\u001b[1;32mFalse\u001b[0m\u001b[1;33m,\u001b[0m \u001b[0morder\u001b[0m\u001b[1;33m=\u001b[0m\u001b[0morder\u001b[0m\u001b[1;33m)\u001b[0m\u001b[1;33m\u001b[0m\u001b[1;33m\u001b[0m\u001b[0m\n\u001b[0m\u001b[0;32m     84\u001b[0m \u001b[1;33m\u001b[0m\u001b[0m\n\u001b[0;32m     85\u001b[0m \u001b[1;33m\u001b[0m\u001b[0m\n",
            "\u001b[1;32m~\\anaconda3\\envs\\mll\\lib\\site-packages\\torch\\tensor.py\u001b[0m in \u001b[0;36m__array__\u001b[1;34m(self, dtype)\u001b[0m\n\u001b[0;32m    619\u001b[0m             \u001b[1;32mreturn\u001b[0m \u001b[0mhandle_torch_function\u001b[0m\u001b[1;33m(\u001b[0m\u001b[0mTensor\u001b[0m\u001b[1;33m.\u001b[0m\u001b[0m__array__\u001b[0m\u001b[1;33m,\u001b[0m \u001b[1;33m(\u001b[0m\u001b[0mself\u001b[0m\u001b[1;33m,\u001b[0m\u001b[1;33m)\u001b[0m\u001b[1;33m,\u001b[0m \u001b[0mself\u001b[0m\u001b[1;33m,\u001b[0m \u001b[0mdtype\u001b[0m\u001b[1;33m=\u001b[0m\u001b[0mdtype\u001b[0m\u001b[1;33m)\u001b[0m\u001b[1;33m\u001b[0m\u001b[1;33m\u001b[0m\u001b[0m\n\u001b[0;32m    620\u001b[0m         \u001b[1;32mif\u001b[0m \u001b[0mdtype\u001b[0m \u001b[1;32mis\u001b[0m \u001b[1;32mNone\u001b[0m\u001b[1;33m:\u001b[0m\u001b[1;33m\u001b[0m\u001b[1;33m\u001b[0m\u001b[0m\n\u001b[1;32m--> 621\u001b[1;33m             \u001b[1;32mreturn\u001b[0m \u001b[0mself\u001b[0m\u001b[1;33m.\u001b[0m\u001b[0mnumpy\u001b[0m\u001b[1;33m(\u001b[0m\u001b[1;33m)\u001b[0m\u001b[1;33m\u001b[0m\u001b[1;33m\u001b[0m\u001b[0m\n\u001b[0m\u001b[0;32m    622\u001b[0m         \u001b[1;32melse\u001b[0m\u001b[1;33m:\u001b[0m\u001b[1;33m\u001b[0m\u001b[1;33m\u001b[0m\u001b[0m\n\u001b[0;32m    623\u001b[0m             \u001b[1;32mreturn\u001b[0m \u001b[0mself\u001b[0m\u001b[1;33m.\u001b[0m\u001b[0mnumpy\u001b[0m\u001b[1;33m(\u001b[0m\u001b[1;33m)\u001b[0m\u001b[1;33m.\u001b[0m\u001b[0mastype\u001b[0m\u001b[1;33m(\u001b[0m\u001b[0mdtype\u001b[0m\u001b[1;33m,\u001b[0m \u001b[0mcopy\u001b[0m\u001b[1;33m=\u001b[0m\u001b[1;32mFalse\u001b[0m\u001b[1;33m)\u001b[0m\u001b[1;33m\u001b[0m\u001b[1;33m\u001b[0m\u001b[0m\n",
            "\u001b[1;31mTypeError\u001b[0m: can't convert cuda:0 device type tensor to numpy. Use Tensor.cpu() to copy the tensor to host memory first."
          ]
        }
      ],
      "source": [
        "model.eval()\n",
        "\n",
        "test_pre = list((model(test_x).data.reshape(-1))*1000)\n",
        "\n",
        "from sklearn.metrics import mean_squared_error\n",
        "print(\"MSE:\", mean_squared_error(test_y*1000, test_pre))\n",
        "\n",
        "plt.figure(figsize=(10,5))\n",
        "\n",
        "# 真实数据\n",
        "plt.plot(test_y*1000, label=\"real\")\n",
        "\n",
        "\n",
        "# 预测结果\n",
        "plt.plot(test_pre, label=\"pred\")\n",
        "\n",
        "# 模型预测的走势\n",
        "plt.legend(loc='best')\n",
        "\n",
        "\n",
        "\n"
      ]
    },
    {
      "cell_type": "markdown",
      "metadata": {
        "id": "QB7BRhIJ2Uw_"
      },
      "source": [
        "lstm 使用过去seq_len的数据预测明天的数据\n",
        "lstm(x) = y\n",
        "\n",
        "min (y_pre, y_real)\n",
        "\n",
        "\n",
        "\n",
        "假设我们有10个月的数据\n",
        "\n",
        "train_set 训练模型 （7个月）\n",
        "data_sample: x1 = [1,2,3,4,5,6,7]  y1 = [8]\n",
        "             x2 = [2,3,4,5,6,7,8]  y2 = [9]\n",
        "            ...\n",
        "             xn = [..., 209] yn = [210]\n",
        "\n",
        "\n",
        "\n",
        "test_set 测试模型 （3个月）\n",
        "\n",
        "data_sample: x1 = [210, ...]  y1 = [217]\n",
        "             x2 = [211,...]  y2 = [218]\n",
        "             ...\n",
        "             xn = [..., 299] yn = [300]\n",
        "\n",
        "performance: MSE(lstm(test_set(x)), y_real)           \n",
        "\n"
      ]
    },
    {
      "cell_type": "markdown",
      "metadata": {
        "id": "got7v7vP7IQJ"
      },
      "source": [
        "使用预测数据作为输入递归预测未来趋势"
      ]
    },
    {
      "cell_type": "code",
      "execution_count": null,
      "metadata": {
        "colab": {
          "base_uri": "https://localhost:8080/"
        },
        "id": "0WSMF7kdR3UQ",
        "outputId": "9dff73ba-61c0-46e4-fb72-c9c5007e6acf"
      },
      "outputs": [
        {
          "name": "stdout",
          "output_type": "stream",
          "text": [
            "[tensor(116.4070), tensor(122.5730), tensor(120.1320), tensor(81.4250), tensor(68.3630), tensor(87.5720), tensor(104.9200)]\n"
          ]
        }
      ],
      "source": [
        "result = []\n",
        "\n",
        "result.append(test_x[0][0][0])\n",
        "result.append(test_x[0][1][0])\n",
        "result.append(test_x[0][2][0])\n",
        "result.append(test_x[0][3][0])\n",
        "result.append(test_x[0][4][0])\n",
        "result.append(test_x[0][5][0])\n",
        "result.append(test_x[0][6][0])\n",
        "\n",
        "\n",
        "print(result)"
      ]
    },
    {
      "cell_type": "code",
      "execution_count": null,
      "metadata": {
        "colab": {
          "base_uri": "https://localhost:8080/",
          "height": 473
        },
        "id": "E_6HO4Ig4xxi",
        "outputId": "8e4406d3-e845-4116-8170-bec3379f3092"
      },
      "outputs": [
        {
          "name": "stdout",
          "output_type": "stream",
          "text": [
            "37\n",
            "93\n",
            "[tensor(116407.), tensor(122573.), tensor(120132.), tensor(81425.), tensor(68363.), tensor(87572.), tensor(104920.), tensor([[131803.7656]], grad_fn=<MulBackward0>), tensor([[147519.2812]], grad_fn=<MulBackward0>), tensor([[105559.0469]], grad_fn=<MulBackward0>), tensor([[147417.9688]], grad_fn=<MulBackward0>), tensor([[136435.0781]], grad_fn=<MulBackward0>), tensor([[112431.5547]], grad_fn=<MulBackward0>), tensor([[128106.6250]], grad_fn=<MulBackward0>), tensor([[133366.6406]], grad_fn=<MulBackward0>), tensor([[142224.4219]], grad_fn=<MulBackward0>), tensor([[154529.5781]], grad_fn=<MulBackward0>), tensor([[170662.0781]], grad_fn=<MulBackward0>), tensor([[147041.4844]], grad_fn=<MulBackward0>), tensor([[142005.2344]], grad_fn=<MulBackward0>), tensor([[125421.5859]], grad_fn=<MulBackward0>), tensor([[113254.2031]], grad_fn=<MulBackward0>), tensor([[151254.2969]], grad_fn=<MulBackward0>), tensor([[191514.3750]], grad_fn=<MulBackward0>), tensor([[188359.4531]], grad_fn=<MulBackward0>), tensor([[184901.3281]], grad_fn=<MulBackward0>), tensor([[154249.9531]], grad_fn=<MulBackward0>), tensor([[123671.8672]], grad_fn=<MulBackward0>), tensor([[116692.6641]], grad_fn=<MulBackward0>), tensor([[134339.2969]], grad_fn=<MulBackward0>), tensor([[174347.6875]], grad_fn=<MulBackward0>), tensor([[178396.9844]], grad_fn=<MulBackward0>), tensor([[189679.5938]], grad_fn=<MulBackward0>), tensor([[174118.8594]], grad_fn=<MulBackward0>), tensor([[126040.2578]], grad_fn=<MulBackward0>), tensor([[115199.8750]], grad_fn=<MulBackward0>), tensor([[145543.7344]], grad_fn=<MulBackward0>)]\n",
            "MSE: 6582904519.940684\n"
          ]
        },
        {
          "name": "stderr",
          "output_type": "stream",
          "text": [
            "/usr/local/lib/python3.7/dist-packages/sklearn/metrics/_regression.py:96: FutureWarning: Arrays of bytes/strings is being converted to decimal numbers if dtype='numeric'. This behavior is deprecated in 0.24 and will be removed in 1.1 (renaming of 0.26). Please convert your data to numeric values explicitly instead.\n",
            "  y_pred = check_array(y_pred, ensure_2d=False, dtype=dtype)\n"
          ]
        },
        {
          "data": {
            "text/plain": [
              "<matplotlib.legend.Legend at 0x7f88472c1d10>"
            ]
          },
          "execution_count": 34,
          "metadata": {},
          "output_type": "execute_result"
        },
        {
          "data": {
            "image/png": "[encoded data removed]",
            "text/plain": [
              "<Figure size 720x360 with 1 Axes>"
            ]
          },
          "metadata": {
            "needs_background": "light"
          },
          "output_type": "display_data"
        }
      ],
      "source": [
        "# 预测未来10天的数据，\n",
        "for i in range(30):\n",
        "  result.append(model(torch.tensor(result[i:i+7]).reshape(1,7,1)))\n",
        "\n",
        "\n",
        "\n",
        "print(len(result)) \n",
        "print(len(test_y)) \n",
        "\n",
        "result = [i * 1000 for i in result]\n",
        "print(result)\n",
        "\n",
        "print(\"MSE:\", mean_squared_error(test_y[0:30]*1000, result[7:]))\n",
        "\n",
        "\n",
        "plt.figure(figsize=(10,5))\n",
        "\n",
        "# 真实数据\n",
        "plt.plot(test_y*1000, label=\"real\")\n",
        "\n",
        "\n",
        "# 预测结果\n",
        "plt.plot(result[7:], label=\"pred\")\n",
        "\n",
        "# 模型预测的走势\n",
        "plt.legend(loc='best')\n"
      ]
    },
    {
      "cell_type": "markdown",
      "metadata": {
        "id": "u98CWOqq4PYi"
      },
      "source": [
        "lstm 使用过去seq_len的数据预测明天的数据\n",
        "lstm(x) = y\n",
        "\n",
        "min (y_pre, y_real)\n",
        "\n",
        "\n",
        "\n",
        "假设我们有10个月的数据\n",
        "\n",
        "train_set 训练模型 （7个月）\n",
        "data_sample: x1 = [1,2,3,4,5,6,7]  y1 = [8]\n",
        "             x2 = [2,3,4,5,6,7,8]  y2 = [9]\n",
        "            ...\n",
        "             xn = [..., 209] yn = [210]\n",
        "\n",
        "\n",
        "\n",
        "test_set 测试模型 （3个月）\n",
        "\n",
        "data_sample: x1 = [210, ...]  y1 = [217]\n",
        "             x2 = [211,...]  y2 = [218]\n",
        "             ...\n",
        "             xn = [..., 299] yn = [300]\n",
        "\n",
        "performance: MSE(lstm(test_set(x)), y_real)    \n",
        "\n",
        "\n",
        "真实环境下，预测第11个月的数据：\n",
        "model = lstm\n",
        "model([...*6,300]) = y_301\n",
        "model([...*5, 300, y_301]) = y_302\n",
        "       ....\n",
        "\n",
        "\n",
        "预测的越远，效果越差\n",
        "\n",
        "\n",
        "如果数据有固定的模式，则效果不会变的特别差\n",
        "\n",
        "黑天鹅\n",
        "\n",
        "\n",
        "\n",
        "\n"
      ]
    }
  ],
  "metadata": {
    "colab": {
      "collapsed_sections": [],
      "name": "LSTM.ipynb",
      "provenance": []
    },
    "kernelspec": {
      "display_name": "Python 3",
      "name": "python3"
    },
    "language_info": {
      "codemirror_mode": {
        "name": "ipython",
        "version": 3
      },
      "file_extension": ".py",
      "mimetype": "text/x-python",
      "name": "python",
      "nbconvert_exporter": "python",
      "pygments_lexer": "ipython3",
      "version": "3.6.13"
    }
  },
  "nbformat": 4,
  "nbformat_minor": 0
}
