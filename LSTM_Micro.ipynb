{
  "nbformat": 4,
  "nbformat_minor": 0,
  "metadata": {
    "colab": {
      "name": "LSTM.ipynb",
      "provenance": [],
      "collapsed_sections": []
    },
    "kernelspec": {
      "name": "python3",
      "display_name": "Python 3"
    },
    "language_info": {
      "name": "python"
    }
  },
  "cells": [
    {
      "cell_type": "code",
      "metadata": {
        "id": "3MZhqNBCEWRe"
      },
      "source": [
        "import torch\n",
        "from torch import nn\n",
        "import numpy as np\n",
        "import matplotlib.pyplot as plt"
      ],
      "execution_count": null,
      "outputs": []
    },
    {
      "cell_type": "code",
      "metadata": {
        "id": "Fw-vEv4PGs7C"
      },
      "source": [
        "device = torch.device(\"cuda\" if torch.cuda.is_available() else \"cpu\")"
      ],
      "execution_count": null,
      "outputs": []
    },
    {
      "cell_type": "code",
      "source": [
        "from google.colab import drive\n",
        "drive.mount('/content/drive', force_remount=True)"
      ],
      "metadata": {
        "colab": {
          "base_uri": "https://localhost:8080/"
        },
        "id": "GPNYqZKFwovI",
        "outputId": "b973eb15-5d82-4c07-88c8-754081211a23"
      },
      "execution_count": null,
      "outputs": [
        {
          "output_type": "stream",
          "name": "stdout",
          "text": [
            "Mounted at /content/drive\n"
          ]
        }
      ]
    },
    {
      "cell_type": "code",
      "metadata": {
        "id": "r4DTpdU_G1DW"
      },
      "source": [
        "with open(\"/content/drive/MyDrive/covid/data/data_table_for_daily_case_trends__the_united_states.csv\", \"r\", encoding=\"utf-8\") as f:\n",
        "    data = f.read()\n",
        "\n",
        "data = [row.split(',') for row in  data.split(\"\\n\")]\n",
        "\n",
        "# value = [int(each[1]) for each in data]\n",
        "value = [float(each[2]) for each in data[1:]]\n",
        "\n",
        "train  = value[:-100]\n",
        "test = value[-100:]\n",
        "\n",
        "\n",
        "# 设置序列数据的时间跨度，seq=7, 指使用过去七天的数据来预测明天的数据\n",
        "# 注意，这并不是说LSTM每次都只利用到7天的历史数据进行预测，而是7天的显式数据+所有已输入的数据产生的隐式信息（只是隐式信息具有离当前预测距离越远，信息量越弱的特点，详情看下行链接）\n",
        "# https://www.jianshu.com/p/6815da2d413d 关于RNN的长距离依赖问题，看下这个链接，LSTM比RNN在这方面强很多，但问题仍然存在。\n",
        "\n",
        "\n",
        "seq = 7\n",
        "\n",
        "# 训练集构造\n",
        "\n",
        "li_x = []\n",
        "li_y = []\n",
        "\n",
        "for i in range(len(train) - seq):\n",
        "    # 输入就是[x, x+1, x+2, ... , x + (seq-1)]天的数据，输出是 x + seq 天的数据\n",
        "    li_x.append(train[i: i+seq])\n",
        "    li_y.append(train[i+seq])\n",
        "\n",
        "# 对数据进行缩放有利于训练的收敛，但更好的方式是进行归一化处理；在当前应用上，这几种操作对结果不会造成太大影响，可以作为以后的练习。\n",
        "# 关于归一化的作用，可以参考这个帖子：https://www.cnblogs.com/LBSer/p/4440590.html\n",
        "\n",
        "train_x = (torch.tensor(li_x).float() / 1000.).reshape(-1, seq, 1).to(device)\n",
        "train_y = (torch.tensor(li_y).float() / 1000.).reshape(-1, 1).to(device)\n",
        "\n",
        "\n",
        "# 测试集构造\n",
        "\n",
        "t_x = []\n",
        "t_y = []\n",
        "\n",
        "for i in range(len(test) - seq):\n",
        "    t_x.append(test[i: i+seq])\n",
        "    t_y.append(test[i+seq])\n",
        "\n",
        "test_x = (torch.tensor(t_x).float() / 1000.).reshape(-1, seq, 1).to(device)\n",
        "test_y = (torch.tensor(t_y).float() / 1000.).reshape(-1, 1).to(device)"
      ],
      "execution_count": null,
      "outputs": []
    },
    {
      "cell_type": "code",
      "metadata": {
        "id": "yNVQdLNjIClx"
      },
      "source": [
        "class Net(nn.Module):\n",
        "    def __init__(self):\n",
        "        super(Net, self).__init__()\n",
        "        self.lstm = nn.LSTM(input_size=1, hidden_size=32, num_layers=1, batch_first=True)\n",
        "        # 输入格式是1，输出隐藏层大小是32\n",
        "        # 对于小数据集num_layers不要设置大，否则会因为模型变复杂而导致效果会变差\n",
        "        # num_layers顾名思义就是有几个lstm层，假如设置成2，就相当于连续经过两个lstm层\n",
        "        # 原来的输入格式是：(seq, batch, shape)\n",
        "        # 设置batch_first=True以后，输入格式就可以改为：(batch, seq, shape)，更符合平常使用的习惯\n",
        "        self.linear = nn.Linear(32*seq, 1)\n",
        "\n",
        "    def forward(self, x):\n",
        "        x, (h, c) = self.lstm(x)\n",
        "        x = x.reshape(-1, 32*seq)\n",
        "        x = self.linear(x)\n",
        "        return x"
      ],
      "execution_count": null,
      "outputs": []
    },
    {
      "cell_type": "code",
      "metadata": {
        "id": "1yS-uutzIE0b"
      },
      "source": [
        "model = Net().to(device)\n",
        "optimizer = torch.optim.Adam(model.parameters(), lr=0.001)\n",
        "loss_fun = nn.MSELoss()"
      ],
      "execution_count": null,
      "outputs": []
    },
    {
      "cell_type": "code",
      "metadata": {
        "colab": {
          "base_uri": "https://localhost:8080/"
        },
        "id": "HowPsBYmPNie",
        "outputId": "762df048-3858-496f-a765-fd9a3aac83db"
      },
      "source": [
        "model.train()\n",
        "for epoch in range(3000):\n",
        "    output = model(train_x)\n",
        "    loss = loss_fun(output, train_y)\n",
        "    optimizer.zero_grad()\n",
        "    loss.backward()\n",
        "    optimizer.step()\n",
        "    if epoch % 20 == 0 and epoch > 0:\n",
        "        test_loss = loss_fun(model(test_x), test_y)\n",
        "        print(\"epoch:{}, loss:{}, test_loss: {}\".format(epoch, loss, test_loss))\n",
        "        if test_loss < 20000:\n",
        "          # 保存整个网络\n",
        "          torch.save(model, 'demo') \n",
        "          # 保存网络中的参数, 速度快，占空间少\n",
        "          torch.save(model.state_dict(),'demo')\n",
        "          break\n"
      ],
      "execution_count": null,
      "outputs": [
        {
          "output_type": "stream",
          "name": "stdout",
          "text": [
            "epoch:20, loss:40.71611404418945, test_loss: 19563.0234375\n"
          ]
        }
      ]
    },
    {
      "cell_type": "markdown",
      "source": [
        "使用正确数据作为输入进行预测"
      ],
      "metadata": {
        "id": "XiXeKSjE6htL"
      }
    },
    {
      "cell_type": "code",
      "source": [
        "model.eval()\n",
        "\n",
        "# print(len(value))\n",
        "# print(len(train))\n",
        "# print(len(test))\n",
        "\n",
        "test_pre = list((model(test_x).data.reshape(-1))*1000)\n",
        "\n",
        "from sklearn.metrics import mean_squared_error\n",
        "print(\"MSE:\", mean_squared_error(test_y*1000, test_pre))\n",
        "\n",
        "plt.figure(figsize=(10,5))\n",
        "\n",
        "# 真实数据\n",
        "plt.plot(test_y*1000, label=\"real\")\n",
        "\n",
        "\n",
        "# 预测结果\n",
        "plt.plot(test_pre, label=\"pred\")\n",
        "\n",
        "# 模型预测的走势\n",
        "plt.legend(loc='best')\n",
        "\n",
        "\n",
        "\n"
      ],
      "metadata": {
        "colab": {
          "base_uri": "https://localhost:8080/",
          "height": 366
        },
        "id": "jBJOC03yz8OF",
        "outputId": "e639af32-28f0-4b45-c1f4-b9f8ac961e74"
      },
      "execution_count": null,
      "outputs": [
        {
          "output_type": "stream",
          "name": "stdout",
          "text": [
            "MSE: 19535464000.0\n"
          ]
        },
        {
          "output_type": "execute_result",
          "data": {
            "text/plain": [
              "<matplotlib.legend.Legend at 0x7f884c0607d0>"
            ]
          },
          "metadata": {},
          "execution_count": 19
        },
        {
          "output_type": "display_data",
          "data": {
            "image/png": "[encoded data removed]",
            "text/plain": [
              "<Figure size 720x360 with 1 Axes>"
            ]
          },
          "metadata": {
            "needs_background": "light"
          }
        }
      ]
    },
    {
      "cell_type": "markdown",
      "source": [
        "lstm 使用过去seq_len的数据预测明天的数据\n",
        "lstm(x) = y\n",
        "\n",
        "min (y_pre, y_real)\n",
        "\n",
        "\n",
        "\n",
        "假设我们有10个月的数据\n",
        "\n",
        "train_set 训练模型 （7个月）\n",
        "data_sample: x1 = [1,2,3,4,5,6,7]  y1 = [8]\n",
        "             x2 = [2,3,4,5,6,7,8]  y2 = [9]\n",
        "            ...\n",
        "             xn = [..., 209] yn = [210]\n",
        "\n",
        "\n",
        "\n",
        "test_set 测试模型 （3个月）\n",
        "\n",
        "data_sample: x1 = [210, ...]  y1 = [217]\n",
        "             x2 = [211,...]  y2 = [218]\n",
        "             ...\n",
        "             xn = [..., 299] yn = [300]\n",
        "\n",
        "performance: MSE(lstm(test_set(x)), y_real)           \n",
        "\n"
      ],
      "metadata": {
        "id": "QB7BRhIJ2Uw_"
      }
    },
    {
      "cell_type": "markdown",
      "source": [
        "使用预测数据作为输入递归预测未来趋势"
      ],
      "metadata": {
        "id": "got7v7vP7IQJ"
      }
    },
    {
      "cell_type": "code",
      "source": [
        "result = []\n",
        "\n",
        "result.append(test_x[0][0][0])\n",
        "result.append(test_x[0][1][0])\n",
        "result.append(test_x[0][2][0])\n",
        "result.append(test_x[0][3][0])\n",
        "result.append(test_x[0][4][0])\n",
        "result.append(test_x[0][5][0])\n",
        "result.append(test_x[0][6][0])\n",
        "\n",
        "\n",
        "print(result)"
      ],
      "metadata": {
        "colab": {
          "base_uri": "https://localhost:8080/"
        },
        "id": "0WSMF7kdR3UQ",
        "outputId": "9dff73ba-61c0-46e4-fb72-c9c5007e6acf"
      },
      "execution_count": null,
      "outputs": [
        {
          "output_type": "stream",
          "name": "stdout",
          "text": [
            "[tensor(116.4070), tensor(122.5730), tensor(120.1320), tensor(81.4250), tensor(68.3630), tensor(87.5720), tensor(104.9200)]\n"
          ]
        }
      ]
    },
    {
      "cell_type": "code",
      "source": [
        "# 预测未来10天的数据，\n",
        "for i in range(30):\n",
        "  result.append(model(torch.tensor(result[i:i+7]).reshape(1,7,1)))\n",
        "\n",
        "\n",
        "\n",
        "print(len(result)) \n",
        "print(len(test_y)) \n",
        "\n",
        "result = [i * 1000 for i in result]\n",
        "print(result)\n",
        "\n",
        "print(\"MSE:\", mean_squared_error(test_y[0:30]*1000, result[7:]))\n",
        "\n",
        "\n",
        "plt.figure(figsize=(10,5))\n",
        "\n",
        "# 真实数据\n",
        "plt.plot(test_y*1000, label=\"real\")\n",
        "\n",
        "\n",
        "# 预测结果\n",
        "plt.plot(result[7:], label=\"pred\")\n",
        "\n",
        "# 模型预测的走势\n",
        "plt.legend(loc='best')\n"
      ],
      "metadata": {
        "colab": {
          "base_uri": "https://localhost:8080/",
          "height": 473
        },
        "id": "E_6HO4Ig4xxi",
        "outputId": "8e4406d3-e845-4116-8170-bec3379f3092"
      },
      "execution_count": null,
      "outputs": [
        {
          "output_type": "stream",
          "name": "stdout",
          "text": [
            "37\n",
            "93\n",
            "[tensor(116407.), tensor(122573.), tensor(120132.), tensor(81425.), tensor(68363.), tensor(87572.), tensor(104920.), tensor([[131803.7656]], grad_fn=<MulBackward0>), tensor([[147519.2812]], grad_fn=<MulBackward0>), tensor([[105559.0469]], grad_fn=<MulBackward0>), tensor([[147417.9688]], grad_fn=<MulBackward0>), tensor([[136435.0781]], grad_fn=<MulBackward0>), tensor([[112431.5547]], grad_fn=<MulBackward0>), tensor([[128106.6250]], grad_fn=<MulBackward0>), tensor([[133366.6406]], grad_fn=<MulBackward0>), tensor([[142224.4219]], grad_fn=<MulBackward0>), tensor([[154529.5781]], grad_fn=<MulBackward0>), tensor([[170662.0781]], grad_fn=<MulBackward0>), tensor([[147041.4844]], grad_fn=<MulBackward0>), tensor([[142005.2344]], grad_fn=<MulBackward0>), tensor([[125421.5859]], grad_fn=<MulBackward0>), tensor([[113254.2031]], grad_fn=<MulBackward0>), tensor([[151254.2969]], grad_fn=<MulBackward0>), tensor([[191514.3750]], grad_fn=<MulBackward0>), tensor([[188359.4531]], grad_fn=<MulBackward0>), tensor([[184901.3281]], grad_fn=<MulBackward0>), tensor([[154249.9531]], grad_fn=<MulBackward0>), tensor([[123671.8672]], grad_fn=<MulBackward0>), tensor([[116692.6641]], grad_fn=<MulBackward0>), tensor([[134339.2969]], grad_fn=<MulBackward0>), tensor([[174347.6875]], grad_fn=<MulBackward0>), tensor([[178396.9844]], grad_fn=<MulBackward0>), tensor([[189679.5938]], grad_fn=<MulBackward0>), tensor([[174118.8594]], grad_fn=<MulBackward0>), tensor([[126040.2578]], grad_fn=<MulBackward0>), tensor([[115199.8750]], grad_fn=<MulBackward0>), tensor([[145543.7344]], grad_fn=<MulBackward0>)]\n",
            "MSE: 6582904519.940684\n"
          ]
        },
        {
          "output_type": "stream",
          "name": "stderr",
          "text": [
            "/usr/local/lib/python3.7/dist-packages/sklearn/metrics/_regression.py:96: FutureWarning: Arrays of bytes/strings is being converted to decimal numbers if dtype='numeric'. This behavior is deprecated in 0.24 and will be removed in 1.1 (renaming of 0.26). Please convert your data to numeric values explicitly instead.\n",
            "  y_pred = check_array(y_pred, ensure_2d=False, dtype=dtype)\n"
          ]
        },
        {
          "output_type": "execute_result",
          "data": {
            "text/plain": [
              "<matplotlib.legend.Legend at 0x7f88472c1d10>"
            ]
          },
          "metadata": {},
          "execution_count": 34
        },
        {
          "output_type": "display_data",
          "data": {
            "image/png": "[encoded data removed]",
            "text/plain": [
              "<Figure size 720x360 with 1 Axes>"
            ]
          },
          "metadata": {
            "needs_background": "light"
          }
        }
      ]
    },
    {
      "cell_type": "markdown",
      "source": [
        "lstm 使用过去seq_len的数据预测明天的数据\n",
        "lstm(x) = y\n",
        "\n",
        "min (y_pre, y_real)\n",
        "\n",
        "\n",
        "\n",
        "假设我们有10个月的数据\n",
        "\n",
        "train_set 训练模型 （7个月）\n",
        "data_sample: x1 = [1,2,3,4,5,6,7]  y1 = [8]\n",
        "             x2 = [2,3,4,5,6,7,8]  y2 = [9]\n",
        "            ...\n",
        "             xn = [..., 209] yn = [210]\n",
        "\n",
        "\n",
        "\n",
        "test_set 测试模型 （3个月）\n",
        "\n",
        "data_sample: x1 = [210, ...]  y1 = [217]\n",
        "             x2 = [211,...]  y2 = [218]\n",
        "             ...\n",
        "             xn = [..., 299] yn = [300]\n",
        "\n",
        "performance: MSE(lstm(test_set(x)), y_real)    \n",
        "\n",
        "\n",
        "真实环境下，预测第11个月的数据：\n",
        "model = lstm\n",
        "model([...*6,300]) = y_301\n",
        "model([...*5, 300, y_301]) = y_302\n",
        "       ....\n",
        "\n",
        "\n",
        "预测的越远，效果越差\n",
        "\n",
        "\n",
        "如果数据有固定的模式，则效果不会变的特别差\n",
        "\n",
        "黑天鹅\n",
        "\n",
        "\n",
        "\n",
        "\n"
      ],
      "metadata": {
        "id": "u98CWOqq4PYi"
      }
    }
  ]
}