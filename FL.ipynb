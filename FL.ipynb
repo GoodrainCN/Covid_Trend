{
 "cells": [
  {
   "cell_type": "code",
   "execution_count": 1,
   "metadata": {},
   "outputs": [],
   "source": [
    "import torch\n",
    "from torch import nn\n",
    "import numpy as np\n",
    "import matplotlib.pyplot as plt"
   ]
  },
  {
   "cell_type": "code",
   "execution_count": 2,
   "metadata": {},
   "outputs": [],
   "source": [
    "device = torch.device(\"cuda\" if torch.cuda.is_available() else \"cpu\")"
   ]
  },
  {
   "cell_type": "code",
   "execution_count": 3,
   "metadata": {},
   "outputs": [
    {
     "name": "stdout",
     "output_type": "stream",
     "text": [
      "torch.Size([508, 2, 1])\n"
     ]
    }
   ],
   "source": [
    "import csv\n",
    "data = []\n",
    "with open(\"cleaned/FL.csv\", \"r\", encoding=\"utf-8\") as f:\n",
    "    csv_reader = csv.reader(f, delimiter=',')\n",
    "    headers = next(csv_reader)\n",
    "    for i in csv_reader:\n",
    "        data.append(int(i[5]))\n",
    "\n",
    "train  = data[:-200]\n",
    "test = data[-200:]\n",
    "\n",
    "li_x = []\n",
    "li_y = []\n",
    "seq = 2\n",
    "\n",
    "# 因为数据集较少，序列长度太长会影响结果\n",
    "for i in range(len(data[:-200]) - seq):\n",
    "    # 输入就是[x,x+1]天的数据，输出时x+2天的数据\n",
    "    li_x.append(train[i: i+seq])\n",
    "    li_y.append(train[i+seq])\n",
    "\n",
    "t_x = []\n",
    "t_y = []\n",
    "# 因为数据集较少，序列长度太长会影响结果\n",
    "for i in range(len(data[-200:]) - seq):\n",
    "    # 输入就是[x,x+1]天的数据，输出时x+2天的数据*\n",
    "    t_x.append(test[i: i+seq])\n",
    "    t_y.append(test[i+seq])\n",
    "\n",
    "# print(li_x)\n",
    "# print(li_y)\n",
    "\n",
    "# 分训练和测试集\n",
    "train_x = (torch.tensor(li_x).float() / 1000.).reshape(-1, seq, 1).to(device)\n",
    "train_y = (torch.tensor(li_y).float() / 1000.).reshape(-1, 1).to(device)\n",
    "\n",
    "print(train_x.shape)\n",
    "\n",
    "test_x = (torch.tensor(t_x).float() / 1000.).reshape(-1, seq, 1).to(device)\n",
    "test_y = (torch.tensor(t_y).float() / 1000.).reshape(-1, 1).to(device)"
   ]
  },
  {
   "cell_type": "code",
   "execution_count": 4,
   "metadata": {},
   "outputs": [],
   "source": [
    "class Net(nn.Module):\n",
    "    def __init__(self):\n",
    "        super(Net, self).__init__()\n",
    "        self.lstm = nn.LSTM(input_size=1, hidden_size=32, num_layers=1, batch_first=True)\n",
    "        # 输入格式是1，输出隐藏层大小是32\n",
    "        # 对于小数据集num_layers不要设置大，否则会因为模型变复杂而导致效果会变差\n",
    "        # num_layers顾名思义就是有几个lstm层，假如设置成2，就相当于连续经过两个lstm层\n",
    "        # 原来的输入格式是：(seq, batch, shape)\n",
    "        # 设置batch_first=True以后，输入格式就可以改为：(batch, seq, shape)，更符合平常使用的习惯\n",
    "        self.linear = nn.Linear(32*seq, 1)\n",
    "\n",
    "    def forward(self, x):\n",
    "        x, (h, c) = self.lstm(x)\n",
    "        x = x.reshape(-1, 32*seq)\n",
    "        x = self.linear(x)\n",
    "        return x"
   ]
  },
  {
   "cell_type": "code",
   "execution_count": 5,
   "metadata": {},
   "outputs": [],
   "source": [
    "model = Net().to(device)\n",
    "optimizer = torch.optim.Adam(model.parameters(), lr=0.003)\n",
    "loss_fun = nn.MSELoss()"
   ]
  },
  {
   "cell_type": "code",
   "execution_count": 6,
   "metadata": {},
   "outputs": [
    {
     "name": "stdout",
     "output_type": "stream",
     "text": [
      "epoch:20, loss:22.24441146850586, test_loss: 176.68777465820312\n",
      "epoch:40, loss:8.285479545593262, test_loss: 126.45670318603516\n",
      "epoch:60, loss:4.9851603507995605, test_loss: 101.10783386230469\n",
      "epoch:80, loss:3.3394715785980225, test_loss: 91.11688995361328\n",
      "epoch:100, loss:2.6855030059814453, test_loss: 81.61683654785156\n",
      "epoch:120, loss:2.3620142936706543, test_loss: 75.70332336425781\n",
      "epoch:140, loss:2.2103099822998047, test_loss: 72.09796142578125\n",
      "epoch:160, loss:2.1322319507598877, test_loss: 69.68635559082031\n",
      "epoch:180, loss:2.0891895294189453, test_loss: 68.05351257324219\n",
      "epoch:200, loss:2.0618112087249756, test_loss: 66.82780456542969\n",
      "epoch:220, loss:2.042708396911621, test_loss: 65.89654541015625\n",
      "epoch:240, loss:2.028090715408325, test_loss: 65.19954681396484\n",
      "epoch:260, loss:2.016324758529663, test_loss: 64.67524719238281\n",
      "epoch:280, loss:2.006181001663208, test_loss: 64.24516296386719\n",
      "epoch:300, loss:1.9970839023590088, test_loss: 63.868804931640625\n",
      "epoch:320, loss:1.988608717918396, test_loss: 63.52998733520508\n",
      "epoch:340, loss:1.9802615642547607, test_loss: 63.22402572631836\n",
      "epoch:360, loss:1.9721641540527344, test_loss: 62.95188522338867\n",
      "epoch:380, loss:1.9643574953079224, test_loss: 62.686946868896484\n",
      "epoch:400, loss:1.9566478729248047, test_loss: 62.44697952270508\n",
      "epoch:420, loss:1.9491201639175415, test_loss: 62.21419906616211\n",
      "epoch:440, loss:1.9419224262237549, test_loss: 61.99188995361328\n",
      "epoch:460, loss:1.9345930814743042, test_loss: 61.7808837890625\n",
      "epoch:480, loss:1.9270740747451782, test_loss: 61.57572937011719\n",
      "epoch:500, loss:1.9191687107086182, test_loss: 61.37882614135742\n",
      "epoch:520, loss:1.9109272956848145, test_loss: 61.186100006103516\n",
      "epoch:540, loss:1.9026297330856323, test_loss: 61.02875518798828\n",
      "epoch:560, loss:1.8943976163864136, test_loss: 60.88355255126953\n",
      "epoch:580, loss:1.8863805532455444, test_loss: 60.74737548828125\n",
      "epoch:600, loss:1.8785330057144165, test_loss: 60.60676193237305\n",
      "epoch:620, loss:1.8709572553634644, test_loss: 60.482608795166016\n",
      "epoch:640, loss:1.8633744716644287, test_loss: 60.35785675048828\n",
      "epoch:660, loss:1.8559927940368652, test_loss: 60.233802795410156\n",
      "epoch:680, loss:1.848710298538208, test_loss: 60.12343215942383\n",
      "epoch:700, loss:1.8416951894760132, test_loss: 60.022804260253906\n",
      "epoch:720, loss:1.8346117734909058, test_loss: 59.94340896606445\n",
      "epoch:740, loss:1.8276476860046387, test_loss: 59.857601165771484\n",
      "epoch:760, loss:1.8208184242248535, test_loss: 59.80891418457031\n",
      "epoch:780, loss:1.8139960765838623, test_loss: 59.77969741821289\n",
      "epoch:800, loss:1.8074369430541992, test_loss: 59.75404739379883\n",
      "epoch:820, loss:1.8009586334228516, test_loss: 59.750099182128906\n",
      "epoch:840, loss:1.7947771549224854, test_loss: 59.72296142578125\n",
      "epoch:860, loss:1.7887375354766846, test_loss: 59.73556900024414\n",
      "epoch:880, loss:1.7826801538467407, test_loss: 59.76410675048828\n",
      "epoch:900, loss:1.7768102884292603, test_loss: 59.825164794921875\n",
      "epoch:920, loss:1.770813226699829, test_loss: 59.8984260559082\n",
      "epoch:940, loss:1.7649956941604614, test_loss: 60.01459884643555\n",
      "epoch:960, loss:1.7592673301696777, test_loss: 60.153324127197266\n",
      "epoch:980, loss:1.7535170316696167, test_loss: 60.27849197387695\n",
      "epoch:1000, loss:1.7477561235427856, test_loss: 60.417198181152344\n",
      "epoch:1020, loss:1.7421988248825073, test_loss: 60.53034210205078\n",
      "epoch:1040, loss:1.7367725372314453, test_loss: 60.65461349487305\n",
      "epoch:1060, loss:1.7314715385437012, test_loss: 60.77516555786133\n",
      "epoch:1080, loss:1.7261712551116943, test_loss: 60.89963150024414\n",
      "epoch:1100, loss:1.7212297916412354, test_loss: 61.03245162963867\n",
      "epoch:1120, loss:1.7162977457046509, test_loss: 61.17704391479492\n",
      "epoch:1140, loss:1.711357593536377, test_loss: 61.305702209472656\n",
      "epoch:1160, loss:1.7065470218658447, test_loss: 61.429500579833984\n",
      "epoch:1180, loss:1.7018007040023804, test_loss: 61.57398223876953\n",
      "epoch:1200, loss:1.6972129344940186, test_loss: 61.7216796875\n",
      "epoch:1220, loss:1.6924535036087036, test_loss: 61.88995361328125\n",
      "epoch:1240, loss:1.687896966934204, test_loss: 62.05487823486328\n",
      "epoch:1260, loss:1.6832460165023804, test_loss: 62.25498580932617\n",
      "epoch:1280, loss:1.6786201000213623, test_loss: 62.436439514160156\n",
      "epoch:1300, loss:1.6740379333496094, test_loss: 62.61789321899414\n",
      "epoch:1320, loss:1.6693074703216553, test_loss: 62.79747772216797\n",
      "epoch:1340, loss:1.6647652387619019, test_loss: 62.94863510131836\n",
      "epoch:1360, loss:1.6602540016174316, test_loss: 63.11037063598633\n",
      "epoch:1380, loss:1.6556607484817505, test_loss: 63.27463150024414\n",
      "epoch:1400, loss:1.6510920524597168, test_loss: 63.43758010864258\n",
      "epoch:1420, loss:1.6464699506759644, test_loss: 63.605220794677734\n",
      "epoch:1440, loss:1.6415398120880127, test_loss: 63.80949020385742\n",
      "epoch:1460, loss:1.6365145444869995, test_loss: 64.01807403564453\n",
      "epoch:1480, loss:1.631410837173462, test_loss: 64.24881744384766\n",
      "epoch:1500, loss:1.6254428625106812, test_loss: 64.45902252197266\n",
      "epoch:1520, loss:1.6198225021362305, test_loss: 64.69917297363281\n",
      "epoch:1540, loss:1.6146376132965088, test_loss: 64.8971939086914\n",
      "epoch:1560, loss:1.6089662313461304, test_loss: 65.12640380859375\n",
      "epoch:1580, loss:1.6033140420913696, test_loss: 65.3741683959961\n",
      "epoch:1600, loss:1.5970641374588013, test_loss: 65.6385269165039\n",
      "epoch:1620, loss:1.5912292003631592, test_loss: 65.83348083496094\n",
      "epoch:1640, loss:1.5857125520706177, test_loss: 65.97339630126953\n",
      "epoch:1660, loss:1.5802218914031982, test_loss: 66.09191131591797\n",
      "epoch:1680, loss:1.5746122598648071, test_loss: 66.2026596069336\n",
      "epoch:1700, loss:1.5692763328552246, test_loss: 66.31525421142578\n",
      "epoch:1720, loss:1.5637831687927246, test_loss: 66.44988250732422\n",
      "epoch:1740, loss:1.558419942855835, test_loss: 66.5638198852539\n",
      "epoch:1760, loss:1.553418517112732, test_loss: 66.69148254394531\n",
      "epoch:1780, loss:1.5485416650772095, test_loss: 66.81494903564453\n",
      "epoch:1800, loss:1.5432424545288086, test_loss: 66.94567108154297\n",
      "epoch:1820, loss:1.5384348630905151, test_loss: 67.09051513671875\n",
      "epoch:1840, loss:1.5334537029266357, test_loss: 67.25240325927734\n",
      "epoch:1860, loss:1.5288249254226685, test_loss: 67.40386199951172\n",
      "epoch:1880, loss:1.524203896522522, test_loss: 67.58736419677734\n",
      "epoch:1900, loss:1.519917368888855, test_loss: 67.7912826538086\n",
      "epoch:1920, loss:1.5156158208847046, test_loss: 67.94413757324219\n",
      "epoch:1940, loss:1.5112842321395874, test_loss: 68.15357971191406\n",
      "epoch:1960, loss:1.5075526237487793, test_loss: 68.32990264892578\n",
      "epoch:1980, loss:1.5034915208816528, test_loss: 68.48709106445312\n",
      "epoch:2000, loss:1.4996576309204102, test_loss: 68.6523208618164\n",
      "epoch:2020, loss:1.4959946870803833, test_loss: 68.79895782470703\n",
      "epoch:2040, loss:1.4921598434448242, test_loss: 68.97379302978516\n",
      "epoch:2060, loss:1.48821222782135, test_loss: 69.14736938476562\n",
      "epoch:2080, loss:1.484755516052246, test_loss: 69.29904174804688\n",
      "epoch:2100, loss:1.4796745777130127, test_loss: 69.43028259277344\n",
      "epoch:2120, loss:1.4756489992141724, test_loss: 69.6569595336914\n",
      "epoch:2140, loss:1.4719247817993164, test_loss: 69.81336975097656\n",
      "epoch:2160, loss:1.468503475189209, test_loss: 69.94705200195312\n",
      "epoch:2180, loss:1.4650160074234009, test_loss: 70.06483459472656\n",
      "epoch:2200, loss:1.4620682001113892, test_loss: 70.20036315917969\n",
      "epoch:2220, loss:1.4588258266448975, test_loss: 70.3575439453125\n",
      "epoch:2240, loss:1.4554471969604492, test_loss: 70.4610595703125\n",
      "epoch:2260, loss:1.4522278308868408, test_loss: 70.58380889892578\n",
      "epoch:2280, loss:1.4492398500442505, test_loss: 70.74835968017578\n",
      "epoch:2300, loss:1.4461369514465332, test_loss: 70.87391662597656\n",
      "epoch:2320, loss:1.4430705308914185, test_loss: 71.03297424316406\n",
      "epoch:2340, loss:1.4399484395980835, test_loss: 71.16815948486328\n",
      "epoch:2360, loss:1.4369151592254639, test_loss: 71.29492950439453\n",
      "epoch:2380, loss:1.4336358308792114, test_loss: 71.48194122314453\n",
      "epoch:2400, loss:1.4303416013717651, test_loss: 71.60796356201172\n",
      "epoch:2420, loss:1.4269920587539673, test_loss: 71.78119659423828\n",
      "epoch:2440, loss:1.423477292060852, test_loss: 71.92854309082031\n",
      "epoch:2460, loss:1.4198516607284546, test_loss: 72.08526611328125\n",
      "epoch:2480, loss:1.4160891771316528, test_loss: 72.25383758544922\n",
      "epoch:2500, loss:1.4129828214645386, test_loss: 72.4192886352539\n",
      "epoch:2520, loss:1.4089338779449463, test_loss: 72.6465072631836\n",
      "epoch:2540, loss:1.4049444198608398, test_loss: 72.83479309082031\n",
      "epoch:2560, loss:1.4015079736709595, test_loss: 73.02300262451172\n",
      "epoch:2580, loss:1.3977534770965576, test_loss: 73.20973205566406\n",
      "epoch:2600, loss:1.3939495086669922, test_loss: 73.39132690429688\n",
      "epoch:2620, loss:1.3899950981140137, test_loss: 73.56128692626953\n",
      "epoch:2640, loss:1.385963797569275, test_loss: 73.77011108398438\n",
      "epoch:2660, loss:1.381703495979309, test_loss: 73.95243072509766\n",
      "epoch:2680, loss:1.3761645555496216, test_loss: 74.08978271484375\n",
      "epoch:2700, loss:1.3719213008880615, test_loss: 74.23050689697266\n",
      "epoch:2720, loss:1.3677403926849365, test_loss: 74.36651611328125\n",
      "epoch:2740, loss:1.3636600971221924, test_loss: 74.5434799194336\n",
      "epoch:2760, loss:1.3595198392868042, test_loss: 74.69300842285156\n",
      "epoch:2780, loss:1.3553237915039062, test_loss: 74.88880920410156\n",
      "epoch:2800, loss:1.3509392738342285, test_loss: 75.06549072265625\n",
      "epoch:2820, loss:1.3466700315475464, test_loss: 75.19710540771484\n",
      "epoch:2840, loss:1.3418138027191162, test_loss: 75.35773468017578\n",
      "epoch:2860, loss:1.337656021118164, test_loss: 75.53606414794922\n",
      "epoch:2880, loss:1.3330262899398804, test_loss: 75.67721557617188\n",
      "epoch:2900, loss:1.3285579681396484, test_loss: 75.85665893554688\n",
      "epoch:2920, loss:1.3243412971496582, test_loss: 76.08984375\n",
      "epoch:2940, loss:1.3197993040084839, test_loss: 76.20771789550781\n",
      "epoch:2960, loss:1.3155385255813599, test_loss: 76.4212646484375\n",
      "epoch:2980, loss:1.310630440711975, test_loss: 76.58708953857422\n"
     ]
    }
   ],
   "source": [
    "model.train()\n",
    "for epoch in range(3000):\n",
    "    output = model(train_x)\n",
    "    loss = loss_fun(output, train_y)\n",
    "    optimizer.zero_grad()\n",
    "    loss.backward()\n",
    "    optimizer.step()\n",
    "    if epoch % 20 == 0 and epoch > 0:\n",
    "        test_loss = loss_fun(model(test_x), test_y)\n",
    "        print(\"epoch:{}, loss:{}, test_loss: {}\".format(epoch, loss, test_loss))"
   ]
  },
  {
   "cell_type": "code",
   "execution_count": 7,
   "metadata": {},
   "outputs": [
    {
     "data": {
      "image/png": "[encoded data removed]",
      "text/plain": [
       "<Figure size 720x360 with 1 Axes>"
      ]
     },
     "metadata": {
      "needs_background": "light"
     },
     "output_type": "display_data"
    }
   ],
   "source": [
    "model.eval()\n",
    "# result = li_x[0][:seq-1] + list((model(train_x).data.reshape(-1))*1000) + list((model(test_x).data.reshape(-1))*1000)\n",
    "result = [0] + list((model(train_x).data.reshape(-1))*00) + list((model(test_x).data.reshape(-1))*1000)\n",
    "\n",
    "#展示结果\n",
    "plt.figure(figsize=(10,5))\n",
    "\n",
    "plt.plot(data,label=\"real\")\n",
    "# 原来的走势\n",
    "\n",
    "plt.plot(train,label=\"train\")\n",
    "\n",
    "plt.plot(result,label=\"pred\")\n",
    "plt.xticks(\n",
    "    [0,100,200,300,400,500,600,700],\n",
    "    ['2020/1','2020/5', '2020/8', '2020/12', '2021/2', '20211/6', '2021/9', '2021/12']\n",
    ")\n",
    "# 模型预测的走势\n",
    "plt.legend(loc='best')\n",
    "plt.title('FL_Epoch1200_Tr600')\n",
    "# plt.savefig('plot/FL_Epoch1200_Tr600.jpg')\n",
    "plt.show()"
   ]
  },
  {
   "cell_type": "code",
   "execution_count": 8,
   "metadata": {},
   "outputs": [
    {
     "data": {
      "text/plain": [
       "[<matplotlib.lines.Line2D at 0x1daa54d1240>]"
      ]
     },
     "execution_count": 8,
     "metadata": {},
     "output_type": "execute_result"
    },
    {
     "data": {
      "image/png": "[encoded data removed]",
      "text/plain": [
       "<Figure size 432x288 with 1 Axes>"
      ]
     },
     "metadata": {
      "needs_background": "light"
     },
     "output_type": "display_data"
    }
   ],
   "source": [
    "plt.plot(result)"
   ]
  },
  {
   "cell_type": "code",
   "execution_count": 9,
   "metadata": {},
   "outputs": [],
   "source": [
    "# prediction = result[400:700]\n",
    "# real = data[400:700]\n",
    "\n",
    "# from sklearn.metrics import mean_squared_error\n",
    "# MSE = mean_squared_error(real, prediction)\n",
    "# RMSE = MSE ** 0.5\n",
    "# print(\"MSE:\", MSE)\n",
    "# print(\"RMSE\", RMSE)"
   ]
  },
  {
   "cell_type": "code",
   "execution_count": 16,
   "metadata": {},
   "outputs": [
    {
     "name": "stdout",
     "output_type": "stream",
     "text": [
      "                  MSE         RMSE\n",
      "200:300  4.513040e+06  2124.391751\n",
      "300:400  9.345359e+06  3057.017989\n",
      "400:500  2.125294e+06  1457.838872\n",
      "500:600  3.761253e+07  6132.905443\n",
      "600:700  2.556825e+06  1599.007396\n"
     ]
    },
    {
     "data": {
      "text/plain": [
       "[<matplotlib.lines.Line2D at 0x1db5ade6a58>]"
      ]
     },
     "execution_count": 16,
     "metadata": {},
     "output_type": "execute_result"
    },
    {
     "data": {
      "image/png": "[encoded data removed]",
      "text/plain": [
       "<Figure size 432x288 with 1 Axes>"
      ]
     },
     "metadata": {
      "needs_background": "light"
     },
     "output_type": "display_data"
    }
   ],
   "source": [
    "#Tr Size: 200 days\n",
    "import pandas as pd\n",
    "info = ['200:300', '300:400', '400:500', '500:600', '600:700']\n",
    "MSE_list = [4513040.31369507, 9345358.983941305, 2125294.17701694, 37612529.172058195, 2556824.651083408]\n",
    "RMSE_list = [2124.3917514655977, 3057.0179888154576, 1457.8388721038207, 6132.905442941233, 1599.0073955687035]\n",
    "\n",
    "DF = pd.DataFrame({'MSE': MSE_list, 'RMSE': RMSE_list}, index=info)\n",
    "print(DF)\n",
    "plt.plot(DF.MSE)"
   ]
  },
  {
   "cell_type": "code",
   "execution_count": 11,
   "metadata": {},
   "outputs": [],
   "source": [
    "#Tr Size: 300 days\n",
    "info = ['300:400', '400:500', '500:600', '600:700']\n",
    "MSE_list = [15859510.681514425, 3086902.190155774, 42523704.73638685, 3529988.249845526]\n",
    "RMSE_list = [3982.4001156983745, 1756.958220947719, 6521.02022205014, 1878.8262958148969]"
   ]
  },
  {
   "cell_type": "code",
   "execution_count": 12,
   "metadata": {},
   "outputs": [],
   "source": [
    "#Tr Size: 400 days\n",
    "info = ['400:500', '500:600', '600:700']\n",
    "MSE_list = [4338729.452249858, 38993566.927481525, 3568011.513790344]\n",
    "RMSE_list = [2082.9617020602795, 6244.4829191440285, 1888.9180802222058]"
   ]
  },
  {
   "cell_type": "code",
   "execution_count": 13,
   "metadata": {},
   "outputs": [],
   "source": [
    "#Tr Size: 500 days\n",
    "info = ['500:600', '600:700']\n",
    "MSE_list = [29760939.82130769, 2635325.4543793853]\n",
    "RMSE_list = [5455.358816916417, 1623.3685516170951]"
   ]
  },
  {
   "cell_type": "code",
   "execution_count": 14,
   "metadata": {},
   "outputs": [
    {
     "name": "stdout",
     "output_type": "stream",
     "text": [
      "[33206926.149028026, 2840312.6148895323]\n",
      "[5762.5451103681635, 1685.322703487238]\n"
     ]
    },
    {
     "name": "stderr",
     "output_type": "stream",
     "text": [
      "C:\\Users\\goodr\\anaconda3\\envs\\mll\\lib\\site-packages\\sklearn\\utils\\validation.py:63: FutureWarning: Arrays of bytes/strings is being converted to decimal numbers if dtype='numeric'. This behavior is deprecated in 0.24 and will be removed in 1.1 (renaming of 0.26). Please convert your data to numeric values explicitly instead.\n",
      "  return f(*args, **kwargs)\n",
      "C:\\Users\\goodr\\anaconda3\\envs\\mll\\lib\\site-packages\\sklearn\\utils\\validation.py:63: FutureWarning: Arrays of bytes/strings is being converted to decimal numbers if dtype='numeric'. This behavior is deprecated in 0.24 and will be removed in 1.1 (renaming of 0.26). Please convert your data to numeric values explicitly instead.\n",
      "  return f(*args, **kwargs)\n"
     ]
    }
   ],
   "source": [
    "from sklearn.metrics import mean_squared_error\n",
    "temp_MSE = []\n",
    "temp_RMSE = []\n",
    "for i in range(500,700,100):\n",
    "    MSE = mean_squared_error(result[i:i+100], data[i:i+100])\n",
    "    temp_MSE.append(MSE)\n",
    "    RMSE = MSE ** 0.5\n",
    "    temp_RMSE.append(RMSE)\n",
    "print(temp_MSE)\n",
    "print(temp_RMSE)"
   ]
  }
 ],
 "metadata": {
  "interpreter": {
   "hash": "ab83b35c86ff785ae76634efee8034bb953555fdec57846c4fd4b687de13dd65"
  },
  "kernelspec": {
   "display_name": "Python 3.6.13 64-bit ('mll': conda)",
   "language": "python",
   "name": "python3"
  },
  "language_info": {
   "codemirror_mode": {
    "name": "ipython",
    "version": 3
   },
   "file_extension": ".py",
   "mimetype": "text/x-python",
   "name": "python",
   "nbconvert_exporter": "python",
   "pygments_lexer": "ipython3",
   "version": "3.6.13"
  },
  "orig_nbformat": 4
 },
 "nbformat": 4,
 "nbformat_minor": 2
}
