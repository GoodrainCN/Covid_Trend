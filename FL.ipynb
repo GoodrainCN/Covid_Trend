{
 "cells": [
  {
   "cell_type": "code",
   "execution_count": 93,
   "metadata": {
    "collapsed": false,
    "pycharm": {
     "name": "#%%\n"
    }
   },
   "outputs": [],
   "source": [
    "import torch\n",
    "from torch import nn\n",
    "import numpy as np\n",
    "import matplotlib.pyplot as plt"
   ]
  },
  {
   "cell_type": "code",
   "execution_count": 94,
   "metadata": {
    "collapsed": false,
    "pycharm": {
     "name": "#%%\n"
    }
   },
   "outputs": [],
   "source": [
    "device = torch.device(\"cuda\" if torch.cuda.is_available() else \"cpu\")"
   ]
  },
  {
   "cell_type": "code",
   "execution_count": 95,
   "metadata": {},
   "outputs": [
    {
     "name": "stdout",
     "output_type": "stream",
     "text": [
      "torch.Size([439, 2, 1])\n"
     ]
    }
   ],
   "source": [
    "import csv\n",
    "data = []\n",
    "with open(\"cleaned/FL.csv\", \"r\", encoding=\"utf-8\") as f:\n",
    "    csv_reader = csv.reader(f, delimiter=',')\n",
    "    headers = next(csv_reader)\n",
    "    for i in csv_reader:\n",
    "        data.append(int(i[5]))\n",
    "\n",
    "train  = data[:-300]\n",
    "test = data[-300:]\n",
    "\n",
    "li_x = []\n",
    "li_y = []\n",
    "seq = 2\n",
    "\n",
    "# 因为数据集较少，序列长度太长会影响结果\n",
    "for i in range(len(data[:-300]) - seq):\n",
    "    # 输入就是[x,x+1]天的数据，输出时x+2天的数据\n",
    "    li_x.append(train[i: i+seq])\n",
    "    li_y.append(train[i+seq])\n",
    "\n",
    "t_x = []\n",
    "t_y = []\n",
    "# 因为数据集较少，序列长度太长会影响结果\n",
    "for i in range(len(data[-300:]) - seq):\n",
    "    # 输入就是[x,x+1]天的数据，输出时x+2天的数据*\n",
    "    t_x.append(test[i: i+seq])\n",
    "    t_y.append(test[i+seq])\n",
    "\n",
    "# print(li_x)\n",
    "# print(li_y)\n",
    "\n",
    "# 分训练和测试集\n",
    "train_x = (torch.tensor(li_x).float() / 1000.).reshape(-1, seq, 1).to(device)\n",
    "train_y = (torch.tensor(li_y).float() / 1000.).reshape(-1, 1).to(device)\n",
    "\n",
    "print(train_x.shape)\n",
    "\n",
    "test_x = (torch.tensor(t_x).float() / 1000.).reshape(-1, seq, 1).to(device)\n",
    "test_y = (torch.tensor(t_y).float() / 1000.).reshape(-1, 1).to(device)"
   ]
  },
  {
   "cell_type": "code",
   "execution_count": 96,
   "metadata": {},
   "outputs": [],
   "source": [
    "class Net(nn.Module):\n",
    "    def __init__(self):\n",
    "        super(Net, self).__init__()\n",
    "        self.lstm = nn.LSTM(input_size=1, hidden_size=32, num_layers=1, batch_first=True)\n",
    "        # 输入格式是1，输出隐藏层大小是32\n",
    "        # 对于小数据集num_layers不要设置大，否则会因为模型变复杂而导致效果会变差\n",
    "        # num_layers顾名思义就是有几个lstm层，假如设置成2，就相当于连续经过两个lstm层\n",
    "        # 原来的输入格式是：(seq, batch, shape)\n",
    "        # 设置batch_first=True以后，输入格式就可以改为：(batch, seq, shape)，更符合平常使用的习惯\n",
    "        self.linear = nn.Linear(32*seq, 1)\n",
    "\n",
    "    def forward(self, x):\n",
    "        x, (h, c) = self.lstm(x)\n",
    "        x = x.reshape(-1, 32*seq)\n",
    "        x = self.linear(x)\n",
    "        return x"
   ]
  },
  {
   "cell_type": "code",
   "execution_count": 97,
   "metadata": {},
   "outputs": [],
   "source": [
    "model = Net().to(device)\n",
    "optimizer = torch.optim.Adam(model.parameters(), lr=0.003)\n",
    "loss_fun = nn.MSELoss()"
   ]
  },
  {
   "cell_type": "code",
   "execution_count": 98,
   "metadata": {},
   "outputs": [
    {
     "name": "stdout",
     "output_type": "stream",
     "text": [
      "epoch:20, loss:27.57987403869629, test_loss: 340.1107177734375\n",
      "epoch:40, loss:11.157052040100098, test_loss: 265.564697265625\n",
      "epoch:60, loss:5.687188625335693, test_loss: 221.28536987304688\n",
      "epoch:80, loss:3.5998470783233643, test_loss: 205.09854125976562\n",
      "epoch:100, loss:2.8063549995422363, test_loss: 189.37835693359375\n",
      "epoch:120, loss:2.423401355743408, test_loss: 178.39703369140625\n",
      "epoch:140, loss:2.2559752464294434, test_loss: 170.98284912109375\n",
      "epoch:160, loss:2.1899285316467285, test_loss: 166.77490234375\n",
      "epoch:180, loss:2.153637647628784, test_loss: 164.2412109375\n",
      "epoch:200, loss:2.1289470195770264, test_loss: 162.18869018554688\n",
      "epoch:220, loss:2.1104085445404053, test_loss: 160.56570434570312\n",
      "epoch:240, loss:2.095187187194824, test_loss: 159.6190185546875\n",
      "epoch:260, loss:2.081601619720459, test_loss: 159.0542449951172\n",
      "epoch:280, loss:2.0690016746520996, test_loss: 158.4761199951172\n",
      "epoch:300, loss:2.0571982860565186, test_loss: 157.90496826171875\n",
      "epoch:320, loss:2.045926570892334, test_loss: 157.36911010742188\n",
      "epoch:340, loss:2.035053253173828, test_loss: 156.84527587890625\n",
      "epoch:360, loss:2.0244557857513428, test_loss: 156.30502319335938\n",
      "epoch:380, loss:2.0131051540374756, test_loss: 155.72679138183594\n",
      "epoch:400, loss:2.000929117202759, test_loss: 155.1466522216797\n",
      "epoch:420, loss:1.9886517524719238, test_loss: 154.6749725341797\n",
      "epoch:440, loss:1.9773386716842651, test_loss: 154.34066772460938\n",
      "epoch:460, loss:1.9667730331420898, test_loss: 154.09481811523438\n",
      "epoch:480, loss:1.9566611051559448, test_loss: 153.8449249267578\n",
      "epoch:500, loss:1.9469506740570068, test_loss: 153.62954711914062\n",
      "epoch:520, loss:1.937760591506958, test_loss: 153.43592834472656\n",
      "epoch:540, loss:1.9289720058441162, test_loss: 153.28411865234375\n",
      "epoch:560, loss:1.9205926656723022, test_loss: 153.17935180664062\n",
      "epoch:580, loss:1.9129260778427124, test_loss: 153.10609436035156\n",
      "epoch:600, loss:1.905376672744751, test_loss: 153.0743408203125\n",
      "epoch:620, loss:1.8982915878295898, test_loss: 153.0454864501953\n",
      "epoch:640, loss:1.8917250633239746, test_loss: 153.0435791015625\n",
      "epoch:660, loss:1.885474443435669, test_loss: 153.08822631835938\n",
      "epoch:680, loss:1.8795512914657593, test_loss: 153.13522338867188\n",
      "epoch:700, loss:1.8737448453903198, test_loss: 153.24105834960938\n",
      "epoch:720, loss:1.8682572841644287, test_loss: 153.38909912109375\n",
      "epoch:740, loss:1.8626606464385986, test_loss: 153.5745391845703\n",
      "epoch:760, loss:1.8574320077896118, test_loss: 153.8336639404297\n",
      "epoch:780, loss:1.8524147272109985, test_loss: 154.14813232421875\n",
      "epoch:800, loss:1.8472970724105835, test_loss: 154.4907989501953\n",
      "epoch:820, loss:1.842410683631897, test_loss: 154.8461456298828\n",
      "epoch:840, loss:1.8375825881958008, test_loss: 155.1387939453125\n",
      "epoch:860, loss:1.8329064846038818, test_loss: 155.35377502441406\n",
      "epoch:880, loss:1.82838773727417, test_loss: 155.61537170410156\n",
      "epoch:900, loss:1.824152946472168, test_loss: 155.87533569335938\n",
      "epoch:920, loss:1.8202972412109375, test_loss: 156.17747497558594\n",
      "epoch:940, loss:1.8161613941192627, test_loss: 156.49452209472656\n",
      "epoch:960, loss:1.8123170137405396, test_loss: 156.802978515625\n",
      "epoch:980, loss:1.8087167739868164, test_loss: 157.1448516845703\n",
      "epoch:1000, loss:1.8049886226654053, test_loss: 157.4591064453125\n",
      "epoch:1020, loss:1.801546573638916, test_loss: 157.77609252929688\n",
      "epoch:1040, loss:1.797964096069336, test_loss: 158.1400146484375\n",
      "epoch:1060, loss:1.794432282447815, test_loss: 158.49264526367188\n",
      "epoch:1080, loss:1.791069746017456, test_loss: 158.85989379882812\n",
      "epoch:1100, loss:1.7874144315719604, test_loss: 159.2392578125\n",
      "epoch:1120, loss:1.7840940952301025, test_loss: 159.63002014160156\n",
      "epoch:1140, loss:1.7804851531982422, test_loss: 160.04354858398438\n",
      "epoch:1160, loss:1.776969313621521, test_loss: 160.4755859375\n",
      "epoch:1180, loss:1.7731330394744873, test_loss: 160.94517517089844\n",
      "epoch:1200, loss:1.7696361541748047, test_loss: 161.41488647460938\n",
      "epoch:1220, loss:1.7657299041748047, test_loss: 161.91261291503906\n",
      "epoch:1240, loss:1.7622660398483276, test_loss: 162.45643615722656\n",
      "epoch:1260, loss:1.7582844495773315, test_loss: 163.01065063476562\n",
      "epoch:1280, loss:1.7545158863067627, test_loss: 163.5927276611328\n",
      "epoch:1300, loss:1.7505396604537964, test_loss: 164.14825439453125\n",
      "epoch:1320, loss:1.746306300163269, test_loss: 164.72802734375\n",
      "epoch:1340, loss:1.7423416376113892, test_loss: 165.3216552734375\n",
      "epoch:1360, loss:1.7383061647415161, test_loss: 165.8801727294922\n",
      "epoch:1380, loss:1.7338653802871704, test_loss: 166.42218017578125\n",
      "epoch:1400, loss:1.7298743724822998, test_loss: 166.9854736328125\n",
      "epoch:1420, loss:1.7258143424987793, test_loss: 167.56617736816406\n",
      "epoch:1440, loss:1.7215105295181274, test_loss: 168.1314697265625\n",
      "epoch:1460, loss:1.7173097133636475, test_loss: 168.7525177001953\n",
      "epoch:1480, loss:1.7130868434906006, test_loss: 169.3628692626953\n"
     ]
    }
   ],
   "source": [
    "model.train()\n",
    "list_l = []\n",
    "list_tl = []\n",
    "for epoch in range(1500):\n",
    "    output = model(train_x)\n",
    "    loss = loss_fun(output, train_y)\n",
    "    optimizer.zero_grad()\n",
    "    loss.backward()\n",
    "    optimizer.step()\n",
    "    list_l.append(loss)\n",
    "    if epoch % 20 == 0 and epoch > 0:\n",
    "        test_loss = loss_fun(model(test_x), test_y)\n",
    "        list_tl.append(test_loss)\n",
    "        print(\"epoch:{}, loss:{}, test_loss: {}\".format(epoch, loss, test_loss))"
   ]
  },
  {
   "cell_type": "code",
   "execution_count": 99,
   "metadata": {},
   "outputs": [
    {
     "data": {
      "image/png": "[encoded data removed]",
      "text/plain": [
       "<Figure size 432x288 with 1 Axes>"
      ]
     },
     "metadata": {
      "needs_background": "light"
     },
     "output_type": "display_data"
    }
   ],
   "source": [
    "num_list = []\n",
    "for i in range(len(list_l)):\n",
    "    num_list.append(list_l[i].item())\n",
    "x = np.array([i for i in range(len(list_l))])\n",
    "#print(num_list)\n",
    "plt.plot(x, num_list, color='r')\n",
    "#plt.plot(x, num_list_, color='k')\n",
    "plt.title('FL_Loss_Tr500')\n",
    "plt.xlabel('Epochs')\n",
    "plt.ylabel('Loss')\n",
    "plt.savefig('plot/FL_Loss_Tr500.jpg')\n",
    "plt.show()"
   ]
  },
  {
   "cell_type": "code",
   "execution_count": 100,
   "metadata": {},
   "outputs": [
    {
     "data": {
      "image/png": "[encoded data removed]",
      "text/plain": [
       "<Figure size 432x288 with 1 Axes>"
      ]
     },
     "metadata": {
      "needs_background": "light"
     },
     "output_type": "display_data"
    }
   ],
   "source": [
    "num_list_ = []\n",
    "for i in range(len(list_tl)):\n",
    "    num_list_.append(list_tl[i].item())\n",
    "x = np.array([i for i in range(len(num_list_))])\n",
    "#plt.plot(x, num_list, color='r')\n",
    "plt.plot(x, num_list_, color='k')\n",
    "plt.title('FL_Test_Loss_Tr500')\n",
    "plt.xlabel('Epochs')\n",
    "plt.ylabel('Test_Loss')\n",
    "plt.savefig('plot/FL_Test_Loss_Tr500.jpg')\n",
    "plt.show()"
   ]
  },
  {
   "cell_type": "code",
   "execution_count": 101,
   "metadata": {},
   "outputs": [
    {
     "data": {
      "image/png": "[encoded data removed]",
      "text/plain": [
       "<Figure size 720x360 with 1 Axes>"
      ]
     },
     "metadata": {
      "needs_background": "light"
     },
     "output_type": "display_data"
    }
   ],
   "source": [
    "model.eval()\n",
    "# result = li_x[0][:seq-1] + list((model(train_x).data.reshape(-1))*1000) + list((model(test_x).data.reshape(-1))*1000)\n",
    "result = [0] + list((model(train_x).data.reshape(-1))*00) + list((model(test_x).data.reshape(-1))*1000)\n",
    "\n",
    "#展示结果\n",
    "plt.figure(figsize=(10,5))\n",
    "\n",
    "plt.plot(data,label=\"real\")\n",
    "# 原来的走势\n",
    "\n",
    "plt.plot(train,label=\"train\")\n",
    "\n",
    "plt.plot(result,label=\"pred\")\n",
    "plt.xticks(\n",
    "    [0,100,200,300,400,500,600,700],\n",
    "    ['2020/1','2020/5', '2020/8', '2020/12', '2021/2', '2021/6', '2021/9', '2021/12']\n",
    ")\n",
    "# 模型预测的走势\n",
    "plt.legend(loc='best')\n",
    "plt.title('FL_Epoch3000_Tr500')\n",
    "plt.savefig('plot/FL_Epoch1500_Tr500.jpg')\n",
    "plt.show()"
   ]
  },
  {
   "cell_type": "code",
   "execution_count": 102,
   "metadata": {},
   "outputs": [
    {
     "data": {
      "text/plain": [
       "[<matplotlib.lines.Line2D at 0x240586c5c18>]"
      ]
     },
     "execution_count": 102,
     "metadata": {},
     "output_type": "execute_result"
    },
    {
     "data": {
      "image/png": "[encoded data removed]",
      "text/plain": [
       "<Figure size 432x288 with 1 Axes>"
      ]
     },
     "metadata": {
      "needs_background": "light"
     },
     "output_type": "display_data"
    }
   ],
   "source": [
    "plt.plot(result)"
   ]
  },
  {
   "cell_type": "code",
   "execution_count": 103,
   "metadata": {},
   "outputs": [],
   "source": [
    "# prediction = result[200:700]\n",
    "# real = data[200:700]\n",
    "\n",
    "# from sklearn.metrics import mean_squared_error\n",
    "# MSE = mean_squared_error(real, prediction)\n",
    "# RMSE = MSE ** 0.5\n",
    "# print(\"MSE:\", MSE)\n",
    "# print(\"RMSE\", RMSE)"
   ]
  },
  {
   "cell_type": "code",
   "execution_count": 104,
   "metadata": {},
   "outputs": [
    {
     "name": "stdout",
     "output_type": "stream",
     "text": [
      "                  MSE         RMSE\n",
      "200:300  4.513040e+06  2124.391751\n",
      "300:400  9.345359e+06  3057.017989\n",
      "400:500  2.125294e+06  1457.838872\n",
      "500:600  3.761253e+07  6132.905443\n",
      "600:700  2.556825e+06  1599.007396\n"
     ]
    },
    {
     "data": {
      "text/plain": [
       "[<matplotlib.lines.Line2D at 0x240580eb7f0>]"
      ]
     },
     "execution_count": 104,
     "metadata": {},
     "output_type": "execute_result"
    },
    {
     "data": {
      "image/png": "[encoded data removed]",
      "text/plain": [
       "<Figure size 432x288 with 1 Axes>"
      ]
     },
     "metadata": {
      "needs_background": "light"
     },
     "output_type": "display_data"
    }
   ],
   "source": [
    "#Tr Size: 200 days\n",
    "import pandas as pd\n",
    "info = ['200:300', '300:400', '400:500', '500:600', '600:700']\n",
    "MSE_list = [4513040.31369507, 9345358.983941305, 2125294.17701694, 37612529.172058195, 2556824.651083408]\n",
    "RMSE_list = [2124.3917514655977, 3057.0179888154576, 1457.8388721038207, 6132.905442941233, 1599.0073955687035]\n",
    "\n",
    "DF = pd.DataFrame({'MSE': MSE_list, 'RMSE': RMSE_list}, index=info)\n",
    "print(DF)\n",
    "plt.plot(DF.MSE)"
   ]
  },
  {
   "cell_type": "code",
   "execution_count": 105,
   "metadata": {},
   "outputs": [
    {
     "data": {
      "text/html": [
       "<div>\n",
       "<style scoped>\n",
       "    .dataframe tbody tr th:only-of-type {\n",
       "        vertical-align: middle;\n",
       "    }\n",
       "\n",
       "    .dataframe tbody tr th {\n",
       "        vertical-align: top;\n",
       "    }\n",
       "\n",
       "    .dataframe thead th {\n",
       "        text-align: right;\n",
       "    }\n",
       "</style>\n",
       "<table border=\"1\" class=\"dataframe\">\n",
       "  <thead>\n",
       "    <tr style=\"text-align: right;\">\n",
       "      <th></th>\n",
       "      <th>MSE</th>\n",
       "      <th>RMSE</th>\n",
       "    </tr>\n",
       "  </thead>\n",
       "  <tbody>\n",
       "    <tr>\n",
       "      <th>200:300</th>\n",
       "      <td>4.513040e+06</td>\n",
       "      <td>2124.391751</td>\n",
       "    </tr>\n",
       "    <tr>\n",
       "      <th>300:400</th>\n",
       "      <td>9.345359e+06</td>\n",
       "      <td>3057.017989</td>\n",
       "    </tr>\n",
       "    <tr>\n",
       "      <th>400:500</th>\n",
       "      <td>2.125294e+06</td>\n",
       "      <td>1457.838872</td>\n",
       "    </tr>\n",
       "    <tr>\n",
       "      <th>500:600</th>\n",
       "      <td>3.761253e+07</td>\n",
       "      <td>6132.905443</td>\n",
       "    </tr>\n",
       "    <tr>\n",
       "      <th>600:700</th>\n",
       "      <td>2.556825e+06</td>\n",
       "      <td>1599.007396</td>\n",
       "    </tr>\n",
       "  </tbody>\n",
       "</table>\n",
       "</div>"
      ],
      "text/plain": [
       "                  MSE         RMSE\n",
       "200:300  4.513040e+06  2124.391751\n",
       "300:400  9.345359e+06  3057.017989\n",
       "400:500  2.125294e+06  1457.838872\n",
       "500:600  3.761253e+07  6132.905443\n",
       "600:700  2.556825e+06  1599.007396"
      ]
     },
     "execution_count": 105,
     "metadata": {},
     "output_type": "execute_result"
    }
   ],
   "source": [
    "DF"
   ]
  },
  {
   "cell_type": "code",
   "execution_count": 106,
   "metadata": {},
   "outputs": [],
   "source": [
    "#Tr Size: 300 days\n",
    "info = ['300:400', '400:500', '500:600', '600:700']\n",
    "MSE_list = [15859510.681514425, 3086902.190155774, 42523704.73638685, 3529988.249845526]\n",
    "RMSE_list = [3982.4001156983745, 1756.958220947719, 6521.02022205014, 1878.8262958148969]"
   ]
  },
  {
   "cell_type": "code",
   "execution_count": 107,
   "metadata": {},
   "outputs": [],
   "source": [
    "#Tr Size: 400 days\n",
    "info = ['400:500', '500:600', '600:700']\n",
    "MSE_list = [4338729.452249858, 38993566.927481525, 3568011.513790344]\n",
    "RMSE_list = [2082.9617020602795, 6244.4829191440285, 1888.9180802222058]"
   ]
  },
  {
   "cell_type": "code",
   "execution_count": 108,
   "metadata": {},
   "outputs": [],
   "source": [
    "#Tr Size: 500 days\n",
    "info = ['500:600', '600:700']\n",
    "MSE_list = [29760939.82130769, 2635325.4543793853]\n",
    "RMSE_list = [5455.358816916417, 1623.3685516170951]"
   ]
  },
  {
   "cell_type": "code",
   "execution_count": 109,
   "metadata": {
    "pycharm": {
     "name": "#%%\n"
    }
   },
   "outputs": [
    {
     "name": "stdout",
     "output_type": "stream",
     "text": [
      "[23743336.971571494, 2205166.16770505] 12974251.569638273\n",
      "[4872.713512158445, 1484.9801910143617] 3178.8468515864033\n"
     ]
    },
    {
     "name": "stderr",
     "output_type": "stream",
     "text": [
      "C:\\Users\\goodr\\anaconda3\\envs\\mll\\lib\\site-packages\\sklearn\\utils\\validation.py:63: FutureWarning: Arrays of bytes/strings is being converted to decimal numbers if dtype='numeric'. This behavior is deprecated in 0.24 and will be removed in 1.1 (renaming of 0.26). Please convert your data to numeric values explicitly instead.\n",
      "  return f(*args, **kwargs)\n",
      "C:\\Users\\goodr\\anaconda3\\envs\\mll\\lib\\site-packages\\sklearn\\utils\\validation.py:63: FutureWarning: Arrays of bytes/strings is being converted to decimal numbers if dtype='numeric'. This behavior is deprecated in 0.24 and will be removed in 1.1 (renaming of 0.26). Please convert your data to numeric values explicitly instead.\n",
      "  return f(*args, **kwargs)\n"
     ]
    }
   ],
   "source": [
    "from sklearn.metrics import mean_squared_error\n",
    "temp_MSE = []\n",
    "temp_RMSE = []\n",
    "for i in range(500,700,100):\n",
    "    MSE = mean_squared_error(result[i:i+100], data[i:i+100])\n",
    "    temp_MSE.append(MSE)\n",
    "    RMSE = MSE ** 0.5\n",
    "    temp_RMSE.append(RMSE)\n",
    "print(temp_MSE, sum(temp_MSE)/ 2)\n",
    "print(temp_RMSE, sum(temp_RMSE) / 2)"
   ]
  },
  {
   "cell_type": "code",
   "execution_count": 110,
   "metadata": {},
   "outputs": [],
   "source": [
    "# 21191940.777873702\n",
    "# 3977.849371091183"
   ]
  },
  {
   "cell_type": "code",
   "execution_count": 111,
   "metadata": {},
   "outputs": [],
   "source": [
    "# 12974251.569638273\n",
    "# 3178.8468515864033"
   ]
  }
 ],
 "metadata": {
  "interpreter": {
   "hash": "fd480433b0168f0b96e5ec847e914a92fdec64b0a6a89ef8313bf2e63f32d212"
  },
  "kernelspec": {
   "display_name": "Python 3.9.7 64-bit ('pyc': conda)",
   "language": "python",
   "name": "python3"
  },
  "language_info": {
   "codemirror_mode": {
    "name": "ipython",
    "version": 3
   },
   "file_extension": ".py",
   "mimetype": "text/x-python",
   "name": "python",
   "nbconvert_exporter": "python",
   "pygments_lexer": "ipython3",
   "version": "3.6.13"
  },
  "orig_nbformat": 4
 },
 "nbformat": 4,
 "nbformat_minor": 2
}
