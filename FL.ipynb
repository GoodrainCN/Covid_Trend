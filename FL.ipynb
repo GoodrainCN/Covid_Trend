{
 "cells": [
  {
   "cell_type": "code",
   "execution_count": 127,
   "metadata": {},
   "outputs": [],
   "source": [
    "import torch\n",
    "from torch import nn\n",
    "import numpy as np\n",
    "import matplotlib.pyplot as plt"
   ]
  },
  {
   "cell_type": "code",
   "execution_count": 128,
   "metadata": {},
   "outputs": [],
   "source": [
    "device = torch.device(\"cuda\" if torch.cuda.is_available() else \"cpu\")"
   ]
  },
  {
   "cell_type": "code",
   "execution_count": 129,
   "metadata": {},
   "outputs": [
    {
     "name": "stdout",
     "output_type": "stream",
     "text": [
      "torch.Size([608, 2, 1])\n"
     ]
    }
   ],
   "source": [
    "import csv\n",
    "data = []\n",
    "with open(\"cleaned\\FL.csv\", \"r\", encoding=\"utf-8\") as f:\n",
    "    csv_reader = csv.reader(f, delimiter=',')\n",
    "    headers = next(csv_reader)\n",
    "    for i in csv_reader:\n",
    "        data.append(int(i[5]))\n",
    "\n",
    "train  = data[:-100]\n",
    "test = data[-100:]\n",
    "\n",
    "li_x = []\n",
    "li_y = []\n",
    "seq = 2\n",
    "\n",
    "# 因为数据集较少，序列长度太长会影响结果\n",
    "for i in range(len(data[:-100]) - seq):\n",
    "    # 输入就是[x,x+1]天的数据，输出时x+2天的数据\n",
    "    li_x.append(train[i: i+seq])\n",
    "    li_y.append(train[i+seq])\n",
    "\n",
    "t_x = []\n",
    "t_y = []\n",
    "# 因为数据集较少，序列长度太长会影响结果\n",
    "for i in range(len(data[-100:]) - seq):\n",
    "    # 输入就是[x,x+1]天的数据，输出时x+2天的数据*\n",
    "    t_x.append(test[i: i+seq])\n",
    "    t_y.append(test[i+seq])\n",
    "\n",
    "# print(li_x)\n",
    "# print(li_y)\n",
    "\n",
    "# 分训练和测试集\n",
    "train_x = (torch.tensor(li_x).float() / 1000.).reshape(-1, seq, 1).to(device)\n",
    "train_y = (torch.tensor(li_y).float() / 1000.).reshape(-1, 1).to(device)\n",
    "\n",
    "print(train_x.shape)\n",
    "\n",
    "test_x = (torch.tensor(t_x).float() / 1000.).reshape(-1, seq, 1).to(device)\n",
    "test_y = (torch.tensor(t_y).float() / 1000.).reshape(-1, 1).to(device)"
   ]
  },
  {
   "cell_type": "code",
   "execution_count": 130,
   "metadata": {},
   "outputs": [],
   "source": [
    "class Net(nn.Module):\n",
    "    def __init__(self):\n",
    "        super(Net, self).__init__()\n",
    "        self.lstm = nn.LSTM(input_size=1, hidden_size=32, num_layers=1, batch_first=True)\n",
    "        # 输入格式是1，输出隐藏层大小是32\n",
    "        # 对于小数据集num_layers不要设置大，否则会因为模型变复杂而导致效果会变差\n",
    "        # num_layers顾名思义就是有几个lstm层，假如设置成2，就相当于连续经过两个lstm层\n",
    "        # 原来的输入格式是：(seq, batch, shape)\n",
    "        # 设置batch_first=True以后，输入格式就可以改为：(batch, seq, shape)，更符合平常使用的习惯\n",
    "        self.linear = nn.Linear(32*seq, 1)\n",
    "\n",
    "    def forward(self, x):\n",
    "        x, (h, c) = self.lstm(x)\n",
    "        x = x.reshape(-1, 32*seq)\n",
    "        x = self.linear(x)\n",
    "        return x"
   ]
  },
  {
   "cell_type": "code",
   "execution_count": 131,
   "metadata": {},
   "outputs": [],
   "source": [
    "model = Net().to(device)\n",
    "optimizer = torch.optim.Adam(model.parameters(), lr=0.003)\n",
    "loss_fun = nn.MSELoss()"
   ]
  },
  {
   "cell_type": "code",
   "execution_count": 132,
   "metadata": {},
   "outputs": [
    {
     "name": "stdout",
     "output_type": "stream",
     "text": [
      "epoch:20, loss:44.57014465332031, test_loss: 194.3883056640625\n",
      "epoch:40, loss:21.371816635131836, test_loss: 158.5489044189453\n",
      "epoch:60, loss:12.606412887573242, test_loss: 135.37387084960938\n",
      "epoch:80, loss:8.45682430267334, test_loss: 121.32959747314453\n",
      "epoch:100, loss:6.304590702056885, test_loss: 110.76428985595703\n",
      "epoch:120, loss:5.080453872680664, test_loss: 102.88682556152344\n",
      "epoch:140, loss:4.361942768096924, test_loss: 96.80007934570312\n",
      "epoch:160, loss:3.953747510910034, test_loss: 92.21468353271484\n",
      "epoch:180, loss:3.7205159664154053, test_loss: 88.79205322265625\n",
      "epoch:200, loss:3.5696218013763428, test_loss: 86.1697006225586\n",
      "epoch:220, loss:3.4637651443481445, test_loss: 84.0632095336914\n",
      "epoch:240, loss:3.385319709777832, test_loss: 82.30471801757812\n",
      "epoch:260, loss:3.3247499465942383, test_loss: 80.79373168945312\n",
      "epoch:280, loss:3.2780601978302, test_loss: 79.47904205322266\n",
      "epoch:300, loss:3.242889165878296, test_loss: 78.33902740478516\n",
      "epoch:320, loss:3.2158632278442383, test_loss: 77.35084533691406\n",
      "epoch:340, loss:3.1937239170074463, test_loss: 76.47361755371094\n",
      "epoch:360, loss:3.17451548576355, test_loss: 75.68868255615234\n",
      "epoch:380, loss:3.157142162322998, test_loss: 74.98432922363281\n",
      "epoch:400, loss:3.141690731048584, test_loss: 74.35624694824219\n",
      "epoch:420, loss:3.1279795169830322, test_loss: 73.78450012207031\n",
      "epoch:440, loss:3.1157054901123047, test_loss: 73.2818374633789\n",
      "epoch:460, loss:3.104398727416992, test_loss: 72.82872772216797\n",
      "epoch:480, loss:3.093881368637085, test_loss: 72.43264770507812\n",
      "epoch:500, loss:3.0840353965759277, test_loss: 72.07197570800781\n",
      "epoch:520, loss:3.0746572017669678, test_loss: 71.74591064453125\n",
      "epoch:540, loss:3.065645456314087, test_loss: 71.45378875732422\n",
      "epoch:560, loss:3.056901216506958, test_loss: 71.18524932861328\n",
      "epoch:580, loss:3.0482099056243896, test_loss: 70.93985748291016\n",
      "epoch:600, loss:3.039344310760498, test_loss: 70.71192169189453\n",
      "epoch:620, loss:3.030334949493408, test_loss: 70.49249267578125\n",
      "epoch:640, loss:3.0214908123016357, test_loss: 70.28363800048828\n",
      "epoch:660, loss:3.01283860206604, test_loss: 70.07637023925781\n",
      "epoch:680, loss:3.004016399383545, test_loss: 69.89239501953125\n",
      "epoch:700, loss:2.9954066276550293, test_loss: 69.71820831298828\n",
      "epoch:720, loss:2.986660957336426, test_loss: 69.55451202392578\n",
      "epoch:740, loss:2.976778030395508, test_loss: 69.4243392944336\n",
      "epoch:760, loss:2.9673469066619873, test_loss: 69.37602233886719\n",
      "epoch:780, loss:2.959116220474243, test_loss: 69.2002944946289\n",
      "epoch:800, loss:2.9509832859039307, test_loss: 69.02552795410156\n",
      "epoch:820, loss:2.943598508834839, test_loss: 68.86618041992188\n",
      "epoch:840, loss:2.936903715133667, test_loss: 68.68412017822266\n",
      "epoch:860, loss:2.930680990219116, test_loss: 68.51238250732422\n",
      "epoch:880, loss:2.9244680404663086, test_loss: 68.37344360351562\n",
      "epoch:900, loss:2.9185431003570557, test_loss: 68.24763488769531\n",
      "epoch:920, loss:2.912858724594116, test_loss: 68.13783264160156\n",
      "epoch:940, loss:2.9073774814605713, test_loss: 68.03929901123047\n",
      "epoch:960, loss:2.9020447731018066, test_loss: 67.95657348632812\n",
      "epoch:980, loss:2.8967015743255615, test_loss: 67.88098907470703\n",
      "epoch:1000, loss:2.8916289806365967, test_loss: 67.8121337890625\n",
      "epoch:1020, loss:2.8866703510284424, test_loss: 67.74425506591797\n",
      "epoch:1040, loss:2.8817436695098877, test_loss: 67.68004608154297\n",
      "epoch:1060, loss:2.876758098602295, test_loss: 67.614501953125\n",
      "epoch:1080, loss:2.8721625804901123, test_loss: 67.54935455322266\n",
      "epoch:1100, loss:2.8673462867736816, test_loss: 67.48310089111328\n",
      "epoch:1120, loss:2.8627381324768066, test_loss: 67.41702270507812\n",
      "epoch:1140, loss:2.8582003116607666, test_loss: 67.35155487060547\n",
      "epoch:1160, loss:2.8536887168884277, test_loss: 67.29210662841797\n",
      "epoch:1180, loss:2.849234104156494, test_loss: 67.23458099365234\n"
     ]
    }
   ],
   "source": [
    "model.train()\n",
    "for epoch in range(1200):\n",
    "    output = model(train_x)\n",
    "    loss = loss_fun(output, train_y)\n",
    "    optimizer.zero_grad()\n",
    "    loss.backward()\n",
    "    optimizer.step()\n",
    "    if epoch % 20 == 0 and epoch > 0:\n",
    "        test_loss = loss_fun(model(test_x), test_y)\n",
    "        print(\"epoch:{}, loss:{}, test_loss: {}\".format(epoch, loss, test_loss))"
   ]
  },
  {
   "cell_type": "code",
   "execution_count": 133,
   "metadata": {},
   "outputs": [
    {
     "data": {
      "image/png": "[encoded data removed]",
      "text/plain": [
       "<Figure size 432x288 with 1 Axes>"
      ]
     },
     "metadata": {
      "needs_background": "light"
     },
     "output_type": "display_data"
    }
   ],
   "source": [
    "model.eval()\n",
    "# result = li_x[0][:seq-1] + list((model(train_x).data.reshape(-1))*1000) + list((model(test_x).data.reshape(-1))*1000)\n",
    "result = [0] + list((model(train_x).data.reshape(-1))*00) + list((model(test_x).data.reshape(-1))*1000)\n",
    "\n",
    "#展示结果\n",
    "plt.plot(data,label=\"real\")\n",
    "# 原来的走势\n",
    "\n",
    "plt.plot(train,label=\"train\")\n",
    "\n",
    "plt.plot(result,label=\"pred\")\n",
    "plt.xticks(\n",
    "    [0,100,200,300,400,500,600,700],\n",
    "    ['2020/1','2020/5', '2020/8', '2020/12', '2021/2', '20211/6', '2021/9', '2021/12']\n",
    ")\n",
    "# 模型预测的走势\n",
    "plt.legend(loc='best')\n",
    "plt.title('FL_Epoch1200_Tr600')\n",
    "plt.savefig('plot/FL_Epoch1200_Tr600.jpg')\n",
    "plt.show()\n"
   ]
  },
  {
   "cell_type": "code",
   "execution_count": 134,
   "metadata": {},
   "outputs": [
    {
     "data": {
      "text/plain": [
       "[<matplotlib.lines.Line2D at 0x20c70d89b38>]"
      ]
     },
     "execution_count": 134,
     "metadata": {},
     "output_type": "execute_result"
    },
    {
     "data": {
      "image/png": "[encoded data removed]",
      "text/plain": [
       "<Figure size 432x288 with 1 Axes>"
      ]
     },
     "metadata": {
      "needs_background": "light"
     },
     "output_type": "display_data"
    }
   ],
   "source": [
    "plt.plot(result)"
   ]
  }
 ],
 "metadata": {
  "interpreter": {
   "hash": "ab83b35c86ff785ae76634efee8034bb953555fdec57846c4fd4b687de13dd65"
  },
  "kernelspec": {
   "display_name": "Python 3.6.13 64-bit ('mll': conda)",
   "language": "python",
   "name": "python3"
  },
  "language_info": {
   "codemirror_mode": {
    "name": "ipython",
    "version": 3
   },
   "file_extension": ".py",
   "mimetype": "text/x-python",
   "name": "python",
   "nbconvert_exporter": "python",
   "pygments_lexer": "ipython3",
   "version": "3.6.13"
  },
  "orig_nbformat": 4
 },
 "nbformat": 4,
 "nbformat_minor": 2
}
