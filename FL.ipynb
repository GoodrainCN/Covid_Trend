{
 "cells": [
  {
   "cell_type": "code",
   "execution_count": 2,
   "metadata": {},
   "outputs": [],
   "source": [
    "import torch\n",
    "from torch import nn\n",
    "import numpy as np\n",
    "import matplotlib.pyplot as plt"
   ]
  },
  {
   "cell_type": "code",
   "execution_count": 3,
   "metadata": {},
   "outputs": [],
   "source": [
    "device = torch.device(\"cuda\" if torch.cuda.is_available() else \"cpu\")"
   ]
  },
  {
   "cell_type": "code",
   "execution_count": 4,
   "metadata": {},
   "outputs": [
    {
     "name": "stdout",
     "output_type": "stream",
     "text": [
      "torch.Size([439, 2, 1])\n"
     ]
    }
   ],
   "source": [
    "import csv\n",
    "data = []\n",
    "with open(\"cleaned/FL.csv\", \"r\", encoding=\"utf-8\") as f:\n",
    "    csv_reader = csv.reader(f, delimiter=',')\n",
    "    headers = next(csv_reader)\n",
    "    for i in csv_reader:\n",
    "        data.append(int(i[5]))\n",
    "\n",
    "train  = data[:-300]\n",
    "test = data[-300:]\n",
    "\n",
    "li_x = []\n",
    "li_y = []\n",
    "seq = 2\n",
    "\n",
    "# 因为数据集较少，序列长度太长会影响结果\n",
    "for i in range(len(data[:-300]) - seq):\n",
    "    # 输入就是[x,x+1]天的数据，输出时x+2天的数据\n",
    "    li_x.append(train[i: i+seq])\n",
    "    li_y.append(train[i+seq])\n",
    "\n",
    "t_x = []\n",
    "t_y = []\n",
    "# 因为数据集较少，序列长度太长会影响结果\n",
    "for i in range(len(data[-300:]) - seq):\n",
    "    # 输入就是[x,x+1]天的数据，输出时x+2天的数据*\n",
    "    t_x.append(test[i: i+seq])\n",
    "    t_y.append(test[i+seq])\n",
    "\n",
    "# print(li_x)\n",
    "# print(li_y)\n",
    "\n",
    "# 分训练和测试集\n",
    "train_x = (torch.tensor(li_x).float() / 1000.).reshape(-1, seq, 1).to(device)\n",
    "train_y = (torch.tensor(li_y).float() / 1000.).reshape(-1, 1).to(device)\n",
    "\n",
    "print(train_x.shape)\n",
    "\n",
    "test_x = (torch.tensor(t_x).float() / 1000.).reshape(-1, seq, 1).to(device)\n",
    "test_y = (torch.tensor(t_y).float() / 1000.).reshape(-1, 1).to(device)"
   ]
  },
  {
   "cell_type": "code",
   "execution_count": 5,
   "metadata": {},
   "outputs": [],
   "source": [
    "class Net(nn.Module):\n",
    "    def __init__(self):\n",
    "        super(Net, self).__init__()\n",
    "        self.lstm = nn.LSTM(input_size=1, hidden_size=32, num_layers=1, batch_first=True)\n",
    "        # 输入格式是1，输出隐藏层大小是32\n",
    "        # 对于小数据集num_layers不要设置大，否则会因为模型变复杂而导致效果会变差\n",
    "        # num_layers顾名思义就是有几个lstm层，假如设置成2，就相当于连续经过两个lstm层\n",
    "        # 原来的输入格式是：(seq, batch, shape)\n",
    "        # 设置batch_first=True以后，输入格式就可以改为：(batch, seq, shape)，更符合平常使用的习惯\n",
    "        self.linear = nn.Linear(32*seq, 1)\n",
    "\n",
    "    def forward(self, x):\n",
    "        x, (h, c) = self.lstm(x)\n",
    "        x = x.reshape(-1, 32*seq)\n",
    "        x = self.linear(x)\n",
    "        return x"
   ]
  },
  {
   "cell_type": "code",
   "execution_count": 6,
   "metadata": {},
   "outputs": [],
   "source": [
    "model = Net().to(device)\n",
    "optimizer = torch.optim.Adam(model.parameters(), lr=0.003)\n",
    "loss_fun = nn.MSELoss()"
   ]
  },
  {
   "cell_type": "code",
   "execution_count": 7,
   "metadata": {},
   "outputs": [
    {
     "name": "stdout",
     "output_type": "stream",
     "text": [
      "epoch:20, loss:27.24819564819336, test_loss: 330.5658874511719\n",
      "epoch:40, loss:11.607481002807617, test_loss: 269.5300598144531\n",
      "epoch:60, loss:5.643003940582275, test_loss: 223.1072540283203\n",
      "epoch:80, loss:3.691063165664673, test_loss: 204.99209594726562\n",
      "epoch:100, loss:2.9300692081451416, test_loss: 192.343505859375\n",
      "epoch:120, loss:2.5241482257843018, test_loss: 183.3928985595703\n",
      "epoch:140, loss:2.327524423599243, test_loss: 176.856201171875\n",
      "epoch:160, loss:2.248695135116577, test_loss: 172.2076873779297\n",
      "epoch:180, loss:2.209228515625, test_loss: 168.99447631835938\n",
      "epoch:200, loss:2.182936668395996, test_loss: 166.6190948486328\n",
      "epoch:220, loss:2.16255521774292, test_loss: 164.70941162109375\n",
      "epoch:240, loss:2.1448161602020264, test_loss: 163.0875244140625\n",
      "epoch:260, loss:2.1283926963806152, test_loss: 161.65020751953125\n",
      "epoch:280, loss:2.112856149673462, test_loss: 160.3340606689453\n",
      "epoch:300, loss:2.0981545448303223, test_loss: 159.11695861816406\n",
      "epoch:320, loss:2.083888053894043, test_loss: 157.9810791015625\n",
      "epoch:340, loss:2.069486618041992, test_loss: 156.93104553222656\n",
      "epoch:360, loss:2.055060386657715, test_loss: 155.96910095214844\n",
      "epoch:380, loss:2.0416696071624756, test_loss: 155.03611755371094\n",
      "epoch:400, loss:2.0298783779144287, test_loss: 154.1520538330078\n",
      "epoch:420, loss:2.0196480751037598, test_loss: 153.3145751953125\n",
      "epoch:440, loss:2.0106279850006104, test_loss: 152.51425170898438\n",
      "epoch:460, loss:2.002103805541992, test_loss: 151.77508544921875\n",
      "epoch:480, loss:1.9941545724868774, test_loss: 151.0835723876953\n",
      "epoch:500, loss:1.9862022399902344, test_loss: 150.42474365234375\n",
      "epoch:520, loss:1.9784016609191895, test_loss: 149.77964782714844\n",
      "epoch:540, loss:1.9709800481796265, test_loss: 149.16217041015625\n",
      "epoch:560, loss:1.963626503944397, test_loss: 148.57293701171875\n",
      "epoch:580, loss:1.95639967918396, test_loss: 148.01263427734375\n",
      "epoch:600, loss:1.94941246509552, test_loss: 147.49037170410156\n",
      "epoch:620, loss:1.942657470703125, test_loss: 147.02157592773438\n",
      "epoch:640, loss:1.9360201358795166, test_loss: 146.60626220703125\n",
      "epoch:660, loss:1.9298659563064575, test_loss: 146.23129272460938\n",
      "epoch:680, loss:1.9241459369659424, test_loss: 145.93069458007812\n",
      "epoch:700, loss:1.918744683265686, test_loss: 145.69940185546875\n",
      "epoch:720, loss:1.9134116172790527, test_loss: 145.50918579101562\n",
      "epoch:740, loss:1.9085988998413086, test_loss: 145.3936309814453\n",
      "epoch:760, loss:1.9036431312561035, test_loss: 145.28073120117188\n",
      "epoch:780, loss:1.898936152458191, test_loss: 145.2032928466797\n",
      "epoch:800, loss:1.8943536281585693, test_loss: 145.12515258789062\n",
      "epoch:820, loss:1.8898241519927979, test_loss: 145.0494384765625\n",
      "epoch:840, loss:1.8855246305465698, test_loss: 144.99383544921875\n",
      "epoch:860, loss:1.881348729133606, test_loss: 144.94488525390625\n",
      "epoch:880, loss:1.8774217367172241, test_loss: 144.90821838378906\n",
      "epoch:900, loss:1.8735347986221313, test_loss: 144.8856964111328\n",
      "epoch:920, loss:1.8696799278259277, test_loss: 144.87216186523438\n",
      "epoch:940, loss:1.866015911102295, test_loss: 144.86602783203125\n",
      "epoch:960, loss:1.8623628616333008, test_loss: 144.8717041015625\n",
      "epoch:980, loss:1.8588947057724, test_loss: 144.90452575683594\n",
      "epoch:1000, loss:1.8554309606552124, test_loss: 144.96363830566406\n",
      "epoch:1020, loss:1.8518648147583008, test_loss: 145.02915954589844\n",
      "epoch:1040, loss:1.8482850790023804, test_loss: 145.13601684570312\n",
      "epoch:1060, loss:1.8445312976837158, test_loss: 145.2744140625\n",
      "epoch:1080, loss:1.8408576250076294, test_loss: 145.387939453125\n",
      "epoch:1100, loss:1.836946964263916, test_loss: 145.49900817871094\n",
      "epoch:1120, loss:1.8332762718200684, test_loss: 145.59141540527344\n",
      "epoch:1140, loss:1.8294007778167725, test_loss: 145.69871520996094\n",
      "epoch:1160, loss:1.8254613876342773, test_loss: 145.80494689941406\n",
      "epoch:1180, loss:1.8215107917785645, test_loss: 145.93028259277344\n",
      "epoch:1200, loss:1.8177335262298584, test_loss: 146.08375549316406\n",
      "epoch:1220, loss:1.8137545585632324, test_loss: 146.2395477294922\n",
      "epoch:1240, loss:1.8097764253616333, test_loss: 146.4480438232422\n",
      "epoch:1260, loss:1.80570387840271, test_loss: 146.67626953125\n",
      "epoch:1280, loss:1.801784634590149, test_loss: 146.9514923095703\n",
      "epoch:1300, loss:1.7972397804260254, test_loss: 147.2769317626953\n",
      "epoch:1320, loss:1.7928954362869263, test_loss: 147.5865020751953\n",
      "epoch:1340, loss:1.7882553339004517, test_loss: 147.90570068359375\n",
      "epoch:1360, loss:1.783613920211792, test_loss: 148.23057556152344\n",
      "epoch:1380, loss:1.77889084815979, test_loss: 148.635009765625\n",
      "epoch:1400, loss:1.7740763425827026, test_loss: 149.14247131347656\n",
      "epoch:1420, loss:1.7688626050949097, test_loss: 149.75015258789062\n",
      "epoch:1440, loss:1.7634865045547485, test_loss: 150.46627807617188\n",
      "epoch:1460, loss:1.7579747438430786, test_loss: 151.33131408691406\n",
      "epoch:1480, loss:1.7524964809417725, test_loss: 152.2903289794922\n"
     ]
    }
   ],
   "source": [
    "model.train()\n",
    "for epoch in range(1500):\n",
    "    output = model(train_x)\n",
    "    loss = loss_fun(output, train_y)\n",
    "    optimizer.zero_grad()\n",
    "    loss.backward()\n",
    "    optimizer.step()\n",
    "    if epoch % 20 == 0 and epoch > 0:\n",
    "        test_loss = loss_fun(model(test_x), test_y)\n",
    "        print(\"epoch:{}, loss:{}, test_loss: {}\".format(epoch, loss, test_loss))"
   ]
  },
  {
   "cell_type": "code",
   "execution_count": 8,
   "metadata": {},
   "outputs": [
    {
     "data": {
      "image/png": "[encoded data removed]",
      "text/plain": [
       "<Figure size 720x360 with 1 Axes>"
      ]
     },
     "metadata": {
      "needs_background": "light"
     },
     "output_type": "display_data"
    }
   ],
   "source": [
    "model.eval()\n",
    "# result = li_x[0][:seq-1] + list((model(train_x).data.reshape(-1))*1000) + list((model(test_x).data.reshape(-1))*1000)\n",
    "result = [0] + list((model(train_x).data.reshape(-1))*00) + list((model(test_x).data.reshape(-1))*1000)\n",
    "\n",
    "#展示结果\n",
    "plt.figure(figsize=(10,5))\n",
    "\n",
    "plt.plot(data,label=\"real\")\n",
    "# 原来的走势\n",
    "\n",
    "plt.plot(train,label=\"train\")\n",
    "\n",
    "plt.plot(result,label=\"pred\")\n",
    "plt.xticks(\n",
    "    [0,100,200,300,400,500,600,700],\n",
    "    ['2020/1','2020/5', '2020/8', '2020/12', '2021/2', '20211/6', '2021/9', '2021/12']\n",
    ")\n",
    "# 模型预测的走势\n",
    "plt.legend(loc='best')\n",
    "plt.title('FL_Epoch1200_Tr600')\n",
    "# plt.savefig('plot/FL_Epoch1200_Tr600.jpg')\n",
    "plt.show()"
   ]
  },
  {
   "cell_type": "code",
   "execution_count": 9,
   "metadata": {},
   "outputs": [
    {
     "data": {
      "text/plain": [
       "[<matplotlib.lines.Line2D at 0x13504117898>]"
      ]
     },
     "execution_count": 9,
     "metadata": {},
     "output_type": "execute_result"
    },
    {
     "data": {
      "image/png": "[encoded data removed]",
      "text/plain": [
       "<Figure size 432x288 with 1 Axes>"
      ]
     },
     "metadata": {
      "needs_background": "light"
     },
     "output_type": "display_data"
    }
   ],
   "source": [
    "plt.plot(result)"
   ]
  },
  {
   "cell_type": "code",
   "execution_count": 10,
   "metadata": {},
   "outputs": [],
   "source": [
    "# prediction = result[200:700]\n",
    "# real = data[200:700]\n",
    "\n",
    "# from sklearn.metrics import mean_squared_error\n",
    "# MSE = mean_squared_error(real, prediction)\n",
    "# RMSE = MSE ** 0.5\n",
    "# print(\"MSE:\", MSE)\n",
    "# print(\"RMSE\", RMSE)"
   ]
  },
  {
   "cell_type": "code",
   "execution_count": 11,
   "metadata": {},
   "outputs": [
    {
     "name": "stdout",
     "output_type": "stream",
     "text": [
      "                  MSE         RMSE\n",
      "200:300  4.513040e+06  2124.391751\n",
      "300:400  9.345359e+06  3057.017989\n",
      "400:500  2.125294e+06  1457.838872\n",
      "500:600  3.761253e+07  6132.905443\n",
      "600:700  2.556825e+06  1599.007396\n"
     ]
    },
    {
     "data": {
      "text/plain": [
       "[<matplotlib.lines.Line2D at 0x1353ea1d748>]"
      ]
     },
     "execution_count": 11,
     "metadata": {},
     "output_type": "execute_result"
    },
    {
     "data": {
      "image/png": "[encoded data removed]",
      "text/plain": [
       "<Figure size 432x288 with 1 Axes>"
      ]
     },
     "metadata": {
      "needs_background": "light"
     },
     "output_type": "display_data"
    }
   ],
   "source": [
    "#Tr Size: 200 days\n",
    "import pandas as pd\n",
    "info = ['200:300', '300:400', '400:500', '500:600', '600:700']\n",
    "MSE_list = [4513040.31369507, 9345358.983941305, 2125294.17701694, 37612529.172058195, 2556824.651083408]\n",
    "RMSE_list = [2124.3917514655977, 3057.0179888154576, 1457.8388721038207, 6132.905442941233, 1599.0073955687035]\n",
    "\n",
    "DF = pd.DataFrame({'MSE': MSE_list, 'RMSE': RMSE_list}, index=info)\n",
    "print(DF)\n",
    "plt.plot(DF.MSE)"
   ]
  },
  {
   "cell_type": "code",
   "execution_count": 12,
   "metadata": {},
   "outputs": [
    {
     "data": {
      "text/html": [
       "<div>\n",
       "<style scoped>\n",
       "    .dataframe tbody tr th:only-of-type {\n",
       "        vertical-align: middle;\n",
       "    }\n",
       "\n",
       "    .dataframe tbody tr th {\n",
       "        vertical-align: top;\n",
       "    }\n",
       "\n",
       "    .dataframe thead th {\n",
       "        text-align: right;\n",
       "    }\n",
       "</style>\n",
       "<table border=\"1\" class=\"dataframe\">\n",
       "  <thead>\n",
       "    <tr style=\"text-align: right;\">\n",
       "      <th></th>\n",
       "      <th>MSE</th>\n",
       "      <th>RMSE</th>\n",
       "    </tr>\n",
       "  </thead>\n",
       "  <tbody>\n",
       "    <tr>\n",
       "      <th>200:300</th>\n",
       "      <td>4.513040e+06</td>\n",
       "      <td>2124.391751</td>\n",
       "    </tr>\n",
       "    <tr>\n",
       "      <th>300:400</th>\n",
       "      <td>9.345359e+06</td>\n",
       "      <td>3057.017989</td>\n",
       "    </tr>\n",
       "    <tr>\n",
       "      <th>400:500</th>\n",
       "      <td>2.125294e+06</td>\n",
       "      <td>1457.838872</td>\n",
       "    </tr>\n",
       "    <tr>\n",
       "      <th>500:600</th>\n",
       "      <td>3.761253e+07</td>\n",
       "      <td>6132.905443</td>\n",
       "    </tr>\n",
       "    <tr>\n",
       "      <th>600:700</th>\n",
       "      <td>2.556825e+06</td>\n",
       "      <td>1599.007396</td>\n",
       "    </tr>\n",
       "  </tbody>\n",
       "</table>\n",
       "</div>"
      ],
      "text/plain": [
       "                  MSE         RMSE\n",
       "200:300  4.513040e+06  2124.391751\n",
       "300:400  9.345359e+06  3057.017989\n",
       "400:500  2.125294e+06  1457.838872\n",
       "500:600  3.761253e+07  6132.905443\n",
       "600:700  2.556825e+06  1599.007396"
      ]
     },
     "execution_count": 12,
     "metadata": {},
     "output_type": "execute_result"
    }
   ],
   "source": [
    "DF"
   ]
  },
  {
   "cell_type": "code",
   "execution_count": 13,
   "metadata": {},
   "outputs": [],
   "source": [
    "#Tr Size: 300 days\n",
    "info = ['300:400', '400:500', '500:600', '600:700']\n",
    "MSE_list = [15859510.681514425, 3086902.190155774, 42523704.73638685, 3529988.249845526]\n",
    "RMSE_list = [3982.4001156983745, 1756.958220947719, 6521.02022205014, 1878.8262958148969]"
   ]
  },
  {
   "cell_type": "code",
   "execution_count": 14,
   "metadata": {},
   "outputs": [],
   "source": [
    "#Tr Size: 400 days\n",
    "info = ['400:500', '500:600', '600:700']\n",
    "MSE_list = [4338729.452249858, 38993566.927481525, 3568011.513790344]\n",
    "RMSE_list = [2082.9617020602795, 6244.4829191440285, 1888.9180802222058]"
   ]
  },
  {
   "cell_type": "code",
   "execution_count": 15,
   "metadata": {},
   "outputs": [],
   "source": [
    "#Tr Size: 500 days\n",
    "info = ['500:600', '600:700']\n",
    "MSE_list = [29760939.82130769, 2635325.4543793853]\n",
    "RMSE_list = [5455.358816916417, 1623.3685516170951]"
   ]
  },
  {
   "cell_type": "code",
   "execution_count": 17,
   "metadata": {},
   "outputs": [
    {
     "name": "stdout",
     "output_type": "stream",
     "text": [
      "[19215139.72179888, 2048266.8634953543]\n",
      "[4383.50769610353, 1431.176740830899]\n"
     ]
    },
    {
     "name": "stderr",
     "output_type": "stream",
     "text": [
      "C:\\Users\\goodr\\anaconda3\\envs\\mll\\lib\\site-packages\\sklearn\\utils\\validation.py:63: FutureWarning: Arrays of bytes/strings is being converted to decimal numbers if dtype='numeric'. This behavior is deprecated in 0.24 and will be removed in 1.1 (renaming of 0.26). Please convert your data to numeric values explicitly instead.\n",
      "  return f(*args, **kwargs)\n",
      "C:\\Users\\goodr\\anaconda3\\envs\\mll\\lib\\site-packages\\sklearn\\utils\\validation.py:63: FutureWarning: Arrays of bytes/strings is being converted to decimal numbers if dtype='numeric'. This behavior is deprecated in 0.24 and will be removed in 1.1 (renaming of 0.26). Please convert your data to numeric values explicitly instead.\n",
      "  return f(*args, **kwargs)\n"
     ]
    }
   ],
   "source": [
    "from sklearn.metrics import mean_squared_error\n",
    "temp_MSE = []\n",
    "temp_RMSE = []\n",
    "for i in range(500,700,100):\n",
    "    MSE = mean_squared_error(result[i:i+100], data[i:i+100])\n",
    "    temp_MSE.append(MSE)\n",
    "    RMSE = MSE ** 0.5\n",
    "    temp_RMSE.append(RMSE)\n",
    "print(temp_MSE)\n",
    "print(temp_RMSE)"
   ]
  },
  {
   "cell_type": "code",
   "execution_count": null,
   "metadata": {},
   "outputs": [],
   "source": []
  }
 ],
 "metadata": {
  "interpreter": {
   "hash": "ab83b35c86ff785ae76634efee8034bb953555fdec57846c4fd4b687de13dd65"
  },
  "kernelspec": {
   "display_name": "Python 3.6.13 64-bit ('mll': conda)",
   "language": "python",
   "name": "python3"
  },
  "language_info": {
   "codemirror_mode": {
    "name": "ipython",
    "version": 3
   },
   "file_extension": ".py",
   "mimetype": "text/x-python",
   "name": "python",
   "nbconvert_exporter": "python",
   "pygments_lexer": "ipython3",
   "version": "3.6.13"
  },
  "orig_nbformat": 4
 },
 "nbformat": 4,
 "nbformat_minor": 2
}
