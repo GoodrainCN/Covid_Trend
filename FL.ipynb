{
 "cells": [
  {
   "cell_type": "code",
   "execution_count": 5,
   "metadata": {},
   "outputs": [],
   "source": [
    "import torch\n",
    "from torch import nn\n",
    "import numpy as np\n",
    "import matplotlib.pyplot as plt"
   ]
  },
  {
   "cell_type": "code",
   "execution_count": 6,
   "metadata": {},
   "outputs": [],
   "source": [
    "device = torch.device(\"cuda\" if torch.cuda.is_available() else \"cpu\")"
   ]
  },
  {
   "cell_type": "code",
   "execution_count": 9,
   "metadata": {},
   "outputs": [
    {
     "name": "stdout",
     "output_type": "stream",
     "text": [
      "torch.Size([608, 2, 1])\n"
     ]
    }
   ],
   "source": [
    "import csv\n",
    "data = []\n",
    "with open(\"cleaned/FL.csv\", \"r\", encoding=\"utf-8\") as f:\n",
    "    csv_reader = csv.reader(f, delimiter=',')\n",
    "    headers = next(csv_reader)\n",
    "    for i in csv_reader:\n",
    "        data.append(int(i[5]))\n",
    "\n",
    "train  = data[:-100]\n",
    "test = data[-100:]\n",
    "\n",
    "li_x = []\n",
    "li_y = []\n",
    "seq = 2\n",
    "\n",
    "# 因为数据集较少，序列长度太长会影响结果\n",
    "for i in range(len(data[:-100]) - seq):\n",
    "    # 输入就是[x,x+1]天的数据，输出时x+2天的数据\n",
    "    li_x.append(train[i: i+seq])\n",
    "    li_y.append(train[i+seq])\n",
    "\n",
    "t_x = []\n",
    "t_y = []\n",
    "# 因为数据集较少，序列长度太长会影响结果\n",
    "for i in range(len(data[-100:]) - seq):\n",
    "    # 输入就是[x,x+1]天的数据，输出时x+2天的数据*\n",
    "    t_x.append(test[i: i+seq])\n",
    "    t_y.append(test[i+seq])\n",
    "\n",
    "# print(li_x)\n",
    "# print(li_y)\n",
    "\n",
    "# 分训练和测试集\n",
    "train_x = (torch.tensor(li_x).float() / 1000.).reshape(-1, seq, 1).to(device)\n",
    "train_y = (torch.tensor(li_y).float() / 1000.).reshape(-1, 1).to(device)\n",
    "\n",
    "print(train_x.shape)\n",
    "\n",
    "test_x = (torch.tensor(t_x).float() / 1000.).reshape(-1, seq, 1).to(device)\n",
    "test_y = (torch.tensor(t_y).float() / 1000.).reshape(-1, 1).to(device)"
   ]
  },
  {
   "cell_type": "code",
   "execution_count": 10,
   "metadata": {},
   "outputs": [],
   "source": [
    "class Net(nn.Module):\n",
    "    def __init__(self):\n",
    "        super(Net, self).__init__()\n",
    "        self.lstm = nn.LSTM(input_size=1, hidden_size=32, num_layers=1, batch_first=True)\n",
    "        # 输入格式是1，输出隐藏层大小是32\n",
    "        # 对于小数据集num_layers不要设置大，否则会因为模型变复杂而导致效果会变差\n",
    "        # num_layers顾名思义就是有几个lstm层，假如设置成2，就相当于连续经过两个lstm层\n",
    "        # 原来的输入格式是：(seq, batch, shape)\n",
    "        # 设置batch_first=True以后，输入格式就可以改为：(batch, seq, shape)，更符合平常使用的习惯\n",
    "        self.linear = nn.Linear(32*seq, 1)\n",
    "\n",
    "    def forward(self, x):\n",
    "        x, (h, c) = self.lstm(x)\n",
    "        x = x.reshape(-1, 32*seq)\n",
    "        x = self.linear(x)\n",
    "        return x"
   ]
  },
  {
   "cell_type": "code",
   "execution_count": 11,
   "metadata": {},
   "outputs": [],
   "source": [
    "model = Net().to(device)\n",
    "optimizer = torch.optim.Adam(model.parameters(), lr=0.003)\n",
    "loss_fun = nn.MSELoss()"
   ]
  },
  {
   "cell_type": "code",
   "execution_count": 12,
   "metadata": {},
   "outputs": [
    {
     "name": "stdout",
     "output_type": "stream",
     "text": [
      "epoch:20, loss:48.76372528076172, test_loss: 203.99305725097656\n",
      "epoch:40, loss:26.717350006103516, test_loss: 169.7545623779297\n",
      "epoch:60, loss:14.475388526916504, test_loss: 141.4088134765625\n",
      "epoch:80, loss:8.381329536437988, test_loss: 119.97932434082031\n",
      "epoch:100, loss:5.811435222625732, test_loss: 106.17447662353516\n",
      "epoch:120, loss:4.60019063949585, test_loss: 97.00274658203125\n",
      "epoch:140, loss:4.052412509918213, test_loss: 91.03448486328125\n",
      "epoch:160, loss:3.7540390491485596, test_loss: 86.8863525390625\n",
      "epoch:180, loss:3.5747110843658447, test_loss: 83.74798583984375\n",
      "epoch:200, loss:3.4609856605529785, test_loss: 81.36640167236328\n",
      "epoch:220, loss:3.379774808883667, test_loss: 79.43981170654297\n",
      "epoch:240, loss:3.318490743637085, test_loss: 77.79761505126953\n",
      "epoch:260, loss:3.2710459232330322, test_loss: 76.3846435546875\n",
      "epoch:280, loss:3.232759475708008, test_loss: 75.1571044921875\n",
      "epoch:300, loss:3.200636625289917, test_loss: 74.07826232910156\n",
      "epoch:320, loss:3.1731624603271484, test_loss: 73.12445831298828\n",
      "epoch:340, loss:3.1496105194091797, test_loss: 72.27963256835938\n",
      "epoch:360, loss:3.1293301582336426, test_loss: 71.53013610839844\n",
      "epoch:380, loss:3.1117308139801025, test_loss: 70.86054229736328\n",
      "epoch:400, loss:3.096421003341675, test_loss: 70.25672912597656\n",
      "epoch:420, loss:3.082867383956909, test_loss: 69.71712493896484\n",
      "epoch:440, loss:3.070678234100342, test_loss: 69.23267364501953\n",
      "epoch:460, loss:3.059683084487915, test_loss: 68.80118560791016\n",
      "epoch:480, loss:3.0495917797088623, test_loss: 68.41813659667969\n",
      "epoch:500, loss:3.0401735305786133, test_loss: 68.07733154296875\n",
      "epoch:520, loss:3.031285047531128, test_loss: 67.77269744873047\n",
      "epoch:540, loss:3.022845506668091, test_loss: 67.4979476928711\n",
      "epoch:560, loss:3.0148046016693115, test_loss: 67.24873352050781\n",
      "epoch:580, loss:3.0071470737457275, test_loss: 67.02171325683594\n",
      "epoch:600, loss:2.9998722076416016, test_loss: 66.81392669677734\n",
      "epoch:620, loss:2.9929726123809814, test_loss: 66.62360382080078\n",
      "epoch:640, loss:2.9864232540130615, test_loss: 66.4506607055664\n",
      "epoch:660, loss:2.980178117752075, test_loss: 66.2970199584961\n",
      "epoch:680, loss:2.9741568565368652, test_loss: 66.16856384277344\n",
      "epoch:700, loss:2.968188524246216, test_loss: 66.07942962646484\n",
      "epoch:720, loss:2.961775064468384, test_loss: 66.0429916381836\n",
      "epoch:740, loss:2.9544174671173096, test_loss: 66.09359741210938\n",
      "epoch:760, loss:2.948286771774292, test_loss: 66.0556869506836\n",
      "epoch:780, loss:2.943011999130249, test_loss: 65.93627166748047\n",
      "epoch:800, loss:2.9381203651428223, test_loss: 65.8247299194336\n",
      "epoch:820, loss:2.933502197265625, test_loss: 65.72128295898438\n",
      "epoch:840, loss:2.9291000366210938, test_loss: 65.62724304199219\n",
      "epoch:860, loss:2.9248621463775635, test_loss: 65.54582214355469\n",
      "epoch:880, loss:2.9207420349121094, test_loss: 65.4789047241211\n",
      "epoch:900, loss:2.916701316833496, test_loss: 65.42683410644531\n",
      "epoch:920, loss:2.912715196609497, test_loss: 65.38945007324219\n",
      "epoch:940, loss:2.908766508102417, test_loss: 65.36664581298828\n",
      "epoch:960, loss:2.9048304557800293, test_loss: 65.3582992553711\n",
      "epoch:980, loss:2.9008867740631104, test_loss: 65.36358642578125\n",
      "epoch:1000, loss:2.8969199657440186, test_loss: 65.3806381225586\n",
      "epoch:1020, loss:2.892921209335327, test_loss: 65.40687561035156\n",
      "epoch:1040, loss:2.8888893127441406, test_loss: 65.43882751464844\n",
      "epoch:1060, loss:2.884824752807617, test_loss: 65.47181701660156\n",
      "epoch:1080, loss:2.8807225227355957, test_loss: 65.50212097167969\n",
      "epoch:1100, loss:2.8765790462493896, test_loss: 65.52519226074219\n",
      "epoch:1120, loss:2.8724045753479004, test_loss: 65.53193664550781\n",
      "epoch:1140, loss:2.868196725845337, test_loss: 65.52753448486328\n",
      "epoch:1160, loss:2.863942861557007, test_loss: 65.52168273925781\n",
      "epoch:1180, loss:2.859628677368164, test_loss: 65.51828002929688\n"
     ]
    }
   ],
   "source": [
    "model.train()\n",
    "for epoch in range(1200):\n",
    "    output = model(train_x)\n",
    "    loss = loss_fun(output, train_y)\n",
    "    optimizer.zero_grad()\n",
    "    loss.backward()\n",
    "    optimizer.step()\n",
    "    if epoch % 20 == 0 and epoch > 0:\n",
    "        test_loss = loss_fun(model(test_x), test_y)\n",
    "        print(\"epoch:{}, loss:{}, test_loss: {}\".format(epoch, loss, test_loss))"
   ]
  },
  {
   "cell_type": "code",
   "execution_count": 13,
   "metadata": {},
   "outputs": [
    {
     "data": {
      "image/png": "[encoded data removed]",
      "text/plain": [
       "<Figure size 432x288 with 1 Axes>"
      ]
     },
     "metadata": {
      "needs_background": "light"
     },
     "output_type": "display_data"
    }
   ],
   "source": [
    "model.eval()\n",
    "# result = li_x[0][:seq-1] + list((model(train_x).data.reshape(-1))*1000) + list((model(test_x).data.reshape(-1))*1000)\n",
    "result = [0] + list((model(train_x).data.reshape(-1))*00) + list((model(test_x).data.reshape(-1))*1000)\n",
    "\n",
    "#展示结果\n",
    "plt.plot(data,label=\"real\")\n",
    "# 原来的走势\n",
    "\n",
    "plt.plot(train,label=\"train\")\n",
    "\n",
    "plt.plot(result,label=\"pred\")\n",
    "plt.xticks(\n",
    "    [0,100,200,300,400,500,600,700],\n",
    "    ['2020/1','2020/5', '2020/8', '2020/12', '2021/2', '20211/6', '2021/9', '2021/12']\n",
    ")\n",
    "# 模型预测的走势\n",
    "plt.legend(loc='best')\n",
    "plt.title('FL_Epoch1200_Tr600')\n",
    "plt.savefig('plot/FL_Epoch1200_Tr600.jpg')\n",
    "plt.show()\n"
   ]
  },
  {
   "cell_type": "code",
   "execution_count": 24,
   "metadata": {},
   "outputs": [
    {
     "name": "stdout",
     "output_type": "stream",
     "text": [
      "MSE: 10973236.36537615\n"
     ]
    }
   ],
   "source": [
    "prediction = result[600:700]\n",
    "real = data[600:700]\n",
    "\n",
    "from sklearn.metrics import mean_squared_error\n",
    "print(\"MSE:\", mean_squared_error(real, prediction))"
   ]
  },
  {
   "cell_type": "code",
   "execution_count": 14,
   "metadata": {},
   "outputs": [
    {
     "data": {
      "text/plain": [
       "[<matplotlib.lines.Line2D at 0x7fb56b488580>]"
      ]
     },
     "execution_count": 14,
     "metadata": {},
     "output_type": "execute_result"
    },
    {
     "data": {
      "image/png": "[encoded data removed]",
      "text/plain": [
       "<Figure size 432x288 with 1 Axes>"
      ]
     },
     "metadata": {
      "needs_background": "light"
     },
     "output_type": "display_data"
    }
   ],
   "source": [
    "plt.plot(result)"
   ]
  }
 ],
 "metadata": {
  "interpreter": {
   "hash": "ab83b35c86ff785ae76634efee8034bb953555fdec57846c4fd4b687de13dd65"
  },
  "kernelspec": {
   "display_name": "Python 3.6.13 64-bit ('mll': conda)",
   "language": "python",
   "name": "python3"
  },
  "language_info": {
   "codemirror_mode": {
    "name": "ipython",
    "version": 3
   },
   "file_extension": ".py",
   "mimetype": "text/x-python",
   "name": "python",
   "nbconvert_exporter": "python",
   "pygments_lexer": "ipython3",
   "version": "3.6.13"
  },
  "orig_nbformat": 4
 },
 "nbformat": 4,
 "nbformat_minor": 2
}
