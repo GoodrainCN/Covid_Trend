{
 "cells": [
  {
   "cell_type": "code",
   "execution_count": 31,
   "metadata": {},
   "outputs": [],
   "source": [
    "import torch\n",
    "from torch import nn\n",
    "import numpy as np\n",
    "import matplotlib.pyplot as plt"
   ]
  },
  {
   "cell_type": "code",
   "execution_count": 32,
   "metadata": {},
   "outputs": [],
   "source": [
    "device = torch.device(\"cuda\" if torch.cuda.is_available() else \"cpu\")"
   ]
  },
  {
   "cell_type": "code",
   "execution_count": 33,
   "metadata": {},
   "outputs": [
    {
     "name": "stdout",
     "output_type": "stream",
     "text": [
      "torch.Size([439, 2, 1])\n"
     ]
    }
   ],
   "source": [
    "import csv\n",
    "data = []\n",
    "with open(\"cleaned/FL.csv\", \"r\", encoding=\"utf-8\") as f:\n",
    "    csv_reader = csv.reader(f, delimiter=',')\n",
    "    headers = next(csv_reader)\n",
    "    for i in csv_reader:\n",
    "        data.append(int(i[5]))\n",
    "\n",
    "train  = data[:-300]\n",
    "test = data[-300:]\n",
    "\n",
    "li_x = []\n",
    "li_y = []\n",
    "seq = 2\n",
    "\n",
    "# 因为数据集较少，序列长度太长会影响结果\n",
    "for i in range(len(data[:-300]) - seq):\n",
    "    # 输入就是[x,x+1]天的数据，输出时x+2天的数据\n",
    "    li_x.append(train[i: i+seq])\n",
    "    li_y.append(train[i+seq])\n",
    "\n",
    "t_x = []\n",
    "t_y = []\n",
    "# 因为数据集较少，序列长度太长会影响结果\n",
    "for i in range(len(data[-300:]) - seq):\n",
    "    # 输入就是[x,x+1]天的数据，输出时x+2天的数据*\n",
    "    t_x.append(test[i: i+seq])\n",
    "    t_y.append(test[i+seq])\n",
    "\n",
    "# print(li_x)\n",
    "# print(li_y)\n",
    "\n",
    "# 分训练和测试集\n",
    "train_x = (torch.tensor(li_x).float() / 1000.).reshape(-1, seq, 1).to(device)\n",
    "train_y = (torch.tensor(li_y).float() / 1000.).reshape(-1, 1).to(device)\n",
    "\n",
    "print(train_x.shape)\n",
    "\n",
    "test_x = (torch.tensor(t_x).float() / 1000.).reshape(-1, seq, 1).to(device)\n",
    "test_y = (torch.tensor(t_y).float() / 1000.).reshape(-1, 1).to(device)"
   ]
  },
  {
   "cell_type": "code",
   "execution_count": 34,
   "metadata": {},
   "outputs": [],
   "source": [
    "class Net(nn.Module):\n",
    "    def __init__(self):\n",
    "        super(Net, self).__init__()\n",
    "        self.lstm = nn.LSTM(input_size=1, hidden_size=32, num_layers=1, batch_first=True)\n",
    "        # 输入格式是1，输出隐藏层大小是32\n",
    "        # 对于小数据集num_layers不要设置大，否则会因为模型变复杂而导致效果会变差\n",
    "        # num_layers顾名思义就是有几个lstm层，假如设置成2，就相当于连续经过两个lstm层\n",
    "        # 原来的输入格式是：(seq, batch, shape)\n",
    "        # 设置batch_first=True以后，输入格式就可以改为：(batch, seq, shape)，更符合平常使用的习惯\n",
    "        self.linear = nn.Linear(32*seq, 1)\n",
    "\n",
    "    def forward(self, x):\n",
    "        x, (h, c) = self.lstm(x)\n",
    "        x = x.reshape(-1, 32*seq)\n",
    "        x = self.linear(x)\n",
    "        return x"
   ]
  },
  {
   "cell_type": "code",
   "execution_count": 35,
   "metadata": {},
   "outputs": [],
   "source": [
    "model = Net().to(device)\n",
    "optimizer = torch.optim.Adam(model.parameters(), lr=0.003)\n",
    "loss_fun = nn.MSELoss()"
   ]
  },
  {
   "cell_type": "code",
   "execution_count": 36,
   "metadata": {},
   "outputs": [
    {
     "name": "stdout",
     "output_type": "stream",
     "text": [
      "epoch:20, loss:22.258563995361328, test_loss: 313.6004943847656\n",
      "epoch:40, loss:8.05912971496582, test_loss: 250.03074645996094\n",
      "epoch:60, loss:4.861645221710205, test_loss: 215.4598388671875\n",
      "epoch:80, loss:3.392939805984497, test_loss: 201.4989013671875\n",
      "epoch:100, loss:2.747606039047241, test_loss: 188.45401000976562\n",
      "epoch:120, loss:2.4149928092956543, test_loss: 179.56954956054688\n",
      "epoch:140, loss:2.277923583984375, test_loss: 173.4084930419922\n",
      "epoch:160, loss:2.218209743499756, test_loss: 169.24583435058594\n",
      "epoch:180, loss:2.1847102642059326, test_loss: 166.44903564453125\n",
      "epoch:200, loss:2.161437749862671, test_loss: 164.35679626464844\n",
      "epoch:220, loss:2.143169403076172, test_loss: 162.6088104248047\n",
      "epoch:240, loss:2.1274755001068115, test_loss: 161.10292053222656\n",
      "epoch:260, loss:2.113168954849243, test_loss: 159.8046417236328\n",
      "epoch:280, loss:2.099666118621826, test_loss: 158.64752197265625\n",
      "epoch:300, loss:2.086721897125244, test_loss: 157.6076202392578\n",
      "epoch:320, loss:2.074171543121338, test_loss: 156.6585235595703\n",
      "epoch:340, loss:2.061875104904175, test_loss: 155.77987670898438\n",
      "epoch:360, loss:2.049875020980835, test_loss: 154.95130920410156\n",
      "epoch:380, loss:2.0384180545806885, test_loss: 154.16860961914062\n",
      "epoch:400, loss:2.027796983718872, test_loss: 153.42852783203125\n",
      "epoch:420, loss:2.0181643962860107, test_loss: 152.707275390625\n",
      "epoch:440, loss:2.0094962120056152, test_loss: 151.9899139404297\n",
      "epoch:460, loss:2.001617431640625, test_loss: 151.2841339111328\n",
      "epoch:480, loss:1.994306206703186, test_loss: 150.60313415527344\n",
      "epoch:500, loss:1.9873888492584229, test_loss: 149.9554901123047\n",
      "epoch:520, loss:1.9807913303375244, test_loss: 149.34742736816406\n",
      "epoch:540, loss:1.9745347499847412, test_loss: 148.7890167236328\n",
      "epoch:560, loss:1.9686423540115356, test_loss: 148.29315185546875\n",
      "epoch:580, loss:1.963083267211914, test_loss: 147.8628692626953\n",
      "epoch:600, loss:1.9578051567077637, test_loss: 147.49075317382812\n",
      "epoch:620, loss:1.952768325805664, test_loss: 147.16806030273438\n",
      "epoch:640, loss:1.9479440450668335, test_loss: 146.88890075683594\n",
      "epoch:660, loss:1.943306565284729, test_loss: 146.6504364013672\n",
      "epoch:680, loss:1.9388335943222046, test_loss: 146.45187377929688\n",
      "epoch:700, loss:1.934512972831726, test_loss: 146.29348754882812\n",
      "epoch:720, loss:1.9303381443023682, test_loss: 146.17486572265625\n",
      "epoch:740, loss:1.9263073205947876, test_loss: 146.09365844726562\n",
      "epoch:760, loss:1.9224170446395874, test_loss: 146.04600524902344\n",
      "epoch:780, loss:1.9186588525772095, test_loss: 146.02777099609375\n",
      "epoch:800, loss:1.915021300315857, test_loss: 146.0361785888672\n",
      "epoch:820, loss:1.9114916324615479, test_loss: 146.07017517089844\n",
      "epoch:840, loss:1.9080562591552734, test_loss: 146.1297607421875\n",
      "epoch:860, loss:1.904699683189392, test_loss: 146.2140655517578\n",
      "epoch:880, loss:1.9014050960540771, test_loss: 146.32154846191406\n",
      "epoch:900, loss:1.8981505632400513, test_loss: 146.44927978515625\n",
      "epoch:920, loss:1.8948997259140015, test_loss: 146.5906524658203\n",
      "epoch:940, loss:1.8915870189666748, test_loss: 146.72450256347656\n",
      "epoch:960, loss:1.8883559703826904, test_loss: 146.7939453125\n",
      "epoch:980, loss:1.8851466178894043, test_loss: 146.87850952148438\n"
     ]
    }
   ],
   "source": [
    "model.train()\n",
    "for epoch in range(1000):\n",
    "    output = model(train_x)\n",
    "    loss = loss_fun(output, train_y)\n",
    "    optimizer.zero_grad()\n",
    "    loss.backward()\n",
    "    optimizer.step()\n",
    "    if epoch % 20 == 0 and epoch > 0:\n",
    "        test_loss = loss_fun(model(test_x), test_y)\n",
    "        print(\"epoch:{}, loss:{}, test_loss: {}\".format(epoch, loss, test_loss))"
   ]
  },
  {
   "cell_type": "code",
   "execution_count": 37,
   "metadata": {},
   "outputs": [
    {
     "data": {
      "image/png": "[encoded data removed]",
      "text/plain": [
       "<Figure size 720x360 with 1 Axes>"
      ]
     },
     "metadata": {
      "needs_background": "light"
     },
     "output_type": "display_data"
    }
   ],
   "source": [
    "model.eval()\n",
    "# result = li_x[0][:seq-1] + list((model(train_x).data.reshape(-1))*1000) + list((model(test_x).data.reshape(-1))*1000)\n",
    "result = [0] + list((model(train_x).data.reshape(-1))*00) + list((model(test_x).data.reshape(-1))*1000)\n",
    "\n",
    "#展示结果\n",
    "plt.figure(figsize=(10,5))\n",
    "\n",
    "plt.plot(data,label=\"real\")\n",
    "# 原来的走势\n",
    "\n",
    "plt.plot(train,label=\"train\")\n",
    "\n",
    "plt.plot(result,label=\"pred\")\n",
    "plt.xticks(\n",
    "    [0,100,200,300,400,500,600,700],\n",
    "    ['2020/1','2020/5', '2020/8', '2020/12', '2021/2', '20211/6', '2021/9', '2021/12']\n",
    ")\n",
    "# 模型预测的走势\n",
    "plt.legend(loc='best')\n",
    "plt.title('FL_Epoch1200_Tr600')\n",
    "# plt.savefig('plot/FL_Epoch1200_Tr600.jpg')\n",
    "plt.show()"
   ]
  },
  {
   "cell_type": "code",
   "execution_count": 38,
   "metadata": {},
   "outputs": [
    {
     "data": {
      "text/plain": [
       "[<matplotlib.lines.Line2D at 0x7fd593319d60>]"
      ]
     },
     "execution_count": 38,
     "metadata": {},
     "output_type": "execute_result"
    },
    {
     "data": {
      "image/png": "[encoded data removed]",
      "text/plain": [
       "<Figure size 432x288 with 1 Axes>"
      ]
     },
     "metadata": {
      "needs_background": "light"
     },
     "output_type": "display_data"
    }
   ],
   "source": [
    "plt.plot(result)"
   ]
  },
  {
   "cell_type": "code",
   "execution_count": 39,
   "metadata": {},
   "outputs": [],
   "source": [
    "# prediction = result[200:700]\n",
    "# real = data[200:700]\n",
    "\n",
    "# from sklearn.metrics import mean_squared_error\n",
    "# MSE = mean_squared_error(real, prediction)\n",
    "# RMSE = MSE ** 0.5\n",
    "# print(\"MSE:\", MSE)\n",
    "# print(\"RMSE\", RMSE)"
   ]
  },
  {
   "cell_type": "code",
   "execution_count": 40,
   "metadata": {},
   "outputs": [
    {
     "name": "stdout",
     "output_type": "stream",
     "text": [
      "                  MSE         RMSE\n",
      "200:300  4.513040e+06  2124.391751\n",
      "300:400  9.345359e+06  3057.017989\n",
      "400:500  2.125294e+06  1457.838872\n",
      "500:600  3.761253e+07  6132.905443\n",
      "600:700  2.556825e+06  1599.007396\n"
     ]
    },
    {
     "data": {
      "text/plain": [
       "[<matplotlib.lines.Line2D at 0x7fd5b0bff220>]"
      ]
     },
     "execution_count": 40,
     "metadata": {},
     "output_type": "execute_result"
    },
    {
     "data": {
      "image/png": "[encoded data removed]",
      "text/plain": [
       "<Figure size 432x288 with 1 Axes>"
      ]
     },
     "metadata": {
      "needs_background": "light"
     },
     "output_type": "display_data"
    }
   ],
   "source": [
    "#Tr Size: 200 days\n",
    "import pandas as pd\n",
    "info = ['200:300', '300:400', '400:500', '500:600', '600:700']\n",
    "MSE_list = [4513040.31369507, 9345358.983941305, 2125294.17701694, 37612529.172058195, 2556824.651083408]\n",
    "RMSE_list = [2124.3917514655977, 3057.0179888154576, 1457.8388721038207, 6132.905442941233, 1599.0073955687035]\n",
    "\n",
    "DF = pd.DataFrame({'MSE': MSE_list, 'RMSE': RMSE_list}, index=info)\n",
    "print(DF)\n",
    "plt.plot(DF.MSE)"
   ]
  },
  {
   "cell_type": "code",
   "execution_count": 41,
   "metadata": {},
   "outputs": [
    {
     "data": {
      "text/html": [
       "<div>\n",
       "<style scoped>\n",
       "    .dataframe tbody tr th:only-of-type {\n",
       "        vertical-align: middle;\n",
       "    }\n",
       "\n",
       "    .dataframe tbody tr th {\n",
       "        vertical-align: top;\n",
       "    }\n",
       "\n",
       "    .dataframe thead th {\n",
       "        text-align: right;\n",
       "    }\n",
       "</style>\n",
       "<table border=\"1\" class=\"dataframe\">\n",
       "  <thead>\n",
       "    <tr style=\"text-align: right;\">\n",
       "      <th></th>\n",
       "      <th>MSE</th>\n",
       "      <th>RMSE</th>\n",
       "    </tr>\n",
       "  </thead>\n",
       "  <tbody>\n",
       "    <tr>\n",
       "      <th>200:300</th>\n",
       "      <td>4.513040e+06</td>\n",
       "      <td>2124.391751</td>\n",
       "    </tr>\n",
       "    <tr>\n",
       "      <th>300:400</th>\n",
       "      <td>9.345359e+06</td>\n",
       "      <td>3057.017989</td>\n",
       "    </tr>\n",
       "    <tr>\n",
       "      <th>400:500</th>\n",
       "      <td>2.125294e+06</td>\n",
       "      <td>1457.838872</td>\n",
       "    </tr>\n",
       "    <tr>\n",
       "      <th>500:600</th>\n",
       "      <td>3.761253e+07</td>\n",
       "      <td>6132.905443</td>\n",
       "    </tr>\n",
       "    <tr>\n",
       "      <th>600:700</th>\n",
       "      <td>2.556825e+06</td>\n",
       "      <td>1599.007396</td>\n",
       "    </tr>\n",
       "  </tbody>\n",
       "</table>\n",
       "</div>"
      ],
      "text/plain": [
       "                  MSE         RMSE\n",
       "200:300  4.513040e+06  2124.391751\n",
       "300:400  9.345359e+06  3057.017989\n",
       "400:500  2.125294e+06  1457.838872\n",
       "500:600  3.761253e+07  6132.905443\n",
       "600:700  2.556825e+06  1599.007396"
      ]
     },
     "execution_count": 41,
     "metadata": {},
     "output_type": "execute_result"
    }
   ],
   "source": [
    "DF"
   ]
  },
  {
   "cell_type": "code",
   "execution_count": 42,
   "metadata": {},
   "outputs": [],
   "source": [
    "#Tr Size: 300 days\n",
    "info = ['300:400', '400:500', '500:600', '600:700']\n",
    "MSE_list = [15859510.681514425, 3086902.190155774, 42523704.73638685, 3529988.249845526]\n",
    "RMSE_list = [3982.4001156983745, 1756.958220947719, 6521.02022205014, 1878.8262958148969]"
   ]
  },
  {
   "cell_type": "code",
   "execution_count": 43,
   "metadata": {},
   "outputs": [],
   "source": [
    "#Tr Size: 400 days\n",
    "info = ['400:500', '500:600', '600:700']\n",
    "MSE_list = [4338729.452249858, 38993566.927481525, 3568011.513790344]\n",
    "RMSE_list = [2082.9617020602795, 6244.4829191440285, 1888.9180802222058]"
   ]
  },
  {
   "cell_type": "code",
   "execution_count": 44,
   "metadata": {},
   "outputs": [],
   "source": [
    "#Tr Size: 500 days\n",
    "info = ['500:600', '600:700']\n",
    "MSE_list = [29760939.82130769, 2635325.4543793853]\n",
    "RMSE_list = [5455.358816916417, 1623.3685516170951]"
   ]
  },
  {
   "cell_type": "code",
   "execution_count": 45,
   "metadata": {},
   "outputs": [
    {
     "name": "stdout",
     "output_type": "stream",
     "text": [
      "[18332090.569745723, 1845304.0551244617]\n",
      "[4281.599066907797, 1358.4196903477443]\n"
     ]
    }
   ],
   "source": [
    "from sklearn.metrics import mean_squared_error\n",
    "temp_MSE = []\n",
    "temp_RMSE = []\n",
    "for i in range(500,700,100):\n",
    "    MSE = mean_squared_error(result[i:i+100], data[i:i+100])\n",
    "    temp_MSE.append(MSE)\n",
    "    RMSE = MSE ** 0.5\n",
    "    temp_RMSE.append(RMSE)\n",
    "print(temp_MSE)\n",
    "print(temp_RMSE)"
   ]
  },
  {
   "cell_type": "code",
   "execution_count": null,
   "metadata": {},
   "outputs": [],
   "source": []
  }
 ],
 "metadata": {
  "interpreter": {
   "hash": "ab83b35c86ff785ae76634efee8034bb953555fdec57846c4fd4b687de13dd65"
  },
  "kernelspec": {
   "display_name": "Python 3.6.13 64-bit ('mll': conda)",
   "language": "python",
   "name": "python3"
  },
  "language_info": {
   "codemirror_mode": {
    "name": "ipython",
    "version": 3
   },
   "file_extension": ".py",
   "mimetype": "text/x-python",
   "name": "python",
   "nbconvert_exporter": "python",
   "pygments_lexer": "ipython3",
   "version": "3.9.7"
  },
  "orig_nbformat": 4
 },
 "nbformat": 4,
 "nbformat_minor": 2
}
