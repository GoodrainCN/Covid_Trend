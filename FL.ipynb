{
 "cells": [
  {
   "cell_type": "code",
   "execution_count": 52,
   "metadata": {},
   "outputs": [],
   "source": [
    "import torch\n",
    "from torch import nn\n",
    "import numpy as np\n",
    "import matplotlib.pyplot as plt"
   ]
  },
  {
   "cell_type": "code",
   "execution_count": 53,
   "metadata": {},
   "outputs": [],
   "source": [
    "device = torch.device(\"cuda\" if torch.cuda.is_available() else \"cpu\")"
   ]
  },
  {
   "cell_type": "code",
   "execution_count": 54,
   "metadata": {},
   "outputs": [
    {
     "name": "stdout",
     "output_type": "stream",
     "text": [
      "torch.Size([608, 2, 1])\n"
     ]
    }
   ],
   "source": [
    "import csv\n",
    "data = []\n",
    "with open(\"cleaned\\FL.csv\", \"r\", encoding=\"utf-8\") as f:\n",
    "    csv_reader = csv.reader(f, delimiter=',')\n",
    "    headers = next(csv_reader)\n",
    "    for i in csv_reader:\n",
    "        data.append(int(i[5]))\n",
    "\n",
    "train  = data[:-100]\n",
    "test = data[-100:]\n",
    "\n",
    "li_x = []\n",
    "li_y = []\n",
    "seq = 2\n",
    "\n",
    "# 因为数据集较少，序列长度太长会影响结果\n",
    "for i in range(len(data[:-100]) - seq):\n",
    "    # 输入就是[x,x+1]天的数据，输出时x+2天的数据\n",
    "    li_x.append(train[i: i+seq])\n",
    "    li_y.append(train[i+seq])\n",
    "\n",
    "t_x = []\n",
    "t_y = []\n",
    "# 因为数据集较少，序列长度太长会影响结果\n",
    "for i in range(len(data[-100:]) - seq):\n",
    "    # 输入就是[x,x+1]天的数据，输出时x+2天的数据*\n",
    "    t_x.append(test[i: i+seq])\n",
    "    t_y.append(test[i+seq])\n",
    "\n",
    "# print(li_x)\n",
    "# print(li_y)\n",
    "\n",
    "# 分训练和测试集\n",
    "train_x = (torch.tensor(li_x).float() / 1000.).reshape(-1, seq, 1).to(device)\n",
    "train_y = (torch.tensor(li_y).float() / 1000.).reshape(-1, 1).to(device)\n",
    "\n",
    "print(train_x.shape)\n",
    "\n",
    "test_x = (torch.tensor(t_x).float() / 1000.).reshape(-1, seq, 1).to(device)\n",
    "test_y = (torch.tensor(t_y).float() / 1000.).reshape(-1, 1).to(device)"
   ]
  },
  {
   "cell_type": "code",
   "execution_count": 55,
   "metadata": {},
   "outputs": [],
   "source": [
    "class Net(nn.Module):\n",
    "    def __init__(self):\n",
    "        super(Net, self).__init__()\n",
    "        self.lstm = nn.LSTM(input_size=1, hidden_size=32, num_layers=1, batch_first=True)\n",
    "        # 输入格式是1，输出隐藏层大小是32\n",
    "        # 对于小数据集num_layers不要设置大，否则会因为模型变复杂而导致效果会变差\n",
    "        # num_layers顾名思义就是有几个lstm层，假如设置成2，就相当于连续经过两个lstm层\n",
    "        # 原来的输入格式是：(seq, batch, shape)\n",
    "        # 设置batch_first=True以后，输入格式就可以改为：(batch, seq, shape)，更符合平常使用的习惯\n",
    "        self.linear = nn.Linear(32*seq, 1)\n",
    "\n",
    "    def forward(self, x):\n",
    "        x, (h, c) = self.lstm(x)\n",
    "        x = x.reshape(-1, 32*seq)\n",
    "        x = self.linear(x)\n",
    "        return x"
   ]
  },
  {
   "cell_type": "code",
   "execution_count": 56,
   "metadata": {},
   "outputs": [],
   "source": [
    "model = Net().to(device)\n",
    "optimizer = torch.optim.Adam(model.parameters(), lr=0.003)\n",
    "loss_fun = nn.MSELoss()"
   ]
  },
  {
   "cell_type": "code",
   "execution_count": 57,
   "metadata": {},
   "outputs": [
    {
     "name": "stdout",
     "output_type": "stream",
     "text": [
      "epoch:20, loss:50.593353271484375, test_loss: 203.33375549316406\n",
      "epoch:40, loss:29.898527145385742, test_loss: 176.02381896972656\n",
      "epoch:60, loss:15.358475685119629, test_loss: 145.5395965576172\n",
      "epoch:80, loss:9.081055641174316, test_loss: 123.50643157958984\n",
      "epoch:100, loss:6.320612907409668, test_loss: 110.9237289428711\n",
      "epoch:120, loss:4.879940986633301, test_loss: 101.49616241455078\n",
      "epoch:140, loss:4.163252830505371, test_loss: 95.30198669433594\n",
      "epoch:160, loss:3.8025617599487305, test_loss: 90.86180114746094\n",
      "epoch:180, loss:3.598078727722168, test_loss: 87.543701171875\n",
      "epoch:200, loss:3.467705488204956, test_loss: 85.09989929199219\n",
      "epoch:220, loss:3.378634452819824, test_loss: 83.2286148071289\n",
      "epoch:240, loss:3.3132195472717285, test_loss: 81.67098999023438\n",
      "epoch:260, loss:3.2649588584899902, test_loss: 80.38070678710938\n",
      "epoch:280, loss:3.2280726432800293, test_loss: 79.3049087524414\n",
      "epoch:300, loss:3.198338270187378, test_loss: 78.38520050048828\n",
      "epoch:320, loss:3.1732723712921143, test_loss: 77.58561706542969\n",
      "epoch:340, loss:3.1513655185699463, test_loss: 76.86246490478516\n",
      "epoch:360, loss:3.131896734237671, test_loss: 76.17695617675781\n",
      "epoch:380, loss:3.1142547130584717, test_loss: 75.5383529663086\n",
      "epoch:400, loss:3.0978598594665527, test_loss: 74.96146392822266\n",
      "epoch:420, loss:3.082552909851074, test_loss: 74.4386978149414\n",
      "epoch:440, loss:3.0683467388153076, test_loss: 73.95650482177734\n",
      "epoch:460, loss:3.0551517009735107, test_loss: 73.52482604980469\n",
      "epoch:480, loss:3.042633056640625, test_loss: 73.12797546386719\n",
      "epoch:500, loss:3.031184434890747, test_loss: 72.78604888916016\n",
      "epoch:520, loss:3.0196967124938965, test_loss: 72.46882629394531\n",
      "epoch:540, loss:3.0087225437164307, test_loss: 72.18920135498047\n",
      "epoch:560, loss:2.9984536170959473, test_loss: 71.89791870117188\n",
      "epoch:580, loss:2.9888453483581543, test_loss: 71.59111785888672\n",
      "epoch:600, loss:2.9798672199249268, test_loss: 71.29205322265625\n",
      "epoch:620, loss:2.9714930057525635, test_loss: 71.0114974975586\n",
      "epoch:640, loss:2.9634194374084473, test_loss: 70.75096893310547\n",
      "epoch:660, loss:2.9559485912323, test_loss: 70.49276733398438\n",
      "epoch:680, loss:2.9487385749816895, test_loss: 70.24274444580078\n",
      "epoch:700, loss:2.9418749809265137, test_loss: 70.01187896728516\n",
      "epoch:720, loss:2.9352867603302, test_loss: 69.7990493774414\n",
      "epoch:740, loss:2.9287984371185303, test_loss: 69.60022735595703\n",
      "epoch:760, loss:2.922337293624878, test_loss: 69.40459442138672\n",
      "epoch:780, loss:2.9163026809692383, test_loss: 69.21888732910156\n",
      "epoch:800, loss:2.9103546142578125, test_loss: 69.01565551757812\n",
      "epoch:820, loss:2.9049019813537598, test_loss: 68.78887176513672\n",
      "epoch:840, loss:2.89937424659729, test_loss: 68.56006622314453\n",
      "epoch:860, loss:2.8935885429382324, test_loss: 68.39802551269531\n",
      "epoch:880, loss:2.8881449699401855, test_loss: 68.3415298461914\n",
      "epoch:900, loss:2.8834011554718018, test_loss: 68.2098388671875\n",
      "epoch:920, loss:2.878706693649292, test_loss: 68.09129333496094\n",
      "epoch:940, loss:2.8744211196899414, test_loss: 68.01909637451172\n",
      "epoch:960, loss:2.8699839115142822, test_loss: 68.00257873535156\n",
      "epoch:980, loss:2.8656234741210938, test_loss: 68.04147338867188\n",
      "epoch:1000, loss:2.8613193035125732, test_loss: 68.17514038085938\n",
      "epoch:1020, loss:2.856633424758911, test_loss: 68.38048553466797\n",
      "epoch:1040, loss:2.851991653442383, test_loss: 68.3971176147461\n",
      "epoch:1060, loss:2.8473851680755615, test_loss: 68.3717269897461\n",
      "epoch:1080, loss:2.8428492546081543, test_loss: 68.35823059082031\n",
      "epoch:1100, loss:2.83831787109375, test_loss: 68.3544692993164\n",
      "epoch:1120, loss:2.833676338195801, test_loss: 68.37574005126953\n",
      "epoch:1140, loss:2.829118013381958, test_loss: 68.41313171386719\n",
      "epoch:1160, loss:2.824491024017334, test_loss: 68.47344970703125\n",
      "epoch:1180, loss:2.8197858333587646, test_loss: 68.53801727294922\n"
     ]
    }
   ],
   "source": [
    "model.train()\n",
    "for epoch in range(1200):\n",
    "    output = model(train_x)\n",
    "    loss = loss_fun(output, train_y)\n",
    "    optimizer.zero_grad()\n",
    "    loss.backward()\n",
    "    optimizer.step()\n",
    "    if epoch % 20 == 0 and epoch > 0:\n",
    "        test_loss = loss_fun(model(test_x), test_y)\n",
    "        print(\"epoch:{}, loss:{}, test_loss: {}\".format(epoch, loss, test_loss))"
   ]
  },
  {
   "cell_type": "code",
   "execution_count": 83,
   "metadata": {},
   "outputs": [
    {
     "name": "stdout",
     "output_type": "stream",
     "text": [
      "MSE: 13074099.616587367\n"
     ]
    },
    {
     "name": "stderr",
     "output_type": "stream",
     "text": [
      "C:\\Users\\goodr\\anaconda3\\envs\\mll\\lib\\site-packages\\sklearn\\utils\\validation.py:63: FutureWarning: Arrays of bytes/strings is being converted to decimal numbers if dtype='numeric'. This behavior is deprecated in 0.24 and will be removed in 1.1 (renaming of 0.26). Please convert your data to numeric values explicitly instead.\n",
      "  return f(*args, **kwargs)\n"
     ]
    },
    {
     "data": {
      "image/png": "[encoded data removed]",
      "text/plain": [
       "<Figure size 432x288 with 1 Axes>"
      ]
     },
     "metadata": {
      "needs_background": "light"
     },
     "output_type": "display_data"
    }
   ],
   "source": [
    "model.eval()\n",
    "# result = li_x[0][:seq-1] + list((model(train_x).data.reshape(-1))*1000) + list((model(test_x).data.reshape(-1))*1000)\n",
    "result = [0] + list((model(train_x).data.reshape(-1))*00) + list((model(test_x).data.reshape(-1))*1000)\n",
    "\n",
    "#展示结果\n",
    "plt.plot(data,label=\"real\")\n",
    "# 原来的走势\n",
    "\n",
    "plt.plot(train,label=\"train\")\n",
    "\n",
    "plt.plot(result,label=\"pred\")\n",
    "plt.xticks(\n",
    "    [0,100,200,300,400,500,600,700],\n",
    "    ['2020/1','2020/5', '2020/8', '2020/12', '2021/2', '20211/6', '2021/9', '2021/12']\n",
    ")\n",
    "# 模型预测的走势\n",
    "plt.legend(loc='best')\n",
    "#Accuracy\n",
    "from sklearn.metrics import mean_squared_error\n",
    "temp0 = result[600:705]\n",
    "temp1 = data[600:705]\n",
    "MSE = mean_squared_error(temp0, temp1)\n",
    "print(\"MSE:\", MSE)\n",
    "plt.text(300,70000,f\"MSE:{MSE}\")\n",
    "#\n",
    "plt.title(f'FL_Epoch1200_Tr600')\n",
    "plt.savefig('plot/FL_Epoch1200_Tr600.jpg')\n",
    "plt.show()\n"
   ]
  },
  {
   "cell_type": "code",
   "execution_count": 60,
   "metadata": {},
   "outputs": [
    {
     "data": {
      "text/plain": [
       "[<matplotlib.lines.Line2D at 0x1c457e8a748>]"
      ]
     },
     "execution_count": 60,
     "metadata": {},
     "output_type": "execute_result"
    },
    {
     "data": {
      "image/png": "[encoded data removed]",
      "text/plain": [
       "<Figure size 432x288 with 1 Axes>"
      ]
     },
     "metadata": {
      "needs_background": "light"
     },
     "output_type": "display_data"
    }
   ],
   "source": [
    "plt.plot(result)"
   ]
  }
 ],
 "metadata": {
  "interpreter": {
   "hash": "ab83b35c86ff785ae76634efee8034bb953555fdec57846c4fd4b687de13dd65"
  },
  "kernelspec": {
   "display_name": "Python 3.6.13 64-bit ('mll': conda)",
   "language": "python",
   "name": "python3"
  },
  "language_info": {
   "codemirror_mode": {
    "name": "ipython",
    "version": 3
   },
   "file_extension": ".py",
   "mimetype": "text/x-python",
   "name": "python",
   "nbconvert_exporter": "python",
   "pygments_lexer": "ipython3",
   "version": "3.6.13"
  },
  "orig_nbformat": 4
 },
 "nbformat": 4,
 "nbformat_minor": 2
}
