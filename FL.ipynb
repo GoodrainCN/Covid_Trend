{
 "cells": [
  {
   "cell_type": "code",
   "execution_count": 1,
   "metadata": {
    "collapsed": false,
    "pycharm": {
     "name": "#%%\n"
    }
   },
   "outputs": [],
   "source": [
    "import torch\n",
    "from torch import nn\n",
    "import numpy as np\n",
    "import matplotlib.pyplot as plt"
   ]
  },
  {
   "cell_type": "code",
   "execution_count": 2,
   "metadata": {
    "collapsed": false,
    "pycharm": {
     "name": "#%%\n"
    }
   },
   "outputs": [],
   "source": [
    "device = torch.device(\"cuda\" if torch.cuda.is_available() else \"cpu\")"
   ]
  },
  {
   "cell_type": "code",
   "execution_count": 3,
   "metadata": {},
   "outputs": [
    {
     "name": "stdout",
     "output_type": "stream",
     "text": [
      "torch.Size([439, 2, 1])\n"
     ]
    }
   ],
   "source": [
    "import csv\n",
    "data = []\n",
    "with open(\"cleaned/FL.csv\", \"r\", encoding=\"utf-8\") as f:\n",
    "    csv_reader = csv.reader(f, delimiter=',')\n",
    "    headers = next(csv_reader)\n",
    "    for i in csv_reader:\n",
    "        data.append(int(i[5]))\n",
    "\n",
    "train  = data[:-300]\n",
    "test = data[-300:]\n",
    "\n",
    "li_x = []\n",
    "li_y = []\n",
    "seq = 2\n",
    "\n",
    "# 因为数据集较少，序列长度太长会影响结果\n",
    "for i in range(len(data[:-300]) - seq):\n",
    "    # 输入就是[x,x+1]天的数据，输出时x+2天的数据\n",
    "    li_x.append(train[i: i+seq])\n",
    "    li_y.append(train[i+seq])\n",
    "\n",
    "t_x = []\n",
    "t_y = []\n",
    "# 因为数据集较少，序列长度太长会影响结果\n",
    "for i in range(len(data[-300:]) - seq):\n",
    "    # 输入就是[x,x+1]天的数据，输出时x+2天的数据*\n",
    "    t_x.append(test[i: i+seq])\n",
    "    t_y.append(test[i+seq])\n",
    "\n",
    "# print(li_x)\n",
    "# print(li_y)\n",
    "\n",
    "# 分训练和测试集\n",
    "train_x = (torch.tensor(li_x).float() / 1000.).reshape(-1, seq, 1).to(device)\n",
    "train_y = (torch.tensor(li_y).float() / 1000.).reshape(-1, 1).to(device)\n",
    "\n",
    "print(train_x.shape)\n",
    "\n",
    "test_x = (torch.tensor(t_x).float() / 1000.).reshape(-1, seq, 1).to(device)\n",
    "test_y = (torch.tensor(t_y).float() / 1000.).reshape(-1, 1).to(device)"
   ]
  },
  {
   "cell_type": "code",
   "execution_count": 4,
   "metadata": {},
   "outputs": [],
   "source": [
    "class Net(nn.Module):\n",
    "    def __init__(self):\n",
    "        super(Net, self).__init__()\n",
    "        self.lstm = nn.LSTM(input_size=1, hidden_size=32, num_layers=1, batch_first=True)\n",
    "        # 输入格式是1，输出隐藏层大小是32\n",
    "        # 对于小数据集num_layers不要设置大，否则会因为模型变复杂而导致效果会变差\n",
    "        # num_layers顾名思义就是有几个lstm层，假如设置成2，就相当于连续经过两个lstm层\n",
    "        # 原来的输入格式是：(seq, batch, shape)\n",
    "        # 设置batch_first=True以后，输入格式就可以改为：(batch, seq, shape)，更符合平常使用的习惯\n",
    "        self.linear = nn.Linear(32*seq, 1)\n",
    "\n",
    "    def forward(self, x):\n",
    "        x, (h, c) = self.lstm(x)\n",
    "        x = x.reshape(-1, 32*seq)\n",
    "        x = self.linear(x)\n",
    "        return x"
   ]
  },
  {
   "cell_type": "code",
   "execution_count": 5,
   "metadata": {},
   "outputs": [],
   "source": [
    "model = Net().to(device)\n",
    "optimizer = torch.optim.Adam(model.parameters(), lr=0.003)\n",
    "loss_fun = nn.MSELoss()"
   ]
  },
  {
   "cell_type": "code",
   "execution_count": 6,
   "metadata": {},
   "outputs": [
    {
     "name": "stdout",
     "output_type": "stream",
     "text": [
      "epoch:20, loss:25.55553436279297, test_loss: 335.8270263671875\n",
      "epoch:40, loss:9.810966491699219, test_loss: 264.5948486328125\n",
      "epoch:60, loss:5.437228679656982, test_loss: 220.97799682617188\n",
      "epoch:80, loss:3.7453629970550537, test_loss: 205.6737823486328\n",
      "epoch:100, loss:2.9856069087982178, test_loss: 191.7197265625\n",
      "epoch:120, loss:2.5498342514038086, test_loss: 181.3782196044922\n",
      "epoch:140, loss:2.347919225692749, test_loss: 174.1152801513672\n",
      "epoch:160, loss:2.257941722869873, test_loss: 169.05502319335938\n",
      "epoch:180, loss:2.2112855911254883, test_loss: 165.43875122070312\n",
      "epoch:200, loss:2.180239677429199, test_loss: 162.71875\n",
      "epoch:220, loss:2.1572864055633545, test_loss: 160.5546875\n",
      "epoch:240, loss:2.138685464859009, test_loss: 158.77032470703125\n",
      "epoch:260, loss:2.1223042011260986, test_loss: 157.2541046142578\n",
      "epoch:280, loss:2.1070592403411865, test_loss: 155.93458557128906\n",
      "epoch:300, loss:2.0923938751220703, test_loss: 154.7647705078125\n",
      "epoch:320, loss:2.0780413150787354, test_loss: 153.7034149169922\n",
      "epoch:340, loss:2.0642483234405518, test_loss: 152.70428466796875\n",
      "epoch:360, loss:2.051485300064087, test_loss: 151.75869750976562\n",
      "epoch:380, loss:2.0398929119110107, test_loss: 150.87188720703125\n",
      "epoch:400, loss:2.029498338699341, test_loss: 150.02716064453125\n",
      "epoch:420, loss:2.020348310470581, test_loss: 149.19586181640625\n",
      "epoch:440, loss:2.012157917022705, test_loss: 148.4120330810547\n",
      "epoch:460, loss:2.004645586013794, test_loss: 147.67970275878906\n",
      "epoch:480, loss:1.9976364374160767, test_loss: 147.00079345703125\n",
      "epoch:500, loss:1.9910452365875244, test_loss: 146.37255859375\n",
      "epoch:520, loss:1.9848171472549438, test_loss: 145.79087829589844\n",
      "epoch:540, loss:1.9788932800292969, test_loss: 145.25152587890625\n",
      "epoch:560, loss:1.9732162952423096, test_loss: 144.7515869140625\n",
      "epoch:580, loss:1.9677584171295166, test_loss: 144.2882080078125\n",
      "epoch:600, loss:1.962509274482727, test_loss: 143.857666015625\n",
      "epoch:620, loss:1.9574626684188843, test_loss: 143.45777893066406\n",
      "epoch:640, loss:1.9526140689849854, test_loss: 143.08872985839844\n",
      "epoch:660, loss:1.9479585886001587, test_loss: 142.75172424316406\n",
      "epoch:680, loss:1.9434881210327148, test_loss: 142.4475860595703\n",
      "epoch:700, loss:1.9391889572143555, test_loss: 142.1765594482422\n",
      "epoch:720, loss:1.935042142868042, test_loss: 141.93836975097656\n",
      "epoch:740, loss:1.9310252666473389, test_loss: 141.73219299316406\n",
      "epoch:760, loss:1.9271146059036255, test_loss: 141.5563507080078\n",
      "epoch:780, loss:1.923295497894287, test_loss: 141.40870666503906\n",
      "epoch:800, loss:1.9195640087127686, test_loss: 141.28668212890625\n",
      "epoch:820, loss:1.915922999382019, test_loss: 141.1875457763672\n",
      "epoch:840, loss:1.912374496459961, test_loss: 141.10830688476562\n",
      "epoch:860, loss:1.908906102180481, test_loss: 141.0457000732422\n",
      "epoch:880, loss:1.9054934978485107, test_loss: 140.99664306640625\n",
      "epoch:900, loss:1.9021093845367432, test_loss: 140.9579620361328\n",
      "epoch:920, loss:1.8987349271774292, test_loss: 140.92633056640625\n",
      "epoch:940, loss:1.8953657150268555, test_loss: 140.9000244140625\n",
      "epoch:960, loss:1.8920053243637085, test_loss: 140.88087463378906\n",
      "epoch:980, loss:1.8886528015136719, test_loss: 140.8721466064453\n"
     ]
    }
   ],
   "source": [
    "model.train()\n",
    "for epoch in range(1000):\n",
    "    output = model(train_x)\n",
    "    loss = loss_fun(output, train_y)\n",
    "    optimizer.zero_grad()\n",
    "    loss.backward()\n",
    "    optimizer.step()\n",
    "    if epoch % 20 == 0 and epoch > 0:\n",
    "        test_loss = loss_fun(model(test_x), test_y)\n",
    "        print(\"epoch:{}, loss:{}, test_loss: {}\".format(epoch, loss, test_loss))"
   ]
  },
  {
   "cell_type": "code",
   "execution_count": 7,
   "metadata": {},
   "outputs": [
    {
     "data": {
      "image/png": "[encoded data removed]",
      "text/plain": [
       "<Figure size 720x360 with 1 Axes>"
      ]
     },
     "metadata": {
      "needs_background": "light"
     },
     "output_type": "display_data"
    }
   ],
   "source": [
    "model.eval()\n",
    "# result = li_x[0][:seq-1] + list((model(train_x).data.reshape(-1))*1000) + list((model(test_x).data.reshape(-1))*1000)\n",
    "result = [0] + list((model(train_x).data.reshape(-1))*00) + list((model(test_x).data.reshape(-1))*1000)\n",
    "\n",
    "#展示结果\n",
    "plt.figure(figsize=(10,5))\n",
    "\n",
    "plt.plot(data,label=\"real\")\n",
    "# 原来的走势\n",
    "\n",
    "plt.plot(train,label=\"train\")\n",
    "\n",
    "plt.plot(result,label=\"pred\")\n",
    "plt.xticks(\n",
    "    [0,100,200,300,400,500,600,700],\n",
    "    ['2020/1','2020/5', '2020/8', '2020/12', '2021/2', '20211/6', '2021/9', '2021/12']\n",
    ")\n",
    "# 模型预测的走势\n",
    "plt.legend(loc='best')\n",
    "plt.title('FL_Epoch1200_Tr600')\n",
    "# plt.savefig('plot/FL_Epoch1200_Tr600.jpg')\n",
    "plt.show()"
   ]
  },
  {
   "cell_type": "code",
   "execution_count": 8,
   "metadata": {},
   "outputs": [
    {
     "data": {
      "text/plain": [
       "[<matplotlib.lines.Line2D at 0x7ff4528694c0>]"
      ]
     },
     "execution_count": 8,
     "metadata": {},
     "output_type": "execute_result"
    },
    {
     "data": {
      "image/png": "[encoded data removed]",
      "text/plain": [
       "<Figure size 432x288 with 1 Axes>"
      ]
     },
     "metadata": {
      "needs_background": "light"
     },
     "output_type": "display_data"
    }
   ],
   "source": [
    "plt.plot(result)"
   ]
  },
  {
   "cell_type": "code",
   "execution_count": 9,
   "metadata": {},
   "outputs": [],
   "source": [
    "# prediction = result[200:700]\n",
    "# real = data[200:700]\n",
    "\n",
    "# from sklearn.metrics import mean_squared_error\n",
    "# MSE = mean_squared_error(real, prediction)\n",
    "# RMSE = MSE ** 0.5\n",
    "# print(\"MSE:\", MSE)\n",
    "# print(\"RMSE\", RMSE)"
   ]
  },
  {
   "cell_type": "code",
   "execution_count": 10,
   "metadata": {},
   "outputs": [
    {
     "name": "stdout",
     "output_type": "stream",
     "text": [
      "                  MSE         RMSE\n",
      "200:300  4.513040e+06  2124.391751\n",
      "300:400  9.345359e+06  3057.017989\n",
      "400:500  2.125294e+06  1457.838872\n",
      "500:600  3.761253e+07  6132.905443\n",
      "600:700  2.556825e+06  1599.007396\n"
     ]
    },
    {
     "data": {
      "text/plain": [
       "[<matplotlib.lines.Line2D at 0x7ff452958310>]"
      ]
     },
     "execution_count": 10,
     "metadata": {},
     "output_type": "execute_result"
    },
    {
     "data": {
      "image/png": "[encoded data removed]",
      "text/plain": [
       "<Figure size 432x288 with 1 Axes>"
      ]
     },
     "metadata": {
      "needs_background": "light"
     },
     "output_type": "display_data"
    }
   ],
   "source": [
    "#Tr Size: 200 days\n",
    "import pandas as pd\n",
    "info = ['200:300', '300:400', '400:500', '500:600', '600:700']\n",
    "MSE_list = [4513040.31369507, 9345358.983941305, 2125294.17701694, 37612529.172058195, 2556824.651083408]\n",
    "RMSE_list = [2124.3917514655977, 3057.0179888154576, 1457.8388721038207, 6132.905442941233, 1599.0073955687035]\n",
    "\n",
    "DF = pd.DataFrame({'MSE': MSE_list, 'RMSE': RMSE_list}, index=info)\n",
    "print(DF)\n",
    "plt.plot(DF.MSE)"
   ]
  },
  {
   "cell_type": "code",
   "execution_count": 11,
   "metadata": {},
   "outputs": [
    {
     "data": {
      "text/html": [
       "<div>\n",
       "<style scoped>\n",
       "    .dataframe tbody tr th:only-of-type {\n",
       "        vertical-align: middle;\n",
       "    }\n",
       "\n",
       "    .dataframe tbody tr th {\n",
       "        vertical-align: top;\n",
       "    }\n",
       "\n",
       "    .dataframe thead th {\n",
       "        text-align: right;\n",
       "    }\n",
       "</style>\n",
       "<table border=\"1\" class=\"dataframe\">\n",
       "  <thead>\n",
       "    <tr style=\"text-align: right;\">\n",
       "      <th></th>\n",
       "      <th>MSE</th>\n",
       "      <th>RMSE</th>\n",
       "    </tr>\n",
       "  </thead>\n",
       "  <tbody>\n",
       "    <tr>\n",
       "      <th>200:300</th>\n",
       "      <td>4.513040e+06</td>\n",
       "      <td>2124.391751</td>\n",
       "    </tr>\n",
       "    <tr>\n",
       "      <th>300:400</th>\n",
       "      <td>9.345359e+06</td>\n",
       "      <td>3057.017989</td>\n",
       "    </tr>\n",
       "    <tr>\n",
       "      <th>400:500</th>\n",
       "      <td>2.125294e+06</td>\n",
       "      <td>1457.838872</td>\n",
       "    </tr>\n",
       "    <tr>\n",
       "      <th>500:600</th>\n",
       "      <td>3.761253e+07</td>\n",
       "      <td>6132.905443</td>\n",
       "    </tr>\n",
       "    <tr>\n",
       "      <th>600:700</th>\n",
       "      <td>2.556825e+06</td>\n",
       "      <td>1599.007396</td>\n",
       "    </tr>\n",
       "  </tbody>\n",
       "</table>\n",
       "</div>"
      ],
      "text/plain": [
       "                  MSE         RMSE\n",
       "200:300  4.513040e+06  2124.391751\n",
       "300:400  9.345359e+06  3057.017989\n",
       "400:500  2.125294e+06  1457.838872\n",
       "500:600  3.761253e+07  6132.905443\n",
       "600:700  2.556825e+06  1599.007396"
      ]
     },
     "execution_count": 11,
     "metadata": {},
     "output_type": "execute_result"
    }
   ],
   "source": [
    "DF"
   ]
  },
  {
   "cell_type": "code",
   "execution_count": 12,
   "metadata": {},
   "outputs": [],
   "source": [
    "#Tr Size: 300 days\n",
    "info = ['300:400', '400:500', '500:600', '600:700']\n",
    "MSE_list = [15859510.681514425, 3086902.190155774, 42523704.73638685, 3529988.249845526]\n",
    "RMSE_list = [3982.4001156983745, 1756.958220947719, 6521.02022205014, 1878.8262958148969]"
   ]
  },
  {
   "cell_type": "code",
   "execution_count": 13,
   "metadata": {},
   "outputs": [],
   "source": [
    "#Tr Size: 400 days\n",
    "info = ['400:500', '500:600', '600:700']\n",
    "MSE_list = [4338729.452249858, 38993566.927481525, 3568011.513790344]\n",
    "RMSE_list = [2082.9617020602795, 6244.4829191440285, 1888.9180802222058]"
   ]
  },
  {
   "cell_type": "code",
   "execution_count": 14,
   "metadata": {},
   "outputs": [],
   "source": [
    "#Tr Size: 500 days\n",
    "info = ['500:600', '600:700']\n",
    "MSE_list = [29760939.82130769, 2635325.4543793853]\n",
    "RMSE_list = [5455.358816916417, 1623.3685516170951]"
   ]
  },
  {
   "cell_type": "code",
   "execution_count": 15,
   "metadata": {
    "pycharm": {
     "name": "#%%\n"
    }
   },
   "outputs": [
    {
     "name": "stdout",
     "output_type": "stream",
     "text": [
      "[18283704.62802631, 1873244.5606980198]\n",
      "[4275.9448813129375, 1368.6652478593953]\n"
     ]
    }
   ],
   "source": [
    "from sklearn.metrics import mean_squared_error\n",
    "temp_MSE = []\n",
    "temp_RMSE = []\n",
    "for i in range(500,700,100):\n",
    "    MSE = mean_squared_error(result[i:i+100], data[i:i+100])\n",
    "    temp_MSE.append(MSE)\n",
    "    RMSE = MSE ** 0.5\n",
    "    temp_RMSE.append(RMSE)\n",
    "print(temp_MSE)\n",
    "print(temp_RMSE)"
   ]
  }
 ],
 "metadata": {
  "interpreter": {
   "hash": "fd480433b0168f0b96e5ec847e914a92fdec64b0a6a89ef8313bf2e63f32d212"
  },
  "kernelspec": {
   "display_name": "Python 3.9.7 64-bit ('pyc': conda)",
   "language": "python",
   "name": "python3"
  },
  "language_info": {
   "codemirror_mode": {
    "name": "ipython",
    "version": 3
   },
   "file_extension": ".py",
   "mimetype": "text/x-python",
   "name": "python",
   "nbconvert_exporter": "python",
   "pygments_lexer": "ipython3",
   "version": "3.6.13"
  },
  "orig_nbformat": 4
 },
 "nbformat": 4,
 "nbformat_minor": 2
}
