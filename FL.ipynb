{
 "cells": [
  {
   "cell_type": "code",
   "execution_count": 1,
   "metadata": {},
   "outputs": [],
   "source": [
    "import torch\n",
    "from torch import nn\n",
    "import numpy as np\n",
    "import matplotlib.pyplot as plt"
   ]
  },
  {
   "cell_type": "code",
   "execution_count": 2,
   "metadata": {},
   "outputs": [],
   "source": [
    "device = torch.device(\"cuda\" if torch.cuda.is_available() else \"cpu\")"
   ]
  },
  {
   "cell_type": "code",
   "execution_count": 3,
   "metadata": {},
   "outputs": [
    {
     "name": "stdout",
     "output_type": "stream",
     "text": [
      "torch.Size([439, 2, 1])\n"
     ]
    }
   ],
   "source": [
    "import csv\n",
    "data = []\n",
    "with open(\"cleaned/FL.csv\", \"r\", encoding=\"utf-8\") as f:\n",
    "    csv_reader = csv.reader(f, delimiter=',')\n",
    "    headers = next(csv_reader)\n",
    "    for i in csv_reader:\n",
    "        data.append(int(i[5]))\n",
    "\n",
    "train  = data[:-300]\n",
    "test = data[-300:]\n",
    "\n",
    "li_x = []\n",
    "li_y = []\n",
    "seq = 2\n",
    "\n",
    "# 因为数据集较少，序列长度太长会影响结果\n",
    "for i in range(len(data[:-300]) - seq):\n",
    "    # 输入就是[x,x+1]天的数据，输出时x+2天的数据\n",
    "    li_x.append(train[i: i+seq])\n",
    "    li_y.append(train[i+seq])\n",
    "\n",
    "t_x = []\n",
    "t_y = []\n",
    "# 因为数据集较少，序列长度太长会影响结果\n",
    "for i in range(len(data[-300:]) - seq):\n",
    "    # 输入就是[x,x+1]天的数据，输出时x+2天的数据*\n",
    "    t_x.append(test[i: i+seq])\n",
    "    t_y.append(test[i+seq])\n",
    "\n",
    "# print(li_x)\n",
    "# print(li_y)\n",
    "\n",
    "# 分训练和测试集\n",
    "train_x = (torch.tensor(li_x).float() / 1000.).reshape(-1, seq, 1).to(device)\n",
    "train_y = (torch.tensor(li_y).float() / 1000.).reshape(-1, 1).to(device)\n",
    "\n",
    "print(train_x.shape)\n",
    "\n",
    "test_x = (torch.tensor(t_x).float() / 1000.).reshape(-1, seq, 1).to(device)\n",
    "test_y = (torch.tensor(t_y).float() / 1000.).reshape(-1, 1).to(device)"
   ]
  },
  {
   "cell_type": "code",
   "execution_count": 4,
   "metadata": {},
   "outputs": [],
   "source": [
    "class Net(nn.Module):\n",
    "    def __init__(self):\n",
    "        super(Net, self).__init__()\n",
    "        self.lstm = nn.LSTM(input_size=1, hidden_size=32, num_layers=1, batch_first=True)\n",
    "        # 输入格式是1，输出隐藏层大小是32\n",
    "        # 对于小数据集num_layers不要设置大，否则会因为模型变复杂而导致效果会变差\n",
    "        # num_layers顾名思义就是有几个lstm层，假如设置成2，就相当于连续经过两个lstm层\n",
    "        # 原来的输入格式是：(seq, batch, shape)\n",
    "        # 设置batch_first=True以后，输入格式就可以改为：(batch, seq, shape)，更符合平常使用的习惯\n",
    "        self.linear = nn.Linear(32*seq, 1)\n",
    "\n",
    "    def forward(self, x):\n",
    "        x, (h, c) = self.lstm(x)\n",
    "        x = x.reshape(-1, 32*seq)\n",
    "        x = self.linear(x)\n",
    "        return x"
   ]
  },
  {
   "cell_type": "code",
   "execution_count": 5,
   "metadata": {},
   "outputs": [],
   "source": [
    "model = Net().to(device)\n",
    "optimizer = torch.optim.Adam(model.parameters(), lr=0.003)\n",
    "loss_fun = nn.MSELoss()"
   ]
  },
  {
   "cell_type": "code",
   "execution_count": 6,
   "metadata": {},
   "outputs": [
    {
     "name": "stdout",
     "output_type": "stream",
     "text": [
      "epoch:20, loss:26.331571578979492, test_loss: 329.75543212890625\n",
      "epoch:40, loss:11.377870559692383, test_loss: 271.58685302734375\n",
      "epoch:60, loss:5.830109596252441, test_loss: 230.61558532714844\n",
      "epoch:80, loss:3.7691879272460938, test_loss: 213.7000274658203\n",
      "epoch:100, loss:2.971482276916504, test_loss: 200.83685302734375\n",
      "epoch:120, loss:2.538167953491211, test_loss: 191.65127563476562\n",
      "epoch:140, loss:2.331965208053589, test_loss: 184.85546875\n",
      "epoch:160, loss:2.2305984497070312, test_loss: 179.24398803710938\n",
      "epoch:180, loss:2.180824041366577, test_loss: 175.8187255859375\n",
      "epoch:200, loss:2.1510186195373535, test_loss: 173.5092315673828\n",
      "epoch:220, loss:2.1288177967071533, test_loss: 171.88330078125\n",
      "epoch:240, loss:2.1105101108551025, test_loss: 170.5383758544922\n",
      "epoch:260, loss:2.094371795654297, test_loss: 169.23663330078125\n",
      "epoch:280, loss:2.079819917678833, test_loss: 168.06202697753906\n",
      "epoch:300, loss:2.065922737121582, test_loss: 166.98489379882812\n",
      "epoch:320, loss:2.05285382270813, test_loss: 165.95184326171875\n",
      "epoch:340, loss:2.040794610977173, test_loss: 164.970458984375\n",
      "epoch:360, loss:2.0297152996063232, test_loss: 164.04678344726562\n",
      "epoch:380, loss:2.0193333625793457, test_loss: 163.14761352539062\n",
      "epoch:400, loss:2.009822130203247, test_loss: 162.2572479248047\n",
      "epoch:420, loss:2.000974178314209, test_loss: 161.3723602294922\n",
      "epoch:440, loss:1.9923522472381592, test_loss: 160.51475524902344\n",
      "epoch:460, loss:1.9838759899139404, test_loss: 159.71551513671875\n",
      "epoch:480, loss:1.9755651950836182, test_loss: 158.972900390625\n",
      "epoch:500, loss:1.9672205448150635, test_loss: 158.28981018066406\n",
      "epoch:520, loss:1.9589310884475708, test_loss: 157.67015075683594\n",
      "epoch:540, loss:1.9509806632995605, test_loss: 157.114990234375\n",
      "epoch:560, loss:1.9427549839019775, test_loss: 156.63230895996094\n",
      "epoch:580, loss:1.934911847114563, test_loss: 156.20889282226562\n",
      "epoch:600, loss:1.9272325038909912, test_loss: 155.838134765625\n",
      "epoch:620, loss:1.9194942712783813, test_loss: 155.536376953125\n",
      "epoch:640, loss:1.9120687246322632, test_loss: 155.3235626220703\n",
      "epoch:660, loss:1.904858946800232, test_loss: 155.23846435546875\n",
      "epoch:680, loss:1.897860050201416, test_loss: 155.26370239257812\n",
      "epoch:700, loss:1.8910468816757202, test_loss: 155.31851196289062\n",
      "epoch:720, loss:1.8820695877075195, test_loss: 155.3906707763672\n",
      "epoch:740, loss:1.874619722366333, test_loss: 155.62307739257812\n",
      "epoch:760, loss:1.867742896080017, test_loss: 155.9473114013672\n",
      "epoch:780, loss:1.8614017963409424, test_loss: 156.2706756591797\n",
      "epoch:800, loss:1.8552842140197754, test_loss: 156.63453674316406\n",
      "epoch:820, loss:1.849751591682434, test_loss: 156.99212646484375\n",
      "epoch:840, loss:1.8443406820297241, test_loss: 157.35581970214844\n",
      "epoch:860, loss:1.8390787839889526, test_loss: 157.6622314453125\n",
      "epoch:880, loss:1.83407723903656, test_loss: 157.94065856933594\n",
      "epoch:900, loss:1.829187035560608, test_loss: 158.22393798828125\n",
      "epoch:920, loss:1.8245166540145874, test_loss: 158.50729370117188\n",
      "epoch:940, loss:1.8199623823165894, test_loss: 158.82814025878906\n",
      "epoch:960, loss:1.8156505823135376, test_loss: 159.169677734375\n",
      "epoch:980, loss:1.8114370107650757, test_loss: 159.53553771972656\n",
      "epoch:1000, loss:1.8072497844696045, test_loss: 159.9081268310547\n",
      "epoch:1020, loss:1.8032524585723877, test_loss: 160.3137664794922\n",
      "epoch:1040, loss:1.799274206161499, test_loss: 160.7342071533203\n",
      "epoch:1060, loss:1.7954685688018799, test_loss: 161.17849731445312\n",
      "epoch:1080, loss:1.7915409803390503, test_loss: 161.63389587402344\n",
      "epoch:1100, loss:1.7876039743423462, test_loss: 162.0916748046875\n",
      "epoch:1120, loss:1.7838469743728638, test_loss: 162.5338134765625\n",
      "epoch:1140, loss:1.7802847623825073, test_loss: 162.9480743408203\n",
      "epoch:1160, loss:1.776627779006958, test_loss: 163.39439392089844\n",
      "epoch:1180, loss:1.7729501724243164, test_loss: 163.8189697265625\n",
      "epoch:1200, loss:1.7690180540084839, test_loss: 164.23455810546875\n",
      "epoch:1220, loss:1.765485167503357, test_loss: 164.6698760986328\n",
      "epoch:1240, loss:1.7615150213241577, test_loss: 165.09262084960938\n",
      "epoch:1260, loss:1.7575976848602295, test_loss: 165.54103088378906\n",
      "epoch:1280, loss:1.753780484199524, test_loss: 165.96470642089844\n",
      "epoch:1300, loss:1.7498958110809326, test_loss: 166.39358520507812\n",
      "epoch:1320, loss:1.7460436820983887, test_loss: 166.84799194335938\n",
      "epoch:1340, loss:1.7422808408737183, test_loss: 167.29608154296875\n",
      "epoch:1360, loss:1.7384278774261475, test_loss: 167.7776336669922\n",
      "epoch:1380, loss:1.734745740890503, test_loss: 168.24664306640625\n",
      "epoch:1400, loss:1.7308255434036255, test_loss: 168.69216918945312\n",
      "epoch:1420, loss:1.7268354892730713, test_loss: 169.16439819335938\n",
      "epoch:1440, loss:1.7231649160385132, test_loss: 169.62933349609375\n",
      "epoch:1460, loss:1.7191349267959595, test_loss: 170.0730743408203\n",
      "epoch:1480, loss:1.7152535915374756, test_loss: 170.56556701660156\n"
     ]
    }
   ],
   "source": [
    "model.train()\n",
    "for epoch in range(1500):\n",
    "    output = model(train_x)\n",
    "    loss = loss_fun(output, train_y)\n",
    "    optimizer.zero_grad()\n",
    "    loss.backward()\n",
    "    optimizer.step()\n",
    "    if epoch % 20 == 0 and epoch > 0:\n",
    "        test_loss = loss_fun(model(test_x), test_y)\n",
    "        print(\"epoch:{}, loss:{}, test_loss: {}\".format(epoch, loss, test_loss))"
   ]
  },
  {
   "cell_type": "code",
   "execution_count": 7,
   "metadata": {},
   "outputs": [
    {
     "data": {
      "image/png": "[encoded data removed]",
      "text/plain": [
       "<Figure size 720x360 with 1 Axes>"
      ]
     },
     "metadata": {
      "needs_background": "light"
     },
     "output_type": "display_data"
    }
   ],
   "source": [
    "model.eval()\n",
    "# result = li_x[0][:seq-1] + list((model(train_x).data.reshape(-1))*1000) + list((model(test_x).data.reshape(-1))*1000)\n",
    "result = [0] + list((model(train_x).data.reshape(-1))*00) + list((model(test_x).data.reshape(-1))*1000)\n",
    "\n",
    "#展示结果\n",
    "plt.figure(figsize=(10,5))\n",
    "\n",
    "plt.plot(data,label=\"real\")\n",
    "# 原来的走势\n",
    "\n",
    "plt.plot(train,label=\"train\")\n",
    "\n",
    "plt.plot(result,label=\"pred\")\n",
    "plt.xticks(\n",
    "    [0,100,200,300,400,500,600,700],\n",
    "    ['2020/1','2020/5', '2020/8', '2020/12', '2021/2', '20211/6', '2021/9', '2021/12']\n",
    ")\n",
    "# 模型预测的走势\n",
    "plt.legend(loc='best')\n",
    "plt.title('FL_Epoch1200_Tr600')\n",
    "# plt.savefig('plot/FL_Epoch1200_Tr600.jpg')\n",
    "plt.show()"
   ]
  },
  {
   "cell_type": "code",
   "execution_count": 8,
   "metadata": {},
   "outputs": [
    {
     "data": {
      "text/plain": [
       "[<matplotlib.lines.Line2D at 0x2191e25e358>]"
      ]
     },
     "execution_count": 8,
     "metadata": {},
     "output_type": "execute_result"
    },
    {
     "data": {
      "image/png": "[encoded data removed]",
      "text/plain": [
       "<Figure size 432x288 with 1 Axes>"
      ]
     },
     "metadata": {
      "needs_background": "light"
     },
     "output_type": "display_data"
    }
   ],
   "source": [
    "plt.plot(result)"
   ]
  },
  {
   "cell_type": "code",
   "execution_count": 9,
   "metadata": {},
   "outputs": [],
   "source": [
    "# prediction = result[200:700]\n",
    "# real = data[200:700]\n",
    "\n",
    "# from sklearn.metrics import mean_squared_error\n",
    "# MSE = mean_squared_error(real, prediction)\n",
    "# RMSE = MSE ** 0.5\n",
    "# print(\"MSE:\", MSE)\n",
    "# print(\"RMSE\", RMSE)"
   ]
  },
  {
   "cell_type": "code",
   "execution_count": 10,
   "metadata": {},
   "outputs": [
    {
     "name": "stdout",
     "output_type": "stream",
     "text": [
      "                  MSE         RMSE\n",
      "200:300  4.513040e+06  2124.391751\n",
      "300:400  9.345359e+06  3057.017989\n",
      "400:500  2.125294e+06  1457.838872\n",
      "500:600  3.761253e+07  6132.905443\n",
      "600:700  2.556825e+06  1599.007396\n"
     ]
    },
    {
     "data": {
      "text/plain": [
       "[<matplotlib.lines.Line2D at 0x219720eaa90>]"
      ]
     },
     "execution_count": 10,
     "metadata": {},
     "output_type": "execute_result"
    },
    {
     "data": {
      "image/png": "[encoded data removed]",
      "text/plain": [
       "<Figure size 432x288 with 1 Axes>"
      ]
     },
     "metadata": {
      "needs_background": "light"
     },
     "output_type": "display_data"
    }
   ],
   "source": [
    "#Tr Size: 200 days\n",
    "import pandas as pd\n",
    "info = ['200:300', '300:400', '400:500', '500:600', '600:700']\n",
    "MSE_list = [4513040.31369507, 9345358.983941305, 2125294.17701694, 37612529.172058195, 2556824.651083408]\n",
    "RMSE_list = [2124.3917514655977, 3057.0179888154576, 1457.8388721038207, 6132.905442941233, 1599.0073955687035]\n",
    "\n",
    "DF = pd.DataFrame({'MSE': MSE_list, 'RMSE': RMSE_list}, index=info)\n",
    "print(DF)\n",
    "plt.plot(DF.MSE)"
   ]
  },
  {
   "cell_type": "code",
   "execution_count": 11,
   "metadata": {},
   "outputs": [
    {
     "data": {
      "text/html": [
       "<div>\n",
       "<style scoped>\n",
       "    .dataframe tbody tr th:only-of-type {\n",
       "        vertical-align: middle;\n",
       "    }\n",
       "\n",
       "    .dataframe tbody tr th {\n",
       "        vertical-align: top;\n",
       "    }\n",
       "\n",
       "    .dataframe thead th {\n",
       "        text-align: right;\n",
       "    }\n",
       "</style>\n",
       "<table border=\"1\" class=\"dataframe\">\n",
       "  <thead>\n",
       "    <tr style=\"text-align: right;\">\n",
       "      <th></th>\n",
       "      <th>MSE</th>\n",
       "      <th>RMSE</th>\n",
       "    </tr>\n",
       "  </thead>\n",
       "  <tbody>\n",
       "    <tr>\n",
       "      <th>200:300</th>\n",
       "      <td>4.513040e+06</td>\n",
       "      <td>2124.391751</td>\n",
       "    </tr>\n",
       "    <tr>\n",
       "      <th>300:400</th>\n",
       "      <td>9.345359e+06</td>\n",
       "      <td>3057.017989</td>\n",
       "    </tr>\n",
       "    <tr>\n",
       "      <th>400:500</th>\n",
       "      <td>2.125294e+06</td>\n",
       "      <td>1457.838872</td>\n",
       "    </tr>\n",
       "    <tr>\n",
       "      <th>500:600</th>\n",
       "      <td>3.761253e+07</td>\n",
       "      <td>6132.905443</td>\n",
       "    </tr>\n",
       "    <tr>\n",
       "      <th>600:700</th>\n",
       "      <td>2.556825e+06</td>\n",
       "      <td>1599.007396</td>\n",
       "    </tr>\n",
       "  </tbody>\n",
       "</table>\n",
       "</div>"
      ],
      "text/plain": [
       "                  MSE         RMSE\n",
       "200:300  4.513040e+06  2124.391751\n",
       "300:400  9.345359e+06  3057.017989\n",
       "400:500  2.125294e+06  1457.838872\n",
       "500:600  3.761253e+07  6132.905443\n",
       "600:700  2.556825e+06  1599.007396"
      ]
     },
     "execution_count": 11,
     "metadata": {},
     "output_type": "execute_result"
    }
   ],
   "source": [
    "DF"
   ]
  },
  {
   "cell_type": "code",
   "execution_count": 12,
   "metadata": {},
   "outputs": [],
   "source": [
    "#Tr Size: 300 days\n",
    "info = ['300:400', '400:500', '500:600', '600:700']\n",
    "MSE_list = [15859510.681514425, 3086902.190155774, 42523704.73638685, 3529988.249845526]\n",
    "RMSE_list = [3982.4001156983745, 1756.958220947719, 6521.02022205014, 1878.8262958148969]"
   ]
  },
  {
   "cell_type": "code",
   "execution_count": 13,
   "metadata": {},
   "outputs": [],
   "source": [
    "#Tr Size: 400 days\n",
    "info = ['400:500', '500:600', '600:700']\n",
    "MSE_list = [4338729.452249858, 38993566.927481525, 3568011.513790344]\n",
    "RMSE_list = [2082.9617020602795, 6244.4829191440285, 1888.9180802222058]"
   ]
  },
  {
   "cell_type": "code",
   "execution_count": 14,
   "metadata": {},
   "outputs": [],
   "source": [
    "#Tr Size: 500 days\n",
    "info = ['500:600', '600:700']\n",
    "MSE_list = [29760939.82130769, 2635325.4543793853]\n",
    "RMSE_list = [5455.358816916417, 1623.3685516170951]"
   ]
  },
  {
   "cell_type": "code",
   "execution_count": 15,
   "metadata": {},
   "outputs": [
    {
     "name": "stdout",
     "output_type": "stream",
     "text": [
      "[23474529.56719237, 2221677.8224690147]\n",
      "[4845.052070637876, 1490.5293765870617]\n"
     ]
    },
    {
     "name": "stderr",
     "output_type": "stream",
     "text": [
      "C:\\Users\\goodr\\anaconda3\\envs\\mll\\lib\\site-packages\\sklearn\\utils\\validation.py:63: FutureWarning: Arrays of bytes/strings is being converted to decimal numbers if dtype='numeric'. This behavior is deprecated in 0.24 and will be removed in 1.1 (renaming of 0.26). Please convert your data to numeric values explicitly instead.\n",
      "  return f(*args, **kwargs)\n",
      "C:\\Users\\goodr\\anaconda3\\envs\\mll\\lib\\site-packages\\sklearn\\utils\\validation.py:63: FutureWarning: Arrays of bytes/strings is being converted to decimal numbers if dtype='numeric'. This behavior is deprecated in 0.24 and will be removed in 1.1 (renaming of 0.26). Please convert your data to numeric values explicitly instead.\n",
      "  return f(*args, **kwargs)\n"
     ]
    }
   ],
   "source": [
    "from sklearn.metrics import mean_squared_error\n",
    "temp_MSE = []\n",
    "temp_RMSE = []\n",
    "for i in range(500,700,100):\n",
    "    MSE = mean_squared_error(result[i:i+100], data[i:i+100])\n",
    "    temp_MSE.append(MSE)\n",
    "    RMSE = MSE ** 0.5\n",
    "    temp_RMSE.append(RMSE)\n",
    "print(temp_MSE)\n",
    "print(temp_RMSE)"
   ]
  }
 ],
 "metadata": {
  "interpreter": {
   "hash": "ab83b35c86ff785ae76634efee8034bb953555fdec57846c4fd4b687de13dd65"
  },
  "kernelspec": {
   "display_name": "Python 3.6.13 64-bit ('mll': conda)",
   "language": "python",
   "name": "python3"
  },
  "language_info": {
   "codemirror_mode": {
    "name": "ipython",
    "version": 3
   },
   "file_extension": ".py",
   "mimetype": "text/x-python",
   "name": "python",
   "nbconvert_exporter": "python",
   "pygments_lexer": "ipython3",
   "version": "3.6.13"
  },
  "orig_nbformat": 4
 },
 "nbformat": 4,
 "nbformat_minor": 2
}
