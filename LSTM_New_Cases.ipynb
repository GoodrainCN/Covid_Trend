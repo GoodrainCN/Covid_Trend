{
 "cells": [
  {
   "cell_type": "code",
   "execution_count": 10,
   "metadata": {},
   "outputs": [],
   "source": [
    "import torch\n",
    "from torch import nn\n",
    "import numpy as np\n",
    "import matplotlib.pyplot as plt"
   ]
  },
  {
   "cell_type": "code",
   "execution_count": 11,
   "metadata": {},
   "outputs": [],
   "source": [
    "device = torch.device(\"cuda\" if torch.cuda.is_available() else \"cpu\")"
   ]
  },
  {
   "cell_type": "code",
   "execution_count": 12,
   "metadata": {},
   "outputs": [
    {
     "name": "stdout",
     "output_type": "stream",
     "text": [
      "torch.Size([408, 2, 1])\n"
     ]
    }
   ],
   "source": [
    "import csv\n",
    "data = []\n",
    "with open(\"OR_data.csv\", \"r\", encoding=\"utf-8\") as f:\n",
    "    csv_reader = csv.reader(f, delimiter=',')\n",
    "    headers = next(csv_reader)\n",
    "    for i in csv_reader:\n",
    "        data.append(int(i[5]))\n",
    "\n",
    "train  = data[:-300]\n",
    "test = data[-300:]\n",
    "\n",
    "li_x = []\n",
    "li_y = []\n",
    "seq = 2\n",
    "\n",
    "# 因为数据集较少，序列长度太长会影响结果\n",
    "for i in range(len(data[:-300]) - seq):\n",
    "    # 输入就是[x,x+1]天的数据，输出时x+2天的数据\n",
    "    li_x.append(train[i: i+seq])\n",
    "    li_y.append(train[i+seq])\n",
    "\n",
    "t_x = []\n",
    "t_y = []\n",
    "# 因为数据集较少，序列长度太长会影响结果\n",
    "for i in range(len(data[-300:]) - seq):\n",
    "    # 输入就是[x,x+1]天的数据，输出时x+2天的数据*\n",
    "    t_x.append(test[i: i+seq])\n",
    "    t_y.append(test[i+seq])\n",
    "\n",
    "# print(li_x)\n",
    "# print(li_y)\n",
    "\n",
    "# 分训练和测试集\n",
    "train_x = (torch.tensor(li_x).float() / 1000.).reshape(-1, seq, 1).to(device)\n",
    "train_y = (torch.tensor(li_y).float() / 1000.).reshape(-1, 1).to(device)\n",
    "\n",
    "print(train_x.shape)\n",
    "\n",
    "test_x = (torch.tensor(t_x).float() / 1000.).reshape(-1, seq, 1).to(device)\n",
    "test_y = (torch.tensor(t_y).float() / 1000.).reshape(-1, 1).to(device)"
   ]
  },
  {
   "cell_type": "code",
   "execution_count": 13,
   "metadata": {},
   "outputs": [],
   "source": [
    "class Net(nn.Module):\n",
    "    def __init__(self):\n",
    "        super(Net, self).__init__()\n",
    "        self.lstm = nn.LSTM(input_size=1, hidden_size=32, num_layers=1, batch_first=True)\n",
    "        # 输入格式是1，输出隐藏层大小是32\n",
    "        # 对于小数据集num_layers不要设置大，否则会因为模型变复杂而导致效果会变差\n",
    "        # num_layers顾名思义就是有几个lstm层，假如设置成2，就相当于连续经过两个lstm层\n",
    "        # 原来的输入格式是：(seq, batch, shape)\n",
    "        # 设置batch_first=True以后，输入格式就可以改为：(batch, seq, shape)，更符合平常使用的习惯\n",
    "        self.linear = nn.Linear(32*seq, 1)\n",
    "\n",
    "    def forward(self, x):\n",
    "        x, (h, c) = self.lstm(x)\n",
    "        x = x.reshape(-1, 32*seq)\n",
    "        x = self.linear(x)\n",
    "        return x"
   ]
  },
  {
   "cell_type": "code",
   "execution_count": 14,
   "metadata": {},
   "outputs": [],
   "source": [
    "model = Net().to(device)\n",
    "optimizer = torch.optim.Adam(model.parameters(), lr=0.003)\n",
    "loss_fun = nn.MSELoss()"
   ]
  },
  {
   "cell_type": "code",
   "execution_count": 15,
   "metadata": {},
   "outputs": [
    {
     "name": "stdout",
     "output_type": "stream",
     "text": [
      "epoch:20, loss:0.15595531463623047, test_loss: 0.5420452952384949\n",
      "epoch:40, loss:0.08214406669139862, test_loss: 0.3892783522605896\n",
      "epoch:60, loss:0.04881145432591438, test_loss: 0.35524478554725647\n",
      "epoch:80, loss:0.04487016424536705, test_loss: 0.32619738578796387\n",
      "epoch:100, loss:0.04340607300400734, test_loss: 0.3307008743286133\n",
      "epoch:120, loss:0.04239499941468239, test_loss: 0.33183953166007996\n",
      "epoch:140, loss:0.04165296629071236, test_loss: 0.335073858499527\n",
      "epoch:160, loss:0.04112746939063072, test_loss: 0.3383599817752838\n",
      "epoch:180, loss:0.040759745985269547, test_loss: 0.3411189913749695\n",
      "epoch:200, loss:0.040477678179740906, test_loss: 0.3429942727088928\n",
      "epoch:220, loss:0.040232494473457336, test_loss: 0.3439067304134369\n",
      "epoch:240, loss:0.040005143731832504, test_loss: 0.3441547453403473\n",
      "epoch:260, loss:0.03978235647082329, test_loss: 0.34431466460227966\n",
      "epoch:280, loss:0.03955983743071556, test_loss: 0.3449787497520447\n",
      "epoch:300, loss:0.03933415934443474, test_loss: 0.34632158279418945\n",
      "epoch:320, loss:0.039094287902116776, test_loss: 0.34839820861816406\n",
      "epoch:340, loss:0.03883402794599533, test_loss: 0.3512252867221832\n",
      "epoch:360, loss:0.038551073521375656, test_loss: 0.3548170030117035\n",
      "epoch:380, loss:0.038244012743234634, test_loss: 0.35947704315185547\n",
      "epoch:400, loss:0.037924304604530334, test_loss: 0.3654005527496338\n",
      "epoch:420, loss:0.037602584809064865, test_loss: 0.3728635311126709\n",
      "epoch:440, loss:0.03729284182190895, test_loss: 0.3816269338130951\n",
      "epoch:460, loss:0.03700476139783859, test_loss: 0.3911276161670685\n",
      "epoch:480, loss:0.036719292402267456, test_loss: 0.40053409337997437\n",
      "epoch:500, loss:0.03641350567340851, test_loss: 0.4095160663127899\n",
      "epoch:520, loss:0.036053940653800964, test_loss: 0.41863512992858887\n",
      "epoch:540, loss:0.035620395094156265, test_loss: 0.4288802146911621\n",
      "epoch:560, loss:0.03508076071739197, test_loss: 0.4411075711250305\n",
      "epoch:580, loss:0.03450369834899902, test_loss: 0.453785240650177\n",
      "epoch:600, loss:0.0339743010699749, test_loss: 0.4651675522327423\n",
      "epoch:620, loss:0.03354533016681671, test_loss: 0.474281370639801\n",
      "epoch:640, loss:0.033225417137145996, test_loss: 0.48110291361808777\n",
      "epoch:660, loss:0.03298802301287651, test_loss: 0.4867798388004303\n",
      "epoch:680, loss:0.032798025757074356, test_loss: 0.49122047424316406\n",
      "epoch:700, loss:0.03263454511761665, test_loss: 0.4953351616859436\n",
      "epoch:720, loss:0.03248172625899315, test_loss: 0.49910905957221985\n",
      "epoch:740, loss:0.03234388306736946, test_loss: 0.5020996332168579\n",
      "epoch:760, loss:0.032202526926994324, test_loss: 0.5047302842140198\n",
      "epoch:780, loss:0.03206455707550049, test_loss: 0.5068752765655518\n",
      "epoch:800, loss:0.031927164644002914, test_loss: 0.5084262490272522\n",
      "epoch:820, loss:0.03177347034215927, test_loss: 0.5090394616127014\n",
      "epoch:840, loss:0.03161442279815674, test_loss: 0.5088597536087036\n",
      "epoch:860, loss:0.03146388381719589, test_loss: 0.5080983638763428\n",
      "epoch:880, loss:0.03131244704127312, test_loss: 0.5060444474220276\n",
      "epoch:900, loss:0.031159380450844765, test_loss: 0.5039544105529785\n",
      "epoch:920, loss:0.031007928773760796, test_loss: 0.5033640265464783\n",
      "epoch:940, loss:0.030846573412418365, test_loss: 0.5029221177101135\n",
      "epoch:960, loss:0.030691593885421753, test_loss: 0.5016826391220093\n",
      "epoch:980, loss:0.03054565191268921, test_loss: 0.5003300905227661\n",
      "epoch:1000, loss:0.03038971684873104, test_loss: 0.49886393547058105\n",
      "epoch:1020, loss:0.03025004081428051, test_loss: 0.4974266290664673\n",
      "epoch:1040, loss:0.03011910244822502, test_loss: 0.49541595578193665\n",
      "epoch:1060, loss:0.030006391927599907, test_loss: 0.4935247004032135\n",
      "epoch:1080, loss:0.029904529452323914, test_loss: 0.49295565485954285\n",
      "epoch:1100, loss:0.029810573905706406, test_loss: 0.4909205138683319\n",
      "epoch:1120, loss:0.02973013184964657, test_loss: 0.48985064029693604\n",
      "epoch:1140, loss:0.029659397900104523, test_loss: 0.48807740211486816\n",
      "epoch:1160, loss:0.029593203216791153, test_loss: 0.48692387342453003\n",
      "epoch:1180, loss:0.029527170583605766, test_loss: 0.48542848229408264\n"
     ]
    }
   ],
   "source": [
    "model.train()\n",
    "for epoch in range(1200):\n",
    "    output = model(train_x)\n",
    "    loss = loss_fun(output, train_y)\n",
    "    optimizer.zero_grad()\n",
    "    loss.backward()\n",
    "    optimizer.step()\n",
    "    if epoch % 20 == 0 and epoch > 0:\n",
    "        test_loss = loss_fun(model(test_x), test_y)\n",
    "        print(\"epoch:{}, loss:{}, test_loss: {}\".format(epoch, loss, test_loss))"
   ]
  },
  {
   "cell_type": "code",
   "execution_count": 28,
   "metadata": {},
   "outputs": [
    {
     "data": {
      "image/png": "[encoded data removed]",
      "text/plain": [
       "<Figure size 432x288 with 1 Axes>"
      ]
     },
     "metadata": {
      "needs_background": "light"
     },
     "output_type": "display_data"
    }
   ],
   "source": [
    "model.eval()\n",
    "# result = li_x[0][:seq-1] + list((model(train_x).data.reshape(-1))*1000) + list((model(test_x).data.reshape(-1))*1000)\n",
    "result = [0] + list((model(train_x).data.reshape(-1))*00) + list((model(test_x).data.reshape(-1))*1000)\n",
    "#展示结果\n",
    "plt.plot(data,label=\"real\")\n",
    "# 原来的走势\n",
    "\n",
    "plt.plot(train,label=\"train\")\n",
    "\n",
    "plt.plot(result,label=\"pred\")\n",
    "plt.xticks(\n",
    "    [0,100,200,300,400,500,600,700],\n",
    "    ['2020/1','2020/5', '2020/8', '2020/12', '2021/2', '20211/6', '2021/9', '2021/12']\n",
    ")\n",
    "# 模型预测的走势\n",
    "plt.legend(loc='best')\n",
    "plt.savefig('plot/epoch.jpg')"
   ]
  },
  {
   "cell_type": "code",
   "execution_count": 25,
   "metadata": {},
   "outputs": [
    {
     "data": {
      "text/plain": [
       "[<matplotlib.lines.Line2D at 0x1724c1f49b0>]"
      ]
     },
     "execution_count": 25,
     "metadata": {},
     "output_type": "execute_result"
    },
    {
     "data": {
      "image/png": "[encoded data removed]",
      "text/plain": [
       "<Figure size 432x288 with 1 Axes>"
      ]
     },
     "metadata": {
      "needs_background": "light"
     },
     "output_type": "display_data"
    }
   ],
   "source": []
  },
  {
   "cell_type": "code",
   "execution_count": null,
   "metadata": {},
   "outputs": [],
   "source": []
  }
 ],
 "metadata": {
  "interpreter": {
   "hash": "ab83b35c86ff785ae76634efee8034bb953555fdec57846c4fd4b687de13dd65"
  },
  "kernelspec": {
   "display_name": "Python 3.6.13 64-bit ('mll': conda)",
   "language": "python",
   "name": "python3"
  },
  "language_info": {
   "codemirror_mode": {
    "name": "ipython",
    "version": 3
   },
   "file_extension": ".py",
   "mimetype": "text/x-python",
   "name": "python",
   "nbconvert_exporter": "python",
   "pygments_lexer": "ipython3",
   "version": "3.6.13"
  },
  "orig_nbformat": 4
 },
 "nbformat": 4,
 "nbformat_minor": 2
}
