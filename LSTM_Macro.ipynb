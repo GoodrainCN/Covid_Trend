{
  "nbformat": 4,
  "nbformat_minor": 0,
  "metadata": {
    "colab": {
      "name": "LSTM2.ipynb",
      "provenance": [],
      "collapsed_sections": []
    },
    "kernelspec": {
      "name": "python3",
      "display_name": "Python 3"
    },
    "language_info": {
      "name": "python"
    }
  },
  "cells": [
    {
      "cell_type": "code",
      "execution_count": null,
      "metadata": {
        "id": "pCq8ABKFSN15"
      },
      "outputs": [],
      "source": [
        "import torch\n",
        "from torch import nn\n",
        "import numpy as np\n",
        "import matplotlib.pyplot as plt"
      ]
    },
    {
      "cell_type": "code",
      "source": [
        "device = torch.device(\"cuda\" if torch.cuda.is_available() else \"cpu\")"
      ],
      "metadata": {
        "id": "CuM9NFGWSZ4t"
      },
      "execution_count": null,
      "outputs": []
    },
    {
      "cell_type": "code",
      "source": [
        "from google.colab import drive\n",
        "drive.mount('/content/drive', force_remount=True)"
      ],
      "metadata": {
        "colab": {
          "base_uri": "https://localhost:8080/"
        },
        "id": "XImO01mISbta",
        "outputId": "e5a91501-d27f-4dfc-970d-3683a27826c9"
      },
      "execution_count": null,
      "outputs": [
        {
          "output_type": "stream",
          "name": "stdout",
          "text": [
            "Mounted at /content/drive\n"
          ]
        }
      ]
    },
    {
      "cell_type": "markdown",
      "source": [
        "与LSTM.inynb的区别就是这里不再划分训练集和测试集合，所有的数据都是训练集"
      ],
      "metadata": {
        "id": "IIJWCN9MSj21"
      }
    },
    {
      "cell_type": "code",
      "source": [
        "with open(\"/content/drive/MyDrive/covid/data/data_table_for_daily_case_trends__the_united_states.csv\", \"r\", encoding=\"utf-8\") as f:\n",
        "    data = f.read()\n",
        "\n",
        "data = [row.split(',') for row in  data.split(\"\\n\")]\n",
        "\n",
        "# value = [int(each[1]) for each in data]\n",
        "value = [float(each[2]) for each in data[1:]]\n",
        "\n",
        "\n",
        "seq = 7\n",
        "\n",
        "# 训练集构造\n",
        "\n",
        "li_x = []\n",
        "li_y = []\n",
        "\n",
        "for i in range(len(value) - seq):\n",
        "    # 输入就是[x, x+1, x+2, ... , x + (seq-1)]天的数据，输出是 x + seq 天的数据\n",
        "    li_x.append(value[i: i+seq])\n",
        "    li_y.append(value[i+seq])\n",
        "\n",
        "\n",
        "\n",
        "train_x = (torch.tensor(li_x).float() / 1000.).reshape(-1, seq, 1).to(device)\n",
        "train_y = (torch.tensor(li_y).float() / 1000.).reshape(-1, 1).to(device)\n",
        "\n",
        "\n"
      ],
      "metadata": {
        "id": "L2JBFDO-SeHo"
      },
      "execution_count": null,
      "outputs": []
    },
    {
      "cell_type": "code",
      "source": [
        "class Net(nn.Module):\n",
        "    def __init__(self):\n",
        "        super(Net, self).__init__()\n",
        "        self.lstm = nn.LSTM(input_size=1, hidden_size=32, num_layers=1, batch_first=True)\n",
        "        # 输入格式是1，输出隐藏层大小是32\n",
        "        # 对于小数据集num_layers不要设置大，否则会因为模型变复杂而导致效果会变差\n",
        "        # num_layers顾名思义就是有几个lstm层，假如设置成2，就相当于连续经过两个lstm层\n",
        "        # 原来的输入格式是：(seq, batch, shape)\n",
        "        # 设置batch_first=True以后，输入格式就可以改为：(batch, seq, shape)，更符合平常使用的习惯\n",
        "        self.linear = nn.Linear(32*seq, 1)\n",
        "\n",
        "    def forward(self, x):\n",
        "        x, (h, c) = self.lstm(x)\n",
        "        x = x.reshape(-1, 32*seq)\n",
        "        x = self.linear(x)\n",
        "        return x"
      ],
      "metadata": {
        "id": "QfG8JnZuTEFS"
      },
      "execution_count": null,
      "outputs": []
    },
    {
      "cell_type": "code",
      "source": [
        "model = Net().to(device)\n",
        "optimizer = torch.optim.Adam(model.parameters(), lr=0.001)\n",
        "loss_fun = nn.MSELoss()"
      ],
      "metadata": {
        "id": "Lub5y-LMTE0w"
      },
      "execution_count": null,
      "outputs": []
    },
    {
      "cell_type": "code",
      "source": [
        "model.train()\n",
        "for epoch in range(3000):\n",
        "    output = model(train_x)\n",
        "    loss = loss_fun(output, train_y)\n",
        "    optimizer.zero_grad()\n",
        "    loss.backward()\n",
        "    optimizer.step()\n",
        "    if epoch % 20 == 0 and epoch > 0:\n",
        "        print(\"epoch:{}, loss:{}\".format(epoch, loss))\n"
      ],
      "metadata": {
        "colab": {
          "base_uri": "https://localhost:8080/"
        },
        "id": "RtaNv_ZmTJs9",
        "outputId": "2315af1b-fbd0-4f1b-da25-771ab513686e"
      },
      "execution_count": null,
      "outputs": [
        {
          "output_type": "stream",
          "name": "stdout",
          "text": [
            "epoch:20, loss:1773.0020751953125\n",
            "epoch:40, loss:1761.140869140625\n",
            "epoch:60, loss:1749.986083984375\n",
            "epoch:80, loss:1738.9833984375\n",
            "epoch:100, loss:1728.1094970703125\n",
            "epoch:120, loss:1717.327880859375\n",
            "epoch:140, loss:1710.18505859375\n",
            "epoch:160, loss:1700.786376953125\n",
            "epoch:180, loss:1688.8863525390625\n",
            "epoch:200, loss:1677.3690185546875\n",
            "epoch:220, loss:1669.5806884765625\n",
            "epoch:240, loss:1658.644775390625\n",
            "epoch:260, loss:1649.0135498046875\n",
            "epoch:280, loss:1639.705322265625\n",
            "epoch:300, loss:1627.2230224609375\n",
            "epoch:320, loss:1618.3812255859375\n",
            "epoch:340, loss:1611.79638671875\n",
            "epoch:360, loss:1600.8402099609375\n",
            "epoch:380, loss:1594.300537109375\n",
            "epoch:400, loss:1580.3397216796875\n",
            "epoch:420, loss:1575.2978515625\n",
            "epoch:440, loss:1564.885986328125\n",
            "epoch:460, loss:1552.5665283203125\n",
            "epoch:480, loss:1545.4656982421875\n",
            "epoch:500, loss:1535.52099609375\n",
            "epoch:520, loss:1525.045166015625\n",
            "epoch:540, loss:1516.2183837890625\n",
            "epoch:560, loss:1507.9290771484375\n",
            "epoch:580, loss:1501.7457275390625\n",
            "epoch:600, loss:1492.185546875\n",
            "epoch:620, loss:1483.744873046875\n",
            "epoch:640, loss:1492.07666015625\n",
            "epoch:660, loss:1472.759765625\n",
            "epoch:680, loss:1461.0223388671875\n",
            "epoch:700, loss:1451.6510009765625\n",
            "epoch:720, loss:1443.7930908203125\n",
            "epoch:740, loss:1436.1348876953125\n",
            "epoch:760, loss:1428.5885009765625\n",
            "epoch:780, loss:1421.129638671875\n",
            "epoch:800, loss:1413.745849609375\n",
            "epoch:820, loss:1406.429443359375\n",
            "epoch:840, loss:1399.1688232421875\n",
            "epoch:860, loss:1396.064697265625\n",
            "epoch:880, loss:1388.967041015625\n",
            "epoch:900, loss:1469.7811279296875\n",
            "epoch:920, loss:1362.270263671875\n",
            "epoch:940, loss:1326.9923095703125\n",
            "epoch:960, loss:1307.2911376953125\n",
            "epoch:980, loss:1290.42822265625\n",
            "epoch:1000, loss:1275.261962890625\n",
            "epoch:1020, loss:1260.497802734375\n",
            "epoch:1040, loss:1246.181396484375\n",
            "epoch:1060, loss:1232.6038818359375\n",
            "epoch:1080, loss:1219.2471923828125\n",
            "epoch:1100, loss:1206.7176513671875\n",
            "epoch:1120, loss:1194.4295654296875\n",
            "epoch:1140, loss:1181.590087890625\n",
            "epoch:1160, loss:1170.020263671875\n",
            "epoch:1180, loss:1156.9884033203125\n",
            "epoch:1200, loss:1145.646484375\n",
            "epoch:1220, loss:1134.4525146484375\n",
            "epoch:1240, loss:1122.165283203125\n",
            "epoch:1260, loss:1111.50048828125\n",
            "epoch:1280, loss:1099.7855224609375\n",
            "epoch:1300, loss:1090.09423828125\n",
            "epoch:1320, loss:1078.1885986328125\n",
            "epoch:1340, loss:1068.9033203125\n",
            "epoch:1360, loss:1057.0517578125\n",
            "epoch:1380, loss:1050.1260986328125\n",
            "epoch:1400, loss:1037.578857421875\n",
            "epoch:1420, loss:1027.324462890625\n",
            "epoch:1440, loss:1016.5300903320312\n",
            "epoch:1460, loss:1008.89599609375\n",
            "epoch:1480, loss:997.93212890625\n",
            "epoch:1500, loss:987.9235229492188\n",
            "epoch:1520, loss:980.0496826171875\n",
            "epoch:1540, loss:975.02490234375\n",
            "epoch:1560, loss:992.3573608398438\n",
            "epoch:1580, loss:955.8429565429688\n",
            "epoch:1600, loss:939.843017578125\n",
            "epoch:1620, loss:929.7632446289062\n",
            "epoch:1640, loss:921.35107421875\n",
            "epoch:1660, loss:913.0872802734375\n",
            "epoch:1680, loss:901.8237915039062\n",
            "epoch:1700, loss:895.1544799804688\n",
            "epoch:1720, loss:885.2246704101562\n",
            "epoch:1740, loss:876.0737915039062\n",
            "epoch:1760, loss:869.6736450195312\n",
            "epoch:1780, loss:859.383544921875\n",
            "epoch:1800, loss:854.591796875\n",
            "epoch:1820, loss:842.421875\n",
            "epoch:1840, loss:834.284423828125\n",
            "epoch:1860, loss:828.7052612304688\n",
            "epoch:1880, loss:819.3904418945312\n",
            "epoch:1900, loss:809.8126831054688\n",
            "epoch:1920, loss:802.8425903320312\n",
            "epoch:1940, loss:793.1509399414062\n",
            "epoch:1960, loss:787.2935791015625\n",
            "epoch:1980, loss:773.0785522460938\n",
            "epoch:2000, loss:764.4796752929688\n",
            "epoch:2020, loss:753.6843872070312\n",
            "epoch:2040, loss:747.807373046875\n",
            "epoch:2060, loss:734.3772583007812\n",
            "epoch:2080, loss:728.4893188476562\n",
            "epoch:2100, loss:717.038330078125\n",
            "epoch:2120, loss:708.3482666015625\n",
            "epoch:2140, loss:695.5488891601562\n",
            "epoch:2160, loss:686.1751708984375\n",
            "epoch:2180, loss:674.6746215820312\n",
            "epoch:2200, loss:665.5132446289062\n",
            "epoch:2220, loss:660.506103515625\n",
            "epoch:2240, loss:651.8810424804688\n",
            "epoch:2260, loss:644.5665283203125\n",
            "epoch:2280, loss:636.0423583984375\n",
            "epoch:2300, loss:625.7637939453125\n",
            "epoch:2320, loss:615.41162109375\n",
            "epoch:2340, loss:607.905029296875\n",
            "epoch:2360, loss:604.31494140625\n",
            "epoch:2380, loss:596.3375854492188\n",
            "epoch:2400, loss:587.1673583984375\n",
            "epoch:2420, loss:577.1973266601562\n",
            "epoch:2440, loss:569.8091430664062\n",
            "epoch:2460, loss:564.73583984375\n",
            "epoch:2480, loss:553.8946533203125\n",
            "epoch:2500, loss:553.4722900390625\n",
            "epoch:2520, loss:540.6814575195312\n",
            "epoch:2540, loss:532.5877685546875\n",
            "epoch:2560, loss:533.3235473632812\n",
            "epoch:2580, loss:518.2604370117188\n",
            "epoch:2600, loss:515.0147705078125\n",
            "epoch:2620, loss:505.32269287109375\n",
            "epoch:2640, loss:500.5604248046875\n",
            "epoch:2660, loss:501.556884765625\n",
            "epoch:2680, loss:488.74859619140625\n",
            "epoch:2700, loss:485.4672546386719\n",
            "epoch:2720, loss:476.55084228515625\n",
            "epoch:2740, loss:468.4112854003906\n",
            "epoch:2760, loss:459.2195129394531\n",
            "epoch:2780, loss:462.45709228515625\n",
            "epoch:2800, loss:447.4615478515625\n",
            "epoch:2820, loss:448.4374084472656\n",
            "epoch:2840, loss:441.14178466796875\n",
            "epoch:2860, loss:432.4443054199219\n",
            "epoch:2880, loss:427.7464599609375\n",
            "epoch:2900, loss:425.50079345703125\n",
            "epoch:2920, loss:419.6000061035156\n",
            "epoch:2940, loss:413.92901611328125\n",
            "epoch:2960, loss:409.29974365234375\n",
            "epoch:2980, loss:401.3278503417969\n"
          ]
        }
      ]
    },
    {
      "cell_type": "markdown",
      "source": [
        "绘制训练效果图"
      ],
      "metadata": {
        "id": "U0qPhw3EXrWw"
      }
    },
    {
      "cell_type": "code",
      "source": [
        "model.eval()\n",
        "\n",
        "train_pre = list((model(train_x).data.reshape(-1))*1000)\n",
        "\n",
        "from sklearn.metrics import mean_squared_error\n",
        "print(\"MSE:\", mean_squared_error(train_y*1000, train_pre))\n",
        "\n",
        "\n",
        "plt.figure(figsize=(10,5))\n",
        "\n",
        "# 真实数据\n",
        "plt.plot(train_y*1000, label=\"real\")\n",
        "\n",
        "\n",
        "# 预测结果\n",
        "plt.plot(train_pre, label=\"pred\")\n",
        "\n",
        "# 模型预测的走势\n",
        "plt.legend(loc='best')"
      ],
      "metadata": {
        "colab": {
          "base_uri": "https://localhost:8080/",
          "height": 366
        },
        "id": "mnztCnAKXhxb",
        "outputId": "714dcbbe-11e2-4ef6-c7cd-4b73f416e093"
      },
      "execution_count": null,
      "outputs": [
        {
          "output_type": "stream",
          "name": "stdout",
          "text": [
            "MSE: 394198660.0\n"
          ]
        },
        {
          "output_type": "execute_result",
          "data": {
            "text/plain": [
              "<matplotlib.legend.Legend at 0x7fbff10bbdd0>"
            ]
          },
          "metadata": {},
          "execution_count": 29
        },
        {
          "output_type": "display_data",
          "data": {
            "image/png": "[encoded data removed]",
            "text/plain": [
              "<Figure size 720x360 with 1 Axes>"
            ]
          },
          "metadata": {
            "needs_background": "light"
          }
        }
      ]
    },
    {
      "cell_type": "code",
      "source": [
        "result = []\n",
        "\n",
        "# 使用训练集最后七天的数据作为起始点\n",
        "\n",
        "result.append(train_x[707][0][0])\n",
        "result.append(train_x[707][1][0])\n",
        "result.append(train_x[707][2][0])\n",
        "result.append(train_x[707][3][0])\n",
        "result.append(train_x[707][4][0])\n",
        "result.append(train_x[707][5][0])\n",
        "result.append(train_x[707][6][0])\n",
        "\n",
        "\n",
        "print(result)"
      ],
      "metadata": {
        "colab": {
          "base_uri": "https://localhost:8080/"
        },
        "id": "Wr6L77JaTaGu",
        "outputId": "0d2556ad-7e55-4039-e550-1893af6a46b2"
      },
      "execution_count": null,
      "outputs": [
        {
          "output_type": "stream",
          "name": "stdout",
          "text": [
            "[tensor(593.7250), tensor(453.6930), tensor(273.9400), tensor(404.6440), tensor(954.0090), tensor(718.4990), tensor(705.3510)]\n"
          ]
        }
      ]
    },
    {
      "cell_type": "code",
      "source": [
        "# 预测未来30天的数据，\n",
        "for i in range(30):\n",
        "  result.append(model(torch.tensor(result[i:i+7]).reshape(1,7,1)))\n",
        "\n",
        "print(len(result)) \n",
        "\n",
        "\n",
        "\n",
        "results =  value + [i * 1000 for i in result]\n",
        "print(len(result))\n",
        "\n",
        "\n",
        "\n",
        "plt.figure(figsize=(10,5))\n",
        "\n",
        "# 预测结果\n",
        "plt.plot(results, label=\"pred\")\n",
        "\n",
        "# 真实数据\n",
        "plt.plot(value, label=\"real\")\n",
        "\n",
        "\n",
        "# 模型预测的走势\n",
        "plt.legend(loc='best')"
      ],
      "metadata": {
        "colab": {
          "base_uri": "https://localhost:8080/",
          "height": 383
        },
        "id": "Hl7HCV8UUEu-",
        "outputId": "8057a1cb-7cbf-42b6-c3d2-c2592946de73"
      },
      "execution_count": null,
      "outputs": [
        {
          "output_type": "stream",
          "name": "stdout",
          "text": [
            "37\n",
            "37\n"
          ]
        },
        {
          "output_type": "execute_result",
          "data": {
            "text/plain": [
              "<matplotlib.legend.Legend at 0x7fbff0d68b50>"
            ]
          },
          "metadata": {},
          "execution_count": 37
        },
        {
          "output_type": "display_data",
          "data": {
            "image/png": "[encoded data removed]",
            "text/plain": [
              "<Figure size 720x360 with 1 Axes>"
            ]
          },
          "metadata": {
            "needs_background": "light"
          }
        }
      ]
    }
  ]
}