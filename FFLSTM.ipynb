{
  "nbformat": 4,
  "nbformat_minor": 0,
  "metadata": {
    "colab": {
      "name": "LSTM2.ipynb",
      "provenance": [],
      "collapsed_sections": []
    },
    "kernelspec": {
      "name": "python3",
      "display_name": "Python 3"
    },
    "language_info": {
      "name": "python"
    }
  },
  "cells": [
    {
      "cell_type": "code",
      "execution_count": null,
      "metadata": {
        "id": "pCq8ABKFSN15"
      },
      "outputs": [],
      "source": [
        "import torch\n",
        "from torch import nn\n",
        "import numpy as np\n",
        "import matplotlib.pyplot as plt"
      ]
    },
    {
      "cell_type": "code",
      "source": [
        "device = torch.device(\"cuda\" if torch.cuda.is_available() else \"cpu\")"
      ],
      "metadata": {
        "id": "CuM9NFGWSZ4t"
      },
      "execution_count": null,
      "outputs": []
    },
    {
      "cell_type": "code",
      "source": [
        "from google.colab import drive\n",
        "drive.mount('/content/drive', force_remount=True)"
      ],
      "metadata": {
        "colab": {
          "base_uri": "https://localhost:8080/"
        },
        "id": "XImO01mISbta",
        "outputId": "28afcba3-ba6c-4b3d-fc37-e4c9a71680ee"
      },
      "execution_count": null,
      "outputs": [
        {
          "output_type": "stream",
          "name": "stdout",
          "text": [
            "Mounted at /content/drive\n"
          ]
        }
      ]
    },
    {
      "cell_type": "markdown",
      "source": [
        "与LSTM.inynb的区别就是这里不再划分训练集和测试集合，所有的数据都是训练集"
      ],
      "metadata": {
        "id": "IIJWCN9MSj21"
      }
    },
    {
      "cell_type": "code",
      "source": [
        "# with open(\"/content/drive/MyDrive/covid/data/data_table_for_daily_case_trends__the_united_states.csv\", \"r\", encoding=\"utf-8\") as f:\n",
        "#     data = f.read()\n",
        "\n",
        "# data = [row.split(',') for row in  data.split(\"\\n\")]\n",
        "\n",
        "# # value = [int(each[1]) for each in data]\n",
        "# value = [float(each[2]) for each in data[1:]]\n",
        "\n",
        "import csv\n",
        "value = []\n",
        "with open(\"/content/drive/MyDrive/covid/data/new_york_(excludes_nyc).csv\", \"r\", encoding=\"utf-8\") as f:\n",
        "    csv_reader = csv.reader(f, delimiter=',')\n",
        "    headers = next(csv_reader)\n",
        "    for i in csv_reader:\n",
        "        value.append(int(i[2]))\n",
        "\n",
        "value.reverse()\n",
        "\n",
        "seq = 7\n",
        "\n",
        "# 训练集构造\n",
        "\n",
        "li_x = []\n",
        "li_y = []\n",
        "\n",
        "for i in range(len(value) - seq):\n",
        "    # 输入就是[x, x+1, x+2, ... , x + (seq-1)]天的数据，输出是 x + seq 天的数据\n",
        "    li_x.append(value[i: i+seq])\n",
        "    li_y.append(value[i+seq])\n",
        "\n",
        "\n",
        "\n",
        "train_x = (torch.tensor(li_x).float() / 1000.).reshape(-1, seq, 1).to(device)\n",
        "train_y = (torch.tensor(li_y).float() / 1000.).reshape(-1, 1).to(device)\n",
        "\n",
        "\n"
      ],
      "metadata": {
        "id": "L2JBFDO-SeHo"
      },
      "execution_count": null,
      "outputs": []
    },
    {
      "cell_type": "code",
      "source": [
        "class Net(nn.Module):\n",
        "    def __init__(self):\n",
        "        super(Net, self).__init__()\n",
        "        self.lstm = nn.LSTM(input_size=1, hidden_size=32, num_layers=1, batch_first=True)\n",
        "        # 输入格式是1，输出隐藏层大小是32\n",
        "        # 对于小数据集num_layers不要设置大，否则会因为模型变复杂而导致效果会变差\n",
        "        # num_layers顾名思义就是有几个lstm层，假如设置成2，就相当于连续经过两个lstm层\n",
        "        # 原来的输入格式是：(seq, batch, shape)\n",
        "        # 设置batch_first=True以后，输入格式就可以改为：(batch, seq, shape)，更符合平常使用的习惯\n",
        "        self.linear = nn.Linear(32*seq, 1)\n",
        "\n",
        "    def forward(self, x):\n",
        "        x, (h, c) = self.lstm(x)\n",
        "        x = x.reshape(-1, 32*seq)\n",
        "        x = self.linear(x)\n",
        "        return x"
      ],
      "metadata": {
        "id": "QfG8JnZuTEFS"
      },
      "execution_count": null,
      "outputs": []
    },
    {
      "cell_type": "code",
      "source": [
        "model = Net().to(device)\n",
        "optimizer = torch.optim.Adam(model.parameters(), lr=0.001)\n",
        "loss_fun = nn.MSELoss()"
      ],
      "metadata": {
        "id": "Lub5y-LMTE0w"
      },
      "execution_count": null,
      "outputs": []
    },
    {
      "cell_type": "code",
      "source": [
        "model.train()\n",
        "for epoch in range(3000):\n",
        "    output = model(train_x)\n",
        "    loss = loss_fun(output, train_y)\n",
        "    optimizer.zero_grad()\n",
        "    loss.backward()\n",
        "    optimizer.step()\n",
        "    if epoch % 20 == 0 and epoch > 0:\n",
        "        print(\"epoch:{}, loss:{}\".format(epoch, loss))\n"
      ],
      "metadata": {
        "colab": {
          "base_uri": "https://localhost:8080/"
        },
        "id": "RtaNv_ZmTJs9",
        "outputId": "6cf6f804-7ab6-463a-8de6-3f8c7d3dcfc5"
      },
      "execution_count": null,
      "outputs": [
        {
          "output_type": "stream",
          "name": "stdout",
          "text": [
            "epoch:20, loss:33.613075256347656\n",
            "epoch:40, loss:22.508180618286133\n",
            "epoch:60, loss:16.48678207397461\n",
            "epoch:80, loss:11.997509002685547\n",
            "epoch:100, loss:8.937207221984863\n",
            "epoch:120, loss:7.04880428314209\n",
            "epoch:140, loss:5.840900897979736\n",
            "epoch:160, loss:5.138308048248291\n",
            "epoch:180, loss:4.703380107879639\n",
            "epoch:200, loss:4.375041484832764\n",
            "epoch:220, loss:4.084005832672119\n",
            "epoch:240, loss:3.8034770488739014\n",
            "epoch:260, loss:3.5614354610443115\n",
            "epoch:280, loss:3.3600473403930664\n",
            "epoch:300, loss:3.2016377449035645\n",
            "epoch:320, loss:3.0784912109375\n",
            "epoch:340, loss:2.9768640995025635\n",
            "epoch:360, loss:2.8901848793029785\n",
            "epoch:380, loss:2.8163373470306396\n",
            "epoch:400, loss:2.7499988079071045\n",
            "epoch:420, loss:2.687676429748535\n",
            "epoch:440, loss:2.626519203186035\n",
            "epoch:460, loss:2.562863349914551\n",
            "epoch:480, loss:2.4966444969177246\n",
            "epoch:500, loss:2.431596279144287\n",
            "epoch:520, loss:2.3685364723205566\n",
            "epoch:540, loss:2.3057026863098145\n",
            "epoch:560, loss:2.2420153617858887\n",
            "epoch:580, loss:2.1771469116210938\n",
            "epoch:600, loss:2.112051248550415\n",
            "epoch:620, loss:2.0488269329071045\n",
            "epoch:640, loss:1.9889616966247559\n",
            "epoch:660, loss:1.9324069023132324\n",
            "epoch:680, loss:1.8785195350646973\n",
            "epoch:700, loss:1.8260589838027954\n",
            "epoch:720, loss:1.7739553451538086\n",
            "epoch:740, loss:1.7221177816390991\n",
            "epoch:760, loss:1.6704680919647217\n",
            "epoch:780, loss:1.619428038597107\n",
            "epoch:800, loss:1.5699411630630493\n",
            "epoch:820, loss:1.5224151611328125\n",
            "epoch:840, loss:1.4763026237487793\n",
            "epoch:860, loss:1.4300862550735474\n",
            "epoch:880, loss:1.3858094215393066\n",
            "epoch:900, loss:1.3453954458236694\n",
            "epoch:920, loss:1.3013955354690552\n",
            "epoch:940, loss:1.2590311765670776\n",
            "epoch:960, loss:1.2137569189071655\n",
            "epoch:980, loss:1.1688239574432373\n",
            "epoch:1000, loss:1.1270803213119507\n",
            "epoch:1020, loss:1.0885981321334839\n",
            "epoch:1040, loss:1.0519770383834839\n",
            "epoch:1060, loss:1.0123636722564697\n",
            "epoch:1080, loss:0.9688532948493958\n",
            "epoch:1100, loss:0.9370444416999817\n",
            "epoch:1120, loss:0.8982712030410767\n",
            "epoch:1140, loss:0.8640470504760742\n",
            "epoch:1160, loss:0.831059455871582\n",
            "epoch:1180, loss:0.7983267307281494\n",
            "epoch:1200, loss:0.7667385339736938\n",
            "epoch:1220, loss:0.7360242605209351\n",
            "epoch:1240, loss:0.7045648097991943\n",
            "epoch:1260, loss:0.6720024943351746\n",
            "epoch:1280, loss:0.6430903077125549\n",
            "epoch:1300, loss:0.6175643801689148\n",
            "epoch:1320, loss:0.5924233198165894\n",
            "epoch:1340, loss:0.5693866610527039\n",
            "epoch:1360, loss:0.5469266176223755\n",
            "epoch:1380, loss:0.5315719842910767\n",
            "epoch:1400, loss:0.498643696308136\n",
            "epoch:1420, loss:0.47021791338920593\n",
            "epoch:1440, loss:0.4531809985637665\n",
            "epoch:1460, loss:0.43676918745040894\n",
            "epoch:1480, loss:0.42216819524765015\n",
            "epoch:1500, loss:0.4105026423931122\n",
            "epoch:1520, loss:0.39918312430381775\n",
            "epoch:1540, loss:0.38908639550209045\n",
            "epoch:1560, loss:0.3837232291698456\n",
            "epoch:1580, loss:0.3714226484298706\n",
            "epoch:1600, loss:0.36287805438041687\n",
            "epoch:1620, loss:0.3561716675758362\n",
            "epoch:1640, loss:0.34869664907455444\n",
            "epoch:1660, loss:0.3402853310108185\n",
            "epoch:1680, loss:0.33341026306152344\n",
            "epoch:1700, loss:0.32671841979026794\n",
            "epoch:1720, loss:0.32099589705467224\n",
            "epoch:1740, loss:0.3160088062286377\n",
            "epoch:1760, loss:0.30878445506095886\n",
            "epoch:1780, loss:0.3051610589027405\n",
            "epoch:1800, loss:0.29757073521614075\n",
            "epoch:1820, loss:0.3058896064758301\n",
            "epoch:1840, loss:0.28756973147392273\n",
            "epoch:1860, loss:0.2821250259876251\n",
            "epoch:1880, loss:0.2771168649196625\n",
            "epoch:1900, loss:0.2752193808555603\n",
            "epoch:1920, loss:0.26810717582702637\n",
            "epoch:1940, loss:0.2660977840423584\n",
            "epoch:1960, loss:0.2600627839565277\n",
            "epoch:1980, loss:0.2545487582683563\n",
            "epoch:2000, loss:0.2515300214290619\n",
            "epoch:2020, loss:0.2510746717453003\n",
            "epoch:2040, loss:0.24237634241580963\n",
            "epoch:2060, loss:0.23804284632205963\n",
            "epoch:2080, loss:0.2349110096693039\n",
            "epoch:2100, loss:0.23086325824260712\n",
            "epoch:2120, loss:0.22675524652004242\n",
            "epoch:2140, loss:0.2227657288312912\n",
            "epoch:2160, loss:0.22033469378948212\n",
            "epoch:2180, loss:0.2154725193977356\n",
            "epoch:2200, loss:0.21421292424201965\n",
            "epoch:2220, loss:0.20909926295280457\n",
            "epoch:2240, loss:0.20486876368522644\n",
            "epoch:2260, loss:0.20146404206752777\n",
            "epoch:2280, loss:0.1984018236398697\n",
            "epoch:2300, loss:0.19632862508296967\n",
            "epoch:2320, loss:0.19180993735790253\n",
            "epoch:2340, loss:0.1887510120868683\n",
            "epoch:2360, loss:0.1949457973241806\n",
            "epoch:2380, loss:0.18300259113311768\n",
            "epoch:2400, loss:0.18013174831867218\n",
            "epoch:2420, loss:0.17703960835933685\n",
            "epoch:2440, loss:0.17476658523082733\n",
            "epoch:2460, loss:0.171655535697937\n",
            "epoch:2480, loss:0.17520548403263092\n",
            "epoch:2500, loss:0.16645334661006927\n",
            "epoch:2520, loss:0.1640472561120987\n",
            "epoch:2540, loss:0.16173726320266724\n",
            "epoch:2560, loss:0.15955641865730286\n",
            "epoch:2580, loss:0.15757595002651215\n",
            "epoch:2600, loss:0.15648242831230164\n",
            "epoch:2620, loss:0.15359529852867126\n",
            "epoch:2640, loss:0.15157803893089294\n",
            "epoch:2660, loss:0.14971643686294556\n",
            "epoch:2680, loss:0.14860279858112335\n",
            "epoch:2700, loss:0.14812013506889343\n",
            "epoch:2720, loss:0.14502568542957306\n",
            "epoch:2740, loss:0.14326411485671997\n",
            "epoch:2760, loss:0.14178220927715302\n",
            "epoch:2780, loss:0.14758828282356262\n",
            "epoch:2800, loss:0.1400737762451172\n",
            "epoch:2820, loss:0.13768789172172546\n",
            "epoch:2840, loss:0.1364179253578186\n",
            "epoch:2860, loss:0.1364167183637619\n",
            "epoch:2880, loss:0.13401050865650177\n",
            "epoch:2900, loss:0.1330489218235016\n",
            "epoch:2920, loss:0.13162054121494293\n",
            "epoch:2940, loss:0.13042716681957245\n",
            "epoch:2960, loss:0.13476024568080902\n",
            "epoch:2980, loss:0.12925148010253906\n"
          ]
        }
      ]
    },
    {
      "cell_type": "markdown",
      "source": [
        "绘制训练效果图"
      ],
      "metadata": {
        "id": "U0qPhw3EXrWw"
      }
    },
    {
      "cell_type": "code",
      "source": [
        "model.eval()\n",
        "\n",
        "train_pre = list((model(train_x).data.reshape(-1))*1000)\n",
        "\n",
        "from sklearn.metrics import mean_squared_error\n",
        "print(\"MSE:\", mean_squared_error(train_y*1000, train_pre))\n",
        "\n",
        "\n",
        "plt.figure(figsize=(10,5))\n",
        "\n",
        "# 真实数据\n",
        "plt.plot(train_y*1000, label=\"real\")\n",
        "\n",
        "\n",
        "# 预测结果\n",
        "plt.plot(train_pre, label=\"pred\")\n",
        "\n",
        "# 模型预测的走势\n",
        "plt.legend(loc='best')\n",
        "plt.savefig('fig1.png', dpi = 300)"
      ],
      "metadata": {
        "colab": {
          "base_uri": "https://localhost:8080/",
          "height": 338
        },
        "id": "mnztCnAKXhxb",
        "outputId": "280b9632-dbe0-4077-e1b2-c837bc4db4ca"
      },
      "execution_count": null,
      "outputs": [
        {
          "output_type": "stream",
          "name": "stdout",
          "text": [
            "MSE: 127425.234\n"
          ]
        },
        {
          "output_type": "display_data",
          "data": {
            "image/png": "[encoded data removed]",
            "text/plain": [
              "<Figure size 720x360 with 1 Axes>"
            ]
          },
          "metadata": {
            "needs_background": "light"
          }
        }
      ]
    },
    {
      "cell_type": "code",
      "source": [
        "result = []\n",
        "\n",
        "# 使用训练集最后七天的数据作为起始点\n",
        "print(len(train_x))\n",
        "\n",
        "result.append(train_x[743][0][0])\n",
        "result.append(train_x[743][1][0])\n",
        "result.append(train_x[743][2][0])\n",
        "result.append(train_x[743][3][0])\n",
        "result.append(train_x[743][4][0])\n",
        "result.append(train_x[743][5][0])\n",
        "result.append(train_x[743][6][0])\n",
        "\n",
        "\n",
        "print(result)"
      ],
      "metadata": {
        "colab": {
          "base_uri": "https://localhost:8080/"
        },
        "id": "Wr6L77JaTaGu",
        "outputId": "53f18c60-76bc-4ef7-afaa-3cba9a07adaf"
      },
      "execution_count": null,
      "outputs": [
        {
          "output_type": "stream",
          "name": "stdout",
          "text": [
            "744\n",
            "[tensor(5.1270), tensor(4.6680), tensor(3.5060), tensor(2.3900), tensor(2.6390), tensor(4.0340), tensor(4.1880)]\n"
          ]
        }
      ]
    },
    {
      "cell_type": "code",
      "source": [
        "# 预测未来30天的数据，\n",
        "for i in range(100):\n",
        "  result.append(model(torch.tensor(result[i:i+7]).reshape(1,7,1)))\n",
        "\n",
        "print(len(result)) \n",
        "\n",
        "\n",
        "\n",
        "results =  value + [i * 1000 for i in result]\n",
        "print(len(result))\n",
        "\n",
        "\n",
        "\n",
        "plt.figure(figsize=(10,5))\n",
        "\n",
        "# 预测结果\n",
        "plt.plot(results, label=\"pred\")\n",
        "\n",
        "# 真实数据\n",
        "plt.plot(value, label=\"real\")\n",
        "\n",
        "\n",
        "# 模型预测的走势\n",
        "plt.legend(loc='best')\n",
        "plt.savefig('fig2.png', dpi = 300)"
      ],
      "metadata": {
        "colab": {
          "base_uri": "https://localhost:8080/",
          "height": 355
        },
        "id": "Hl7HCV8UUEu-",
        "outputId": "32a63f2e-d1bf-4d0f-cbf4-0b23982b08be"
      },
      "execution_count": null,
      "outputs": [
        {
          "output_type": "stream",
          "name": "stdout",
          "text": [
            "107\n",
            "107\n"
          ]
        },
        {
          "output_type": "display_data",
          "data": {
            "image/png": "[encoded data removed]",
            "text/plain": [
              "<Figure size 720x360 with 1 Axes>"
            ]
          },
          "metadata": {
            "needs_background": "light"
          }
        }
      ]
    }
  ]
}