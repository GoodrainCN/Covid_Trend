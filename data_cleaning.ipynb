{
 "cells": [
  {
   "cell_type": "code",
   "execution_count": 5,
   "metadata": {},
   "outputs": [],
   "source": [
    "import csv\n",
    "#Read CSV file\n",
    "with open('dataset/new.csv') as csv_file:\n",
    "    csv_reader = csv.reader(csv_file, delimiter=',')\n",
    "    headers = next(csv_reader)\n",
    "    #print(headers)\n",
    "    line_count = 0\n",
    "    data_s = []\n",
    "    data_f = []\n",
    "    #Takes out row if elemnt acquries certain requirements\n",
    "    for i in csv_reader:\n",
    "        if i[1] == 'NY':\n",
    "            if i[0][-4:][3] == '2':\n",
    "                data_s.append(i)\n",
    "            elif i[0][-4:][3] == '1':\n",
    "                data_f.append(i)\n"
   ]
  },
  {
   "cell_type": "code",
   "execution_count": null,
   "metadata": {},
   "outputs": [],
   "source": [
    "def organized_data(state):\n",
    "    import csv\n",
    "    #Read CSV file\n",
    "    with open('dataset/nstatewise.csv') as csv_file:\n",
    "        csv_reader = csv.reader(csv_file, delimiter=',')\n",
    "        headers = next(csv_reader)\n",
    "        line_count = 0\n",
    "        data_s = []\n",
    "        data_f = []\n",
    "        #Takes out row if elemnt acquries certain requirements\n",
    "        for i in csv_reader:\n",
    "            if i[1] == state:\n",
    "                if i[0][-4:][3] == '0':\n",
    "                    data_s.append(i)\n",
    "                elif i[0][-4:][3] == '1':\n",
    "                    data_f.append(i)"
   ]
  },
  {
   "cell_type": "code",
   "execution_count": 4,
   "metadata": {},
   "outputs": [
    {
     "name": "stdout",
     "output_type": "stream",
     "text": [
      "['KS', 'TX', 'AR', 'PW', 'MP', 'MA', 'PR', 'GA', 'NYC', 'AS', 'CO', 'OK', 'AK', 'UT', 'WV', 'FL', 'HI', 'NM', 'PA', 'IA', 'OH', 'TN', 'NY', 'RMI', 'SD', 'CA', 'NE', 'ME', 'MS', 'NH', 'NV', 'IN', 'NC', 'MI', 'CT', 'WI', 'ND', 'AL', 'MD', 'ID', 'IL', 'GU', 'VT', 'MO', 'VI', 'DE', 'WA', 'MT', 'OR', 'FSM', 'NJ', 'DC', 'KY', 'WY', 'AZ', 'RI', 'LA', 'SC', 'MN', 'VA']\n",
      "60\n"
     ]
    }
   ],
   "source": [
    "import csv\n",
    "#Read CSV file\n",
    "with open('dataset/accu.csv') as csv_file:\n",
    "    csv_reader = csv.reader(csv_file, delimiter=',')\n",
    "    headers = next(csv_reader)\n",
    "    #print(headers)\n",
    "    line_count = 0\n",
    "    data_s = []\n",
    "    data_f = []\n",
    "    d = {}\n",
    "    state_list = []\n",
    "    #Takes out row if elemnt acquries certain requirements\n",
    "    for i in csv_reader:\n",
    "        if i[1] not in d:\n",
    "            d[i[1]] = 0\n",
    "        else:\n",
    "            d[i[1]] += 1\n",
    "    for keys in d.keys():\n",
    "        state_list.append(keys)\n",
    "    print(state_list)\n",
    "    print(len(state_list))\n"
   ]
  },
  {
   "cell_type": "code",
   "execution_count": 13,
   "metadata": {},
   "outputs": [],
   "source": [
    "import csv\n",
    "#Read CSV file\n",
    "with open('dataset/nstatewise.csv') as csv_file:\n",
    "    csv_reader = csv.reader(csv_file, delimiter=',')\n",
    "    headers = next(csv_reader)\n",
    "    #print(headers)\n",
    "    line_count = 0\n",
    "    data_s = []\n",
    "    data_f = []\n",
    "    #Takes out row if elemnt acquries certain requirements\n",
    "    for i in csv_reader:\n",
    "        if i[0][-4:][3] == '0':\n",
    "            data_s.append(i)\n",
    "        elif i[0][-4:][3] == '1':\n",
    "            data_f.append(i)\n",
    "#print(data_s)\n",
    "#print(data_f)\n"
   ]
  },
  {
   "cell_type": "code",
   "execution_count": 1,
   "metadata": {},
   "outputs": [],
   "source": [
    "state_list = [\n",
    "    'PW', 'NYC', 'HI', 'WV', 'MA', 'AR', 'AK', 'CO', 'FL', 'OH', 'PA', 'ND', 'DE', \n",
    "    'VI', 'WI', 'NE', 'CA', 'AL', 'NV', 'MS', 'MT', 'GU', 'NC', 'ID', 'MI', \n",
    "    'DC', 'VA', 'MN', 'LA', 'WY', 'NH', 'IL', 'VT', 'ME', 'CT', 'MO', \n",
    "    'WA', 'IN', 'MD', 'OR', 'RI', 'KY', 'FSM', 'NJ', 'SC', 'AZ', 'GA', \n",
    "    'OK', 'MP', 'TX', 'KS', 'UT', 'PR', 'AS', 'NY', 'RMI', 'NM', 'TN', 'SD', 'IA'\n",
    "]"
   ]
  },
  {
   "cell_type": "code",
   "execution_count": 6,
   "metadata": {},
   "outputs": [],
   "source": [
    "#!/usr/bin/python3\n",
    "# -*- coding: utf-8 -*-\n",
    "import csv\n",
    "# 1. 创建文件对象\n",
    "#f = open('OR.csv','w',encoding='utf-8')\n",
    "f = open('NY2022.csv','w',encoding='utf-8',newline='')\n",
    "# 2. 基于文件对象构建 csv写入对象\n",
    "csv_writer = csv.writer(f)\n",
    "# 3. 构建列表头\n",
    "csv_writer.writerow(headers)\n",
    "# 4. 写入csv文件内容\n",
    "for i in data_s:\n",
    "    csv_writer.writerow(i)\n",
    "# for m in data_f:\n",
    "#     csv_writer.writerow(m)\n",
    "# 5. 关闭文件\n",
    "f.close()\n"
   ]
  },
  {
   "cell_type": "code",
   "execution_count": null,
   "metadata": {},
   "outputs": [],
   "source": []
  }
 ],
 "metadata": {
  "interpreter": {
   "hash": "ab83b35c86ff785ae76634efee8034bb953555fdec57846c4fd4b687de13dd65"
  },
  "kernelspec": {
   "display_name": "Python 3.6.13 64-bit ('mll': conda)",
   "language": "python",
   "name": "python3"
  },
  "language_info": {
   "codemirror_mode": {
    "name": "ipython",
    "version": 3
   },
   "file_extension": ".py",
   "mimetype": "text/x-python",
   "name": "python",
   "nbconvert_exporter": "python",
   "pygments_lexer": "ipython3",
   "version": "3.6.13"
  },
  "orig_nbformat": 4
 },
 "nbformat": 4,
 "nbformat_minor": 2
}