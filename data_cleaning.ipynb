{
 "cells": [
  {
   "cell_type": "code",
   "execution_count": 26,
   "metadata": {},
   "outputs": [],
   "source": [
    "import csv\n",
    "#Read CSV file\n",
    "with open('dataset/nstatewise.csv') as csv_file:\n",
    "    csv_reader = csv.reader(csv_file, delimiter=',')\n",
    "    headers = next(csv_reader)\n",
    "    #print(headers)\n",
    "    line_count = 0\n",
    "    data_s = []\n",
    "    data_f = []\n",
    "    #Takes out row if elemnt acquries certain requirements\n",
    "    for i in csv_reader:\n",
    "        if i[1] == 'NY':\n",
    "            if i[0][-4:][3] == '0':\n",
    "                data_s.append(i)\n",
    "            elif i[0][-4:][3] == '1':\n",
    "                data_f.append(i)\n",
    "#print(data_s)\n",
    "#print(data_f)\n"
   ]
  },
  {
   "cell_type": "code",
   "execution_count": 4,
   "metadata": {},
   "outputs": [
    {
     "name": "stdout",
     "output_type": "stream",
     "text": [
      "['KS', 'TX', 'AR', 'PW', 'MP', 'MA', 'PR', 'GA', 'NYC', 'AS', 'CO', 'OK', 'AK', 'UT', 'WV', 'FL', 'HI', 'NM', 'PA', 'IA', 'OH', 'TN', 'NY', 'RMI', 'SD', 'CA', 'NE', 'ME', 'MS', 'NH', 'NV', 'IN', 'NC', 'MI', 'CT', 'WI', 'ND', 'AL', 'MD', 'ID', 'IL', 'GU', 'VT', 'MO', 'VI', 'DE', 'WA', 'MT', 'OR', 'FSM', 'NJ', 'DC', 'KY', 'WY', 'AZ', 'RI', 'LA', 'SC', 'MN', 'VA']\n",
      "60\n"
     ]
    }
   ],
   "source": [
    "import csv\n",
    "#Read CSV file\n",
    "with open('dataset/accu.csv') as csv_file:\n",
    "    csv_reader = csv.reader(csv_file, delimiter=',')\n",
    "    headers = next(csv_reader)\n",
    "    #print(headers)\n",
    "    line_count = 0\n",
    "    data_s = []\n",
    "    data_f = []\n",
    "    d = {}\n",
    "    state_list = []\n",
    "    #Takes out row if elemnt acquries certain requirements\n",
    "    for i in csv_reader:\n",
    "        if i[1] not in d:\n",
    "            d[i[1]] = 0\n",
    "        else:\n",
    "            d[i[1]] += 1\n",
    "    for keys in d.keys():\n",
    "        state_list.append(keys)\n",
    "    print(state_list)\n",
    "    print(len(state_list))\n"
   ]
  },
  {
   "cell_type": "code",
   "execution_count": 5,
   "metadata": {},
   "outputs": [
    {
     "ename": "KeyError",
     "evalue": "'a'",
     "output_type": "error",
     "traceback": [
      "\u001b[1;31m---------------------------------------------------------------------------\u001b[0m",
      "\u001b[1;31mKeyError\u001b[0m                                  Traceback (most recent call last)",
      "\u001b[1;32m<ipython-input-5-8f3e7e87e3bd>\u001b[0m in \u001b[0;36m<module>\u001b[1;34m\u001b[0m\n\u001b[0;32m      3\u001b[0m \u001b[1;32mfor\u001b[0m \u001b[0mi\u001b[0m \u001b[1;32min\u001b[0m \u001b[0mstr0\u001b[0m\u001b[1;33m:\u001b[0m\u001b[1;33m\u001b[0m\u001b[1;33m\u001b[0m\u001b[0m\n\u001b[0;32m      4\u001b[0m    \u001b[1;32mif\u001b[0m \u001b[0mi\u001b[0m \u001b[1;32mnot\u001b[0m \u001b[1;32min\u001b[0m \u001b[0md\u001b[0m\u001b[1;33m:\u001b[0m\u001b[1;33m\u001b[0m\u001b[1;33m\u001b[0m\u001b[0m\n\u001b[1;32m----> 5\u001b[1;33m       \u001b[0md\u001b[0m\u001b[1;33m[\u001b[0m\u001b[0mi\u001b[0m\u001b[1;33m]\u001b[0m \u001b[1;33m==\u001b[0m \u001b[1;36m0\u001b[0m\u001b[1;33m\u001b[0m\u001b[1;33m\u001b[0m\u001b[0m\n\u001b[0m\u001b[0;32m      6\u001b[0m    \u001b[1;32melse\u001b[0m\u001b[1;33m:\u001b[0m\u001b[1;33m\u001b[0m\u001b[1;33m\u001b[0m\u001b[0m\n\u001b[0;32m      7\u001b[0m       \u001b[0md\u001b[0m\u001b[1;33m[\u001b[0m\u001b[0mi\u001b[0m\u001b[1;33m]\u001b[0m \u001b[1;33m+=\u001b[0m \u001b[1;36m1\u001b[0m\u001b[1;33m\u001b[0m\u001b[1;33m\u001b[0m\u001b[0m\n",
      "\u001b[1;31mKeyError\u001b[0m: 'a'"
     ]
    }
   ],
   "source": [
    "str0 = ['a','b','a','z']\n",
    "d = {}\n",
    "for i in str0:\n",
    "   if i not in d:\n",
    "      d[i] == 0\n",
    "   else:\n",
    "      d[i] += 1\n",
    "print(d)"
   ]
  },
  {
   "cell_type": "code",
   "execution_count": 13,
   "metadata": {},
   "outputs": [],
   "source": [
    "import csv\n",
    "#Read CSV file\n",
    "with open('dataset/nstatewise.csv') as csv_file:\n",
    "    csv_reader = csv.reader(csv_file, delimiter=',')\n",
    "    headers = next(csv_reader)\n",
    "    #print(headers)\n",
    "    line_count = 0\n",
    "    data_s = []\n",
    "    data_f = []\n",
    "    #Takes out row if elemnt acquries certain requirements\n",
    "    for i in csv_reader:\n",
    "        if i[0][-4:][3] == '0':\n",
    "            data_s.append(i)\n",
    "        elif i[0][-4:][3] == '1':\n",
    "            data_f.append(i)\n",
    "#print(data_s)\n",
    "#print(data_f)\n"
   ]
  },
  {
   "cell_type": "code",
   "execution_count": 29,
   "metadata": {},
   "outputs": [],
   "source": [
    "#!/usr/bin/python3\n",
    "# -*- coding: utf-8 -*-\n",
    "import csv\n",
    "# 1. 创建文件对象\n",
    "#f = open('OR.csv','w',encoding='utf-8')\n",
    "f = open('NY2021.csv','w',encoding='utf-8',newline='')\n",
    "# 2. 基于文件对象构建 csv写入对象\n",
    "csv_writer = csv.writer(f)\n",
    "# 3. 构建列表头\n",
    "csv_writer.writerow(headers)\n",
    "# 4. 写入csv文件内容\n",
    "# for i in data_s:\n",
    "#     csv_writer.writerow(i)\n",
    "for m in data_f:\n",
    "    csv_writer.writerow(m)\n",
    "# 5. 关闭文件\n",
    "f.close()\n"
   ]
  },
  {
   "cell_type": "code",
   "execution_count": null,
   "metadata": {},
   "outputs": [],
   "source": []
  }
 ],
 "metadata": {
  "interpreter": {
   "hash": "ab83b35c86ff785ae76634efee8034bb953555fdec57846c4fd4b687de13dd65"
  },
  "kernelspec": {
   "display_name": "Python 3.6.13 64-bit ('mll': conda)",
   "language": "python",
   "name": "python3"
  },
  "language_info": {
   "codemirror_mode": {
    "name": "ipython",
    "version": 3
   },
   "file_extension": ".py",
   "mimetype": "text/x-python",
   "name": "python",
   "nbconvert_exporter": "python",
   "pygments_lexer": "ipython3",
   "version": "3.6.13"
  },
  "orig_nbformat": 4
 },
 "nbformat": 4,
 "nbformat_minor": 2
}
