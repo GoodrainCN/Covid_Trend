{
 "cells": [
  {
   "cell_type": "code",
   "execution_count": 9,
   "metadata": {},
   "outputs": [],
   "source": [
    "import csv\n",
    "#Read CSV file\n",
    "with open('accu.csv') as csv_file:\n",
    "    csv_reader = csv.reader(csv_file, delimiter=',')\n",
    "    headers = next(csv_reader)\n",
    "    #print(headers)\n",
    "    line_count = 0\n",
    "    data_s = []\n",
    "    #Takes out row if elemnt acquries certain requirements\n",
    "    for i in csv_reader:\n",
    "        if i[1] == 'OR':\n",
    "            data_s.append(i)\n",
    "    \n"
   ]
  },
  {
   "cell_type": "code",
   "execution_count": 14,
   "metadata": {},
   "outputs": [],
   "source": [
    "#!/usr/bin/python3\n",
    "# -*- coding: utf-8 -*-\n",
    "import csv\n",
    "# 1. 创建文件对象\n",
    "#f = open('OR.csv','w',encoding='utf-8')\n",
    "f = open('OR.csv','w',encoding='utf-8',newline='')\n",
    "# 2. 基于文件对象构建 csv写入对象\n",
    "csv_writer = csv.writer(f)\n",
    "# 3. 构建列表头\n",
    "csv_writer.writerow(headers)\n",
    "# 4. 写入csv文件内容\n",
    "for i in data_s:\n",
    "    csv_writer.writerow(i)\n",
    "# 5. 关闭文件\n",
    "f.close()\n"
   ]
  },
  {
   "cell_type": "code",
   "execution_count": null,
   "metadata": {},
   "outputs": [],
   "source": []
  }
 ],
 "metadata": {
  "interpreter": {
   "hash": "ab83b35c86ff785ae76634efee8034bb953555fdec57846c4fd4b687de13dd65"
  },
  "kernelspec": {
   "display_name": "Python 3.6.13 64-bit ('mll': conda)",
   "language": "python",
   "name": "python3"
  },
  "language_info": {
   "codemirror_mode": {
    "name": "ipython",
    "version": 3
   },
   "file_extension": ".py",
   "mimetype": "text/x-python",
   "name": "python",
   "nbconvert_exporter": "python",
   "pygments_lexer": "ipython3",
   "version": "3.6.13"
  },
  "orig_nbformat": 4
 },
 "nbformat": 4,
 "nbformat_minor": 2
}
