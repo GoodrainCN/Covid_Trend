{
 "cells": [
  {
   "cell_type": "code",
   "execution_count": 2,
   "metadata": {},
   "outputs": [
    {
     "name": "stdout",
     "output_type": "stream",
     "text": [
      "['PW', 'NYC', 'HI', 'WV', 'MA', 'AR', 'AK', 'CO', 'FL', 'OH', 'PA', 'ND', 'DE', 'VI', 'WI', 'NE', 'CA', 'AL', 'NV', 'MS', 'MT', 'GU', 'NC', 'ID', 'MI', 'DC', 'VA', 'MN', 'LA', 'WY', 'NH', 'IL', 'VT', 'ME', 'CT', 'MO', 'WA', 'IN', 'MD', 'OR', 'RI', 'KY', 'FSM', 'NJ', 'SC', 'AZ', 'GA', 'OK', 'MP', 'TX', 'KS', 'UT', 'PR', 'AS', 'NY', 'RMI', 'NM', 'TN', 'SD', 'IA']\n",
      "60\n"
     ]
    }
   ],
   "source": [
    "import csv\n",
    "#Read CSV file\n",
    "with open('cleaned/all_state.csv') as csv_file:\n",
    "    csv_reader = csv.reader(csv_file, delimiter=',')\n",
    "    headers = next(csv_reader)\n",
    "    #print(headers)\n",
    "    line_count = 0\n",
    "    data_s = []\n",
    "    data_f = []\n",
    "    d = {}\n",
    "    state_list = []\n",
    "    #Takes out row if elemnt acquries certain requirements\n",
    "    for i in csv_reader:\n",
    "        if i[1] not in d:\n",
    "            d[i[1]] = 0\n",
    "        else:\n",
    "            d[i[1]] += 1\n",
    "    for keys in d.keys():\n",
    "        state_list.append(keys)\n",
    "    print(state_list)\n",
    "    print(len(state_list))"
   ]
  },
  {
   "cell_type": "code",
   "execution_count": 3,
   "metadata": {},
   "outputs": [],
   "source": [
    "data = [[] for _ in range(len(state_list))]"
   ]
  },
  {
   "cell_type": "code",
   "execution_count": null,
   "metadata": {},
   "outputs": [],
   "source": [
    "import csv\n",
    "#Read CSV file\n",
    "with open('dataset/nstatewise.csv') as csv_file:\n",
    "    csv_reader = csv.reader(csv_file, delimiter=',')\n",
    "    headers = next(csv_reader)\n",
    "    #print(headers)\n",
    "    line_count = 0\n",
    "    data_s = []\n",
    "    data_f = []\n",
    "    #Takes out row if elemnt acquries certain requirements\n",
    "    for i in csv_reader:\n",
    "        if i[1] == 'NY':\n",
    "            if i[0][-4:][3] == '0':\n",
    "                data_s.append(i)\n",
    "            elif i[0][-4:][3] == '1':\n",
    "                data_f.append(i)\n",
    "#print(data_s)\n",
    "#print(data_f)"
   ]
  },
  {
   "cell_type": "code",
   "execution_count": 21,
   "metadata": {},
   "outputs": [],
   "source": [
    "tar_list = ['OR', 'TX', 'NY', 'FL']"
   ]
  },
  {
   "cell_type": "code",
   "execution_count": null,
   "metadata": {},
   "outputs": [],
   "source": [
    "import csv\n",
    "data = [[] for _ in range(len(tar_list))]\n",
    "with open('cleaned/all_state.csv') as csv_file:\n",
    "    csv_reader = csv.reader(csv_file, delimiter=',')\n",
    "    headers = next(csv_reader)\n",
    "    #print(headers)\n",
    "    line_count = 0\n",
    "    x = []\n",
    "    for var in csv_reader:\n",
    "        x.append(var[15])\n",
    "    for i in range(len(tar_list)):\n",
    "        # temp = 0\n",
    "        for m in csv_reader:\n",
    "            if m[1] == tar_list[i]:\n",
    "                # x.append(temp)\n",
    "                data[i].append(m[5])\n",
    "                # temp += 1\n",
    "    "
   ]
  },
  {
   "cell_type": "code",
   "execution_count": null,
   "metadata": {},
   "outputs": [],
   "source": []
  }
 ],
 "metadata": {
  "interpreter": {
   "hash": "ab83b35c86ff785ae76634efee8034bb953555fdec57846c4fd4b687de13dd65"
  },
  "kernelspec": {
   "display_name": "Python 3.6.13 64-bit ('mll': conda)",
   "language": "python",
   "name": "python3"
  },
  "language_info": {
   "codemirror_mode": {
    "name": "ipython",
    "version": 3
   },
   "file_extension": ".py",
   "mimetype": "text/x-python",
   "name": "python",
   "nbconvert_exporter": "python",
   "pygments_lexer": "ipython3",
   "version": "3.6.13"
  },
  "orig_nbformat": 4
 },
 "nbformat": 4,
 "nbformat_minor": 2
}
