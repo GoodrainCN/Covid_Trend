{
  "cells": [
    {
      "cell_type": "code",
      "execution_count": 85,
      "metadata": {
        "id": "pCq8ABKFSN15"
      },
      "outputs": [],
      "source": [
        "import torch\n",
        "from torch import nn\n",
        "import numpy as np\n",
        "import matplotlib.pyplot as plt"
      ]
    },
    {
      "cell_type": "code",
      "execution_count": 86,
      "metadata": {
        "id": "CuM9NFGWSZ4t"
      },
      "outputs": [],
      "source": [
        "device = torch.device(\"cuda\" if torch.cuda.is_available() else \"cpu\")"
      ]
    },
    {
      "cell_type": "markdown",
      "metadata": {
        "id": "IIJWCN9MSj21"
      },
      "source": [
        "与LSTM.inynb的区别就是这里不再划分训练集和测试集合，所有的数据都是训练集"
      ]
    },
    {
      "cell_type": "code",
      "execution_count": 87,
      "metadata": {
        "id": "L2JBFDO-SeHo"
      },
      "outputs": [],
      "source": [
        "# with open(\"/content/drive/MyDrive/covid/data/data_table_for_daily_case_trends__the_united_states.csv\", \"r\", encoding=\"utf-8\") as f:\n",
        "#     data = f.read()\n",
        "\n",
        "# data = [row.split(',') for row in  data.split(\"\\n\")]\n",
        "\n",
        "# # value = [int(each[1]) for each in data]\n",
        "# value = [float(each[2]) for each in data[1:]]\n",
        "\n",
        "import csv\n",
        "value = []\n",
        "with open(\"cleaned/new_ny.csv\", \"r\", encoding=\"utf-8\") as f:\n",
        "    csv_reader = csv.reader(f, delimiter=',')\n",
        "    headers = next(csv_reader)\n",
        "    for i in csv_reader:\n",
        "        value.append(int(i[2]))\n",
        "\n",
        "value.reverse()\n",
        "\n",
        "seq = 7\n",
        "\n",
        "# 训练集构造\n",
        "\n",
        "li_x = []\n",
        "li_y = []\n",
        "\n",
        "for i in range(len(value) - seq):\n",
        "    # 输入就是[x, x+1, x+2, ... , x + (seq-1)]天的数据，输出是 x + seq 天的数据\n",
        "    li_x.append(value[i: i+seq])\n",
        "    li_y.append(value[i+seq])\n",
        "\n",
        "\n",
        "\n",
        "train_x = (torch.tensor(li_x).float() / 1000.).reshape(-1, seq, 1).to(device)\n",
        "train_y = (torch.tensor(li_y).float() / 1000.).reshape(-1, 1).to(device)\n",
        "\n",
        "\n"
      ]
    },
    {
      "cell_type": "code",
      "execution_count": 88,
      "metadata": {
        "id": "QfG8JnZuTEFS"
      },
      "outputs": [],
      "source": [
        "class Net(nn.Module):\n",
        "    def __init__(self):\n",
        "        super(Net, self).__init__()\n",
        "        self.lstm = nn.LSTM(input_size=1, hidden_size=32, num_layers=1, batch_first=True)\n",
        "        # 输入格式是1，输出隐藏层大小是32\n",
        "        # 对于小数据集num_layers不要设置大，否则会因为模型变复杂而导致效果会变差\n",
        "        # num_layers顾名思义就是有几个lstm层，假如设置成2，就相当于连续经过两个lstm层\n",
        "        # 原来的输入格式是：(seq, batch, shape)\n",
        "        # 设置batch_first=True以后，输入格式就可以改为：(batch, seq, shape)，更符合平常使用的习惯\n",
        "        self.linear = nn.Linear(32*seq, 1)\n",
        "\n",
        "    def forward(self, x):\n",
        "        x, (h, c) = self.lstm(x)\n",
        "        x = x.reshape(-1, 32*seq)\n",
        "        x = self.linear(x)\n",
        "        return x"
      ]
    },
    {
      "cell_type": "code",
      "execution_count": 89,
      "metadata": {
        "id": "Lub5y-LMTE0w"
      },
      "outputs": [],
      "source": [
        "model = Net().to(device)\n",
        "optimizer = torch.optim.Adam(model.parameters(), lr=0.001)\n",
        "loss_fun = nn.MSELoss()"
      ]
    },
    {
      "cell_type": "code",
      "execution_count": 90,
      "metadata": {
        "colab": {
          "base_uri": "https://localhost:8080/"
        },
        "id": "RtaNv_ZmTJs9",
        "outputId": "6cf6f804-7ab6-463a-8de6-3f8c7d3dcfc5"
      },
      "outputs": [
        {
          "name": "stdout",
          "output_type": "stream",
          "text": [
            "epoch:20, loss:33.37785720825195\n",
            "epoch:40, loss:22.895423889160156\n",
            "epoch:60, loss:16.648303985595703\n",
            "epoch:80, loss:11.669981956481934\n",
            "epoch:100, loss:8.699950218200684\n",
            "epoch:120, loss:6.911965847015381\n",
            "epoch:140, loss:5.80339241027832\n",
            "epoch:160, loss:5.116320610046387\n",
            "epoch:180, loss:4.644110679626465\n",
            "epoch:200, loss:4.248135566711426\n",
            "epoch:220, loss:3.9426393508911133\n",
            "epoch:240, loss:3.6616830825805664\n",
            "epoch:260, loss:3.4082586765289307\n",
            "epoch:280, loss:3.1942784786224365\n",
            "epoch:300, loss:3.0125346183776855\n",
            "epoch:320, loss:2.8711564540863037\n",
            "epoch:340, loss:2.760671377182007\n",
            "epoch:360, loss:2.6694886684417725\n",
            "epoch:380, loss:2.5921597480773926\n",
            "epoch:400, loss:2.520057201385498\n",
            "epoch:420, loss:2.4504168033599854\n",
            "epoch:440, loss:2.3874363899230957\n",
            "epoch:460, loss:2.3273253440856934\n",
            "epoch:480, loss:2.26729416847229\n",
            "epoch:500, loss:2.2048826217651367\n",
            "epoch:520, loss:2.138090133666992\n",
            "epoch:540, loss:2.0662548542022705\n",
            "epoch:560, loss:1.9908512830734253\n",
            "epoch:580, loss:1.9144301414489746\n",
            "epoch:600, loss:1.8403825759887695\n",
            "epoch:620, loss:1.7713409662246704\n",
            "epoch:640, loss:1.7082651853561401\n",
            "epoch:660, loss:1.6509326696395874\n",
            "epoch:680, loss:1.5983120203018188\n",
            "epoch:700, loss:1.549247145652771\n",
            "epoch:720, loss:1.5036273002624512\n",
            "epoch:740, loss:1.4596048593521118\n",
            "epoch:760, loss:1.41737961769104\n",
            "epoch:780, loss:1.3765357732772827\n",
            "epoch:800, loss:1.3368148803710938\n",
            "epoch:820, loss:1.2978159189224243\n",
            "epoch:840, loss:1.2579565048217773\n",
            "epoch:860, loss:1.2125324010849\n",
            "epoch:880, loss:1.1628307104110718\n",
            "epoch:900, loss:1.1157829761505127\n",
            "epoch:920, loss:1.0710192918777466\n",
            "epoch:940, loss:1.0244168043136597\n",
            "epoch:960, loss:0.9702117443084717\n",
            "epoch:980, loss:0.9081653952598572\n",
            "epoch:1000, loss:0.8373531103134155\n",
            "epoch:1020, loss:0.7777262330055237\n",
            "epoch:1040, loss:0.7269533276557922\n",
            "epoch:1060, loss:0.68255615234375\n",
            "epoch:1080, loss:0.6381060481071472\n",
            "epoch:1100, loss:0.5972963571548462\n",
            "epoch:1120, loss:0.5574501156806946\n",
            "epoch:1140, loss:0.5240006446838379\n",
            "epoch:1160, loss:0.5024749636650085\n",
            "epoch:1180, loss:0.4716604948043823\n",
            "epoch:1200, loss:0.45094114542007446\n",
            "epoch:1220, loss:0.4441457688808441\n",
            "epoch:1240, loss:0.416523277759552\n",
            "epoch:1260, loss:0.4000270664691925\n",
            "epoch:1280, loss:0.3861517012119293\n",
            "epoch:1300, loss:0.37417179346084595\n",
            "epoch:1320, loss:0.3644742965698242\n",
            "epoch:1340, loss:0.353142648935318\n",
            "epoch:1360, loss:0.34406039118766785\n",
            "epoch:1380, loss:0.33523112535476685\n",
            "epoch:1400, loss:0.32701316475868225\n",
            "epoch:1420, loss:0.3208628296852112\n",
            "epoch:1440, loss:0.31216520071029663\n",
            "epoch:1460, loss:0.3072780966758728\n",
            "epoch:1480, loss:0.2989456355571747\n",
            "epoch:1500, loss:0.30284997820854187\n",
            "epoch:1520, loss:0.2884913682937622\n",
            "epoch:1540, loss:0.2824965715408325\n",
            "epoch:1560, loss:0.2769728899002075\n",
            "epoch:1580, loss:0.2723862826824188\n",
            "epoch:1600, loss:0.26882675290107727\n",
            "epoch:1620, loss:0.26276519894599915\n",
            "epoch:1640, loss:0.258192777633667\n",
            "epoch:1660, loss:0.2705822288990021\n",
            "epoch:1680, loss:0.25082463026046753\n",
            "epoch:1700, loss:0.24556748569011688\n",
            "epoch:1720, loss:0.241972878575325\n",
            "epoch:1740, loss:0.2375403195619583\n",
            "epoch:1760, loss:0.2338707149028778\n",
            "epoch:1780, loss:0.23092705011367798\n",
            "epoch:1800, loss:0.2283915877342224\n",
            "epoch:1820, loss:0.2222728133201599\n",
            "epoch:1840, loss:0.2190888673067093\n",
            "epoch:1860, loss:0.21695034205913544\n",
            "epoch:1880, loss:0.21267636120319366\n",
            "epoch:1900, loss:0.211125910282135\n",
            "epoch:1920, loss:0.20776236057281494\n",
            "epoch:1940, loss:0.20433451235294342\n",
            "epoch:1960, loss:0.20169542729854584\n",
            "epoch:1980, loss:0.20001262426376343\n",
            "epoch:2000, loss:0.19771607220172882\n",
            "epoch:2020, loss:0.19526705145835876\n",
            "epoch:2040, loss:0.19245323538780212\n",
            "epoch:2060, loss:0.19020195305347443\n",
            "epoch:2080, loss:0.18826240301132202\n",
            "epoch:2100, loss:0.1861254721879959\n",
            "epoch:2120, loss:0.18425233662128448\n",
            "epoch:2140, loss:0.1822262853384018\n",
            "epoch:2160, loss:0.18029780685901642\n",
            "epoch:2180, loss:0.19465070962905884\n",
            "epoch:2200, loss:0.17815759778022766\n",
            "epoch:2220, loss:0.17526714503765106\n",
            "epoch:2240, loss:0.1733449250459671\n",
            "epoch:2260, loss:0.17169733345508575\n",
            "epoch:2280, loss:0.17067255079746246\n",
            "epoch:2300, loss:0.171135812997818\n",
            "epoch:2320, loss:0.16739024221897125\n",
            "epoch:2340, loss:0.16557937860488892\n",
            "epoch:2360, loss:0.16407638788223267\n",
            "epoch:2380, loss:0.17055417597293854\n",
            "epoch:2400, loss:0.1627648025751114\n",
            "epoch:2420, loss:0.16010591387748718\n",
            "epoch:2440, loss:0.15864728391170502\n",
            "epoch:2460, loss:0.16331639885902405\n",
            "epoch:2480, loss:0.15602712333202362\n",
            "epoch:2500, loss:0.1549898386001587\n",
            "epoch:2520, loss:0.15419429540634155\n",
            "epoch:2540, loss:0.15370380878448486\n",
            "epoch:2560, loss:0.1511148065328598\n",
            "epoch:2580, loss:0.1501137614250183\n",
            "epoch:2600, loss:0.15457230806350708\n",
            "epoch:2620, loss:0.14770880341529846\n",
            "epoch:2640, loss:0.14673194289207458\n",
            "epoch:2660, loss:0.14691288769245148\n",
            "epoch:2680, loss:0.14538894593715668\n",
            "epoch:2700, loss:0.14367280900478363\n",
            "epoch:2720, loss:0.14367109537124634\n",
            "epoch:2740, loss:0.14133958518505096\n",
            "epoch:2760, loss:0.14058122038841248\n",
            "epoch:2780, loss:0.1415933519601822\n",
            "epoch:2800, loss:0.1394464671611786\n",
            "epoch:2820, loss:0.13733671605587006\n",
            "epoch:2840, loss:0.1361403614282608\n",
            "epoch:2860, loss:0.13640259206295013\n",
            "epoch:2880, loss:0.13902685046195984\n",
            "epoch:2900, loss:0.13353413343429565\n",
            "epoch:2920, loss:0.1323704868555069\n",
            "epoch:2940, loss:0.13139194250106812\n",
            "epoch:2960, loss:0.13044781982898712\n",
            "epoch:2980, loss:0.1295120120048523\n"
          ]
        }
      ],
      "source": [
        "model.train()\n",
        "for epoch in range(3000):\n",
        "    output = model(train_x)\n",
        "    loss = loss_fun(output, train_y)\n",
        "    optimizer.zero_grad()\n",
        "    loss.backward()\n",
        "    optimizer.step()\n",
        "    if epoch % 20 == 0 and epoch > 0:\n",
        "        print(\"epoch:{}, loss:{}\".format(epoch, loss))\n"
      ]
    },
    {
      "cell_type": "markdown",
      "metadata": {
        "id": "U0qPhw3EXrWw"
      },
      "source": [
        "绘制训练效果图"
      ]
    },
    {
      "cell_type": "code",
      "execution_count": 91,
      "metadata": {
        "colab": {
          "base_uri": "https://localhost:8080/",
          "height": 338
        },
        "id": "mnztCnAKXhxb",
        "outputId": "280b9632-dbe0-4077-e1b2-c837bc4db4ca"
      },
      "outputs": [
        {
          "name": "stdout",
          "output_type": "stream",
          "text": [
            "MSE: 128597.35\n"
          ]
        },
        {
          "data": {
            "image/png": "[encoded data removed]",
            "text/plain": [
              "<Figure size 720x360 with 1 Axes>"
            ]
          },
          "metadata": {
            "needs_background": "light"
          },
          "output_type": "display_data"
        }
      ],
      "source": [
        "model.eval()\n",
        "\n",
        "train_pre = list((model(train_x).data.reshape(-1))*1000)\n",
        "\n",
        "from sklearn.metrics import mean_squared_error\n",
        "print(\"MSE:\", mean_squared_error(train_y*1000, train_pre))\n",
        "\n",
        "\n",
        "plt.figure(figsize=(10,5))\n",
        "\n",
        "# 真实数据\n",
        "plt.plot(train_y*1000, label=\"real\")\n",
        "\n",
        "\n",
        "# 预测结果\n",
        "plt.plot(train_pre, label=\"pred\")\n",
        "\n",
        "# 模型预测的走势\n",
        "plt.legend(loc='best')\n",
        "plt.savefig('fig1.png', dpi = 300)"
      ]
    },
    {
      "cell_type": "code",
      "execution_count": 98,
      "metadata": {
        "colab": {
          "base_uri": "https://localhost:8080/"
        },
        "id": "Wr6L77JaTaGu",
        "outputId": "53f18c60-76bc-4ef7-afaa-3cba9a07adaf"
      },
      "outputs": [
        {
          "name": "stdout",
          "output_type": "stream",
          "text": [
            "744\n",
            "[tensor(5.1270), tensor(4.6680), tensor(3.5060), tensor(2.3900), tensor(2.6390), tensor(4.0340), tensor(4.1880)]\n"
          ]
        }
      ],
      "source": [
        "# result = []\n",
        "\n",
        "# # 使用训练集最后七天的数据作为起始点\n",
        "# print(len(train_x))\n",
        "\n",
        "# result.append(train_x[743][0][0])\n",
        "# result.append(train_x[743][1][0])\n",
        "# result.append(train_x[743][2][0])\n",
        "# result.append(train_x[743][3][0])\n",
        "# result.append(train_x[743][4][0])\n",
        "# result.append(train_x[743][5][0])\n",
        "# result.append(train_x[743][6][0])\n",
        "\n",
        "\n",
        "# print(result)"
      ]
    },
    {
      "cell_type": "code",
      "execution_count": 93,
      "metadata": {},
      "outputs": [
        {
          "name": "stdout",
          "output_type": "stream",
          "text": [
            "107\n"
          ]
        }
      ],
      "source": [
        "# 预测未来30天的数据，\n",
        "# for i in range(100):\n",
        "#   result.append(model(torch.tensor(result[i:i+7]).reshape(1,7,1)))\n",
        "\n",
        "# print(len(result)) \n",
        "# results =  value + [i * 1000 for i in result]\n",
        "# temp = []\n",
        "# for i in result:\n",
        "#       temp.append(i.item() * 1000)\n",
        "  \n",
        "# results[751:] = temp"
      ]
    },
    {
      "cell_type": "code",
      "execution_count": 108,
      "metadata": {
        "colab": {
          "base_uri": "https://localhost:8080/",
          "height": 355
        },
        "id": "Hl7HCV8UUEu-",
        "outputId": "32a63f2e-d1bf-4d0f-cbf4-0b23982b08be"
      },
      "outputs": [
        {
          "name": "stdout",
          "output_type": "stream",
          "text": [
            "744\n",
            "[tensor(5.1270), tensor(4.6680), tensor(3.5060), tensor(2.3900), tensor(2.6390), tensor(4.0340), tensor(4.1880)]\n",
            "107\n"
          ]
        },
        {
          "data": {
            "image/png": "[encoded data removed]",
            "text/plain": [
              "<Figure size 720x360 with 1 Axes>"
            ]
          },
          "metadata": {
            "needs_background": "light"
          },
          "output_type": "display_data"
        }
      ],
      "source": [
        "# 预测未来30天的数据，\n",
        "result = []\n",
        "\n",
        "# 使用训练集最后七天的数据作为起始点\n",
        "print(len(train_x))\n",
        "\n",
        "result.append(train_x[743][0][0])\n",
        "result.append(train_x[743][1][0])\n",
        "result.append(train_x[743][2][0])\n",
        "result.append(train_x[743][3][0])\n",
        "result.append(train_x[743][4][0])\n",
        "result.append(train_x[743][5][0])\n",
        "result.append(train_x[743][6][0])\n",
        "\n",
        "\n",
        "print(result)\n",
        "for i in range(100):\n",
        "  result.append(model(torch.tensor(result[i:i+7]).reshape(1,7,1)))\n",
        "\n",
        "print(len(result)) \n",
        "temp = []\n",
        "results =  value + [i.item() * 1000 for i in result]\n",
        "# for i in result:\n",
        "#       temp.append(i.item() * 1000)\n",
        "  \n",
        "# results[751:] = temp\n",
        "\n",
        "plt.figure(figsize=(10,5))\n",
        "\n",
        "# 预测结果\n",
        "plt.plot(results, label=\"pred\")\n",
        "\n",
        "# 真实数据\n",
        "plt.plot(value, label=\"real\")\n",
        "plt.title('Future 100 Days Prediction')\n",
        "plt.xlabel('Date')\n",
        "plt.ylabel('Daily New Cases')\n",
        "plt.xticks(\n",
        "    [0,100,200,300,400,500,600,700,800],\n",
        "    ['2020/1','2020/5', '2020/8', '2020/12', '2021/2', '2021/6', '2021/9', '2021/12','2022/3']\n",
        ")\n",
        "# 模型预测的走势\n",
        "plt.legend(loc='best')\n",
        "plt.savefig('fig2.png', dpi = 300)"
      ]
    },
    {
      "cell_type": "code",
      "execution_count": null,
      "metadata": {},
      "outputs": [],
      "source": []
    }
  ],
  "metadata": {
    "colab": {
      "collapsed_sections": [],
      "name": "LSTM2.ipynb",
      "provenance": []
    },
    "kernelspec": {
      "display_name": "Python 3",
      "name": "python3"
    },
    "language_info": {
      "codemirror_mode": {
        "name": "ipython",
        "version": 3
      },
      "file_extension": ".py",
      "mimetype": "text/x-python",
      "name": "python",
      "nbconvert_exporter": "python",
      "pygments_lexer": "ipython3",
      "version": "3.9.7"
    }
  },
  "nbformat": 4,
  "nbformat_minor": 0
}
