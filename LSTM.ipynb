{
  "cells": [
    {
      "cell_type": "code",
      "execution_count": 41,
      "metadata": {
        "id": "3MZhqNBCEWRe"
      },
      "outputs": [],
      "source": [
        "import torch\n",
        "from torch import nn\n",
        "import numpy as np\n",
        "import matplotlib.pyplot as plt"
      ]
    },
    {
      "cell_type": "code",
      "execution_count": 42,
      "metadata": {
        "id": "Fw-vEv4PGs7C"
      },
      "outputs": [],
      "source": [
        "device = torch.device(\"cuda\" if torch.cuda.is_available() else \"cpu\")"
      ]
    },
    {
      "cell_type": "code",
      "execution_count": 43,
      "metadata": {
        "id": "r4DTpdU_G1DW"
      },
      "outputs": [],
      "source": [
        "# with open(\"/content/drive/MyDrive/covid/data/new_york_(excludes_nyc).csv\", \"r\", encoding=\"utf-8\") as f:\n",
        "#     data = f.read()\n",
        "\n",
        "# data = [row.split(',') for row in  data.split(\"\\n\")]\n",
        "\n",
        "# # value = [int(each[1]) for each in data]\n",
        "# value = [float(each[2]) for each in data[1:]]\n",
        "\n",
        "import csv\n",
        "value = []\n",
        "with open(\"cleaned/new_ny.csv\", \"r\", encoding=\"utf-8\") as f:\n",
        "    csv_reader = csv.reader(f, delimiter=',')\n",
        "    headers = next(csv_reader)\n",
        "    for i in csv_reader:\n",
        "        value.append(int(i[2]))\n",
        "\n",
        "value.reverse()\n",
        "\n",
        "train  = value[:-200]\n",
        "test = value[-200:]\n",
        "\n",
        "\n",
        "# 设置序列数据的时间跨度，seq=7, 指使用过去七天的数据来预测明天的数据\n",
        "# 注意，这并不是说LSTM每次都只利用到7天的历史数据进行预测，而是7天的显式数据+所有已输入的数据产生的隐式信息（只是隐式信息具有离当前预测距离越远，信息量越弱的特点，详情看下行链接）\n",
        "# https://www.jianshu.com/p/6815da2d413d 关于RNN的长距离依赖问题，看下这个链接，LSTM比RNN在这方面强很多，但问题仍然存在。\n",
        "\n",
        "\n",
        "seq = 7\n",
        "\n",
        "# 训练集构造\n",
        "\n",
        "li_x = []\n",
        "li_y = []\n",
        "\n",
        "for i in range(len(train) - seq):\n",
        "    # 输入就是[x, x+1, x+2, ... , x + (seq-1)]天的数据，输出是 x + seq 天的数据\n",
        "    li_x.append(train[i: i+seq])\n",
        "    li_y.append(train[i+seq])\n",
        "\n",
        "# 对数据进行缩放有利于训练的收敛，但更好的方式是进行归一化处理；在当前应用上，这几种操作对结果不会造成太大影响，可以作为以后的练习。\n",
        "# 关于归一化的作用，可以参考这个帖子：https://www.cnblogs.com/LBSer/p/4440590.html\n",
        "\n",
        "train_x = (torch.tensor(li_x).float() / 1000.).reshape(-1, seq, 1).to(device)\n",
        "train_y = (torch.tensor(li_y).float() / 1000.).reshape(-1, 1).to(device)\n",
        "\n",
        "\n",
        "# 测试集构造\n",
        "\n",
        "t_x = []\n",
        "t_y = []\n",
        "\n",
        "for i in range(len(test) - seq):\n",
        "    t_x.append(test[i: i+seq])\n",
        "    t_y.append(test[i+seq])\n",
        "\n",
        "test_x = (torch.tensor(t_x).float() / 1000.).reshape(-1, seq, 1).to(device)\n",
        "test_y = (torch.tensor(t_y).float() / 1000.).reshape(-1, 1).to(device)"
      ]
    },
    {
      "cell_type": "code",
      "execution_count": 44,
      "metadata": {
        "id": "yNVQdLNjIClx"
      },
      "outputs": [],
      "source": [
        "class Net(nn.Module):\n",
        "    def __init__(self):\n",
        "        super(Net, self).__init__()\n",
        "        self.lstm = nn.LSTM(input_size=1, hidden_size=32, num_layers=1, batch_first=True)\n",
        "        # 输入格式是1，输出隐藏层大小是32\n",
        "        # 对于小数据集num_layers不要设置大，否则会因为模型变复杂而导致效果会变差\n",
        "        # num_layers顾名思义就是有几个lstm层，假如设置成2，就相当于连续经过两个lstm层\n",
        "        # 原来的输入格式是：(seq, batch, shape)\n",
        "        # 设置batch_first=True以后，输入格式就可以改为：(batch, seq, shape)，更符合平常使用的习惯\n",
        "        self.linear = nn.Linear(32*seq, 1)\n",
        "\n",
        "    def forward(self, x):\n",
        "        x, (h, c) = self.lstm(x)\n",
        "        x = x.reshape(-1, 32*seq)\n",
        "        x = self.linear(x)\n",
        "        return x"
      ]
    },
    {
      "cell_type": "code",
      "execution_count": 45,
      "metadata": {
        "id": "1yS-uutzIE0b"
      },
      "outputs": [],
      "source": [
        "model = Net().to(device)\n",
        "optimizer = torch.optim.Adam(model.parameters(), lr=0.001)\n",
        "loss_fun = nn.MSELoss()"
      ]
    },
    {
      "cell_type": "code",
      "execution_count": 46,
      "metadata": {
        "colab": {
          "base_uri": "https://localhost:8080/"
        },
        "id": "HowPsBYmPNie",
        "outputId": "ee562ed0-fcac-4da4-e7bd-525f5fcd95d0"
      },
      "outputs": [
        {
          "name": "stdout",
          "output_type": "stream",
          "text": [
            "epoch:20, loss:6.988563537597656, test_loss: 109.30303955078125\n",
            "epoch:40, loss:2.529073715209961, test_loss: 85.29417419433594\n",
            "epoch:60, loss:1.0859766006469727, test_loss: 71.46478271484375\n",
            "epoch:80, loss:0.6582863926887512, test_loss: 62.26706314086914\n",
            "epoch:100, loss:0.5658473372459412, test_loss: 57.020992279052734\n",
            "epoch:120, loss:0.5320268273353577, test_loss: 54.51189422607422\n",
            "epoch:140, loss:0.517543375492096, test_loss: 52.972938537597656\n",
            "epoch:160, loss:0.5076161623001099, test_loss: 51.80172348022461\n",
            "epoch:180, loss:0.49840545654296875, test_loss: 50.83708953857422\n",
            "epoch:200, loss:0.4887843430042267, test_loss: 49.990440368652344\n",
            "epoch:220, loss:0.47829970717430115, test_loss: 49.169925689697266\n",
            "epoch:240, loss:0.4670325815677643, test_loss: 48.31610107421875\n",
            "epoch:260, loss:0.4545588493347168, test_loss: 47.414852142333984\n",
            "epoch:280, loss:0.4402579069137573, test_loss: 46.465213775634766\n",
            "epoch:300, loss:0.42385104298591614, test_loss: 45.453590393066406\n",
            "epoch:320, loss:0.4056718051433563, test_loss: 44.40989303588867\n",
            "epoch:340, loss:0.38678014278411865, test_loss: 43.3958740234375\n",
            "epoch:360, loss:0.3685522973537445, test_loss: 42.459228515625\n",
            "epoch:380, loss:0.35211336612701416, test_loss: 41.62081527709961\n",
            "epoch:400, loss:0.3379650413990021, test_loss: 40.88143539428711\n",
            "epoch:420, loss:0.325977087020874, test_loss: 40.23601531982422\n",
            "epoch:440, loss:0.31566715240478516, test_loss: 39.67720413208008\n",
            "epoch:460, loss:0.3065088093280792, test_loss: 39.19083786010742\n",
            "epoch:480, loss:0.2981002926826477, test_loss: 38.7567253112793\n",
            "epoch:500, loss:0.2901943325996399, test_loss: 38.355987548828125\n",
            "epoch:520, loss:0.28266268968582153, test_loss: 37.97564697265625\n",
            "epoch:540, loss:0.27545177936553955, test_loss: 37.60852813720703\n",
            "epoch:560, loss:0.2685420513153076, test_loss: 37.2517204284668\n",
            "epoch:580, loss:0.2619208097457886, test_loss: 36.90502166748047\n",
            "epoch:600, loss:0.25557371973991394, test_loss: 36.56938934326172\n",
            "epoch:620, loss:0.24950481951236725, test_loss: 36.245399475097656\n",
            "epoch:640, loss:0.24377314746379852, test_loss: 35.93232727050781\n",
            "epoch:660, loss:0.2384861707687378, test_loss: 35.62873077392578\n",
            "epoch:680, loss:0.2337183952331543, test_loss: 35.33419418334961\n",
            "epoch:700, loss:0.22946836054325104, test_loss: 35.050289154052734\n",
            "epoch:720, loss:0.22567959129810333, test_loss: 34.778846740722656\n",
            "epoch:740, loss:0.2222641408443451, test_loss: 34.52043533325195\n",
            "epoch:760, loss:0.21912622451782227, test_loss: 34.27413558959961\n",
            "epoch:780, loss:0.21618270874023438, test_loss: 34.03741455078125\n",
            "epoch:800, loss:0.21337318420410156, test_loss: 33.806705474853516\n",
            "epoch:820, loss:0.21065853536128998, test_loss: 33.578792572021484\n",
            "epoch:840, loss:0.2080138772726059, test_loss: 33.35215377807617\n",
            "epoch:860, loss:0.2054205983877182, test_loss: 33.127296447753906\n",
            "epoch:880, loss:0.2028641253709793, test_loss: 32.9060173034668\n",
            "epoch:900, loss:0.2003348469734192, test_loss: 32.69038772583008\n",
            "epoch:920, loss:0.19783063232898712, test_loss: 32.482391357421875\n",
            "epoch:940, loss:0.19535765051841736, test_loss: 32.283973693847656\n",
            "epoch:960, loss:0.19292564690113068, test_loss: 32.09709548950195\n",
            "epoch:980, loss:0.19054126739501953, test_loss: 31.923341751098633\n",
            "epoch:1000, loss:0.18820321559906006, test_loss: 31.763446807861328\n",
            "epoch:1020, loss:0.18590256571769714, test_loss: 31.61698341369629\n",
            "epoch:1040, loss:0.18362605571746826, test_loss: 31.482532501220703\n",
            "epoch:1060, loss:0.18135938048362732, test_loss: 31.358070373535156\n",
            "epoch:1080, loss:0.17908994853496552, test_loss: 31.241527557373047\n",
            "epoch:1100, loss:0.1768094152212143, test_loss: 31.131139755249023\n",
            "epoch:1120, loss:0.17451539635658264, test_loss: 31.025785446166992\n",
            "epoch:1140, loss:0.17221282422542572, test_loss: 30.925098419189453\n",
            "epoch:1160, loss:0.16991397738456726, test_loss: 30.829456329345703\n",
            "epoch:1180, loss:0.16763663291931152, test_loss: 30.73955726623535\n",
            "epoch:1200, loss:0.1654348522424698, test_loss: 30.654407501220703\n",
            "epoch:1220, loss:0.16326580941677094, test_loss: 30.579652786254883\n",
            "epoch:1240, loss:0.16130413115024567, test_loss: 30.50389289855957\n",
            "epoch:1260, loss:0.15926027297973633, test_loss: 30.443113327026367\n",
            "epoch:1280, loss:0.15752443671226501, test_loss: 30.384843826293945\n",
            "epoch:1300, loss:0.15561190247535706, test_loss: 30.3175048828125\n",
            "epoch:1320, loss:0.15388162434101105, test_loss: 30.252866744995117\n",
            "epoch:1340, loss:0.1522933840751648, test_loss: 30.197721481323242\n",
            "epoch:1360, loss:0.1508064866065979, test_loss: 30.12614631652832\n",
            "epoch:1380, loss:0.14930853247642517, test_loss: 30.058515548706055\n",
            "epoch:1400, loss:0.14787474274635315, test_loss: 29.988903045654297\n",
            "epoch:1420, loss:0.1464606672525406, test_loss: 29.91659927368164\n",
            "epoch:1440, loss:0.14616955816745758, test_loss: 29.825908660888672\n",
            "epoch:1460, loss:0.14379198849201202, test_loss: 29.7526912689209\n",
            "epoch:1480, loss:0.14235664904117584, test_loss: 29.66585922241211\n",
            "epoch:1500, loss:0.14097650349140167, test_loss: 29.57423210144043\n",
            "epoch:1520, loss:0.1395673304796219, test_loss: 29.473587036132812\n",
            "epoch:1540, loss:0.13812172412872314, test_loss: 29.366933822631836\n",
            "epoch:1560, loss:0.1374567747116089, test_loss: 29.276752471923828\n",
            "epoch:1580, loss:0.13548874855041504, test_loss: 29.1441593170166\n",
            "epoch:1600, loss:0.13373279571533203, test_loss: 29.0129451751709\n",
            "epoch:1620, loss:0.1321856677532196, test_loss: 28.886152267456055\n",
            "epoch:1640, loss:0.13056911528110504, test_loss: 28.756431579589844\n",
            "epoch:1660, loss:0.12886787950992584, test_loss: 28.62266731262207\n",
            "epoch:1680, loss:0.12706726789474487, test_loss: 28.48427963256836\n",
            "epoch:1700, loss:0.12515562772750854, test_loss: 28.341171264648438\n",
            "epoch:1720, loss:0.12312213331460953, test_loss: 28.193883895874023\n",
            "epoch:1740, loss:0.12095703929662704, test_loss: 28.042823791503906\n",
            "epoch:1760, loss:0.12039528042078018, test_loss: 27.883060455322266\n",
            "epoch:1780, loss:0.11667263507843018, test_loss: 27.747272491455078\n",
            "epoch:1800, loss:0.11411499977111816, test_loss: 27.589763641357422\n",
            "epoch:1820, loss:0.11162114888429642, test_loss: 27.451845169067383\n",
            "epoch:1840, loss:0.10904895514249802, test_loss: 27.315662384033203\n",
            "epoch:1860, loss:0.10636722296476364, test_loss: 27.18807601928711\n",
            "epoch:1880, loss:0.10701444000005722, test_loss: 27.050504684448242\n",
            "epoch:1900, loss:0.10095574706792831, test_loss: 26.96892547607422\n",
            "epoch:1920, loss:0.09825518727302551, test_loss: 26.872520446777344\n",
            "epoch:1940, loss:0.09537824988365173, test_loss: 26.78949737548828\n",
            "epoch:1960, loss:0.09251566976308823, test_loss: 26.718168258666992\n",
            "epoch:1980, loss:0.089827761054039, test_loss: 26.643281936645508\n",
            "epoch:2000, loss:0.08721697330474854, test_loss: 26.584640502929688\n",
            "epoch:2020, loss:0.0845908522605896, test_loss: 26.52665138244629\n",
            "epoch:2040, loss:0.08182922750711441, test_loss: 26.487451553344727\n",
            "epoch:2060, loss:0.07945911586284637, test_loss: 26.44610595703125\n",
            "epoch:2080, loss:0.07729445397853851, test_loss: 26.3807373046875\n",
            "epoch:2100, loss:0.07511895895004272, test_loss: 26.350305557250977\n",
            "epoch:2120, loss:0.07282580435276031, test_loss: 26.281824111938477\n",
            "epoch:2140, loss:0.07048521935939789, test_loss: 26.2462158203125\n",
            "epoch:2160, loss:0.0683019682765007, test_loss: 26.188718795776367\n",
            "epoch:2180, loss:0.06630049645900726, test_loss: 26.117734909057617\n",
            "epoch:2200, loss:0.06452899426221848, test_loss: 26.061283111572266\n",
            "epoch:2220, loss:0.06347896158695221, test_loss: 26.008930206298828\n",
            "epoch:2240, loss:0.06105456501245499, test_loss: 25.936267852783203\n",
            "epoch:2260, loss:0.059609875082969666, test_loss: 25.86122703552246\n",
            "epoch:2280, loss:0.05806800723075867, test_loss: 25.79361915588379\n",
            "epoch:2300, loss:0.05621807649731636, test_loss: 25.72051429748535\n",
            "epoch:2320, loss:0.05478985607624054, test_loss: 25.655305862426758\n",
            "epoch:2340, loss:0.05361146107316017, test_loss: 25.591989517211914\n",
            "epoch:2360, loss:0.05224893242120743, test_loss: 25.546985626220703\n",
            "epoch:2380, loss:0.05124647170305252, test_loss: 25.4731388092041\n",
            "epoch:2400, loss:0.04976334422826767, test_loss: 25.426061630249023\n",
            "epoch:2420, loss:0.04886631295084953, test_loss: 25.382587432861328\n",
            "epoch:2440, loss:0.04756736755371094, test_loss: 25.320995330810547\n",
            "epoch:2460, loss:0.04647021368145943, test_loss: 25.284812927246094\n",
            "epoch:2480, loss:0.04573167487978935, test_loss: 25.237701416015625\n",
            "epoch:2500, loss:0.044572848826646805, test_loss: 25.1768798828125\n",
            "epoch:2520, loss:0.04438551887869835, test_loss: 25.136585235595703\n",
            "epoch:2540, loss:0.0424765981733799, test_loss: 25.105947494506836\n",
            "epoch:2560, loss:0.04157185181975365, test_loss: 25.081811904907227\n",
            "epoch:2580, loss:0.04097530245780945, test_loss: 25.021989822387695\n",
            "epoch:2600, loss:0.03989657759666443, test_loss: 24.998550415039062\n",
            "epoch:2620, loss:0.03936857357621193, test_loss: 24.968904495239258\n",
            "epoch:2640, loss:0.038652725517749786, test_loss: 24.930864334106445\n",
            "epoch:2660, loss:0.03754560649394989, test_loss: 24.927701950073242\n",
            "epoch:2680, loss:0.03722533583641052, test_loss: 24.899749755859375\n",
            "epoch:2700, loss:0.03615793585777283, test_loss: 24.87668800354004\n",
            "epoch:2720, loss:0.035445164889097214, test_loss: 24.847253799438477\n",
            "epoch:2740, loss:0.03473691642284393, test_loss: 24.837343215942383\n",
            "epoch:2760, loss:0.03411372750997543, test_loss: 24.810691833496094\n",
            "epoch:2780, loss:0.0339178629219532, test_loss: 24.80186653137207\n",
            "epoch:2800, loss:0.03307480737566948, test_loss: 24.78151512145996\n",
            "epoch:2820, loss:0.03232656046748161, test_loss: 24.781301498413086\n",
            "epoch:2840, loss:0.0319010354578495, test_loss: 24.765090942382812\n",
            "epoch:2860, loss:0.03134078159928322, test_loss: 24.759695053100586\n",
            "epoch:2880, loss:0.030710339546203613, test_loss: 24.768321990966797\n",
            "epoch:2900, loss:0.031099705025553703, test_loss: 24.79132652282715\n",
            "epoch:2920, loss:0.029968714341521263, test_loss: 24.779367446899414\n",
            "epoch:2940, loss:0.02933286316692829, test_loss: 24.77911376953125\n",
            "epoch:2960, loss:0.029817119240760803, test_loss: 24.767213821411133\n",
            "epoch:2980, loss:0.028629032894968987, test_loss: 24.793292999267578\n"
          ]
        }
      ],
      "source": [
        "model.train()\n",
        "for epoch in range(3000):\n",
        "    output = model(train_x)\n",
        "    loss = loss_fun(output, train_y)\n",
        "    optimizer.zero_grad()\n",
        "    loss.backward()\n",
        "    optimizer.step()\n",
        "    if epoch % 20 == 0 and epoch > 0:\n",
        "        test_loss = loss_fun(model(test_x), test_y)\n",
        "        print(\"epoch:{}, loss:{}, test_loss: {}\".format(epoch, loss, test_loss))\n",
        "        if test_loss < 20:\n",
        "          # 保存整个网络\n",
        "          torch.save(model, 'demo') \n",
        "          # 保存网络中的参数, 速度快，占空间少\n",
        "          torch.save(model.state_dict(),'demo')\n",
        "          break\n"
      ]
    },
    {
      "cell_type": "markdown",
      "metadata": {
        "id": "XiXeKSjE6htL"
      },
      "source": [
        "使用正确数据作为输入进行预测"
      ]
    },
    {
      "cell_type": "code",
      "execution_count": 53,
      "metadata": {
        "colab": {
          "base_uri": "https://localhost:8080/",
          "height": 338
        },
        "id": "jBJOC03yz8OF",
        "outputId": "548f0a6b-362c-48b6-dab0-d2cb727c3548"
      },
      "outputs": [
        {
          "name": "stdout",
          "output_type": "stream",
          "text": [
            "MSE: 24800670.0\n"
          ]
        },
        {
          "data": {
            "image/png": "[encoded data removed]",
            "text/plain": [
              "<Figure size 720x360 with 1 Axes>"
            ]
          },
          "metadata": {
            "needs_background": "light"
          },
          "output_type": "display_data"
        }
      ],
      "source": [
        "model.eval()\n",
        "\n",
        "# print(len(value))\n",
        "# print(len(train))\n",
        "# print(len(test))\n",
        "\n",
        "test_pre = list((model(test_x).data.reshape(-1))*1000)\n",
        "\n",
        "from sklearn.metrics import mean_squared_error\n",
        "print(\"MSE:\", mean_squared_error(test_y*1000, test_pre))\n",
        "\n",
        "plt.figure(figsize=(10,5))\n",
        "\n",
        "# # 真实数据\n",
        "# plt.plot(test_y*1000, label=\"real\")\n",
        "\n",
        "# 真实数据\n",
        "plt.plot(value, label=\"real\")\n",
        "\n",
        "test_data = [None]*558 + test_pre\n",
        "# 预测结果\n",
        "plt.plot(test_data, label=\"pred\")\n",
        "plt.title('Predictions On New York City')\n",
        "plt.xlabel('Date')\n",
        "plt.ylabel('Daily New Cases')\n",
        "plt.xticks(\n",
        "    [0,100,200,300,400,500,600,700],\n",
        "    ['2020/1','2020/5', '2020/8', '2020/12', '2021/2', '2021/6', '2021/9', '2021/12']\n",
        ")\n",
        "# 模型预测的走势\n",
        "plt.legend(loc='best')\n",
        "\n",
        "plt.savefig('fig1.png', dpi = 300)\n"
      ]
    },
    {
      "cell_type": "markdown",
      "metadata": {
        "id": "QB7BRhIJ2Uw_"
      },
      "source": [
        "lstm 使用过去seq_len的数据预测明天的数据\n",
        "lstm(x) = y\n",
        "\n",
        "min (y_pre, y_real)\n",
        "\n",
        "\n",
        "\n",
        "假设我们有10个月的数据\n",
        "\n",
        "train_set 训练模型 （7个月）\n",
        "data_sample: x1 = [1,2,3,4,5,6,7]  y1 = [8]\n",
        "             x2 = [2,3,4,5,6,7,8]  y2 = [9]\n",
        "            ...\n",
        "             xn = [..., 209] yn = [210]\n",
        "\n",
        "\n",
        "\n",
        "test_set 测试模型 （3个月）\n",
        "\n",
        "data_sample: x1 = [210, ...]  y1 = [217]\n",
        "             x2 = [211,...]  y2 = [218]\n",
        "             ...\n",
        "             xn = [..., 299] yn = [300]\n",
        "\n",
        "performance: MSE(lstm(test_set(x)), y_real)           \n",
        "\n"
      ]
    },
    {
      "cell_type": "markdown",
      "metadata": {
        "id": "got7v7vP7IQJ"
      },
      "source": [
        "使用预测数据作为输入递归预测未来趋势"
      ]
    },
    {
      "cell_type": "code",
      "execution_count": 48,
      "metadata": {
        "colab": {
          "base_uri": "https://localhost:8080/"
        },
        "id": "0WSMF7kdR3UQ",
        "outputId": "c67b6c7c-bd47-4a45-aca3-06aa4af2e4c3"
      },
      "outputs": [
        {
          "name": "stdout",
          "output_type": "stream",
          "text": [
            "[tensor(0.7750), tensor(0.9450), tensor(1.1740), tensor(1.2590), tensor(1.3680), tensor(1.2540), tensor(0.9410)]\n"
          ]
        }
      ],
      "source": [
        "result = []\n",
        "\n",
        "result.append(test_x[0][0][0])\n",
        "result.append(test_x[0][1][0])\n",
        "result.append(test_x[0][2][0])\n",
        "result.append(test_x[0][3][0])\n",
        "result.append(test_x[0][4][0])\n",
        "result.append(test_x[0][5][0])\n",
        "result.append(test_x[0][6][0])\n",
        "\n",
        "\n",
        "print(result)"
      ]
    },
    {
      "cell_type": "code",
      "execution_count": 49,
      "metadata": {},
      "outputs": [
        {
          "name": "stdout",
          "output_type": "stream",
          "text": [
            "200\n",
            "193\n",
            "[774.9999761581421, 944.9999928474426, 1174.0000247955322, 1258.9999437332153, 1368.0000305175781, 1253.999948501587, 940.9999847412109, 872.326135635376, 899.2438912391663, 1049.3907928466797, 1138.967514038086, 1149.3147611618042, 1080.3864002227783, 966.9167399406433, 907.5353145599365, 923.1070876121521, 972.302496433258, 1001.8597841262817, 996.5272545814514, 961.3053202629089, 914.2717719078064, 883.9102983474731, 877.9974579811096, 883.043110370636, 882.8282356262207, 871.3834881782532, 850.2293229103088, 825.489342212677, 804.2813539505005, 789.0347838401794, 776.8833041191101, 764.0098929405212, 748.6896514892578, 731.0682535171509, 712.3991250991821, 694.2381262779236, 677.4188876152039, 661.7515087127686, 646.7038989067078, 631.9600343704224, 617.4574494361877, 603.3190488815308, 589.7963047027588, 577.1031379699707, 565.3029680252075, 554.3687343597412, 544.2633032798767, 534.9552035331726, 526.4179706573486, 518.6440944671631, 511.6294026374817, 505.3519010543823, 499.77073073387146, 494.8364794254303, 490.4937446117401, 486.6836369037628, 483.34845900535583, 480.4352819919586, 477.8948426246643, 475.6815731525421, 473.7548232078552, 472.0779359340668, 470.61887383461, 469.3489968776703, 468.24347972869873, 467.28089451789856, 466.4423167705536, 465.7116234302521, 465.07492661476135, 464.51982855796814, 464.0361964702606, 463.6141061782837, 463.2457196712494, 462.92492747306824, 462.64490485191345, 462.4002277851105, 462.186723947525, 462.0005786418915, 461.8377387523651, 461.6957902908325, 461.57166361808777, 461.46339178085327, 461.36823296546936, 461.2859785556793, 461.21370792388916, 461.15073561668396, 461.09578013420105, 461.0476791858673, 461.00521087646484, 460.96840500831604, 460.9363377094269, 460.9086215496063, 460.8839750289917, 460.8629643917084, 460.8444273471832, 460.82761883735657, 460.8132839202881, 460.8008563518524, 460.79009771347046, 460.78044176101685, 460.77218651771545, 460.7647955417633, 460.75886487960815, 460.7527554035187, 460.74798703193665, 460.7439339160919, 460.74026823043823, 460.7366621494293, 460.7343077659607, 460.73174476623535, 460.72933077812195, 460.7272446155548, 460.7259929180145, 460.72444319725037, 460.7234299182892, 460.7222080230713, 460.72110533714294, 460.7198238372803, 460.71913838386536, 460.71842312812805, 460.7180655002594, 460.7178866863251, 460.7175290584564, 460.71717143058777, 460.7168436050415, 460.7161581516266, 460.7159197330475, 460.71556210517883, 460.7154428958893, 460.7153534889221, 460.71526408195496, 460.7149362564087, 460.714727640152, 460.71451902389526, 460.7146084308624, 460.71431040763855, 460.714191198349, 460.714191198349, 460.7142508029938, 460.71431040763855, 460.7142508029938, 460.71428060531616, 460.7143700122833, 460.7146978378296, 460.71434020996094, 460.71434020996094, 460.71410179138184, 460.7142508029938, 460.71407198905945, 460.71407198905945, 460.71431040763855, 460.71410179138184, 460.7139825820923, 460.71428060531616, 460.7144594192505, 460.71431040763855, 460.714191198349, 460.7144296169281, 460.71410179138184, 460.71431040763855, 460.7143700122833, 460.7144892215729, 460.7139527797699, 460.7143700122833, 460.7139825820923, 460.7139825820923, 460.71377396583557, 460.7139825820923, 460.71407198905945, 460.7141315937042, 460.714191198349, 460.7142508029938, 460.7144296169281, 460.71475744247437, 460.71454882621765, 460.71457862854004, 460.7146978378296, 460.7149362564087, 460.7146382331848, 460.71457862854004, 460.7141315937042, 460.7139527797699, 460.71410179138184, 460.71386337280273, 460.7140123844147, 460.71410179138184, 460.71434020996094, 460.71451902389526, 460.71457862854004, 460.7144892215729, 460.7146382331848, 460.71457862854004, 460.7146084308624, 460.7146680355072, 460.71428060531616, 460.71407198905945, 460.71380376815796, 460.71377396583557, 460.7137143611908, 460.71386337280273]\n"
          ]
        },
        {
          "data": {
            "image/png": "[encoded data removed]",
            "text/plain": [
              "<Figure size 720x360 with 1 Axes>"
            ]
          },
          "metadata": {
            "needs_background": "light"
          },
          "output_type": "display_data"
        }
      ],
      "source": [
        "# 预测未来10天的数据，\n",
        "for i in range(193):\n",
        "  result.append(model(torch.tensor(result[i:i+7]).reshape(1,7,1)))\n",
        "\n",
        "\n",
        "\n",
        "print(len(result)) \n",
        "print(len(test_y)) \n",
        "\n",
        "result = [i.item() * 1000 for i in result]\n",
        "print(result)\n",
        "\n",
        "# print(\"MSE:\", mean_squared_error(test_y[0:30]*1000, result[7:]))\n",
        "\n",
        "\n",
        "plt.figure(figsize=(10,5))\n",
        "\n",
        "# 真实数据\n",
        "plt.plot(value[557:564], label=\"real\")\n",
        "\n",
        "result = [None]*551 + result\n",
        "\n",
        "print\n",
        "\n",
        "# 预测结果\n",
        "plt.plot(result[557:564], label=\"pred\")\n",
        "\n",
        "# 模型预测的走势\n",
        "plt.legend(loc='best')\n",
        "\n",
        "plt.savefig('fig2.png', dpi = 300)"
      ]
    },
    {
      "cell_type": "markdown",
      "metadata": {
        "id": "u98CWOqq4PYi"
      },
      "source": [
        "lstm 使用过去seq_len的数据预测明天的数据\n",
        "lstm(x) = y\n",
        "\n",
        "min (y_pre, y_real)\n",
        "\n",
        "\n",
        "\n",
        "假设我们有10个月的数据\n",
        "\n",
        "train_set 训练模型 （7个月）\n",
        "data_sample: x1 = [1,2,3,4,5,6,7]  y1 = [8]\n",
        "             x2 = [2,3,4,5,6,7,8]  y2 = [9]\n",
        "            ...\n",
        "             xn = [..., 209] yn = [210]\n",
        "\n",
        "\n",
        "\n",
        "test_set 测试模型 （3个月）\n",
        "\n",
        "data_sample: x1 = [210, ...]  y1 = [217]\n",
        "             x2 = [211,...]  y2 = [218]\n",
        "             ...\n",
        "             xn = [..., 299] yn = [300]\n",
        "\n",
        "performance: MSE(lstm(test_set(x)), y_real)    \n",
        "\n",
        "\n",
        "真实环境下，预测第11个月的数据：\n",
        "model = lstm\n",
        "model([...*6,300]) = y_301\n",
        "model([...*5, 300, y_301]) = y_302\n",
        "       ....\n",
        "\n",
        "\n",
        "预测的越远，效果越差\n",
        "\n",
        "\n",
        "如果数据有固定的模式，则效果不会变的特别差\n",
        "\n",
        "黑天鹅\n",
        "\n",
        "\n",
        "\n",
        "\n"
      ]
    }
  ],
  "metadata": {
    "colab": {
      "collapsed_sections": [],
      "name": "LSTM.ipynb",
      "provenance": []
    },
    "kernelspec": {
      "display_name": "Python 3",
      "name": "python3"
    },
    "language_info": {
      "codemirror_mode": {
        "name": "ipython",
        "version": 3
      },
      "file_extension": ".py",
      "mimetype": "text/x-python",
      "name": "python",
      "nbconvert_exporter": "python",
      "pygments_lexer": "ipython3",
      "version": "3.9.7"
    }
  },
  "nbformat": 4,
  "nbformat_minor": 0
}
