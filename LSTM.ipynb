{
  "cells": [
    {
      "cell_type": "code",
      "execution_count": 1,
      "metadata": {
        "id": "3MZhqNBCEWRe"
      },
      "outputs": [],
      "source": [
        "import torch\n",
        "from torch import nn\n",
        "import numpy as np\n",
        "import matplotlib.pyplot as plt"
      ]
    },
    {
      "cell_type": "code",
      "execution_count": 2,
      "metadata": {
        "id": "Fw-vEv4PGs7C"
      },
      "outputs": [],
      "source": [
        "device = torch.device(\"cuda\" if torch.cuda.is_available() else \"cpu\")"
      ]
    },
    {
      "cell_type": "code",
      "execution_count": 3,
      "metadata": {
        "id": "r4DTpdU_G1DW"
      },
      "outputs": [],
      "source": [
        "# with open(\"/content/drive/MyDrive/covid/data/new_york_(excludes_nyc).csv\", \"r\", encoding=\"utf-8\") as f:\n",
        "#     data = f.read()\n",
        "\n",
        "# data = [row.split(',') for row in  data.split(\"\\n\")]\n",
        "\n",
        "# # value = [int(each[1]) for each in data]\n",
        "# value = [float(each[2]) for each in data[1:]]\n",
        "\n",
        "import csv\n",
        "value = []\n",
        "with open(\"cleaned/new_ny.csv\", \"r\", encoding=\"utf-8\") as f:\n",
        "    csv_reader = csv.reader(f, delimiter=',')\n",
        "    headers = next(csv_reader)\n",
        "    for i in csv_reader:\n",
        "        value.append(int(i[2]))\n",
        "\n",
        "value.reverse()\n",
        "\n",
        "train  = value[:-200]\n",
        "test = value[-200:]\n",
        "\n",
        "\n",
        "# 设置序列数据的时间跨度，seq=7, 指使用过去七天的数据来预测明天的数据\n",
        "# 注意，这并不是说LSTM每次都只利用到7天的历史数据进行预测，而是7天的显式数据+所有已输入的数据产生的隐式信息（只是隐式信息具有离当前预测距离越远，信息量越弱的特点，详情看下行链接）\n",
        "# https://www.jianshu.com/p/6815da2d413d 关于RNN的长距离依赖问题，看下这个链接，LSTM比RNN在这方面强很多，但问题仍然存在。\n",
        "\n",
        "\n",
        "seq = 7\n",
        "\n",
        "# 训练集构造\n",
        "\n",
        "li_x = []\n",
        "li_y = []\n",
        "\n",
        "for i in range(len(train) - seq):\n",
        "    # 输入就是[x, x+1, x+2, ... , x + (seq-1)]天的数据，输出是 x + seq 天的数据\n",
        "    li_x.append(train[i: i+seq])\n",
        "    li_y.append(train[i+seq])\n",
        "\n",
        "# 对数据进行缩放有利于训练的收敛，但更好的方式是进行归一化处理；在当前应用上，这几种操作对结果不会造成太大影响，可以作为以后的练习。\n",
        "# 关于归一化的作用，可以参考这个帖子：https://www.cnblogs.com/LBSer/p/4440590.html\n",
        "\n",
        "train_x = (torch.tensor(li_x).float() / 1000.).reshape(-1, seq, 1).to(device)\n",
        "train_y = (torch.tensor(li_y).float() / 1000.).reshape(-1, 1).to(device)\n",
        "\n",
        "\n",
        "# 测试集构造\n",
        "\n",
        "t_x = []\n",
        "t_y = []\n",
        "\n",
        "for i in range(len(test) - seq):\n",
        "    t_x.append(test[i: i+seq])\n",
        "    t_y.append(test[i+seq])\n",
        "\n",
        "test_x = (torch.tensor(t_x).float() / 1000.).reshape(-1, seq, 1).to(device)\n",
        "test_y = (torch.tensor(t_y).float() / 1000.).reshape(-1, 1).to(device)"
      ]
    },
    {
      "cell_type": "code",
      "execution_count": 4,
      "metadata": {
        "id": "yNVQdLNjIClx"
      },
      "outputs": [],
      "source": [
        "class Net(nn.Module):\n",
        "    def __init__(self):\n",
        "        super(Net, self).__init__()\n",
        "        self.lstm = nn.LSTM(input_size=1, hidden_size=32, num_layers=1, batch_first=True)\n",
        "        # 输入格式是1，输出隐藏层大小是32\n",
        "        # 对于小数据集num_layers不要设置大，否则会因为模型变复杂而导致效果会变差\n",
        "        # num_layers顾名思义就是有几个lstm层，假如设置成2，就相当于连续经过两个lstm层\n",
        "        # 原来的输入格式是：(seq, batch, shape)\n",
        "        # 设置batch_first=True以后，输入格式就可以改为：(batch, seq, shape)，更符合平常使用的习惯\n",
        "        self.linear = nn.Linear(32*seq, 1)\n",
        "\n",
        "    def forward(self, x):\n",
        "        x, (h, c) = self.lstm(x)\n",
        "        x = x.reshape(-1, 32*seq)\n",
        "        x = self.linear(x)\n",
        "        return x"
      ]
    },
    {
      "cell_type": "code",
      "execution_count": 5,
      "metadata": {
        "id": "1yS-uutzIE0b"
      },
      "outputs": [],
      "source": [
        "model = Net().to(device)\n",
        "optimizer = torch.optim.Adam(model.parameters(), lr=0.001)\n",
        "loss_fun = nn.MSELoss()"
      ]
    },
    {
      "cell_type": "code",
      "execution_count": 20,
      "metadata": {
        "colab": {
          "base_uri": "https://localhost:8080/"
        },
        "id": "HowPsBYmPNie",
        "outputId": "ee562ed0-fcac-4da4-e7bd-525f5fcd95d0"
      },
      "outputs": [
        {
          "name": "stdout",
          "output_type": "stream",
          "text": [
            "epoch:20, loss:0.03441424295306206, test_loss: 28.709373474121094\n",
            "epoch:40, loss:0.03370898589491844, test_loss: 28.663118362426758\n",
            "epoch:60, loss:0.033036768436431885, test_loss: 28.611652374267578\n",
            "epoch:80, loss:0.03303291276097298, test_loss: 28.575336456298828\n",
            "epoch:100, loss:0.031801048666238785, test_loss: 28.51246452331543\n",
            "epoch:120, loss:0.031190529465675354, test_loss: 28.46984100341797\n",
            "epoch:140, loss:0.03060671128332615, test_loss: 28.42377281188965\n",
            "epoch:160, loss:0.030067432671785355, test_loss: 28.358840942382812\n",
            "epoch:180, loss:0.029546447098255157, test_loss: 28.33183479309082\n",
            "epoch:200, loss:0.028988853096961975, test_loss: 28.285249710083008\n",
            "epoch:220, loss:0.028483854606747627, test_loss: 28.232067108154297\n",
            "epoch:240, loss:0.028553921729326248, test_loss: 28.200712203979492\n",
            "epoch:260, loss:0.027594758197665215, test_loss: 28.147567749023438\n",
            "epoch:280, loss:0.026969337835907936, test_loss: 28.100788116455078\n",
            "epoch:300, loss:0.027347756549715996, test_loss: 28.040889739990234\n",
            "epoch:320, loss:0.026079533621668816, test_loss: 28.010526657104492\n",
            "epoch:340, loss:0.02559652365744114, test_loss: 27.966005325317383\n",
            "epoch:360, loss:0.025258474051952362, test_loss: 27.926620483398438\n",
            "epoch:380, loss:0.024900762364268303, test_loss: 27.884191513061523\n",
            "epoch:400, loss:0.02473270520567894, test_loss: 27.8306884765625\n",
            "epoch:420, loss:0.02426067553460598, test_loss: 27.788665771484375\n",
            "epoch:440, loss:0.024016523733735085, test_loss: 27.76738166809082\n",
            "epoch:460, loss:0.023610543459653854, test_loss: 27.708078384399414\n",
            "epoch:480, loss:0.023361342027783394, test_loss: 27.68873405456543\n",
            "epoch:500, loss:0.022698843851685524, test_loss: 27.634065628051758\n",
            "epoch:520, loss:0.022645842283964157, test_loss: 27.61307716369629\n",
            "epoch:540, loss:0.02262931317090988, test_loss: 27.555355072021484\n",
            "epoch:560, loss:0.022042544558644295, test_loss: 27.542512893676758\n",
            "epoch:580, loss:0.021193603053689003, test_loss: 27.494789123535156\n",
            "epoch:600, loss:0.021278977394104004, test_loss: 27.474191665649414\n",
            "epoch:620, loss:0.02107434906065464, test_loss: 27.42079734802246\n",
            "epoch:640, loss:0.02021341770887375, test_loss: 27.398469924926758\n",
            "epoch:660, loss:0.0202599186450243, test_loss: 27.364240646362305\n",
            "epoch:680, loss:0.019898656755685806, test_loss: 27.341562271118164\n",
            "epoch:700, loss:0.019461771473288536, test_loss: 27.30061912536621\n",
            "epoch:720, loss:0.01960526779294014, test_loss: 27.28537940979004\n",
            "epoch:740, loss:0.01927468366920948, test_loss: 27.236772537231445\n",
            "epoch:760, loss:0.018555646762251854, test_loss: 27.220252990722656\n",
            "epoch:780, loss:0.01829547993838787, test_loss: 27.183996200561523\n",
            "epoch:800, loss:0.018040068447589874, test_loss: 27.16437530517578\n",
            "epoch:820, loss:0.017781637609004974, test_loss: 27.134422302246094\n",
            "epoch:840, loss:0.017739348113536835, test_loss: 27.100479125976562\n",
            "epoch:860, loss:0.017931215465068817, test_loss: 27.091711044311523\n",
            "epoch:880, loss:0.017477698624134064, test_loss: 27.047977447509766\n",
            "epoch:900, loss:0.017033793032169342, test_loss: 27.036699295043945\n",
            "epoch:920, loss:0.016625886783003807, test_loss: 27.001428604125977\n",
            "epoch:940, loss:0.01638615131378174, test_loss: 26.97682762145996\n",
            "epoch:960, loss:0.01610981486737728, test_loss: 26.9531307220459\n",
            "epoch:980, loss:0.016975775361061096, test_loss: 26.948482513427734\n",
            "epoch:1000, loss:0.015843519940972328, test_loss: 26.909055709838867\n",
            "epoch:1020, loss:0.015485405921936035, test_loss: 26.885690689086914\n",
            "epoch:1040, loss:0.015430699102580547, test_loss: 26.856706619262695\n",
            "epoch:1060, loss:0.015627458691596985, test_loss: 26.848100662231445\n",
            "epoch:1080, loss:0.015125773847103119, test_loss: 26.809785842895508\n",
            "epoch:1100, loss:0.014923937618732452, test_loss: 26.78644561767578\n",
            "epoch:1120, loss:0.014493722468614578, test_loss: 26.772043228149414\n",
            "epoch:1140, loss:0.014675678685307503, test_loss: 26.752870559692383\n",
            "epoch:1160, loss:0.014384021982550621, test_loss: 26.71697235107422\n",
            "epoch:1180, loss:0.014358150772750378, test_loss: 26.7106876373291\n",
            "epoch:1200, loss:0.014011370949447155, test_loss: 26.674179077148438\n",
            "epoch:1220, loss:0.013627358712255955, test_loss: 26.657577514648438\n",
            "epoch:1240, loss:0.013468348421156406, test_loss: 26.638572692871094\n",
            "epoch:1260, loss:0.013606767170131207, test_loss: 26.61220359802246\n",
            "epoch:1280, loss:0.013358700089156628, test_loss: 26.589632034301758\n",
            "epoch:1300, loss:0.012974357232451439, test_loss: 26.575483322143555\n",
            "epoch:1320, loss:0.012908701784908772, test_loss: 26.548276901245117\n",
            "epoch:1340, loss:0.012689613737165928, test_loss: 26.53053855895996\n",
            "epoch:1360, loss:0.01261772122234106, test_loss: 26.512287139892578\n",
            "epoch:1380, loss:0.01240706816315651, test_loss: 26.490495681762695\n",
            "epoch:1400, loss:0.012833332642912865, test_loss: 26.45978355407715\n",
            "epoch:1420, loss:0.012147963978350163, test_loss: 26.446989059448242\n",
            "epoch:1440, loss:0.01204471942037344, test_loss: 26.426639556884766\n",
            "epoch:1460, loss:0.012273627333343029, test_loss: 26.40053939819336\n",
            "epoch:1480, loss:0.012037115171551704, test_loss: 26.392967224121094\n",
            "epoch:1500, loss:0.011629852466285229, test_loss: 26.3662166595459\n",
            "epoch:1520, loss:0.011541793122887611, test_loss: 26.34678840637207\n",
            "epoch:1540, loss:0.01200823113322258, test_loss: 26.338233947753906\n",
            "epoch:1560, loss:0.01166473887860775, test_loss: 26.304363250732422\n",
            "epoch:1580, loss:0.011143394745886326, test_loss: 26.295822143554688\n",
            "epoch:1600, loss:0.011312891729176044, test_loss: 26.281923294067383\n",
            "epoch:1620, loss:0.011388302780687809, test_loss: 26.250797271728516\n",
            "epoch:1640, loss:0.010844352655112743, test_loss: 26.2451171875\n",
            "epoch:1660, loss:0.010672611184418201, test_loss: 26.22369384765625\n",
            "epoch:1680, loss:0.011074056848883629, test_loss: 26.195655822753906\n",
            "epoch:1700, loss:0.010463311336934566, test_loss: 26.19068717956543\n",
            "epoch:1720, loss:0.010446843691170216, test_loss: 26.175817489624023\n",
            "epoch:1740, loss:0.010458748787641525, test_loss: 26.154312133789062\n",
            "epoch:1760, loss:0.010988193564116955, test_loss: 26.154159545898438\n",
            "epoch:1780, loss:0.01037579495459795, test_loss: 26.123695373535156\n",
            "epoch:1800, loss:0.009978093206882477, test_loss: 26.112445831298828\n",
            "epoch:1820, loss:0.010138374753296375, test_loss: 26.10314178466797\n",
            "epoch:1840, loss:0.009806094691157341, test_loss: 26.085012435913086\n",
            "epoch:1860, loss:0.009842761792242527, test_loss: 26.069372177124023\n",
            "epoch:1880, loss:0.009894350543618202, test_loss: 26.06374740600586\n",
            "epoch:1900, loss:0.009883916936814785, test_loss: 26.03584098815918\n",
            "epoch:1920, loss:0.00972025003284216, test_loss: 26.024808883666992\n",
            "epoch:1940, loss:0.009654613211750984, test_loss: 26.012067794799805\n",
            "epoch:1960, loss:0.009368949569761753, test_loss: 26.002534866333008\n",
            "epoch:1980, loss:0.009578227065503597, test_loss: 25.986833572387695\n",
            "epoch:2000, loss:0.009120523929595947, test_loss: 25.98235321044922\n",
            "epoch:2020, loss:0.010964268818497658, test_loss: 25.984575271606445\n",
            "epoch:2040, loss:0.009299783036112785, test_loss: 25.965734481811523\n",
            "epoch:2060, loss:0.008916226215660572, test_loss: 25.950355529785156\n",
            "epoch:2080, loss:0.00891480129212141, test_loss: 25.944307327270508\n",
            "epoch:2100, loss:0.00899058859795332, test_loss: 25.920534133911133\n",
            "epoch:2120, loss:0.008938632905483246, test_loss: 25.922771453857422\n",
            "epoch:2140, loss:0.008834348060190678, test_loss: 25.912261962890625\n",
            "epoch:2160, loss:0.009653182700276375, test_loss: 25.88425636291504\n",
            "epoch:2180, loss:0.008816175162792206, test_loss: 25.890010833740234\n",
            "epoch:2200, loss:0.008499438874423504, test_loss: 25.883548736572266\n",
            "epoch:2220, loss:0.008485428057610989, test_loss: 25.873920440673828\n",
            "epoch:2240, loss:0.00884261168539524, test_loss: 25.869342803955078\n",
            "epoch:2260, loss:0.00826974492520094, test_loss: 25.857219696044922\n",
            "epoch:2280, loss:0.009436889551579952, test_loss: 25.83917236328125\n",
            "epoch:2300, loss:0.008543972857296467, test_loss: 25.84994888305664\n",
            "epoch:2320, loss:0.008167669177055359, test_loss: 25.838083267211914\n",
            "epoch:2340, loss:0.008084530010819435, test_loss: 25.82893943786621\n",
            "epoch:2360, loss:0.008385970257222652, test_loss: 25.811052322387695\n",
            "epoch:2380, loss:0.007968733087182045, test_loss: 25.810415267944336\n",
            "epoch:2400, loss:0.008339853025972843, test_loss: 25.792203903198242\n",
            "epoch:2420, loss:0.007861361838877201, test_loss: 25.795307159423828\n",
            "epoch:2440, loss:0.008163862861692905, test_loss: 25.79730224609375\n",
            "epoch:2460, loss:0.00772915780544281, test_loss: 25.782791137695312\n",
            "epoch:2480, loss:0.008271189406514168, test_loss: 25.76866912841797\n",
            "epoch:2500, loss:0.0076647051610052586, test_loss: 25.767436981201172\n",
            "epoch:2520, loss:0.007848176173865795, test_loss: 25.761281967163086\n",
            "epoch:2540, loss:0.007970396429300308, test_loss: 25.75507926940918\n",
            "epoch:2560, loss:0.0075483364053070545, test_loss: 25.75008773803711\n",
            "epoch:2580, loss:0.008276896551251411, test_loss: 25.750272750854492\n",
            "epoch:2600, loss:0.007690310478210449, test_loss: 25.743301391601562\n",
            "epoch:2620, loss:0.0076429168693721294, test_loss: 25.738834381103516\n",
            "epoch:2640, loss:0.007537804078310728, test_loss: 25.73084259033203\n",
            "epoch:2660, loss:0.007443644572049379, test_loss: 25.723642349243164\n",
            "epoch:2680, loss:0.007743691559880972, test_loss: 25.71338653564453\n",
            "epoch:2700, loss:0.0072191571816802025, test_loss: 25.71734619140625\n",
            "epoch:2720, loss:0.00810743123292923, test_loss: 25.714675903320312\n",
            "epoch:2740, loss:0.007549960631877184, test_loss: 25.69961929321289\n",
            "epoch:2760, loss:0.007122715003788471, test_loss: 25.698766708374023\n",
            "epoch:2780, loss:0.007790790870785713, test_loss: 25.685043334960938\n",
            "epoch:2800, loss:0.007384266704320908, test_loss: 25.696414947509766\n",
            "epoch:2820, loss:0.007004451006650925, test_loss: 25.686771392822266\n",
            "epoch:2840, loss:0.007343576289713383, test_loss: 25.67360496520996\n",
            "epoch:2860, loss:0.007331081200391054, test_loss: 25.68170166015625\n",
            "epoch:2880, loss:0.006978131365031004, test_loss: 25.6721134185791\n",
            "epoch:2900, loss:0.007146773859858513, test_loss: 25.662382125854492\n",
            "epoch:2920, loss:0.006926869973540306, test_loss: 25.67011070251465\n",
            "epoch:2940, loss:0.007051553577184677, test_loss: 25.659875869750977\n",
            "epoch:2960, loss:0.0069387368857860565, test_loss: 25.66048240661621\n",
            "epoch:2980, loss:0.007217796985059977, test_loss: 25.664466857910156\n"
          ]
        }
      ],
      "source": [
        "model.train()\n",
        "for epoch in range(3000):\n",
        "    output = model(train_x)\n",
        "    loss = loss_fun(output, train_y)\n",
        "    optimizer.zero_grad()\n",
        "    loss.backward()\n",
        "    optimizer.step()\n",
        "    if epoch % 20 == 0 and epoch > 0:\n",
        "        test_loss = loss_fun(model(test_x), test_y)\n",
        "        print(\"epoch:{}, loss:{}, test_loss: {}\".format(epoch, loss, test_loss))\n",
        "        if test_loss < 20:\n",
        "              # # 保存整个网络\n",
        "          # torch.save(model, 'demo') \n",
        "          # # 保存网络中的参数, 速度快，占空间少\n",
        "          # torch.save(model.state_dict(),'demo')\n",
        "          break\n"
      ]
    },
    {
      "cell_type": "markdown",
      "metadata": {
        "id": "XiXeKSjE6htL"
      },
      "source": [
        "使用正确数据作为输入进行预测"
      ]
    },
    {
      "cell_type": "code",
      "execution_count": 7,
      "metadata": {
        "colab": {
          "base_uri": "https://localhost:8080/",
          "height": 338
        },
        "id": "jBJOC03yz8OF",
        "outputId": "548f0a6b-362c-48b6-dab0-d2cb727c3548"
      },
      "outputs": [
        {
          "name": "stdout",
          "output_type": "stream",
          "text": [
            "MSE: 28760374.0\n"
          ]
        },
        {
          "data": {
            "image/png": "[encoded data removed]",
            "text/plain": [
              "<Figure size 432x288 with 1 Axes>"
            ]
          },
          "metadata": {
            "needs_background": "light"
          },
          "output_type": "display_data"
        }
      ],
      "source": [
        "model.eval()\n",
        "\n",
        "# print(len(value))\n",
        "# print(len(train))\n",
        "# print(len(test))\n",
        "#result = [] + list((model(train_x).data.reshape(-1))*00) + list((model(test_x).data.reshape(-1))*1000)\n",
        "test_pre = list((model(test_x).data.reshape(-1))*1000)\n",
        "\n",
        "from sklearn.metrics import mean_squared_error\n",
        "print(\"MSE:\", mean_squared_error(test_y*1000, test_pre))\n",
        "\n",
        "\n",
        "\n",
        "# # 真实数据\n",
        "# plt.plot(test_y*1000, label=\"real\")\n",
        "\n",
        "# 真实数据\n",
        "#plt.figure(figsize=(8,5))\n",
        "plt.plot(value, label=\"real\")\n",
        "\n",
        "test_data = [None]*558 + test_pre\n",
        "#test_data = result\n",
        "\n",
        "# 预测结果\n",
        "plt.plot(test_data, label=\"pred\")\n",
        "#plt.title('Combining Methods of Predictions On New York City')\n",
        "plt.title('Tr600')\n",
        "plt.xlabel('Date')\n",
        "plt.ylabel('Daily New Cases')\n",
        "plt.xticks(\n",
        "    [0,100,200,300,400,500,600,700],\n",
        "    ['2020/1','2020/5', '2020/8', '2020/12', '2021/2', '2021/6', '2021/9', '2021/12']\n",
        ")\n",
        "# 模型预测的走势\n",
        "plt.legend(loc='best')\n",
        "\n",
        "plt.savefig('fig1.png', dpi = 300)\n"
      ]
    },
    {
      "cell_type": "code",
      "execution_count": 8,
      "metadata": {},
      "outputs": [],
      "source": [
        "#Tr 400 19685076.0\n",
        "#Tr 500 MSE: 19886270.0"
      ]
    },
    {
      "cell_type": "code",
      "execution_count": 9,
      "metadata": {},
      "outputs": [
        {
          "name": "stdout",
          "output_type": "stream",
          "text": [
            "[1405813.7610078282] 702906.8805039141\n",
            "[1185.6701737868875] 592.8350868934438\n"
          ]
        }
      ],
      "source": [
        "from sklearn.metrics import mean_squared_error\n",
        "temp_MSE = []\n",
        "temp_RMSE = []\n",
        "for i in range(600,700,100):\n",
        "    MSE = mean_squared_error(value[i:i+100], test_data[i:i+100])\n",
        "    temp_MSE.append(MSE)\n",
        "    RMSE = MSE ** 0.5\n",
        "    temp_RMSE.append(RMSE)\n",
        "print(temp_MSE, sum(temp_MSE)/ 2)\n",
        "print(temp_RMSE, sum(temp_RMSE) / 2)"
      ]
    },
    {
      "cell_type": "code",
      "execution_count": 10,
      "metadata": {},
      "outputs": [],
      "source": [
        "# [468159.8713281174, 395918.51832596475, 2085784.0638095618]\n",
        "# [684.222092107612, 629.2205641315013, 1444.2243813928505]"
      ]
    },
    {
      "cell_type": "markdown",
      "metadata": {
        "id": "QB7BRhIJ2Uw_"
      },
      "source": [
        "lstm 使用过去seq_len的数据预测明天的数据\n",
        "lstm(x) = y\n",
        "\n",
        "min (y_pre, y_real)\n",
        "\n",
        "\n",
        "\n",
        "假设我们有10个月的数据\n",
        "\n",
        "train_set 训练模型 （7个月）\n",
        "data_sample: x1 = [1,2,3,4,5,6,7]  y1 = [8]\n",
        "             x2 = [2,3,4,5,6,7,8]  y2 = [9]\n",
        "            ...\n",
        "             xn = [..., 209] yn = [210]\n",
        "\n",
        "\n",
        "\n",
        "test_set 测试模型 （3个月）\n",
        "\n",
        "data_sample: x1 = [210, ...]  y1 = [217]\n",
        "             x2 = [211,...]  y2 = [218]\n",
        "             ...\n",
        "             xn = [..., 299] yn = [300]\n",
        "\n",
        "performance: MSE(lstm(test_set(x)), y_real)           \n",
        "\n"
      ]
    },
    {
      "cell_type": "markdown",
      "metadata": {
        "id": "got7v7vP7IQJ"
      },
      "source": [
        "使用预测数据作为输入递归预测未来趋势"
      ]
    },
    {
      "cell_type": "code",
      "execution_count": 19,
      "metadata": {},
      "outputs": [
        {
          "name": "stdout",
          "output_type": "stream",
          "text": [
            "[tensor(0.7750), tensor(0.9450), tensor(1.1740), tensor(1.2590), tensor(1.3680), tensor(1.2540), tensor(0.9410)]\n",
            "200\n",
            "193\n",
            "[774.9999761581421, 944.9999928474426, 1174.0000247955322, 1258.9999437332153, 1368.0000305175781, 1253.999948501587, 940.9999847412109, 683.0318570137024, 787.2949838638306, 1081.032156944275, 1197.7721452713013, 1147.5142240524292, 1089.7067785263062, 903.897762298584, 696.7571973800659, 801.1592626571655, 1035.7707738876343, 1076.5405893325806, 1078.2233476638794, 1013.9931440353394, 861.7479205131531, 824.5416879653931, 939.4418597221375, 1036.0335111618042, 1071.219563484192, 1048.3423471450806, 973.6412167549133, 919.0524220466614, 959.7195982933044, 1037.4819040298462, 1084.542989730835, 1088.9931917190552, 1055.7957887649536, 1019.203782081604, 1033.7270498275757, 1082.9625129699707, 1129.679799079895, 1150.6181955337524, 1144.3251371383667, 1131.5523386001587, 1140.6471729278564, 1170.4375743865967, 1209.2700004577637, 1238.9317750930786, 1252.4287700653076, 1259.2500448226929, 1269.161581993103, 1284.6654653549194, 1308.5360527038574, 1336.6707563400269, 1360.1044416427612, 1377.1259784698486, 1388.755202293396, 1396.3826894760132, 1403.2340049743652, 1415.0418043136597, 1432.89053440094, 1451.926827430725, 1468.6821699142456, 1480.805516242981, 1486.9197607040405, 1487.8559112548828, 1488.4876012802124, 1494.578242301941, 1506.6879987716675, 1522.0422744750977, 1536.3770723342896, 1545.7839965820312, 1548.2896566390991, 1544.4841384887695, 1539.4290685653687, 1539.7847890853882, 1548.5161542892456, 1562.7983808517456, 1576.8531560897827, 1585.9202146530151, 1587.1936082839966, 1580.2208185195923, 1569.5034265518188, 1564.4019842147827, 1570.5193281173706, 1584.8071575164795, 1600.279450416565, 1610.754132270813, 1612.517237663269, 1603.6702394485474, 1587.583303451538, 1576.4325857162476, 1579.5725584030151, 1594.5593118667603, 1612.6643419265747, 1625.761866569519, 1629.2645931243896, 1620.0250387191772, 1598.90878200531, 1580.3183317184448, 1579.61905002594, 1595.6515073776245, 1617.336392402649, 1634.0588331222534, 1640.163779258728, 1632.000207901001, 1606.3717603683472, 1578.507900238037, 1572.6009607315063, 1589.8829698562622, 1616.0969734191895, 1637.386441230774, 1646.502137184143, 1640.539050102234, 1611.3370656967163, 1571.8950033187866, 1558.9696168899536, 1578.0190229415894, 1609.8638772964478, 1636.7024183273315, 1648.73468875885, 1645.3361511230469, 1613.759160041809, 1559.677004814148, 1537.8628969192505, 1560.239553451538, 1599.2013216018677, 1632.6080560684204, 1646.8380689620972, 1645.0964212417603, 1611.920714378357, 1538.4821891784668, 1506.9096088409424, 1536.6367101669312, 1584.8454236984253, 1625.643014907837, 1640.2558088302612, 1637.5244855880737, 1601.660132408142, 1500.1121759414673, 1462.2195959091187, 1508.21053981781, 1568.1427717208862, 1616.2623167037964, 1627.0225048065186, 1618.4464693069458, 1573.151707649231, 1427.7595281600952, 1400.8868932724, 1478.8976907730103, 1550.8500337600708, 1603.2735109329224, 1600.9601354599, 1579.0327787399292, 1493.4461116790771, 1299.264669418335, 1333.7804079055786, 1456.33864402771, 1532.9939126968384, 1575.2710103988647, 1544.1646575927734, 1504.5870542526245, 1253.7150382995605, 1128.1704902648926, 1304.3705224990845, 1434.556007385254, 1502.9977560043335, 1486.5447282791138, 1390.04385471344, 1324.4811296463013, 996.7127442359924, 1117.9994344711304, 1345.925211906433, 1396.9169855117798, 1427.4555444717407, 1372.0053434371948, 1226.3267040252686, 875.5165338516235, 934.4688653945923, 1228.5244464874268, 1327.3749351501465, 1344.359040260315, 1274.6890783309937, 1093.181848526001, 763.0011439323425, 797.1753478050232, 1130.335807800293, 1225.5337238311768, 1229.6146154403687, 1166.2336587905884, 984.3193292617798, 745.3349232673645, 762.374997138977, 1063.6245012283325, 1138.9027833938599, 1141.7409181594849, 1082.462191581726, 928.4713268280029, 834.4900012016296, 861.1493706703186, 1047.9844808578491, 1101.0034084320068, 1093.8788652420044, 1036.3413095474243]\n"
          ]
        },
        {
          "data": {
            "image/png": "[encoded data removed]",
            "text/plain": [
              "<Figure size 432x288 with 1 Axes>"
            ]
          },
          "metadata": {
            "needs_background": "light"
          },
          "output_type": "display_data"
        }
      ],
      "source": [
        "result = []\n",
        "\n",
        "result.append(test_x[0][0][0])\n",
        "result.append(test_x[0][1][0])\n",
        "result.append(test_x[0][2][0])\n",
        "result.append(test_x[0][3][0])\n",
        "result.append(test_x[0][4][0])\n",
        "result.append(test_x[0][5][0])\n",
        "result.append(test_x[0][6][0])\n",
        "\n",
        "\n",
        "print(result)\n",
        "# 预测未来10天的数据，\n",
        "for i in range(193):\n",
        "  result.append(model(torch.tensor(result[i:i+7]).reshape(1,7,1)))\n",
        "\n",
        "\n",
        "\n",
        "print(len(result)) \n",
        "print(len(test_y)) \n",
        "\n",
        "result = [i.item() * 1000 for i in result]\n",
        "print(result)\n",
        "\n",
        "# print(\"MSE:\", mean_squared_error(test_y[0:30]*1000, result[7:]))\n",
        "\n",
        "\n",
        "# plt.figure(figsize=(10,5))\n",
        "\n",
        "# 真实数据\n",
        "plt.plot(value[557:564], label=\"real\")\n",
        "# plt.plot(value, label=\"real\")\n",
        "# plt.plot(value[557:564], label=\"real\")\n",
        "result = [None]*551 + result\n",
        "\n",
        "# 预测结果\n",
        "plt.plot(result[557:564], label=\"pred\")\n",
        "# plt.plot(result, label=\"pred\")\n",
        "# 模型预测的走势\n",
        "plt.title('Predictions Based on Predictions')\n",
        "plt.xlabel('Date')\n",
        "plt.ylabel('Daily New Cases')\n",
        "# plt.xticks(\n",
        "#     [0,100,200,300,400,500,600,700],\n",
        "#     ['2020/1','2020/5', '2020/8', '2020/12', '2021/2', '2021/6', '2021/9', '2021/12']\n",
        "# )\n",
        "plt.legend(loc='best')\n",
        "plt.savefig('fig2.png', dpi = 300)"
      ]
    },
    {
      "cell_type": "markdown",
      "metadata": {
        "id": "u98CWOqq4PYi"
      },
      "source": [
        "lstm 使用过去seq_len的数据预测明天的数据\n",
        "lstm(x) = y\n",
        "\n",
        "min (y_pre, y_real)\n",
        "\n",
        "\n",
        "\n",
        "假设我们有10个月的数据\n",
        "\n",
        "train_set 训练模型 （7个月）\n",
        "data_sample: x1 = [1,2,3,4,5,6,7]  y1 = [8]\n",
        "             x2 = [2,3,4,5,6,7,8]  y2 = [9]\n",
        "            ...\n",
        "             xn = [..., 209] yn = [210]\n",
        "\n",
        "\n",
        "\n",
        "test_set 测试模型 （3个月）\n",
        "\n",
        "data_sample: x1 = [210, ...]  y1 = [217]\n",
        "             x2 = [211,...]  y2 = [218]\n",
        "             ...\n",
        "             xn = [..., 299] yn = [300]\n",
        "\n",
        "performance: MSE(lstm(test_set(x)), y_real)    \n",
        "\n",
        "\n",
        "真实环境下，预测第11个月的数据：\n",
        "model = lstm\n",
        "model([...*6,300]) = y_301\n",
        "model([...*5, 300, y_301]) = y_302\n",
        "       ....\n",
        "\n",
        "\n",
        "预测的越远，效果越差\n",
        "\n",
        "\n",
        "如果数据有固定的模式，则效果不会变的特别差\n",
        "\n",
        "黑天鹅\n",
        "\n",
        "\n",
        "\n",
        "\n"
      ]
    }
  ],
  "metadata": {
    "colab": {
      "collapsed_sections": [],
      "name": "LSTM.ipynb",
      "provenance": []
    },
    "kernelspec": {
      "display_name": "Python 3",
      "name": "python3"
    },
    "language_info": {
      "codemirror_mode": {
        "name": "ipython",
        "version": 3
      },
      "file_extension": ".py",
      "mimetype": "text/x-python",
      "name": "python",
      "nbconvert_exporter": "python",
      "pygments_lexer": "ipython3",
      "version": "3.9.7"
    }
  },
  "nbformat": 4,
  "nbformat_minor": 0
}
