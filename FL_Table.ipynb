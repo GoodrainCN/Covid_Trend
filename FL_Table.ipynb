{
 "cells": [
  {
   "cell_type": "code",
   "execution_count": 1,
   "metadata": {},
   "outputs": [],
   "source": [
    "import torch\n",
    "from torch import nn\n",
    "import numpy as np\n",
    "import matplotlib.pyplot as plt"
   ]
  },
  {
   "cell_type": "code",
   "execution_count": 2,
   "metadata": {},
   "outputs": [],
   "source": [
    "device = torch.device(\"cuda\" if torch.cuda.is_available() else \"cpu\")"
   ]
  },
  {
   "cell_type": "code",
   "execution_count": 3,
   "metadata": {},
   "outputs": [
    {
     "name": "stdout",
     "output_type": "stream",
     "text": [
      "torch.Size([508, 2, 1])\n"
     ]
    }
   ],
   "source": [
    "import csv\n",
    "data = []\n",
    "with open(\"cleaned/FL.csv\", \"r\", encoding=\"utf-8\") as f:\n",
    "    csv_reader = csv.reader(f, delimiter=',')\n",
    "    headers = next(csv_reader)\n",
    "    for i in csv_reader:\n",
    "        data.append(int(i[5]))\n",
    "\n",
    "train  = data[:-200]\n",
    "test = data[-200:]\n",
    "\n",
    "li_x = []\n",
    "li_y = []\n",
    "seq = 2\n",
    "\n",
    "# 因为数据集较少，序列长度太长会影响结果\n",
    "for i in range(len(data[:-200]) - seq):\n",
    "    # 输入就是[x,x+1]天的数据，输出时x+2天的数据\n",
    "    li_x.append(train[i: i+seq])\n",
    "    li_y.append(train[i+seq])\n",
    "\n",
    "t_x = []\n",
    "t_y = []\n",
    "# 因为数据集较少，序列长度太长会影响结果\n",
    "for i in range(len(data[-200:]) - seq):\n",
    "    # 输入就是[x,x+1]天的数据，输出时x+2天的数据*\n",
    "    t_x.append(test[i: i+seq])\n",
    "    t_y.append(test[i+seq])\n",
    "\n",
    "# print(li_x)\n",
    "# print(li_y)\n",
    "\n",
    "# 分训练和测试集\n",
    "train_x = (torch.tensor(li_x).float() / 1000.).reshape(-1, seq, 1).to(device)\n",
    "train_y = (torch.tensor(li_y).float() / 1000.).reshape(-1, 1).to(device)\n",
    "\n",
    "print(train_x.shape)\n",
    "\n",
    "test_x = (torch.tensor(t_x).float() / 1000.).reshape(-1, seq, 1).to(device)\n",
    "test_y = (torch.tensor(t_y).float() / 1000.).reshape(-1, 1).to(device)"
   ]
  },
  {
   "cell_type": "code",
   "execution_count": 4,
   "metadata": {},
   "outputs": [],
   "source": [
    "class Net(nn.Module):\n",
    "    def __init__(self):\n",
    "        super(Net, self).__init__()\n",
    "        self.lstm = nn.LSTM(input_size=1, hidden_size=32, num_layers=1, batch_first=True)\n",
    "        # 输入格式是1，输出隐藏层大小是32\n",
    "        # 对于小数据集num_layers不要设置大，否则会因为模型变复杂而导致效果会变差\n",
    "        # num_layers顾名思义就是有几个lstm层，假如设置成2，就相当于连续经过两个lstm层\n",
    "        # 原来的输入格式是：(seq, batch, shape)\n",
    "        # 设置batch_first=True以后，输入格式就可以改为：(batch, seq, shape)，更符合平常使用的习惯\n",
    "        self.linear = nn.Linear(32*seq, 1)\n",
    "\n",
    "    def forward(self, x):\n",
    "        x, (h, c) = self.lstm(x)\n",
    "        x = x.reshape(-1, 32*seq)\n",
    "        x = self.linear(x)\n",
    "        return x"
   ]
  },
  {
   "cell_type": "code",
   "execution_count": 5,
   "metadata": {},
   "outputs": [],
   "source": [
    "model = Net().to(device)\n",
    "optimizer = torch.optim.Adam(model.parameters(), lr=0.003)\n",
    "loss_fun = nn.MSELoss()"
   ]
  },
  {
   "cell_type": "code",
   "execution_count": 6,
   "metadata": {},
   "outputs": [
    {
     "name": "stdout",
     "output_type": "stream",
     "text": [
      "epoch:20, loss:22.91898536682129, test_loss: 178.73497009277344\n",
      "epoch:40, loss:8.097253799438477, test_loss: 127.54315948486328\n",
      "epoch:60, loss:5.0391998291015625, test_loss: 103.06505584716797\n",
      "epoch:80, loss:3.501032590866089, test_loss: 93.37324523925781\n",
      "epoch:100, loss:2.7865662574768066, test_loss: 83.41484832763672\n",
      "epoch:120, loss:2.4071052074432373, test_loss: 76.66931915283203\n",
      "epoch:140, loss:2.2132930755615234, test_loss: 72.15753936767578\n",
      "epoch:160, loss:2.1272268295288086, test_loss: 69.19579315185547\n",
      "epoch:180, loss:2.0832037925720215, test_loss: 67.18607330322266\n",
      "epoch:200, loss:2.056483745574951, test_loss: 65.7791748046875\n",
      "epoch:220, loss:2.0383517742156982, test_loss: 64.72712707519531\n",
      "epoch:240, loss:2.024693727493286, test_loss: 63.8792610168457\n",
      "epoch:260, loss:2.0134687423706055, test_loss: 63.1725959777832\n",
      "epoch:280, loss:2.0034914016723633, test_loss: 62.568382263183594\n",
      "epoch:300, loss:1.9942002296447754, test_loss: 62.02585983276367\n",
      "epoch:320, loss:1.9854187965393066, test_loss: 61.523826599121094\n",
      "epoch:340, loss:1.9771186113357544, test_loss: 61.048858642578125\n",
      "epoch:360, loss:1.9692856073379517, test_loss: 60.59748840332031\n",
      "epoch:380, loss:1.9618397951126099, test_loss: 60.17472457885742\n",
      "epoch:400, loss:1.9546641111373901, test_loss: 59.78141784667969\n",
      "epoch:420, loss:1.947645902633667, test_loss: 59.41769790649414\n",
      "epoch:440, loss:1.940700888633728, test_loss: 59.081459045410156\n",
      "epoch:460, loss:1.9338117837905884, test_loss: 58.77009963989258\n",
      "epoch:480, loss:1.9270247220993042, test_loss: 58.479183197021484\n",
      "epoch:500, loss:1.9203287363052368, test_loss: 58.20258712768555\n",
      "epoch:520, loss:1.913689136505127, test_loss: 57.93684387207031\n",
      "epoch:540, loss:1.907114028930664, test_loss: 57.680904388427734\n",
      "epoch:560, loss:1.9006246328353882, test_loss: 57.43323516845703\n",
      "epoch:580, loss:1.8942331075668335, test_loss: 57.191383361816406\n",
      "epoch:600, loss:1.8879482746124268, test_loss: 56.95389938354492\n",
      "epoch:620, loss:1.8817898035049438, test_loss: 56.72135925292969\n",
      "epoch:640, loss:1.8757920265197754, test_loss: 56.495811462402344\n",
      "epoch:660, loss:1.8699963092803955, test_loss: 56.279747009277344\n",
      "epoch:680, loss:1.8644388914108276, test_loss: 56.075225830078125\n",
      "epoch:700, loss:1.8591349124908447, test_loss: 55.88302993774414\n",
      "epoch:720, loss:1.854087233543396, test_loss: 55.703189849853516\n",
      "epoch:740, loss:1.8492895364761353, test_loss: 55.53565979003906\n",
      "epoch:760, loss:1.8447295427322388, test_loss: 55.380374908447266\n",
      "epoch:780, loss:1.8403927087783813, test_loss: 55.23719024658203\n",
      "epoch:800, loss:1.8362634181976318, test_loss: 55.10622787475586\n",
      "epoch:820, loss:1.8323230743408203, test_loss: 54.98779296875\n",
      "epoch:840, loss:1.8285508155822754, test_loss: 54.88230514526367\n",
      "epoch:860, loss:1.824922800064087, test_loss: 54.7901611328125\n",
      "epoch:880, loss:1.821417212486267, test_loss: 54.71168899536133\n",
      "epoch:900, loss:1.8180177211761475, test_loss: 54.64739227294922\n",
      "epoch:920, loss:1.814715027809143, test_loss: 54.59782409667969\n",
      "epoch:940, loss:1.8115029335021973, test_loss: 54.56325912475586\n",
      "epoch:960, loss:1.8083693981170654, test_loss: 54.543487548828125\n",
      "epoch:980, loss:1.805296778678894, test_loss: 54.538055419921875\n",
      "epoch:1000, loss:1.802266240119934, test_loss: 54.54651641845703\n",
      "epoch:1020, loss:1.799257516860962, test_loss: 54.56853103637695\n",
      "epoch:1040, loss:1.7962514162063599, test_loss: 54.60407257080078\n",
      "epoch:1060, loss:1.793226718902588, test_loss: 54.65363693237305\n",
      "epoch:1080, loss:1.7901641130447388, test_loss: 54.71800994873047\n",
      "epoch:1100, loss:1.7870557308197021, test_loss: 54.79637145996094\n",
      "epoch:1120, loss:1.783908724784851, test_loss: 54.88494873046875\n",
      "epoch:1140, loss:1.780732274055481, test_loss: 54.97959518432617\n",
      "epoch:1160, loss:1.7775235176086426, test_loss: 55.077632904052734\n",
      "epoch:1180, loss:1.7742737531661987, test_loss: 55.17763900756836\n",
      "epoch:1200, loss:1.770975112915039, test_loss: 55.27861022949219\n",
      "epoch:1220, loss:1.7676252126693726, test_loss: 55.3798942565918\n",
      "epoch:1240, loss:1.764223337173462, test_loss: 55.48210144042969\n",
      "epoch:1260, loss:1.7607717514038086, test_loss: 55.587013244628906\n",
      "epoch:1280, loss:1.7572779655456543, test_loss: 55.696510314941406\n",
      "epoch:1300, loss:1.753755807876587, test_loss: 55.81184768676758\n",
      "epoch:1320, loss:1.7502210140228271, test_loss: 55.93290710449219\n",
      "epoch:1340, loss:1.7466825246810913, test_loss: 56.058387756347656\n",
      "epoch:1360, loss:1.74314546585083, test_loss: 56.18556213378906\n",
      "epoch:1380, loss:1.7396751642227173, test_loss: 56.321956634521484\n",
      "epoch:1400, loss:1.7360717058181763, test_loss: 56.45470428466797\n",
      "epoch:1420, loss:1.7325236797332764, test_loss: 56.59006881713867\n",
      "epoch:1440, loss:1.7289537191390991, test_loss: 56.731422424316406\n",
      "epoch:1460, loss:1.7253575325012207, test_loss: 56.8747444152832\n",
      "epoch:1480, loss:1.7217273712158203, test_loss: 57.021175384521484\n",
      "epoch:1500, loss:1.7180569171905518, test_loss: 57.171504974365234\n",
      "epoch:1520, loss:1.7143391370773315, test_loss: 57.32661056518555\n",
      "epoch:1540, loss:1.710569977760315, test_loss: 57.487972259521484\n",
      "epoch:1560, loss:1.7067451477050781, test_loss: 57.658485412597656\n",
      "epoch:1580, loss:1.7032885551452637, test_loss: 57.849510192871094\n",
      "epoch:1600, loss:1.698987603187561, test_loss: 58.03604507446289\n",
      "epoch:1620, loss:1.6950451135635376, test_loss: 58.21820831298828\n",
      "epoch:1640, loss:1.691098928451538, test_loss: 58.39904022216797\n",
      "epoch:1660, loss:1.6871180534362793, test_loss: 58.5864372253418\n",
      "epoch:1680, loss:1.6831059455871582, test_loss: 58.78007507324219\n",
      "epoch:1700, loss:1.6790788173675537, test_loss: 58.97938537597656\n",
      "epoch:1720, loss:1.6750428676605225, test_loss: 59.183902740478516\n",
      "epoch:1740, loss:1.6709973812103271, test_loss: 59.393096923828125\n",
      "epoch:1760, loss:1.6669375896453857, test_loss: 59.60795593261719\n",
      "epoch:1780, loss:1.6628572940826416, test_loss: 59.83034896850586\n",
      "epoch:1800, loss:1.658790946006775, test_loss: 60.05657958984375\n",
      "epoch:1820, loss:1.6546757221221924, test_loss: 60.30007553100586\n",
      "epoch:1840, loss:1.6504478454589844, test_loss: 60.53510284423828\n",
      "epoch:1860, loss:1.646183729171753, test_loss: 60.77851867675781\n",
      "epoch:1880, loss:1.6419706344604492, test_loss: 61.03056335449219\n",
      "epoch:1900, loss:1.6377429962158203, test_loss: 61.26994705200195\n",
      "epoch:1920, loss:1.6334657669067383, test_loss: 61.50992202758789\n",
      "epoch:1940, loss:1.629111886024475, test_loss: 61.751949310302734\n",
      "epoch:1960, loss:1.6247085332870483, test_loss: 61.992774963378906\n",
      "epoch:1980, loss:1.6203075647354126, test_loss: 62.23366165161133\n",
      "epoch:2000, loss:1.6159138679504395, test_loss: 62.47904968261719\n",
      "epoch:2020, loss:1.611511468887329, test_loss: 62.73060989379883\n",
      "epoch:2040, loss:1.607265830039978, test_loss: 62.99772262573242\n",
      "epoch:2060, loss:1.6027071475982666, test_loss: 63.24885940551758\n",
      "epoch:2080, loss:1.5982228517532349, test_loss: 63.50236129760742\n",
      "epoch:2100, loss:1.5937230587005615, test_loss: 63.76283645629883\n",
      "epoch:2120, loss:1.5891613960266113, test_loss: 64.0234603881836\n",
      "epoch:2140, loss:1.5845766067504883, test_loss: 64.27974700927734\n",
      "epoch:2160, loss:1.579994797706604, test_loss: 64.53372955322266\n",
      "epoch:2180, loss:1.5754027366638184, test_loss: 64.79013061523438\n",
      "epoch:2200, loss:1.570790410041809, test_loss: 65.05191040039062\n",
      "epoch:2220, loss:1.5661828517913818, test_loss: 65.3178939819336\n",
      "epoch:2240, loss:1.5616095066070557, test_loss: 65.58717346191406\n",
      "epoch:2260, loss:1.5570614337921143, test_loss: 65.85979461669922\n",
      "epoch:2280, loss:1.552510380744934, test_loss: 66.13246154785156\n",
      "epoch:2300, loss:1.5479098558425903, test_loss: 66.40306091308594\n",
      "epoch:2320, loss:1.5430469512939453, test_loss: 66.66888427734375\n",
      "epoch:2340, loss:1.5377777814865112, test_loss: 66.91602325439453\n",
      "epoch:2360, loss:1.5326322317123413, test_loss: 67.1294174194336\n",
      "epoch:2380, loss:1.5277401208877563, test_loss: 67.35326385498047\n",
      "epoch:2400, loss:1.5229777097702026, test_loss: 67.60377502441406\n",
      "epoch:2420, loss:1.5182830095291138, test_loss: 67.86820983886719\n",
      "epoch:2440, loss:1.513615369796753, test_loss: 68.12944030761719\n",
      "epoch:2460, loss:1.5089192390441895, test_loss: 68.37783813476562\n",
      "epoch:2480, loss:1.5041258335113525, test_loss: 68.59986877441406\n",
      "epoch:2500, loss:1.4992561340332031, test_loss: 68.79097747802734\n",
      "epoch:2520, loss:1.4943628311157227, test_loss: 69.00772857666016\n",
      "epoch:2540, loss:1.489396572113037, test_loss: 69.25154876708984\n",
      "epoch:2560, loss:1.4846478700637817, test_loss: 69.49857330322266\n",
      "epoch:2580, loss:1.4799875020980835, test_loss: 69.77926635742188\n",
      "epoch:2600, loss:1.4754235744476318, test_loss: 70.05908203125\n",
      "epoch:2620, loss:1.4709522724151611, test_loss: 70.32963562011719\n",
      "epoch:2640, loss:1.4665340185165405, test_loss: 70.59245300292969\n",
      "epoch:2660, loss:1.4626044034957886, test_loss: 70.86334228515625\n",
      "epoch:2680, loss:1.4578015804290771, test_loss: 71.10025787353516\n",
      "epoch:2700, loss:1.453357458114624, test_loss: 71.34349060058594\n",
      "epoch:2720, loss:1.4488885402679443, test_loss: 71.58399200439453\n",
      "epoch:2740, loss:1.4443796873092651, test_loss: 71.81407928466797\n",
      "epoch:2760, loss:1.439827799797058, test_loss: 72.0323715209961\n",
      "epoch:2780, loss:1.4352861642837524, test_loss: 72.25233459472656\n",
      "epoch:2800, loss:1.430694341659546, test_loss: 72.46784210205078\n",
      "epoch:2820, loss:1.4261435270309448, test_loss: 72.67962646484375\n",
      "epoch:2840, loss:1.421628713607788, test_loss: 72.80020141601562\n",
      "epoch:2860, loss:1.4170925617218018, test_loss: 72.8157730102539\n",
      "epoch:2880, loss:1.41259765625, test_loss: 72.8341064453125\n",
      "epoch:2900, loss:1.408178687095642, test_loss: 72.91777801513672\n",
      "epoch:2920, loss:1.4039751291275024, test_loss: 73.03981018066406\n",
      "epoch:2940, loss:1.3994942903518677, test_loss: 73.19457244873047\n",
      "epoch:2960, loss:1.3951280117034912, test_loss: 73.3468246459961\n",
      "epoch:2980, loss:1.3907368183135986, test_loss: 73.49382781982422\n"
     ]
    }
   ],
   "source": [
    "model.train()\n",
    "for epoch in range(3000):\n",
    "    output = model(train_x)\n",
    "    loss = loss_fun(output, train_y)\n",
    "    optimizer.zero_grad()\n",
    "    loss.backward()\n",
    "    optimizer.step()\n",
    "    if epoch % 20 == 0 and epoch > 0:\n",
    "        test_loss = loss_fun(model(test_x), test_y)\n",
    "        print(\"epoch:{}, loss:{}, test_loss: {}\".format(epoch, loss, test_loss))"
   ]
  },
  {
   "cell_type": "code",
   "execution_count": 7,
   "metadata": {},
   "outputs": [
    {
     "data": {
      "image/png": "[encoded data removed]",
      "text/plain": [
       "<Figure size 720x360 with 1 Axes>"
      ]
     },
     "metadata": {
      "needs_background": "light"
     },
     "output_type": "display_data"
    }
   ],
   "source": [
    "model.eval()\n",
    "# result = li_x[0][:seq-1] + list((model(train_x).data.reshape(-1))*1000) + list((model(test_x).data.reshape(-1))*1000)\n",
    "result = [0] + list((model(train_x).data.reshape(-1))*00) + list((model(test_x).data.reshape(-1))*1000)\n",
    "\n",
    "#展示结果\n",
    "plt.figure(figsize=(10,5))\n",
    "\n",
    "plt.plot(data,label=\"real\")\n",
    "# 原来的走势\n",
    "\n",
    "plt.plot(train,label=\"train\")\n",
    "\n",
    "plt.plot(result,label=\"pred\")\n",
    "plt.xticks(\n",
    "    [0,100,200,300,400,500,600,700],\n",
    "    ['2020/1','2020/5', '2020/8', '2020/12', '2021/2', '20211/6', '2021/9', '2021/12']\n",
    ")\n",
    "# 模型预测的走势\n",
    "plt.legend(loc='best')\n",
    "plt.title('FL_Epoch1200_Tr600')\n",
    "# plt.savefig('plot/FL_Epoch1200_Tr600.jpg')\n",
    "plt.show()"
   ]
  },
  {
   "cell_type": "code",
   "execution_count": 8,
   "metadata": {},
   "outputs": [
    {
     "data": {
      "text/plain": [
       "[<matplotlib.lines.Line2D at 0x7fcfb90c9eb0>]"
      ]
     },
     "execution_count": 8,
     "metadata": {},
     "output_type": "execute_result"
    },
    {
     "data": {
      "image/png": "[encoded data removed]",
      "text/plain": [
       "<Figure size 432x288 with 1 Axes>"
      ]
     },
     "metadata": {
      "needs_background": "light"
     },
     "output_type": "display_data"
    }
   ],
   "source": [
    "plt.plot(result)"
   ]
  },
  {
   "cell_type": "code",
   "execution_count": 9,
   "metadata": {},
   "outputs": [],
   "source": [
    "# prediction = result[400:700]\n",
    "# real = data[400:700]\n",
    "\n",
    "# from sklearn.metrics import mean_squared_error\n",
    "# MSE = mean_squared_error(real, prediction)\n",
    "# RMSE = MSE ** 0.5\n",
    "# print(\"MSE:\", MSE)\n",
    "# print(\"RMSE\", RMSE)"
   ]
  },
  {
   "cell_type": "code",
   "execution_count": 10,
   "metadata": {},
   "outputs": [
    {
     "data": {
      "text/plain": [
       "[<matplotlib.lines.Line2D at 0x7fcfb8fccc40>]"
      ]
     },
     "execution_count": 10,
     "metadata": {},
     "output_type": "execute_result"
    },
    {
     "data": {
      "image/png": "[encoded data removed]",
      "text/plain": [
       "<Figure size 432x288 with 1 Axes>"
      ]
     },
     "metadata": {
      "needs_background": "light"
     },
     "output_type": "display_data"
    }
   ],
   "source": [
    "#Tr Size: 200 days\n",
    "import pandas as pd\n",
    "info = ['200:300', '300:400', '400:500', '500:600', '600:700']\n",
    "MSE_list = [4513040.31369507, 9345358.983941305, 2125294.17701694, 37612529.172058195, 2556824.651083408]\n",
    "RMSE_list = [2124.3917514655977, 3057.0179888154576, 1457.8388721038207, 6132.905442941233, 1599.0073955687035]\n",
    "\n",
    "DF = pd.DataFrame({'MSE': MSE_list, 'RMSE': RMSE_list}, index=info)\n",
    "plt.plot(DF.MSE)"
   ]
  },
  {
   "cell_type": "code",
   "execution_count": 11,
   "metadata": {},
   "outputs": [],
   "source": [
    "#Tr Size: 300 days\n",
    "info = ['300:400', '400:500', '500:600', '600:700']\n",
    "MSE_list = [15859510.681514425, 3086902.190155774, 42523704.73638685, 3529988.249845526]\n",
    "RMSE_list = [3982.4001156983745, 1756.958220947719, 6521.02022205014, 1878.8262958148969]"
   ]
  },
  {
   "cell_type": "code",
   "execution_count": 12,
   "metadata": {},
   "outputs": [],
   "source": [
    "#Tr Size: 400 days\n",
    "info = ['400:500', '500:600', '600:700']\n",
    "MSE_list = [4338729.452249858, 38993566.927481525, 3568011.513790344]\n",
    "RMSE_list = [2082.9617020602795, 6244.4829191440285, 1888.9180802222058]"
   ]
  },
  {
   "cell_type": "code",
   "execution_count": 13,
   "metadata": {},
   "outputs": [],
   "source": [
    "#Tr Size: 500 days\n",
    "info = ['500:600', '600:700']\n",
    "MSE_list = [29760939.82130769, 2635325.4543793853]\n",
    "RMSE_list = [5455.358816916417, 1623.3685516170951]"
   ]
  },
  {
   "cell_type": "code",
   "execution_count": 14,
   "metadata": {},
   "outputs": [
    {
     "name": "stdout",
     "output_type": "stream",
     "text": [
      "[29760939.82130769, 2635325.4543793853]\n",
      "[5455.358816916417, 1623.3685516170951]\n"
     ]
    }
   ],
   "source": [
    "from sklearn.metrics import mean_squared_error\n",
    "temp_MSE = []\n",
    "temp_RMSE = []\n",
    "for i in range(500,700,100):\n",
    "    MSE = mean_squared_error(result[i:i+100], data[i:i+100])\n",
    "    temp_MSE.append(MSE)\n",
    "    RMSE = MSE ** 0.5\n",
    "    temp_RMSE.append(RMSE)\n",
    "print(temp_MSE)\n",
    "print(temp_RMSE)"
   ]
  }
 ],
 "metadata": {
  "interpreter": {
   "hash": "ab83b35c86ff785ae76634efee8034bb953555fdec57846c4fd4b687de13dd65"
  },
  "kernelspec": {
   "display_name": "Python 3.6.13 64-bit ('mll': conda)",
   "language": "python",
   "name": "python3"
  },
  "language_info": {
   "codemirror_mode": {
    "name": "ipython",
    "version": 3
   },
   "file_extension": ".py",
   "mimetype": "text/x-python",
   "name": "python",
   "nbconvert_exporter": "python",
   "pygments_lexer": "ipython3",
   "version": "3.9.7"
  },
  "orig_nbformat": 4
 },
 "nbformat": 4,
 "nbformat_minor": 2
}
