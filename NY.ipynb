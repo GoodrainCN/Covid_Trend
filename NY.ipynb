{
 "cells": [
  {
   "cell_type": "code",
   "execution_count": 1,
   "metadata": {},
   "outputs": [],
   "source": [
    "import torch\n",
    "from torch import nn\n",
    "import numpy as np\n",
    "import matplotlib.pyplot as plt"
   ]
  },
  {
   "cell_type": "code",
   "execution_count": 2,
   "metadata": {},
   "outputs": [],
   "source": [
    "device = torch.device(\"cuda\" if torch.cuda.is_available() else \"cpu\")"
   ]
  },
  {
   "cell_type": "code",
   "execution_count": 10,
   "metadata": {},
   "outputs": [],
   "source": [
    "import csv\n",
    "value = []\n",
    "with open(\"cleaned/new_ny.csv\", \"r\", encoding=\"utf-8\") as f:\n",
    "    csv_reader = csv.reader(f, delimiter=',')\n",
    "    headers = next(csv_reader)\n",
    "    for i in csv_reader:\n",
    "        value.append(int(i[2]))\n",
    "\n",
    "value.reverse()\n",
    "data = value\n",
    "\n",
    "train  = value[:-200]\n",
    "test = value[-200:]\n",
    "\n",
    "\n",
    "# 设置序列数据的时间跨度，seq=7, 指使用过去七天的数据来预测明天的数据\n",
    "# 注意，这并不是说LSTM每次都只利用到7天的历史数据进行预测，而是7天的显式数据+所有已输入的数据产生的隐式信息（只是隐式信息具有离当前预测距离越远，信息量越弱的特点，详情看下行链接）\n",
    "# https://www.jianshu.com/p/6815da2d413d 关于RNN的长距离依赖问题，看下这个链接，LSTM比RNN在这方面强很多，但问题仍然存在。\n",
    "\n",
    "\n",
    "seq = 7\n",
    "\n",
    "# 训练集构造\n",
    "\n",
    "li_x = []\n",
    "li_y = []\n",
    "\n",
    "for i in range(len(train) - seq):\n",
    "    # 输入就是[x, x+1, x+2, ... , x + (seq-1)]天的数据，输出是 x + seq 天的数据\n",
    "    li_x.append(train[i: i+seq])\n",
    "    li_y.append(train[i+seq])\n",
    "\n",
    "# 对数据进行缩放有利于训练的收敛，但更好的方式是进行归一化处理；在当前应用上，这几种操作对结果不会造成太大影响，可以作为以后的练习。\n",
    "# 关于归一化的作用，可以参考这个帖子：https://www.cnblogs.com/LBSer/p/4440590.html\n",
    "\n",
    "train_x = (torch.tensor(li_x).float() / 1000.).reshape(-1, seq, 1).to(device)\n",
    "train_y = (torch.tensor(li_y).float() / 1000.).reshape(-1, 1).to(device)\n",
    "\n",
    "\n",
    "# 测试集构造\n",
    "\n",
    "t_x = []\n",
    "t_y = []\n",
    "\n",
    "for i in range(len(test) - seq):\n",
    "    t_x.append(test[i: i+seq])\n",
    "    t_y.append(test[i+seq])\n",
    "\n",
    "test_x = (torch.tensor(t_x).float() / 1000.).reshape(-1, seq, 1).to(device)\n",
    "test_y = (torch.tensor(t_y).float() / 1000.).reshape(-1, 1).to(device)"
   ]
  },
  {
   "cell_type": "code",
   "execution_count": 11,
   "metadata": {},
   "outputs": [],
   "source": [
    "class Net(nn.Module):\n",
    "    def __init__(self):\n",
    "        super(Net, self).__init__()\n",
    "        self.lstm = nn.LSTM(input_size=1, hidden_size=32, num_layers=1, batch_first=True)\n",
    "        # 输入格式是1，输出隐藏层大小是32\n",
    "        # 对于小数据集num_layers不要设置大，否则会因为模型变复杂而导致效果会变差\n",
    "        # num_layers顾名思义就是有几个lstm层，假如设置成2，就相当于连续经过两个lstm层\n",
    "        # 原来的输入格式是：(seq, batch, shape)\n",
    "        # 设置batch_first=True以后，输入格式就可以改为：(batch, seq, shape)，更符合平常使用的习惯\n",
    "        self.linear = nn.Linear(32*seq, 1)\n",
    "\n",
    "    def forward(self, x):\n",
    "        x, (h, c) = self.lstm(x)\n",
    "        x = x.reshape(-1, 32*seq)\n",
    "        x = self.linear(x)\n",
    "        return x"
   ]
  },
  {
   "cell_type": "code",
   "execution_count": 12,
   "metadata": {},
   "outputs": [],
   "source": [
    "model = Net().to(device)\n",
    "optimizer = torch.optim.Adam(model.parameters(), lr=0.003) #Learning Rate\n",
    "loss_fun = nn.MSELoss()"
   ]
  },
  {
   "cell_type": "code",
   "execution_count": 13,
   "metadata": {},
   "outputs": [
    {
     "name": "stdout",
     "output_type": "stream",
     "text": [
      "epoch:20, loss:2.0514609813690186, test_loss: 69.1478271484375\n",
      "epoch:40, loss:0.6273854970932007, test_loss: 55.054351806640625\n",
      "epoch:60, loss:0.524077832698822, test_loss: 49.37378692626953\n",
      "epoch:80, loss:0.5041456818580627, test_loss: 46.953670501708984\n",
      "epoch:100, loss:0.49327322840690613, test_loss: 45.57099151611328\n",
      "epoch:120, loss:0.4811599850654602, test_loss: 44.665802001953125\n",
      "epoch:140, loss:0.466309517621994, test_loss: 43.68238067626953\n",
      "epoch:160, loss:0.44678643345832825, test_loss: 42.553245544433594\n",
      "epoch:180, loss:0.42141422629356384, test_loss: 41.196495056152344\n",
      "epoch:200, loss:0.3894859552383423, test_loss: 39.56711959838867\n",
      "epoch:220, loss:0.35330650210380554, test_loss: 37.77520751953125\n",
      "epoch:240, loss:0.32261449098587036, test_loss: 36.134918212890625\n",
      "epoch:260, loss:0.30379554629325867, test_loss: 34.92390441894531\n",
      "epoch:280, loss:0.2905830144882202, test_loss: 34.20063018798828\n",
      "epoch:300, loss:0.2790567874908447, test_loss: 33.722137451171875\n",
      "epoch:320, loss:0.2685356140136719, test_loss: 33.29787063598633\n",
      "epoch:340, loss:0.2587375044822693, test_loss: 32.880863189697266\n",
      "epoch:360, loss:0.2496526688337326, test_loss: 32.45591354370117\n",
      "epoch:380, loss:0.24137817323207855, test_loss: 32.01276397705078\n",
      "epoch:400, loss:0.23404712975025177, test_loss: 31.550371170043945\n",
      "epoch:420, loss:0.2277100384235382, test_loss: 31.077335357666016\n",
      "epoch:440, loss:0.222198948264122, test_loss: 30.60479164123535\n",
      "epoch:460, loss:0.21721960604190826, test_loss: 30.15238380432129\n",
      "epoch:480, loss:0.21252985298633575, test_loss: 29.75090789794922\n",
      "epoch:500, loss:0.207853302359581, test_loss: 29.41514778137207\n",
      "epoch:520, loss:0.20297613739967346, test_loss: 29.136566162109375\n",
      "epoch:540, loss:0.19795143604278564, test_loss: 28.89605712890625\n",
      "epoch:560, loss:0.1929963231086731, test_loss: 28.67892837524414\n",
      "epoch:580, loss:0.1882139891386032, test_loss: 28.468334197998047\n",
      "epoch:600, loss:0.18353824317455292, test_loss: 28.252426147460938\n",
      "epoch:620, loss:0.17882968485355377, test_loss: 28.0313720703125\n",
      "epoch:640, loss:0.17406757175922394, test_loss: 27.80998992919922\n",
      "epoch:660, loss:0.16991214454174042, test_loss: 27.58272361755371\n",
      "epoch:680, loss:0.1651429533958435, test_loss: 27.403644561767578\n",
      "epoch:700, loss:0.1611611694097519, test_loss: 27.221393585205078\n",
      "epoch:720, loss:0.1574743241071701, test_loss: 27.070287704467773\n",
      "epoch:740, loss:0.154023677110672, test_loss: 26.9531192779541\n",
      "epoch:760, loss:0.15122927725315094, test_loss: 26.83028221130371\n",
      "epoch:780, loss:0.14774343371391296, test_loss: 26.731098175048828\n",
      "epoch:800, loss:0.14461000263690948, test_loss: 26.574861526489258\n",
      "epoch:820, loss:0.14258897304534912, test_loss: 26.450428009033203\n",
      "epoch:840, loss:0.13896405696868896, test_loss: 26.244295120239258\n",
      "epoch:860, loss:0.1358477771282196, test_loss: 26.028032302856445\n",
      "epoch:880, loss:0.1340610682964325, test_loss: 25.89579963684082\n",
      "epoch:900, loss:0.12997518479824066, test_loss: 25.6854305267334\n",
      "epoch:920, loss:0.126725971698761, test_loss: 25.563413619995117\n",
      "epoch:940, loss:0.12347958981990814, test_loss: 25.449420928955078\n",
      "epoch:960, loss:0.12088058888912201, test_loss: 25.393234252929688\n",
      "epoch:980, loss:0.11696512252092361, test_loss: 25.27361488342285\n",
      "epoch:1000, loss:0.11727543920278549, test_loss: 25.160480499267578\n",
      "epoch:1020, loss:0.11433342099189758, test_loss: 25.009918212890625\n",
      "epoch:1040, loss:0.1096159964799881, test_loss: 24.83816909790039\n",
      "epoch:1060, loss:0.10546863824129105, test_loss: 24.743499755859375\n",
      "epoch:1080, loss:0.10293379426002502, test_loss: 24.66070556640625\n",
      "epoch:1100, loss:0.09915609657764435, test_loss: 24.534257888793945\n",
      "epoch:1120, loss:0.09627532958984375, test_loss: 24.408615112304688\n",
      "epoch:1140, loss:0.09656491130590439, test_loss: 24.310827255249023\n",
      "epoch:1160, loss:0.09194981306791306, test_loss: 24.20372200012207\n",
      "epoch:1180, loss:0.08864551037549973, test_loss: 24.11513328552246\n",
      "epoch:1200, loss:0.08983464539051056, test_loss: 24.031644821166992\n",
      "epoch:1220, loss:0.08383505046367645, test_loss: 23.988718032836914\n",
      "epoch:1240, loss:0.08205311745405197, test_loss: 23.89019012451172\n",
      "epoch:1260, loss:0.07818847894668579, test_loss: 23.84349250793457\n",
      "epoch:1280, loss:0.08063000440597534, test_loss: 23.728647232055664\n",
      "epoch:1300, loss:0.07342357188463211, test_loss: 23.68162727355957\n",
      "epoch:1320, loss:0.07213642448186874, test_loss: 23.629610061645508\n",
      "epoch:1340, loss:0.07006758451461792, test_loss: 23.61142349243164\n",
      "epoch:1360, loss:0.06670743227005005, test_loss: 23.576200485229492\n",
      "epoch:1380, loss:0.06796956062316895, test_loss: 23.5974178314209\n",
      "epoch:1400, loss:0.06290578842163086, test_loss: 23.52586555480957\n",
      "epoch:1420, loss:0.06063258647918701, test_loss: 23.522916793823242\n",
      "epoch:1440, loss:0.06098850443959236, test_loss: 23.518075942993164\n",
      "epoch:1460, loss:0.05741553753614426, test_loss: 23.486024856567383\n",
      "epoch:1480, loss:0.05559240281581879, test_loss: 23.490507125854492\n",
      "epoch:1500, loss:0.05550416186451912, test_loss: 23.466209411621094\n",
      "epoch:1520, loss:0.05295582860708237, test_loss: 23.450969696044922\n",
      "epoch:1540, loss:0.05154033377766609, test_loss: 23.457679748535156\n",
      "epoch:1560, loss:0.05131898075342178, test_loss: 23.42789649963379\n",
      "epoch:1580, loss:0.05019952729344368, test_loss: 23.440399169921875\n",
      "epoch:1600, loss:0.0474507138133049, test_loss: 23.42408561706543\n",
      "epoch:1620, loss:0.05152349919080734, test_loss: 23.444538116455078\n",
      "epoch:1640, loss:0.045422833412885666, test_loss: 23.434568405151367\n",
      "epoch:1660, loss:0.04451620951294899, test_loss: 23.378393173217773\n",
      "epoch:1680, loss:0.04287595674395561, test_loss: 23.394439697265625\n",
      "epoch:1700, loss:0.04283212870359421, test_loss: 23.354347229003906\n",
      "epoch:1720, loss:0.040794964879751205, test_loss: 23.390762329101562\n",
      "epoch:1740, loss:0.0482197105884552, test_loss: 23.42009735107422\n",
      "epoch:1760, loss:0.039601318538188934, test_loss: 23.417970657348633\n",
      "epoch:1780, loss:0.0377424992620945, test_loss: 23.37565040588379\n",
      "epoch:1800, loss:0.036702960729599, test_loss: 23.390987396240234\n",
      "epoch:1820, loss:0.03618258982896805, test_loss: 23.429819107055664\n",
      "epoch:1840, loss:0.035040512681007385, test_loss: 23.435731887817383\n",
      "epoch:1860, loss:0.03403595834970474, test_loss: 23.43914031982422\n",
      "epoch:1880, loss:0.03657197952270508, test_loss: 23.470579147338867\n",
      "epoch:1900, loss:0.033254485577344894, test_loss: 23.486135482788086\n",
      "epoch:1920, loss:0.031904421746730804, test_loss: 23.476707458496094\n",
      "epoch:1940, loss:0.03219993785023689, test_loss: 23.51296043395996\n",
      "epoch:1960, loss:0.030252229422330856, test_loss: 23.497596740722656\n",
      "epoch:1980, loss:0.030946549028158188, test_loss: 23.5294189453125\n",
      "epoch:2000, loss:0.02924381196498871, test_loss: 23.57880210876465\n",
      "epoch:2020, loss:0.028890999034047127, test_loss: 23.55830192565918\n",
      "epoch:2040, loss:0.027500852942466736, test_loss: 23.56446647644043\n",
      "epoch:2060, loss:0.026935657486319542, test_loss: 23.56688690185547\n",
      "epoch:2080, loss:0.030883025377988815, test_loss: 23.689786911010742\n",
      "epoch:2100, loss:0.026030708104372025, test_loss: 23.654685974121094\n",
      "epoch:2120, loss:0.024941442534327507, test_loss: 23.645912170410156\n",
      "epoch:2140, loss:0.025347797200083733, test_loss: 23.66302490234375\n",
      "epoch:2160, loss:0.02393116056919098, test_loss: 23.647756576538086\n",
      "epoch:2180, loss:0.02625146694481373, test_loss: 23.651151657104492\n",
      "epoch:2200, loss:0.022851036861538887, test_loss: 23.70081329345703\n",
      "epoch:2220, loss:0.024112891405820847, test_loss: 23.703197479248047\n",
      "epoch:2240, loss:0.021838568150997162, test_loss: 23.733814239501953\n",
      "epoch:2260, loss:0.02104167640209198, test_loss: 23.71521759033203\n",
      "epoch:2280, loss:0.022782789543271065, test_loss: 23.6984806060791\n",
      "epoch:2300, loss:0.02044261060655117, test_loss: 23.707622528076172\n",
      "epoch:2320, loss:0.019657514989376068, test_loss: 23.719457626342773\n",
      "epoch:2340, loss:0.020062163472175598, test_loss: 23.734411239624023\n",
      "epoch:2360, loss:0.0190019141882658, test_loss: 23.767608642578125\n",
      "epoch:2380, loss:0.018439466133713722, test_loss: 23.74197006225586\n",
      "epoch:2400, loss:0.022953972220420837, test_loss: 23.69282341003418\n",
      "epoch:2420, loss:0.017835916951298714, test_loss: 23.712627410888672\n",
      "epoch:2440, loss:0.017553044483065605, test_loss: 23.697444915771484\n",
      "epoch:2460, loss:0.017493875697255135, test_loss: 23.71941375732422\n",
      "epoch:2480, loss:0.016795532777905464, test_loss: 23.679113388061523\n",
      "epoch:2500, loss:0.022031228989362717, test_loss: 23.696245193481445\n",
      "epoch:2520, loss:0.01682306081056595, test_loss: 23.65081024169922\n",
      "epoch:2540, loss:0.015624127350747585, test_loss: 23.639122009277344\n",
      "epoch:2560, loss:0.015339958481490612, test_loss: 23.612449645996094\n",
      "epoch:2580, loss:0.0175352580845356, test_loss: 23.56630516052246\n",
      "epoch:2600, loss:0.015302633866667747, test_loss: 23.61479949951172\n",
      "epoch:2620, loss:0.014463072642683983, test_loss: 23.56658935546875\n",
      "epoch:2640, loss:0.015152839943766594, test_loss: 23.53583335876465\n",
      "epoch:2660, loss:0.015063685365021229, test_loss: 23.560169219970703\n",
      "epoch:2680, loss:0.013633206486701965, test_loss: 23.53774642944336\n",
      "epoch:2700, loss:0.013339798897504807, test_loss: 23.52712631225586\n",
      "epoch:2720, loss:0.016033556312322617, test_loss: 23.482738494873047\n",
      "epoch:2740, loss:0.013643460348248482, test_loss: 23.493820190429688\n",
      "epoch:2760, loss:0.012659783475100994, test_loss: 23.487321853637695\n",
      "epoch:2780, loss:0.018297793343663216, test_loss: 23.428665161132812\n",
      "epoch:2800, loss:0.012506432831287384, test_loss: 23.47895050048828\n",
      "epoch:2820, loss:0.012019185349345207, test_loss: 23.462169647216797\n",
      "epoch:2840, loss:0.014312271028757095, test_loss: 23.474788665771484\n",
      "epoch:2860, loss:0.0118707325309515, test_loss: 23.442096710205078\n",
      "epoch:2880, loss:0.01323638390749693, test_loss: 23.430898666381836\n",
      "epoch:2900, loss:0.012003030627965927, test_loss: 23.391925811767578\n",
      "epoch:2920, loss:0.011393505148589611, test_loss: 23.40641975402832\n",
      "epoch:2940, loss:0.014348642900586128, test_loss: 23.366836547851562\n",
      "epoch:2960, loss:0.01094026118516922, test_loss: 23.371231079101562\n",
      "epoch:2980, loss:0.0107430974021554, test_loss: 23.369335174560547\n"
     ]
    }
   ],
   "source": [
    "model.train()\n",
    "list_l = []\n",
    "list_tl = []\n",
    "for epoch in range(3000):\n",
    "    output = model(train_x)\n",
    "    loss = loss_fun(output, train_y)\n",
    "    optimizer.zero_grad()\n",
    "    loss.backward()\n",
    "    optimizer.step()\n",
    "    list_l.append(loss)\n",
    "    if epoch % 20 == 0 and epoch > 0:\n",
    "        test_loss = loss_fun(model(test_x), test_y)\n",
    "        list_tl.append(test_loss)\n",
    "        print(\"epoch:{}, loss:{}, test_loss: {}\".format(epoch, loss, test_loss))"
   ]
  },
  {
   "cell_type": "code",
   "execution_count": 14,
   "metadata": {},
   "outputs": [
    {
     "data": {
      "image/png": "[encoded data removed]",
      "text/plain": [
       "<Figure size 432x288 with 1 Axes>"
      ]
     },
     "metadata": {
      "needs_background": "light"
     },
     "output_type": "display_data"
    }
   ],
   "source": [
    "num_list = []\n",
    "for i in range(len(list_l)):\n",
    "    num_list.append(list_l[i].item())\n",
    "x = np.array([i for i in range(len(list_l))])\n",
    "#print(num_list)\n",
    "plt.plot(x, num_list, color='r')\n",
    "#plt.plot(x, num_list_, color='k')\n",
    "plt.title('Loss')\n",
    "plt.xlabel('Epochs')\n",
    "plt.ylabel('Loss')\n",
    "plt.savefig('plot/NY_Loss.jpg')\n",
    "plt.show()"
   ]
  },
  {
   "cell_type": "code",
   "execution_count": 15,
   "metadata": {},
   "outputs": [
    {
     "data": {
      "image/png": "[encoded data removed]",
      "text/plain": [
       "<Figure size 432x288 with 1 Axes>"
      ]
     },
     "metadata": {
      "needs_background": "light"
     },
     "output_type": "display_data"
    }
   ],
   "source": [
    "num_list_ = []\n",
    "for i in range(len(list_tl)):\n",
    "    num_list_.append(list_tl[i].item())\n",
    "x = np.array([i for i in range(len(num_list_))])\n",
    "#plt.plot(x, num_list, color='r')\n",
    "plt.plot(x, num_list_, color='k')\n",
    "plt.title('Test_Loss')\n",
    "plt.xlabel('Epochs')\n",
    "plt.ylabel('Test_Loss')\n",
    "plt.savefig('plot/NY_Test_Loss.jpg')\n",
    "plt.show()"
   ]
  },
  {
   "cell_type": "code",
   "execution_count": 16,
   "metadata": {},
   "outputs": [
    {
     "data": {
      "image/png": "[encoded data removed]",
      "text/plain": [
       "<Figure size 432x288 with 1 Axes>"
      ]
     },
     "metadata": {
      "needs_background": "light"
     },
     "output_type": "display_data"
    }
   ],
   "source": [
    "model.eval()\n",
    "# result = li_x[0][:seq-1] + list((model(train_x).data.reshape(-1))*1000) + list((model(test_x).data.reshape(-1))*1000)\n",
    "result = [0] + list((model(train_x).data.reshape(-1))*00) + list((model(test_x).data.reshape(-1))*1000)\n",
    "#展示结果\n",
    "plt.plot(data,label=\"real\")\n",
    "# 原来的走势\n",
    "\n",
    "plt.plot(train,label=\"train\")\n",
    "\n",
    "plt.plot(result,label=\"pred\")\n",
    "plt.xticks(\n",
    "    [0,100,200,300,400,500,600,700],\n",
    "    ['2020/1','2020/5', '2020/8', '2020/12', '2021/2', '20211/6', '2021/9', '2021/12']\n",
    ")\n",
    "# 模型预测的走势\n",
    "plt.legend(loc='best')\n",
    "plt.savefig('plot/NY_Epoch1200.jpg')"
   ]
  },
  {
   "cell_type": "code",
   "execution_count": 17,
   "metadata": {},
   "outputs": [
    {
     "data": {
      "text/plain": [
       "[<matplotlib.lines.Line2D at 0x7faf7b8e0790>]"
      ]
     },
     "execution_count": 17,
     "metadata": {},
     "output_type": "execute_result"
    },
    {
     "data": {
      "image/png": "[encoded data removed]",
      "text/plain": [
       "<Figure size 432x288 with 1 Axes>"
      ]
     },
     "metadata": {
      "needs_background": "light"
     },
     "output_type": "display_data"
    }
   ],
   "source": [
    "plt.plot(result)"
   ]
  },
  {
   "cell_type": "code",
   "execution_count": 18,
   "metadata": {},
   "outputs": [],
   "source": [
    "# unpredictive\n",
    "# "
   ]
  },
  {
   "cell_type": "code",
   "execution_count": 19,
   "metadata": {},
   "outputs": [
    {
     "name": "stdout",
     "output_type": "stream",
     "text": [
      "[614125.1652985754, 8899278.184970377] 4756701.675134476\n",
      "[783.6613843354637, 2983.1657991084535] 1883.4135917219587\n"
     ]
    }
   ],
   "source": [
    "from sklearn.metrics import mean_squared_error\n",
    "temp_MSE = []\n",
    "temp_RMSE = []\n",
    "for i in range(500,700,100):\n",
    "    MSE = mean_squared_error(result[i:i+100], data[i:i+100])\n",
    "    temp_MSE.append(MSE)\n",
    "    RMSE = MSE ** 0.5\n",
    "    temp_RMSE.append(RMSE)\n",
    "print(temp_MSE, sum(temp_MSE)/ 2)\n",
    "print(temp_RMSE, sum(temp_RMSE) / 2)"
   ]
  }
 ],
 "metadata": {
  "interpreter": {
   "hash": "ab83b35c86ff785ae76634efee8034bb953555fdec57846c4fd4b687de13dd65"
  },
  "kernelspec": {
   "display_name": "Python 3.6.13 64-bit ('mll': conda)",
   "language": "python",
   "name": "python3"
  },
  "language_info": {
   "codemirror_mode": {
    "name": "ipython",
    "version": 3
   },
   "file_extension": ".py",
   "mimetype": "text/x-python",
   "name": "python",
   "nbconvert_exporter": "python",
   "pygments_lexer": "ipython3",
   "version": "3.9.7"
  },
  "orig_nbformat": 4
 },
 "nbformat": 4,
 "nbformat_minor": 2
}
