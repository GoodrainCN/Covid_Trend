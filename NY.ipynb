{
 "cells": [
  {
   "cell_type": "code",
   "execution_count": 1,
   "metadata": {},
   "outputs": [],
   "source": [
    "import torch\n",
    "from torch import nn\n",
    "import numpy as np\n",
    "import matplotlib.pyplot as plt"
   ]
  },
  {
   "cell_type": "code",
   "execution_count": 2,
   "metadata": {},
   "outputs": [],
   "source": [
    "device = torch.device(\"cuda\" if torch.cuda.is_available() else \"cpu\")"
   ]
  },
  {
   "cell_type": "code",
   "execution_count": 3,
   "metadata": {},
   "outputs": [
    {
     "name": "stdout",
     "output_type": "stream",
     "text": [
      "torch.Size([408, 2, 1])\n"
     ]
    }
   ],
   "source": [
    "import csv\n",
    "data = []\n",
    "with open(\"cleaned/NY.csv\", \"r\", encoding=\"utf-8\") as f:\n",
    "    csv_reader = csv.reader(f, delimiter=',')\n",
    "    headers = next(csv_reader)\n",
    "    for i in csv_reader:\n",
    "        data.append(int(i[5]))\n",
    "\n",
    "train  = data[:-300]\n",
    "test = data[-300:]\n",
    "\n",
    "li_x = []\n",
    "li_y = []\n",
    "seq = 2\n",
    "\n",
    "# 因为数据集较少，序列长度太长会影响结果\n",
    "for i in range(len(data[:-300]) - seq):\n",
    "    # 输入就是[x,x+1]天的数据，输出时x+2天的数据\n",
    "    li_x.append(train[i: i+seq])\n",
    "    li_y.append(train[i+seq])\n",
    "\n",
    "t_x = []\n",
    "t_y = []\n",
    "# 因为数据集较少，序列长度太长会影响结果\n",
    "for i in range(len(data[-300:]) - seq):\n",
    "    # 输入就是[x,x+1]天的数据，输出时x+2天的数据*\n",
    "    t_x.append(test[i: i+seq])\n",
    "    t_y.append(test[i+seq])\n",
    "\n",
    "# print(li_x)\n",
    "# print(li_y)\n",
    "\n",
    "# 分训练和测试集\n",
    "train_x = (torch.tensor(li_x).float() / 1000.).reshape(-1, seq, 1).to(device)\n",
    "train_y = (torch.tensor(li_y).float() / 1000.).reshape(-1, 1).to(device)\n",
    "\n",
    "print(train_x.shape)\n",
    "\n",
    "test_x = (torch.tensor(t_x).float() / 1000.).reshape(-1, seq, 1).to(device)\n",
    "test_y = (torch.tensor(t_y).float() / 1000.).reshape(-1, 1).to(device)"
   ]
  },
  {
   "cell_type": "code",
   "execution_count": 4,
   "metadata": {},
   "outputs": [],
   "source": [
    "class Net(nn.Module):\n",
    "    def __init__(self):\n",
    "        super(Net, self).__init__()\n",
    "        self.lstm = nn.LSTM(input_size=1, hidden_size=32, num_layers=1, batch_first=True)\n",
    "        # 输入格式是1，输出隐藏层大小是32\n",
    "        # 对于小数据集num_layers不要设置大，否则会因为模型变复杂而导致效果会变差\n",
    "        # num_layers顾名思义就是有几个lstm层，假如设置成2，就相当于连续经过两个lstm层\n",
    "        # 原来的输入格式是：(seq, batch, shape)\n",
    "        # 设置batch_first=True以后，输入格式就可以改为：(batch, seq, shape)，更符合平常使用的习惯\n",
    "        self.linear = nn.Linear(32*seq, 1)\n",
    "\n",
    "    def forward(self, x):\n",
    "        x, (h, c) = self.lstm(x)\n",
    "        x = x.reshape(-1, 32*seq)\n",
    "        x = self.linear(x)\n",
    "        return x"
   ]
  },
  {
   "cell_type": "code",
   "execution_count": 5,
   "metadata": {},
   "outputs": [],
   "source": [
    "model = Net().to(device)\n",
    "optimizer = torch.optim.Adam(model.parameters(), lr=0.003)\n",
    "loss_fun = nn.MSELoss()"
   ]
  },
  {
   "cell_type": "code",
   "execution_count": 6,
   "metadata": {},
   "outputs": [
    {
     "name": "stdout",
     "output_type": "stream",
     "text": [
      "epoch:20, loss:6.515935897827148, test_loss: 17.937255859375\n",
      "epoch:40, loss:2.050569534301758, test_loss: 11.095090866088867\n",
      "epoch:60, loss:0.8987833857536316, test_loss: 9.307195663452148\n",
      "epoch:80, loss:0.6634519696235657, test_loss: 8.535491943359375\n",
      "epoch:100, loss:0.5544741153717041, test_loss: 8.176715850830078\n",
      "epoch:120, loss:0.4820620119571686, test_loss: 7.94504976272583\n",
      "epoch:140, loss:0.4328151047229767, test_loss: 7.779496669769287\n",
      "epoch:160, loss:0.4020805358886719, test_loss: 7.6627278327941895\n",
      "epoch:180, loss:0.3868686854839325, test_loss: 7.585817813873291\n",
      "epoch:200, loss:0.3803873360157013, test_loss: 7.533310413360596\n",
      "epoch:220, loss:0.37774327397346497, test_loss: 7.493923664093018\n",
      "epoch:240, loss:0.37659740447998047, test_loss: 7.461578369140625\n",
      "epoch:260, loss:0.37593525648117065, test_loss: 7.435798645019531\n",
      "epoch:280, loss:0.37547022104263306, test_loss: 7.4147467613220215\n",
      "epoch:300, loss:0.37508782744407654, test_loss: 7.398769378662109\n",
      "epoch:320, loss:0.37473437190055847, test_loss: 7.384950160980225\n",
      "epoch:340, loss:0.3744000494480133, test_loss: 7.374170780181885\n",
      "epoch:360, loss:0.37403735518455505, test_loss: 7.363428592681885\n",
      "epoch:380, loss:0.37371933460235596, test_loss: 7.354868412017822\n",
      "epoch:400, loss:0.37334832549095154, test_loss: 7.34721040725708\n",
      "epoch:420, loss:0.3729253113269806, test_loss: 7.339906215667725\n",
      "epoch:440, loss:0.37251609563827515, test_loss: 7.332742214202881\n",
      "epoch:460, loss:0.37204399704933167, test_loss: 7.32560920715332\n",
      "epoch:480, loss:0.3715038001537323, test_loss: 7.318046569824219\n",
      "epoch:500, loss:0.37090033292770386, test_loss: 7.310595989227295\n",
      "epoch:520, loss:0.37023988366127014, test_loss: 7.30327844619751\n",
      "epoch:540, loss:0.36947962641716003, test_loss: 7.295260429382324\n",
      "epoch:560, loss:0.3686254918575287, test_loss: 7.286005973815918\n",
      "epoch:580, loss:0.36765557527542114, test_loss: 7.274760723114014\n",
      "epoch:600, loss:0.3665609657764435, test_loss: 7.259950637817383\n",
      "epoch:620, loss:0.3653775453567505, test_loss: 7.240723609924316\n",
      "epoch:640, loss:0.36407536268234253, test_loss: 7.217113971710205\n",
      "epoch:660, loss:0.3628005385398865, test_loss: 7.195688724517822\n",
      "epoch:680, loss:0.36154356598854065, test_loss: 7.177379608154297\n",
      "epoch:700, loss:0.3603394627571106, test_loss: 7.160223484039307\n",
      "epoch:720, loss:0.35920214653015137, test_loss: 7.142297744750977\n",
      "epoch:740, loss:0.35815760493278503, test_loss: 7.123561382293701\n",
      "epoch:760, loss:0.35721880197525024, test_loss: 7.104930400848389\n",
      "epoch:780, loss:0.3563249111175537, test_loss: 7.086657524108887\n",
      "epoch:800, loss:0.3555084466934204, test_loss: 7.068515777587891\n",
      "epoch:820, loss:0.354760080575943, test_loss: 7.051105499267578\n",
      "epoch:840, loss:0.3540692925453186, test_loss: 7.0336833000183105\n",
      "epoch:860, loss:0.3533785343170166, test_loss: 7.017282485961914\n",
      "epoch:880, loss:0.35274139046669006, test_loss: 7.001583576202393\n",
      "epoch:900, loss:0.3521246612071991, test_loss: 6.9865803718566895\n",
      "epoch:920, loss:0.35148394107818604, test_loss: 6.9730939865112305\n",
      "epoch:940, loss:0.350863516330719, test_loss: 6.960630893707275\n",
      "epoch:960, loss:0.3502942621707916, test_loss: 6.949771881103516\n",
      "epoch:980, loss:0.3496948182582855, test_loss: 6.940692901611328\n",
      "epoch:1000, loss:0.349126935005188, test_loss: 6.933894634246826\n",
      "epoch:1020, loss:0.3485696613788605, test_loss: 6.928552150726318\n",
      "epoch:1040, loss:0.34802496433258057, test_loss: 6.924208164215088\n",
      "epoch:1060, loss:0.34751856327056885, test_loss: 6.922023296356201\n",
      "epoch:1080, loss:0.34697940945625305, test_loss: 6.9216413497924805\n",
      "epoch:1100, loss:0.34649816155433655, test_loss: 6.922111988067627\n",
      "epoch:1120, loss:0.3460230529308319, test_loss: 6.924010753631592\n",
      "epoch:1140, loss:0.3455432951450348, test_loss: 6.927270889282227\n",
      "epoch:1160, loss:0.3450841009616852, test_loss: 6.930932998657227\n",
      "epoch:1180, loss:0.34463050961494446, test_loss: 6.935598373413086\n"
     ]
    }
   ],
   "source": [
    "model.train()\n",
    "list_l = []\n",
    "list_tl = []\n",
    "for epoch in range(1200):\n",
    "    output = model(train_x)\n",
    "    loss = loss_fun(output, train_y)\n",
    "    optimizer.zero_grad()\n",
    "    loss.backward()\n",
    "    optimizer.step()\n",
    "    if epoch % 20 == 0 and epoch > 0:\n",
    "        test_loss = loss_fun(model(test_x), test_y)\n",
    "        list_l.append(loss)\n",
    "        list_tl.append(test_loss)\n",
    "        print(\"epoch:{}, loss:{}, test_loss: {}\".format(epoch, loss, test_loss))"
   ]
  },
  {
   "cell_type": "code",
   "execution_count": 7,
   "metadata": {},
   "outputs": [
    {
     "data": {
      "image/png": "[encoded data removed]",
      "text/plain": [
       "<Figure size 432x288 with 1 Axes>"
      ]
     },
     "metadata": {
      "needs_background": "light"
     },
     "output_type": "display_data"
    }
   ],
   "source": [
    "model.eval()\n",
    "# result = li_x[0][:seq-1] + list((model(train_x).data.reshape(-1))*1000) + list((model(test_x).data.reshape(-1))*1000)\n",
    "result = [0] + list((model(train_x).data.reshape(-1))*00) + list((model(test_x).data.reshape(-1))*1000)\n",
    "#展示结果\n",
    "plt.plot(data,label=\"real\")\n",
    "# 原来的走势\n",
    "\n",
    "plt.plot(train,label=\"train\")\n",
    "\n",
    "plt.plot(result,label=\"pred\")\n",
    "plt.xticks(\n",
    "    [0,100,200,300,400,500,600,700],\n",
    "    ['2020/1','2020/5', '2020/8', '2020/12', '2021/2', '20211/6', '2021/9', '2021/12']\n",
    ")\n",
    "# 模型预测的走势\n",
    "plt.legend(loc='best')\n",
    "plt.savefig('plot/NY_Epoch1200.jpg')"
   ]
  },
  {
   "cell_type": "code",
   "execution_count": 8,
   "metadata": {},
   "outputs": [
    {
     "data": {
      "text/plain": [
       "[<matplotlib.lines.Line2D at 0x22d96684c88>]"
      ]
     },
     "execution_count": 8,
     "metadata": {},
     "output_type": "execute_result"
    },
    {
     "data": {
      "image/png": "[encoded data removed]",
      "text/plain": [
       "<Figure size 432x288 with 1 Axes>"
      ]
     },
     "metadata": {
      "needs_background": "light"
     },
     "output_type": "display_data"
    }
   ],
   "source": [
    "plt.plot(data)"
   ]
  },
  {
   "cell_type": "code",
   "execution_count": 9,
   "metadata": {},
   "outputs": [
    {
     "data": {
      "text/plain": [
       "[<matplotlib.lines.Line2D at 0x22d98710940>]"
      ]
     },
     "execution_count": 9,
     "metadata": {},
     "output_type": "execute_result"
    },
    {
     "data": {
      "image/png": "[encoded data removed]",
      "text/plain": [
       "<Figure size 432x288 with 1 Axes>"
      ]
     },
     "metadata": {
      "needs_background": "light"
     },
     "output_type": "display_data"
    }
   ],
   "source": [
    "plt.plot(result)"
   ]
  },
  {
   "cell_type": "code",
   "execution_count": 10,
   "metadata": {},
   "outputs": [],
   "source": [
    "# unpredictive\n",
    "# "
   ]
  },
  {
   "cell_type": "code",
   "execution_count": 15,
   "metadata": {},
   "outputs": [
    {
     "ename": "IndexError",
     "evalue": "invalid index of a 0-dim tensor. Use `tensor.item()` in Python or `tensor.item<T>()` in C++ to convert a 0-dim tensor to a number",
     "output_type": "error",
     "traceback": [
      "\u001b[1;31m---------------------------------------------------------------------------\u001b[0m",
      "\u001b[1;31mIndexError\u001b[0m                                Traceback (most recent call last)",
      "\u001b[1;32m<ipython-input-15-c34563f00d15>\u001b[0m in \u001b[0;36m<module>\u001b[1;34m\u001b[0m\n\u001b[1;32m----> 1\u001b[1;33m \u001b[0mprint\u001b[0m\u001b[1;33m(\u001b[0m\u001b[0mlist_l\u001b[0m\u001b[1;33m[\u001b[0m\u001b[1;36m0\u001b[0m\u001b[1;33m]\u001b[0m\u001b[1;33m[\u001b[0m\u001b[1;36m0\u001b[0m\u001b[1;33m]\u001b[0m\u001b[1;33m)\u001b[0m\u001b[1;33m\u001b[0m\u001b[1;33m\u001b[0m\u001b[0m\n\u001b[0m",
      "\u001b[1;31mIndexError\u001b[0m: invalid index of a 0-dim tensor. Use `tensor.item()` in Python or `tensor.item<T>()` in C++ to convert a 0-dim tensor to a number"
     ]
    }
   ],
   "source": [
    "print(list_l[0][0])"
   ]
  },
  {
   "cell_type": "code",
   "execution_count": null,
   "metadata": {},
   "outputs": [],
   "source": []
  }
 ],
 "metadata": {
  "interpreter": {
   "hash": "ab83b35c86ff785ae76634efee8034bb953555fdec57846c4fd4b687de13dd65"
  },
  "kernelspec": {
   "display_name": "Python 3.6.13 64-bit ('mll': conda)",
   "language": "python",
   "name": "python3"
  },
  "language_info": {
   "codemirror_mode": {
    "name": "ipython",
    "version": 3
   },
   "file_extension": ".py",
   "mimetype": "text/x-python",
   "name": "python",
   "nbconvert_exporter": "python",
   "pygments_lexer": "ipython3",
   "version": "3.6.13"
  },
  "orig_nbformat": 4
 },
 "nbformat": 4,
 "nbformat_minor": 2
}
