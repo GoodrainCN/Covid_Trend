{
 "cells": [
  {
   "cell_type": "code",
   "execution_count": 1,
   "metadata": {},
   "outputs": [],
   "source": [
    "import torch\n",
    "from torch import nn\n",
    "import numpy as np\n",
    "import matplotlib.pyplot as plt"
   ]
  },
  {
   "cell_type": "code",
   "execution_count": 2,
   "metadata": {},
   "outputs": [],
   "source": [
    "device = torch.device(\"cuda\" if torch.cuda.is_available() else \"cpu\")"
   ]
  },
  {
   "cell_type": "code",
   "execution_count": 3,
   "metadata": {},
   "outputs": [
    {
     "name": "stdout",
     "output_type": "stream",
     "text": [
      "torch.Size([408, 2, 1])\n"
     ]
    }
   ],
   "source": [
    "import csv\n",
    "data = []\n",
    "with open(\"cleaned/NY.csv\", \"r\", encoding=\"utf-8\") as f:\n",
    "    csv_reader = csv.reader(f, delimiter=',')\n",
    "    headers = next(csv_reader)\n",
    "    for i in csv_reader:\n",
    "        data.append(int(i[5]))\n",
    "\n",
    "train  = data[:-300]\n",
    "test = data[-300:]\n",
    "\n",
    "li_x = []\n",
    "li_y = []\n",
    "seq = 2\n",
    "\n",
    "# 因为数据集较少，序列长度太长会影响结果\n",
    "for i in range(len(data[:-300]) - seq):\n",
    "    # 输入就是[x,x+1]天的数据，输出时x+2天的数据\n",
    "    li_x.append(train[i: i+seq])\n",
    "    li_y.append(train[i+seq])\n",
    "\n",
    "t_x = []\n",
    "t_y = []\n",
    "# 因为数据集较少，序列长度太长会影响结果\n",
    "for i in range(len(data[-300:]) - seq):\n",
    "    # 输入就是[x,x+1]天的数据，输出时x+2天的数据*\n",
    "    t_x.append(test[i: i+seq])\n",
    "    t_y.append(test[i+seq])\n",
    "\n",
    "# print(li_x)\n",
    "# print(li_y)\n",
    "\n",
    "# 分训练和测试集\n",
    "train_x = (torch.tensor(li_x).float() / 1000.).reshape(-1, seq, 1).to(device)\n",
    "train_y = (torch.tensor(li_y).float() / 1000.).reshape(-1, 1).to(device)\n",
    "\n",
    "print(train_x.shape)\n",
    "\n",
    "test_x = (torch.tensor(t_x).float() / 1000.).reshape(-1, seq, 1).to(device)\n",
    "test_y = (torch.tensor(t_y).float() / 1000.).reshape(-1, 1).to(device)"
   ]
  },
  {
   "cell_type": "code",
   "execution_count": 4,
   "metadata": {},
   "outputs": [],
   "source": [
    "class Net(nn.Module):\n",
    "    def __init__(self):\n",
    "        super(Net, self).__init__()\n",
    "        self.lstm = nn.LSTM(input_size=1, hidden_size=32, num_layers=1, batch_first=True)\n",
    "        # 输入格式是1，输出隐藏层大小是32\n",
    "        # 对于小数据集num_layers不要设置大，否则会因为模型变复杂而导致效果会变差\n",
    "        # num_layers顾名思义就是有几个lstm层，假如设置成2，就相当于连续经过两个lstm层\n",
    "        # 原来的输入格式是：(seq, batch, shape)\n",
    "        # 设置batch_first=True以后，输入格式就可以改为：(batch, seq, shape)，更符合平常使用的习惯\n",
    "        self.linear = nn.Linear(32*seq, 1)\n",
    "\n",
    "    def forward(self, x):\n",
    "        x, (h, c) = self.lstm(x)\n",
    "        x = x.reshape(-1, 32*seq)\n",
    "        x = self.linear(x)\n",
    "        return x"
   ]
  },
  {
   "cell_type": "code",
   "execution_count": 5,
   "metadata": {},
   "outputs": [],
   "source": [
    "model = Net().to(device)\n",
    "optimizer = torch.optim.Adam(model.parameters(), lr=0.003)\n",
    "loss_fun = nn.MSELoss()"
   ]
  },
  {
   "cell_type": "code",
   "execution_count": 6,
   "metadata": {},
   "outputs": [
    {
     "name": "stdout",
     "output_type": "stream",
     "text": [
      "epoch:20, loss:6.371193885803223, test_loss: 17.752412796020508\n",
      "epoch:40, loss:1.8210283517837524, test_loss: 10.823554992675781\n",
      "epoch:60, loss:0.8971656560897827, test_loss: 9.350785255432129\n",
      "epoch:80, loss:0.6902536153793335, test_loss: 8.77091121673584\n",
      "epoch:100, loss:0.5525544285774231, test_loss: 8.328174591064453\n",
      "epoch:120, loss:0.47803109884262085, test_loss: 8.036116600036621\n",
      "epoch:140, loss:0.4284936785697937, test_loss: 7.8697075843811035\n",
      "epoch:160, loss:0.4001905620098114, test_loss: 7.752518653869629\n",
      "epoch:180, loss:0.3865666389465332, test_loss: 7.672085762023926\n",
      "epoch:200, loss:0.38072729110717773, test_loss: 7.609681606292725\n",
      "epoch:220, loss:0.37817397713661194, test_loss: 7.558526515960693\n",
      "epoch:240, loss:0.3769259750843048, test_loss: 7.516173839569092\n",
      "epoch:260, loss:0.37621620297431946, test_loss: 7.4821672439575195\n",
      "epoch:280, loss:0.3756733536720276, test_loss: 7.454697132110596\n",
      "epoch:300, loss:0.3752628564834595, test_loss: 7.432807922363281\n",
      "epoch:320, loss:0.37488624453544617, test_loss: 7.413978099822998\n",
      "epoch:340, loss:0.3744973838329315, test_loss: 7.398565292358398\n",
      "epoch:360, loss:0.3741486966609955, test_loss: 7.384750843048096\n",
      "epoch:380, loss:0.37379908561706543, test_loss: 7.372818946838379\n",
      "epoch:400, loss:0.373477041721344, test_loss: 7.3614912033081055\n",
      "epoch:420, loss:0.37308263778686523, test_loss: 7.351441383361816\n",
      "epoch:440, loss:0.3727436661720276, test_loss: 7.3413896560668945\n",
      "epoch:460, loss:0.372286856174469, test_loss: 7.332546710968018\n",
      "epoch:480, loss:0.3718568980693817, test_loss: 7.324211597442627\n",
      "epoch:500, loss:0.37134161591529846, test_loss: 7.316891193389893\n",
      "epoch:520, loss:0.3707733154296875, test_loss: 7.309418678283691\n",
      "epoch:540, loss:0.37016990780830383, test_loss: 7.302310943603516\n",
      "epoch:560, loss:0.36944708228111267, test_loss: 7.294956207275391\n",
      "epoch:580, loss:0.36860358715057373, test_loss: 7.2874321937561035\n",
      "epoch:600, loss:0.3676972985267639, test_loss: 7.280234336853027\n",
      "epoch:620, loss:0.3666480779647827, test_loss: 7.274187088012695\n",
      "epoch:640, loss:0.365476131439209, test_loss: 7.269913196563721\n",
      "epoch:660, loss:0.3642624616622925, test_loss: 7.265533924102783\n",
      "epoch:680, loss:0.3629615306854248, test_loss: 7.25822114944458\n",
      "epoch:700, loss:0.3616216480731964, test_loss: 7.247414588928223\n",
      "epoch:720, loss:0.36024734377861023, test_loss: 7.234637260437012\n",
      "epoch:740, loss:0.35892435908317566, test_loss: 7.2206621170043945\n",
      "epoch:760, loss:0.3576068580150604, test_loss: 7.205586910247803\n",
      "epoch:780, loss:0.35639771819114685, test_loss: 7.189262866973877\n",
      "epoch:800, loss:0.35525184869766235, test_loss: 7.1708574295043945\n",
      "epoch:820, loss:0.3541809022426605, test_loss: 7.150965690612793\n",
      "epoch:840, loss:0.3531958758831024, test_loss: 7.132894515991211\n",
      "epoch:860, loss:0.35225749015808105, test_loss: 7.117069721221924\n",
      "epoch:880, loss:0.35135018825531006, test_loss: 7.105071544647217\n",
      "epoch:900, loss:0.3505079746246338, test_loss: 7.095062255859375\n",
      "epoch:920, loss:0.34960490465164185, test_loss: 7.087148189544678\n",
      "epoch:940, loss:0.34870103001594543, test_loss: 7.080277919769287\n",
      "epoch:960, loss:0.34775248169898987, test_loss: 7.075044631958008\n",
      "epoch:980, loss:0.346783846616745, test_loss: 7.073951721191406\n",
      "epoch:1000, loss:0.3458564281463623, test_loss: 7.078681468963623\n",
      "epoch:1020, loss:0.34488120675086975, test_loss: 7.084855079650879\n",
      "epoch:1040, loss:0.3439688980579376, test_loss: 7.090600967407227\n",
      "epoch:1060, loss:0.3431156575679779, test_loss: 7.095811367034912\n",
      "epoch:1080, loss:0.3422490358352661, test_loss: 7.099931240081787\n",
      "epoch:1100, loss:0.3415014445781708, test_loss: 7.104377746582031\n",
      "epoch:1120, loss:0.34073930978775024, test_loss: 7.110536098480225\n",
      "epoch:1140, loss:0.34005290269851685, test_loss: 7.117055416107178\n",
      "epoch:1160, loss:0.33948540687561035, test_loss: 7.1241936683654785\n",
      "epoch:1180, loss:0.3389549255371094, test_loss: 7.131861209869385\n"
     ]
    }
   ],
   "source": [
    "model.train()\n",
    "for epoch in range(1200):\n",
    "    output = model(train_x)\n",
    "    loss = loss_fun(output, train_y)\n",
    "    optimizer.zero_grad()\n",
    "    loss.backward()\n",
    "    optimizer.step()\n",
    "    if epoch % 20 == 0 and epoch > 0:\n",
    "        test_loss = loss_fun(model(test_x), test_y)\n",
    "        print(\"epoch:{}, loss:{}, test_loss: {}\".format(epoch, loss, test_loss))"
   ]
  },
  {
   "cell_type": "code",
   "execution_count": 7,
   "metadata": {},
   "outputs": [
    {
     "data": {
      "image/png": "[encoded data removed]",
      "text/plain": [
       "<Figure size 432x288 with 1 Axes>"
      ]
     },
     "metadata": {
      "needs_background": "light"
     },
     "output_type": "display_data"
    }
   ],
   "source": [
    "model.eval()\n",
    "# result = li_x[0][:seq-1] + list((model(train_x).data.reshape(-1))*1000) + list((model(test_x).data.reshape(-1))*1000)\n",
    "result = [0] + list((model(train_x).data.reshape(-1))*00) + list((model(test_x).data.reshape(-1))*1000)\n",
    "#展示结果\n",
    "plt.plot(data,label=\"real\")\n",
    "# 原来的走势\n",
    "\n",
    "plt.plot(train,label=\"train\")\n",
    "\n",
    "plt.plot(result,label=\"pred\")\n",
    "plt.xticks(\n",
    "    [0,100,200,300,400,500,600,700],\n",
    "    ['2020/1','2020/5', '2020/8', '2020/12', '2021/2', '20211/6', '2021/9', '2021/12']\n",
    ")\n",
    "# 模型预测的走势\n",
    "plt.legend(loc='best')\n",
    "plt.savefig('plot/NY_Epoch1200.jpg')"
   ]
  },
  {
   "cell_type": "code",
   "execution_count": 8,
   "metadata": {},
   "outputs": [
    {
     "data": {
      "text/plain": [
       "[<matplotlib.lines.Line2D at 0x23804583a58>]"
      ]
     },
     "execution_count": 8,
     "metadata": {},
     "output_type": "execute_result"
    },
    {
     "data": {
      "image/png": "[encoded data removed]",
      "text/plain": [
       "<Figure size 432x288 with 1 Axes>"
      ]
     },
     "metadata": {
      "needs_background": "light"
     },
     "output_type": "display_data"
    }
   ],
   "source": [
    "plt.plot(data)"
   ]
  },
  {
   "cell_type": "code",
   "execution_count": 9,
   "metadata": {},
   "outputs": [
    {
     "data": {
      "text/plain": [
       "[<matplotlib.lines.Line2D at 0x2380482c828>]"
      ]
     },
     "execution_count": 9,
     "metadata": {},
     "output_type": "execute_result"
    },
    {
     "data": {
      "image/png": "[encoded data removed]",
      "text/plain": [
       "<Figure size 432x288 with 1 Axes>"
      ]
     },
     "metadata": {
      "needs_background": "light"
     },
     "output_type": "display_data"
    }
   ],
   "source": [
    "plt.plot(result)"
   ]
  },
  {
   "cell_type": "code",
   "execution_count": 10,
   "metadata": {},
   "outputs": [],
   "source": [
    "# unpredictive\n",
    "# "
   ]
  },
  {
   "cell_type": "code",
   "execution_count": null,
   "metadata": {},
   "outputs": [],
   "source": []
  }
 ],
 "metadata": {
  "interpreter": {
   "hash": "ab83b35c86ff785ae76634efee8034bb953555fdec57846c4fd4b687de13dd65"
  },
  "kernelspec": {
   "display_name": "Python 3.6.13 64-bit ('mll': conda)",
   "language": "python",
   "name": "python3"
  },
  "language_info": {
   "codemirror_mode": {
    "name": "ipython",
    "version": 3
   },
   "file_extension": ".py",
   "mimetype": "text/x-python",
   "name": "python",
   "nbconvert_exporter": "python",
   "pygments_lexer": "ipython3",
   "version": "3.6.13"
  },
  "orig_nbformat": 4
 },
 "nbformat": 4,
 "nbformat_minor": 2
}
